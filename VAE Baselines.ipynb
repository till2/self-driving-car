{
 "cells": [
  {
   "cell_type": "markdown",
   "id": "43db25de",
   "metadata": {},
   "source": [
    "## Imports"
   ]
  },
  {
   "cell_type": "code",
   "execution_count": 1,
   "id": "d80a4c65",
   "metadata": {},
   "outputs": [],
   "source": [
    "import logging\n",
    "import os\n",
    "import random\n",
    "import sys\n",
    "from collections import deque\n",
    "from operator import itemgetter\n",
    "\n",
    "import gym_donkeycar\n",
    "import gymnasium as gym\n",
    "import imageio\n",
    "import ipywidgets as widgets\n",
    "import numpy as np\n",
    "import pandas as pd\n",
    "import torch\n",
    "import torch.nn as nn\n",
    "import torch.nn.functional as F\n",
    "import torch.optim as optim\n",
    "import torchvision\n",
    "from IPython.display import display\n",
    "from ipywidgets import HBox, VBox\n",
    "from matplotlib import pyplot as plt\n",
    "from PIL import Image\n",
    "from ruamel.yaml import YAML\n",
    "from scipy.ndimage import gaussian_filter1d\n",
    "from scipy.stats import norm\n",
    "from tensorboard import notebook\n",
    "from tensorboard.backend.event_processing.event_accumulator import \\\n",
    "    EventAccumulator\n",
    "from torch import distributions as dist\n",
    "from torch.distributions import Categorical, Normal\n",
    "from torch.utils.tensorboard import SummaryWriter\n",
    "from torchvision import transforms\n",
    "from tqdm import tqdm\n",
    "\n",
    "# suppress warnings\n",
    "import warnings\n",
    "warnings.filterwarnings(\"ignore\", category=UserWarning, module=\"gymnasium\")\n",
    "os.environ['TF_CPP_MIN_LOG_LEVEL'] = '2'\n",
    "os.environ[\"IMAGEIO_IGNORE_WARNINGS\"] = \"True\"\n",
    "\n",
    "import gym.spaces as gym_spaces\n",
    "import gymnasium as gym  # overwrite OpenAI gym\n",
    "import stable_baselines3 as sb3\n",
    "from gym_donkeycar.envs.donkey_env import DonkeyEnv\n",
    "from gymnasium import spaces\n",
    "from gymnasium.spaces import Box\n",
    "from gymnasium.experimental.wrappers import RescaleActionV0\n",
    "from stable_baselines3 import A2C, PPO, SAC\n",
    "from stable_baselines3.common import env_checker\n",
    "from stable_baselines3.common.callbacks import EvalCallback\n",
    "from stable_baselines3.common.env_util import make_vec_env\n",
    "from stable_baselines3.common.evaluation import evaluate_policy\n",
    "from stable_baselines3.common.monitor import Monitor\n",
    "from stable_baselines3.common.results_plotter import load_results, ts2xy\n",
    "from stable_baselines3.common.vec_env import DummyVecEnv, SubprocVecEnv\n",
    "\n",
    "from src.actor_critic import ContinuousActorCritic\n",
    "from src.blocks import CategoricalStraightThrough, ConvBlock\n",
    "from src.categorical_vae import CategoricalVAE\n",
    "from src.imagination_env import ImaginationEnv\n",
    "from src.mlp import MLP\n",
    "from src.preprocessing import grayscale_transform as transform\n",
    "from src.replay_buffer import ReplayBuffer\n",
    "from src.rssm import RSSM\n",
    "from src.utils import (load_config, make_env, save_image_and_reconstruction,\n",
    "                       to_np)\n",
    "from src.vae import VAE\n",
    "\n",
    "torch.cuda.empty_cache()\n",
    "%matplotlib inline\n",
    "%load_ext autoreload\n",
    "%autoreload 2\n",
    "\n",
    "# Load the config\n",
    "config = load_config()\n",
    "for key in config:\n",
    "    locals()[key] = config[key]"
   ]
  },
  {
   "cell_type": "markdown",
   "id": "1daa9ad2",
   "metadata": {},
   "source": [
    "## Create the environment"
   ]
  },
  {
   "cell_type": "code",
   "execution_count": 60,
   "id": "a47fc19e",
   "metadata": {},
   "outputs": [
    {
     "name": "stdout",
     "output_type": "stream",
     "text": [
      "Making a toy env.\n",
      "Making 1 vectorized envs.\n",
      "Adding a Gymnasium RecordEpisodeStatistics wrapper.\n",
      "Adding a TimeLimit wrapper with 1000 max episode steps.\n",
      "Adding an AutoReset wrapper.\n",
      "Adding a RescaleActionV0 wrapper to have an effective action space [-1,1].\n",
      "Note: Clip actions at 0.5 => The agent can take agents from:\n",
      "Low: [-0.5 -0.5 -0.5] to High: [0.5 0.5 0.5]\n"
     ]
    }
   ],
   "source": [
    "env = make_env()"
   ]
  },
  {
   "cell_type": "code",
   "execution_count": null,
   "id": "343c1cbb",
   "metadata": {},
   "outputs": [],
   "source": []
  },
  {
   "cell_type": "code",
   "execution_count": 61,
   "id": "7a3cb003",
   "metadata": {
    "scrolled": true
   },
   "outputs": [
    {
     "name": "stdout",
     "output_type": "stream",
     "text": [
      "Initializing encoder:\n",
      "- adding ConvBlock((3, 64))                   ==> output shape: (64, 32, 32) ==> prod: 65536\n",
      "- adding ConvBlock((64, 128))                   ==> output shape: (128, 16, 16) ==> prod: 32768\n",
      "- adding ConvBlock((128, 256))                   ==> output shape: (256, 8, 8) ==> prod: 16384\n",
      "- adding ConvBlock((256, 512))                   ==> output shape: (512, 4, 4) ==> prod: 8192\n",
      "- adding ConvBlock((512, 256))                   ==> output shape: (256, 2, 2) ==> prod: 1024\n",
      "- adding Flatten()\n",
      "- adding Linear() for Mu: 1024 and Logvar: 1024\n",
      "\n",
      "Initializing decoder:\n",
      "- adding Reshape: (*,1024) => (*,256,2,2)\n",
      "- adding transpose ConvBlock(256, 256)                   ==> output shape: (256, 4, 4) ==> prod: 4096\n",
      "- adding transpose ConvBlock(256, 512)                   ==> output shape: (512, 8, 8) ==> prod: 32768\n",
      "- adding transpose ConvBlock(512, 256)                   ==> output shape: (256, 16, 16) ==> prod: 65536\n",
      "- adding transpose ConvBlock(256, 128)                   ==> output shape: (128, 32, 32) ==> prod: 131072\n",
      "- adding transpose ConvBlock(128, 3)                   ==> output shape: (3, 64, 64) ==> prod: 12288\n"
     ]
    }
   ],
   "source": [
    "vae = VAE().to(device)\n",
    "vae.optim = optim.Adam(vae.parameters(), lr=1e-4, weight_decay=1e-6)"
   ]
  },
  {
   "cell_type": "code",
   "execution_count": null,
   "id": "85ecc6a5",
   "metadata": {},
   "outputs": [],
   "source": [
    "env.action_space.low"
   ]
  },
  {
   "cell_type": "code",
   "execution_count": null,
   "id": "c089f4d2",
   "metadata": {},
   "outputs": [],
   "source": [
    "z.shape"
   ]
  },
  {
   "cell_type": "code",
   "execution_count": null,
   "id": "2de803b0",
   "metadata": {},
   "outputs": [],
   "source": [
    "agent.get_action(z)"
   ]
  },
  {
   "cell_type": "code",
   "execution_count": null,
   "id": "dad6541a",
   "metadata": {
    "scrolled": false
   },
   "outputs": [],
   "source": [
    "# New training loop with batches\n",
    "\n",
    "losses = {\n",
    "    \"vae_loss\": [],\n",
    "    \"reconstruction_loss\": [],\n",
    "    \"KLD_loss\": [],\n",
    "}\n",
    "\n",
    "for sample_phase in tqdm(range(n_updates)):\n",
    "    \n",
    "    batch_observations = []\n",
    "    batch_reconstructions = []\n",
    "    batch_mu = []\n",
    "    batch_logvar = []\n",
    "    \n",
    "    if sample_phase == 0:\n",
    "        obs, info = env.reset(seed=42)\n",
    "\n",
    "    for step in range(n_steps_per_update):\n",
    "        if len(obs.shape) == 4:\n",
    "            obs = obs[0]\n",
    "\n",
    "        # Get the observation and encode it\n",
    "        obs = transform(obs)\n",
    "        z, reconstruction, mu, logvar = vae(obs)\n",
    "        \n",
    "        if sample_phase % 100 == 0:\n",
    "            save_image_and_reconstruction(obs, reconstruction, sample_phase)\n",
    "        \n",
    "        # Add the observation, reconstruction, mu, and logvar to the respective batches\n",
    "        batch_observations.append(obs)\n",
    "        batch_reconstructions.append(reconstruction)\n",
    "        batch_mu.append(mu)\n",
    "        batch_logvar.append(logvar)\n",
    "\n",
    "        # Get an action and take an environment step\n",
    "        action = np.random.rand(A)\n",
    "        obs, reward, terminated, truncated, info = env.step(action)\n",
    "\n",
    "        \n",
    "    # Convert the batch tensors to tensors and update vae\n",
    "    batch_observations = torch.stack(batch_observations) # [128, 3, 64, 64]\n",
    "    batch_reconstructions = torch.stack(batch_reconstructions) # [128, 3, 64, 64]\n",
    "    batch_mu = torch.stack(batch_mu) # [128, latent_dim]\n",
    "    batch_logvar = torch.stack(batch_logvar) # [128, latent_dim]\n",
    "    \n",
    "    vae_loss, reconstruction_loss, KLD_loss = vae.get_loss(batch_observations, batch_reconstructions, batch_mu, batch_logvar)\n",
    "    vae.optim.zero_grad()\n",
    "    vae_loss.backward()\n",
    "    vae.optim.step()\n",
    "\n",
    "    # Log the losses\n",
    "    losses[\"vae_loss\"].append(to_np(vae_loss))\n",
    "    losses[\"reconstruction_loss\"].append(to_np(reconstruction_loss))\n",
    "    losses[\"KLD_loss\"].append(to_np(KLD_loss))\n"
   ]
  },
  {
   "cell_type": "code",
   "execution_count": null,
   "id": "de3e66c1",
   "metadata": {},
   "outputs": [],
   "source": []
  },
  {
   "cell_type": "code",
   "execution_count": null,
   "id": "61f626f7",
   "metadata": {},
   "outputs": [],
   "source": []
  },
  {
   "cell_type": "code",
   "execution_count": null,
   "id": "ec03a130",
   "metadata": {},
   "outputs": [],
   "source": []
  },
  {
   "cell_type": "code",
   "execution_count": null,
   "id": "e71fad09",
   "metadata": {},
   "outputs": [],
   "source": []
  },
  {
   "cell_type": "code",
   "execution_count": null,
   "id": "bd83b09c",
   "metadata": {},
   "outputs": [],
   "source": []
  },
  {
   "cell_type": "code",
   "execution_count": null,
   "id": "c611fe4d",
   "metadata": {},
   "outputs": [],
   "source": [
    "# max_episode_steps, "
   ]
  },
  {
   "cell_type": "code",
   "execution_count": null,
   "id": "9463c42b",
   "metadata": {},
   "outputs": [],
   "source": [
    "plt.plot(losses[\"vae_loss\"])"
   ]
  },
  {
   "cell_type": "code",
   "execution_count": null,
   "id": "bb76a5e8",
   "metadata": {},
   "outputs": [],
   "source": [
    "plt.plot(losses[\"reconstruction_loss\"])"
   ]
  },
  {
   "cell_type": "code",
   "execution_count": null,
   "id": "97bc2c3f",
   "metadata": {},
   "outputs": [],
   "source": [
    "plt.plot(losses[\"KLD_loss\"])"
   ]
  },
  {
   "cell_type": "code",
   "execution_count": null,
   "id": "9aacb773",
   "metadata": {},
   "outputs": [],
   "source": [
    "obs, info = env.reset(seed=42)\n",
    "\n",
    "if len(obs.shape) == 4:\n",
    "    obs = obs[0]\n",
    "\n",
    "obs = transform(obs)\n",
    "\n",
    "plt.imshow(to_np(torch.permute(obs, (1,2,0))))"
   ]
  },
  {
   "cell_type": "code",
   "execution_count": null,
   "id": "49001398",
   "metadata": {},
   "outputs": [],
   "source": [
    "reconstruction, mu, logvar = vae(torch.randn(obs.shape).to(device))\n",
    "plt.imshow(to_np(torch.permute(reconstruction, (1,2,0))))"
   ]
  },
  {
   "cell_type": "code",
   "execution_count": null,
   "id": "eefcc45f",
   "metadata": {},
   "outputs": [],
   "source": []
  }
 ],
 "metadata": {
  "kernelspec": {
   "display_name": "Python 3 (ipykernel)",
   "language": "python",
   "name": "python3"
  },
  "language_info": {
   "codemirror_mode": {
    "name": "ipython",
    "version": 3
   },
   "file_extension": ".py",
   "mimetype": "text/x-python",
   "name": "python",
   "nbconvert_exporter": "python",
   "pygments_lexer": "ipython3",
   "version": "3.10.4"
  },
  "vscode": {
   "interpreter": {
    "hash": "e7370f93d1d0cde622a1f8e1c04877d8463912d04d973331ad4851f04de6915a"
   }
  }
 },
 "nbformat": 4,
 "nbformat_minor": 5
}
