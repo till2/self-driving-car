{
 "cells": [
  {
   "cell_type": "markdown",
   "id": "43db25de",
   "metadata": {},
   "source": [
    "## Imports"
   ]
  },
  {
   "cell_type": "code",
   "execution_count": 61,
   "id": "d80a4c65",
   "metadata": {},
   "outputs": [
    {
     "name": "stdout",
     "output_type": "stream",
     "text": [
      "The autoreload extension is already loaded. To reload it, use:\n",
      "  %reload_ext autoreload\n"
     ]
    }
   ],
   "source": [
    "import logging\n",
    "import os\n",
    "import random\n",
    "import sys\n",
    "from collections import deque\n",
    "from operator import itemgetter\n",
    "\n",
    "import gym_donkeycar\n",
    "import gymnasium as gym\n",
    "import imageio\n",
    "import ipywidgets as widgets\n",
    "import numpy as np\n",
    "import pandas as pd\n",
    "import torch\n",
    "import torch.nn as nn\n",
    "import torch.nn.functional as F\n",
    "import torch.optim as optim\n",
    "import torchvision\n",
    "from IPython.display import display\n",
    "from ipywidgets import HBox, VBox\n",
    "from matplotlib import pyplot as plt\n",
    "from PIL import Image\n",
    "from ruamel.yaml import YAML\n",
    "from scipy.ndimage import gaussian_filter1d\n",
    "from scipy.stats import norm\n",
    "from tensorboard import notebook\n",
    "from tensorboard.backend.event_processing.event_accumulator import \\\n",
    "    EventAccumulator\n",
    "from torch import distributions as dist\n",
    "from torch.distributions import Categorical, Normal\n",
    "from torch.utils.tensorboard import SummaryWriter\n",
    "from torchvision import transforms\n",
    "from tqdm import tqdm\n",
    "\n",
    "import gym.spaces as gym_spaces\n",
    "import gymnasium as gym  # overwrite OpenAI gym\n",
    "\n",
    "# suppress warnings\n",
    "import warnings\n",
    "warnings.filterwarnings(\"ignore\", category=UserWarning, module=\"gymnasium.spaces.box\") # module=\"gymnasium\"\n",
    "os.environ['TF_CPP_MIN_LOG_LEVEL'] = '2'\n",
    "os.environ[\"IMAGEIO_IGNORE_WARNINGS\"] = \"True\"\n",
    "\n",
    "import stable_baselines3 as sb3\n",
    "from gym_donkeycar.envs.donkey_env import DonkeyEnv\n",
    "from gymnasium import spaces\n",
    "from gymnasium.spaces import Box\n",
    "from stable_baselines3 import A2C, PPO, SAC\n",
    "from stable_baselines3.common import env_checker\n",
    "from stable_baselines3.common.callbacks import EvalCallback\n",
    "from stable_baselines3.common.env_util import make_vec_env\n",
    "from stable_baselines3.common.evaluation import evaluate_policy\n",
    "from stable_baselines3.common.monitor import Monitor\n",
    "from stable_baselines3.common.results_plotter import load_results, ts2xy\n",
    "from stable_baselines3.common.vec_env import DummyVecEnv, SubprocVecEnv\n",
    "\n",
    "from src.actor_critic import ContinuousActorCritic\n",
    "from src.blocks import CategoricalStraightThrough, ConvBlock\n",
    "from src.categorical_vae import CategoricalVAE\n",
    "from src.imagination_env import make_imagination_env\n",
    "from src.mlp import MLP\n",
    "from src.preprocessing import transform\n",
    "from src.replay_buffer import ReplayBuffer\n",
    "from src.rssm import RSSM\n",
    "from src.utils import (load_config, make_env, save_image_and_reconstruction,\n",
    "                       to_np, symlog, symexp)\n",
    "from src.vae import VAE\n",
    "\n",
    "torch.cuda.empty_cache()\n",
    "%matplotlib inline\n",
    "%load_ext autoreload\n",
    "%autoreload 2\n",
    "\n",
    "# Load the config\n",
    "config = load_config()\n",
    "for key in config:\n",
    "    locals()[key] = config[key]"
   ]
  },
  {
   "cell_type": "markdown",
   "id": "1daa9ad2",
   "metadata": {},
   "source": [
    "## Create the environment"
   ]
  },
  {
   "cell_type": "code",
   "execution_count": 71,
   "id": "a47fc19e",
   "metadata": {},
   "outputs": [
    {
     "name": "stdout",
     "output_type": "stream",
     "text": [
      "Making a toy env.\n",
      "Making 1 vectorized envs.\n",
      "Adding a Gymnasium RecordEpisodeStatistics wrapper.\n",
      "Adding a TimeLimit wrapper with 1000 max episode steps.\n",
      "Adding an AutoReset wrapper.\n",
      "Adding a RescaleActionV0 wrapper to have an effective action space [-1,1].\n",
      "Note: Clip actions at 1.0 => The agent can take agents from:\n",
      "Low: [-1. -1. -1.] to High: [1. 1. 1.]\n"
     ]
    }
   ],
   "source": [
    "env = make_env()"
   ]
  },
  {
   "cell_type": "code",
   "execution_count": null,
   "id": "e8a928e9",
   "metadata": {},
   "outputs": [],
   "source": []
  },
  {
   "cell_type": "code",
   "execution_count": 72,
   "id": "ffbfcb96",
   "metadata": {},
   "outputs": [
    {
     "data": {
      "text/plain": [
       "'1.3.0'"
      ]
     },
     "execution_count": 72,
     "metadata": {},
     "output_type": "execute_result"
    }
   ],
   "source": [
    "gym_donkeycar.__version__"
   ]
  },
  {
   "cell_type": "code",
   "execution_count": 73,
   "id": "7a3cb003",
   "metadata": {
    "scrolled": true
   },
   "outputs": [
    {
     "name": "stdout",
     "output_type": "stream",
     "text": [
      "Initializing encoder:\n",
      "- adding ConvBlock((3, 64))                   ==> output shape: (64, 32, 32) ==> prod: 65536\n",
      "- adding ConvBlock((64, 128))                   ==> output shape: (128, 16, 16) ==> prod: 32768\n",
      "- adding ConvBlock((128, 256))                   ==> output shape: (256, 8, 8) ==> prod: 16384\n",
      "- adding ConvBlock((256, 512))                   ==> output shape: (512, 4, 4) ==> prod: 8192\n",
      "- adding ConvBlock((512, 256))                   ==> output shape: (256, 2, 2) ==> prod: 1024\n",
      "- adding Flatten()\n",
      "- adding Linear() for Mu: 1024 and Logvar: 1024\n",
      "\n",
      "Initializing decoder:\n",
      "- adding Reshape: (*,1024) => (*,256,2,2)\n",
      "- adding transpose ConvBlock(256, 256)                   ==> output shape: (256, 4, 4) ==> prod: 4096\n",
      "- adding transpose ConvBlock(256, 512)                   ==> output shape: (512, 8, 8) ==> prod: 32768\n",
      "- adding transpose ConvBlock(512, 256)                   ==> output shape: (256, 16, 16) ==> prod: 65536\n",
      "- adding transpose ConvBlock(256, 128)                   ==> output shape: (128, 32, 32) ==> prod: 131072\n",
      "- adding transpose ConvBlock(128, 3)                   ==> output shape: (3, 64, 64) ==> prod: 12288\n"
     ]
    }
   ],
   "source": [
    "vae = VAE()\n",
    "# vae.load_weights(\"weights/VAE_1\")"
   ]
  },
  {
   "cell_type": "code",
   "execution_count": 78,
   "id": "15e3503e",
   "metadata": {},
   "outputs": [],
   "source": [
    "agent = ContinuousActorCritic()"
   ]
  },
  {
   "cell_type": "code",
   "execution_count": 79,
   "id": "dad6541a",
   "metadata": {
    "scrolled": false
   },
   "outputs": [
    {
     "name": "stderr",
     "output_type": "stream",
     "text": [
      "  0%|                                                                                      | 34/31250 [00:05<1:23:08,  6.26it/s]\n"
     ]
    },
    {
     "ename": "KeyboardInterrupt",
     "evalue": "",
     "output_type": "error",
     "traceback": [
      "\u001b[0;31m---------------------------------------------------------------------------\u001b[0m",
      "\u001b[0;31mKeyboardInterrupt\u001b[0m                         Traceback (most recent call last)",
      "Cell \u001b[0;32mIn [79], line 52\u001b[0m\n\u001b[1;32m     48\u001b[0m batch_logvar\u001b[38;5;241m.\u001b[39mappend(logvar)\n\u001b[1;32m     50\u001b[0m \u001b[38;5;66;03m# Get an action and take an environment step\u001b[39;00m\n\u001b[1;32m     51\u001b[0m \u001b[38;5;66;03m# action = np.random.rand(A)\u001b[39;00m\n\u001b[0;32m---> 52\u001b[0m action, log_prob, actor_entropy \u001b[38;5;241m=\u001b[39m \u001b[43magent\u001b[49m\u001b[38;5;241;43m.\u001b[39;49m\u001b[43mget_action\u001b[49m\u001b[43m(\u001b[49m\u001b[43mz\u001b[49m\u001b[43m)\u001b[49m\n\u001b[1;32m     53\u001b[0m \u001b[38;5;66;03m# if sample_phase % config[\"log_interval\"] == 0:\u001b[39;00m\n\u001b[1;32m     54\u001b[0m \u001b[38;5;66;03m#     if step % 10 == 0:\u001b[39;00m\n\u001b[1;32m     55\u001b[0m \u001b[38;5;66;03m#         print(action)\u001b[39;00m\n\u001b[1;32m     56\u001b[0m obs, reward, terminated, truncated, info \u001b[38;5;241m=\u001b[39m env\u001b[38;5;241m.\u001b[39mstep(to_np(action))\n",
      "File \u001b[0;32m~/Desktop/GitHub/self-driving-car/src/actor_critic.py:71\u001b[0m, in \u001b[0;36mContinuousActorCritic.get_action\u001b[0;34m(self, x)\u001b[0m\n\u001b[1;32m     69\u001b[0m log_probs \u001b[38;5;241m=\u001b[39m action_pd\u001b[38;5;241m.\u001b[39mlog_prob(actions)\n\u001b[1;32m     70\u001b[0m log_probs \u001b[38;5;241m-\u001b[39m\u001b[38;5;241m=\u001b[39m torch\u001b[38;5;241m.\u001b[39mlog(\u001b[38;5;241m1\u001b[39m \u001b[38;5;241m-\u001b[39m action\u001b[38;5;241m.\u001b[39mpow(\u001b[38;5;241m2\u001b[39m) \u001b[38;5;241m+\u001b[39m \u001b[38;5;241m1e-8\u001b[39m) \u001b[38;5;66;03m# update logprob because of tanh after sampling\u001b[39;00m\n\u001b[0;32m---> 71\u001b[0m log_prob \u001b[38;5;241m=\u001b[39m \u001b[43mlog_probs\u001b[49m\u001b[38;5;241;43m.\u001b[39;49m\u001b[43msum\u001b[49m\u001b[43m(\u001b[49m\u001b[38;5;241;43m0\u001b[39;49m\u001b[43m,\u001b[49m\u001b[43m \u001b[49m\u001b[43mkeepdim\u001b[49m\u001b[38;5;241;43m=\u001b[39;49m\u001b[38;5;28;43;01mTrue\u001b[39;49;00m\u001b[43m)\u001b[49m \u001b[38;5;66;03m# reduce to a scalar (the probs would multiply, but logprobs add)\u001b[39;00m\n\u001b[1;32m     73\u001b[0m \u001b[38;5;28;01mreturn\u001b[39;00m action, log_prob, actor_entropy\n",
      "\u001b[0;31mKeyboardInterrupt\u001b[0m: "
     ]
    }
   ],
   "source": [
    "# New training loop with batches\n",
    "\n",
    "losses = {\n",
    "    \"vae_loss\": [],\n",
    "    \"reconstruction_loss\": [],\n",
    "    \"KLD_loss\": [],\n",
    "    \"critic_loss\": [],\n",
    "    \"actor_loss\": [],\n",
    "}\n",
    "\n",
    "# Logging\n",
    "writer = SummaryWriter(log_dir)\n",
    "if config[\"show_inline_tensorboard\"]:\n",
    "    notebook.start(f\"--logdir={log_dir}\")\n",
    "\n",
    "for sample_phase in tqdm(range(n_updates)):\n",
    "    \n",
    "    batch_observations = []\n",
    "    batch_reconstructions = []\n",
    "    batch_mu = []\n",
    "    batch_logvar = []\n",
    "    \n",
    "    # NEW\n",
    "    batch_rewards = []\n",
    "    batch_log_probs = []\n",
    "    batch_value_preds = []\n",
    "    batch_entropies = []\n",
    "    batch_masks = []\n",
    "    \n",
    "    if sample_phase == 0:\n",
    "        obs, info = env.reset(seed=42)\n",
    "\n",
    "    for step in range(n_steps_per_update):\n",
    "        if len(obs.shape) == 4:\n",
    "            obs = obs[0]\n",
    "\n",
    "        # Get the observation and encode it\n",
    "        obs = transform(obs)\n",
    "        z, reconstruction, mu, logvar = vae(obs)\n",
    "        \n",
    "        if sample_phase % 100 == 0:\n",
    "            save_image_and_reconstruction(obs, reconstruction, sample_phase)\n",
    "        \n",
    "        # Add the observation, reconstruction, mu, and logvar to the respective batches\n",
    "        batch_observations.append(obs)\n",
    "        batch_reconstructions.append(reconstruction)\n",
    "        batch_mu.append(mu)\n",
    "        batch_logvar.append(logvar)\n",
    "\n",
    "        # Get an action and take an environment step\n",
    "        # action = np.random.rand(A)\n",
    "        action, log_prob, actor_entropy = agent.get_action(z)\n",
    "        # if sample_phase % config[\"log_interval\"] == 0:\n",
    "        #     if step % 10 == 0:\n",
    "        #         print(action)\n",
    "        obs, reward, terminated, truncated, info = env.step(to_np(action))\n",
    "        if config[\"symlog_rewards\"]:\n",
    "            reward = symlog(reward)\n",
    "        \n",
    "        # Collect the necessary data for an agent update\n",
    "        batch_rewards.append(reward)\n",
    "        batch_log_probs.append(log_prob)\n",
    "        batch_entropies.append(actor_entropy)\n",
    "        mask = torch.tensor(0.0 if terminated else 1.0)\n",
    "        batch_masks.append(mask)\n",
    "        value_pred = agent.critic(torch.Tensor(z))\n",
    "        batch_value_preds.append(value_pred)\n",
    "\n",
    "    # Convert the batch tensors to tensors\n",
    "    batch_observations = torch.stack(batch_observations).to(device)  # [n_steps_per_update, *obs_shape]\n",
    "    batch_reconstructions = torch.stack(batch_reconstructions).to(device)  # [n_steps_per_update, *obs_shape]\n",
    "    batch_mu = torch.stack(batch_mu).to(device)  # [n_steps_per_update, latent_dim]\n",
    "    batch_logvar = torch.stack(batch_logvar).to(device)  # [n_steps_per_update, latent_dim]\n",
    "    batch_rewards = torch.tensor(batch_rewards).to(device)  # [n_steps_per_update]\n",
    "    batch_log_probs = torch.stack(batch_log_probs).to(device)  # [n_steps_per_update]\n",
    "    batch_value_preds = torch.stack(batch_value_preds).to(device)  # [n_steps_per_update]\n",
    "    last_value_pred = agent.critic(torch.Tensor(z)).to(device)  # last value prediction for GAE\n",
    "    batch_entropies = torch.stack(batch_entropies).to(device)  # [n_steps_per_update]\n",
    "    batch_masks = torch.stack(batch_masks).to(device)  # [n_steps_per_update]\n",
    "\n",
    "    # Update the agent's parameters\n",
    "    critic_loss, actor_loss = agent.get_loss(\n",
    "        batch_rewards, batch_log_probs, batch_value_preds, last_value_pred, batch_entropies, batch_masks\n",
    "    )\n",
    "    agent.update_parameters(critic_loss, actor_loss)\n",
    "\n",
    "    z, batch_reconstructions, batch_mu, batch_logvar = vae(batch_observations, batched=True)\n",
    "    vae_loss, reconstruction_loss, KLD_loss = vae.get_loss(batch_observations, batch_reconstructions, batch_mu, batch_logvar)\n",
    "    vae.optim.zero_grad()\n",
    "    vae_loss.backward()\n",
    "    vae.optim.step()\n",
    "\n",
    "    if sample_phase % config[\"log_interval\"] == 0:\n",
    "        \n",
    "        global_step = sample_phase * config[\"n_steps_per_update\"]\n",
    "        \n",
    "        # Log the losses\n",
    "        losses[\"critic_loss\"].append(to_np(critic_loss))\n",
    "        losses[\"actor_loss\"].append(to_np(actor_loss))\n",
    "        \n",
    "        losses[\"vae_loss\"].append(to_np(vae_loss))\n",
    "        losses[\"reconstruction_loss\"].append(to_np(reconstruction_loss))\n",
    "        losses[\"KLD_loss\"].append(to_np(KLD_loss))\n",
    "\n",
    "        # Detach the losses to save memory and log them in TensorBoard\n",
    "        writer.add_scalar(\"critic_loss\", to_np(critic_loss), global_step=global_step)\n",
    "        writer.add_scalar(\"actor_loss\", to_np(actor_loss), global_step=global_step)\n",
    "        \n",
    "        writer.add_scalar(\"vae_loss\", to_np(vae_loss), global_step=global_step)\n",
    "        writer.add_scalar(\"reconstruction_loss\", to_np(reconstruction_loss), global_step=global_step)\n",
    "        writer.add_scalar(\"KLD_loss\", to_np(KLD_loss), global_step=global_step)\n",
    "        \n",
    "        # Log the mean batch reward and episode return\n",
    "        if len(env.return_queue):\n",
    "            writer.add_scalar(\"episode_symlog_return\", np.array(env.return_queue)[-1:], global_step=len(env.return_queue))\n",
    "        # Log the original rewards (not symlog scaled.)\n",
    "        if config[\"symlog_rewards\"]:\n",
    "            writer.add_scalar(\"mean_batch_reward\", np.mean(symexp(to_np(batch_rewards))), global_step=global_step)\n",
    "        else:\n",
    "            writer.add_scalar(\"mean_batch_reward\", np.mean(to_np(batch_rewards)), global_step=global_step)\n",
    "            "
   ]
  },
  {
   "cell_type": "code",
   "execution_count": null,
   "id": "b4bbfa15",
   "metadata": {},
   "outputs": [],
   "source": [
    "# vae.save_weights()\n",
    "# agent.save_weights()"
   ]
  },
  {
   "cell_type": "code",
   "execution_count": null,
   "id": "1c2d2378",
   "metadata": {},
   "outputs": [],
   "source": [
    "n_imgs = 3\n",
    "\n",
    "# observations = vae_replay_buffer.sample(n=n_imgs)\n",
    "_, reconstructions, _, _ = vae(observations, batched=True)\n",
    "\n",
    "fig, axes = plt.subplots(nrows=n_imgs, ncols=2, figsize=(6, 3*n_imgs))\n",
    "\n",
    "for i, (img, reconstruction) in enumerate(zip(observations, reconstructions)):\n",
    "    # Plot observation\n",
    "    axes[i, 0].imshow(to_np(torch.permute(img, (1, 2, 0))))\n",
    "    axes[i, 0].set_title(f\"Observation {i}\")\n",
    "    axes[i, 0].axis('off')\n",
    "\n",
    "    # Plot reconstruction\n",
    "    axes[i, 1].imshow(to_np(torch.permute(reconstruction, (1, 2, 0))))\n",
    "    axes[i, 1].set_title(f\"Reconstruction {i}\")\n",
    "    axes[i, 1].axis('off')\n",
    "\n",
    "plt.tight_layout()\n",
    "plt.show()"
   ]
  },
  {
   "cell_type": "code",
   "execution_count": null,
   "id": "abfb1514",
   "metadata": {},
   "outputs": [],
   "source": [
    "reconstruction.shape"
   ]
  },
  {
   "cell_type": "code",
   "execution_count": null,
   "id": "82e96188",
   "metadata": {},
   "outputs": [],
   "source": []
  },
  {
   "cell_type": "code",
   "execution_count": null,
   "id": "df577239",
   "metadata": {},
   "outputs": [],
   "source": [
    "import matplotlib.pyplot as plt\n",
    "\n",
    "# Assuming `losses` is a dictionary containing the loss values\n",
    "\n",
    "# Create a figure and subplots\n",
    "smoothing_factor = 40\n",
    "fig, axs = plt.subplots(2, 3, figsize=(12, 8))\n",
    "\n",
    "# Plot VAE loss\n",
    "smoothed = gaussian_filter1d(losses[\"vae_loss\"], sigma=smoothing_factor)\n",
    "axs[0, 0].plot(losses[\"vae_loss\"], alpha=0.8)\n",
    "axs[0, 0].plot(smoothed)\n",
    "axs[0, 0].set_title(\"VAE Loss\")\n",
    "\n",
    "# Plot Reconstruction loss\n",
    "smoothed = gaussian_filter1d(losses[\"reconstruction_loss\"], sigma=smoothing_factor)\n",
    "axs[0, 1].plot(losses[\"reconstruction_loss\"], alpha=0.8)\n",
    "axs[0, 1].plot(smoothed)\n",
    "axs[0, 1].set_title(\"Reconstruction Loss\")\n",
    "\n",
    "# Plot KLD loss\n",
    "smoothed = gaussian_filter1d(losses[\"KLD_loss\"], sigma=smoothing_factor)\n",
    "axs[0, 2].plot(losses[\"KLD_loss\"], alpha=0.8)\n",
    "axs[0, 2].plot(smoothed)\n",
    "axs[0, 2].set_title(\"KLD Loss\")\n",
    "\n",
    "# Plot Critic loss\n",
    "smoothed = gaussian_filter1d(losses[\"critic_loss\"], sigma=smoothing_factor)\n",
    "axs[1, 0].plot(losses[\"critic_loss\"], alpha=0.8)\n",
    "axs[1, 0].plot(smoothed)\n",
    "axs[1, 0].set_title(\"Critic Loss\")\n",
    "\n",
    "# Plot Actor loss\n",
    "smoothed = gaussian_filter1d(losses[\"actor_loss\"], sigma=smoothing_factor)\n",
    "axs[1, 1].plot(losses[\"actor_loss\"], alpha=0.8)\n",
    "axs[1, 1].plot(smoothed)\n",
    "axs[1, 1].set_title(\"Actor Loss\")\n",
    "\n",
    "# Remove empty subplot\n",
    "fig.delaxes(axs[1, 2])\n",
    "\n",
    "# Adjust spacing between subplots\n",
    "plt.tight_layout()\n",
    "\n",
    "# Show the plot\n",
    "plt.show()\n"
   ]
  },
  {
   "cell_type": "code",
   "execution_count": null,
   "id": "bf6f6a61",
   "metadata": {},
   "outputs": [],
   "source": [
    "batch_observations.shape"
   ]
  },
  {
   "cell_type": "code",
   "execution_count": null,
   "id": "06fc79c8",
   "metadata": {},
   "outputs": [],
   "source": [
    "batch_reconstructions.shape"
   ]
  },
  {
   "cell_type": "code",
   "execution_count": null,
   "id": "660a2286",
   "metadata": {},
   "outputs": [],
   "source": [
    "batch_mu.shape"
   ]
  },
  {
   "cell_type": "code",
   "execution_count": null,
   "id": "6ebea80c",
   "metadata": {},
   "outputs": [],
   "source": [
    "batch_logvar.shape"
   ]
  },
  {
   "cell_type": "code",
   "execution_count": null,
   "id": "e5653d7d",
   "metadata": {},
   "outputs": [],
   "source": [
    "batch_rewards.shape"
   ]
  },
  {
   "cell_type": "code",
   "execution_count": null,
   "id": "18b64d96",
   "metadata": {},
   "outputs": [],
   "source": [
    "batch_log_probs.shape"
   ]
  },
  {
   "cell_type": "code",
   "execution_count": null,
   "id": "9c934fde",
   "metadata": {},
   "outputs": [],
   "source": [
    "batch_value_preds.shape"
   ]
  },
  {
   "cell_type": "code",
   "execution_count": null,
   "id": "78c02466",
   "metadata": {},
   "outputs": [],
   "source": [
    "last_value_pred.shape"
   ]
  },
  {
   "cell_type": "code",
   "execution_count": null,
   "id": "93013cc9",
   "metadata": {},
   "outputs": [],
   "source": [
    "batch_entropies.shape"
   ]
  },
  {
   "cell_type": "code",
   "execution_count": null,
   "id": "059c1dd0",
   "metadata": {},
   "outputs": [],
   "source": [
    "batch_masks.shape"
   ]
  },
  {
   "cell_type": "code",
   "execution_count": null,
   "id": "8b470c76",
   "metadata": {},
   "outputs": [],
   "source": []
  },
  {
   "cell_type": "code",
   "execution_count": null,
   "id": "cd9da46a",
   "metadata": {},
   "outputs": [],
   "source": []
  },
  {
   "cell_type": "code",
   "execution_count": null,
   "id": "672cf06a",
   "metadata": {},
   "outputs": [],
   "source": []
  },
  {
   "cell_type": "code",
   "execution_count": null,
   "id": "817374ff",
   "metadata": {},
   "outputs": [],
   "source": [
    "env = gym.make(\n",
    "    \"CarRacing-v2\", \n",
    "    render_mode=\"human\",\n",
    "    continuous=True,\n",
    "    \n",
    ")\n",
    "env = gym.wrappers.TimeLimit(env, max_episode_steps=config[\"max_episode_steps\"])\n",
    "env = gym.wrappers.AutoResetWrapper(env)\n",
    "env = RescaleActionV0(env, min_action=config[\"action_space_low\"], max_action=config[\"action_space_high\"])"
   ]
  },
  {
   "cell_type": "code",
   "execution_count": null,
   "id": "47c97e95",
   "metadata": {},
   "outputs": [],
   "source": [
    "obs, info = env.reset(seed=42)\n",
    "\n",
    "if len(obs.shape) == 4:\n",
    "    obs = obs[0]\n",
    "\n",
    "obs = transform(obs)\n",
    "\n",
    "plt.imshow(to_np(torch.permute(obs, (1,2,0))))\n",
    "\n",
    "\n",
    "for i in range(1000):\n",
    "    \n",
    "    \n",
    "    z, reconstruction, mu, logvar = vae(obs)    \n",
    "    action, log_prob, actor_entropy = agent.get_action(z)\n",
    "    obs, reward, terminated, truncated, info = env.step(to_np(action))\n",
    "    obs = transform(obs)"
   ]
  },
  {
   "cell_type": "code",
   "execution_count": null,
   "id": "384cb9ff",
   "metadata": {},
   "outputs": [],
   "source": []
  },
  {
   "cell_type": "code",
   "execution_count": null,
   "id": "ec03a130",
   "metadata": {},
   "outputs": [],
   "source": []
  },
  {
   "cell_type": "code",
   "execution_count": null,
   "id": "e71fad09",
   "metadata": {},
   "outputs": [],
   "source": []
  },
  {
   "cell_type": "code",
   "execution_count": null,
   "id": "bd83b09c",
   "metadata": {},
   "outputs": [],
   "source": []
  },
  {
   "cell_type": "code",
   "execution_count": null,
   "id": "c611fe4d",
   "metadata": {},
   "outputs": [],
   "source": [
    "# max_episode_steps, "
   ]
  },
  {
   "cell_type": "code",
   "execution_count": null,
   "id": "9463c42b",
   "metadata": {},
   "outputs": [],
   "source": [
    "plt.plot(losses[\"vae_loss\"])"
   ]
  },
  {
   "cell_type": "code",
   "execution_count": null,
   "id": "bb76a5e8",
   "metadata": {},
   "outputs": [],
   "source": [
    "plt.plot(losses[\"reconstruction_loss\"])"
   ]
  },
  {
   "cell_type": "code",
   "execution_count": null,
   "id": "97bc2c3f",
   "metadata": {},
   "outputs": [],
   "source": [
    "plt.plot(losses[\"KLD_loss\"])"
   ]
  },
  {
   "cell_type": "code",
   "execution_count": null,
   "id": "9aacb773",
   "metadata": {},
   "outputs": [],
   "source": [
    "obs, info = env.reset(seed=42)\n",
    "\n",
    "if len(obs.shape) == 4:\n",
    "    obs = obs[0]\n",
    "\n",
    "obs = transform(obs)\n",
    "\n",
    "plt.imshow(to_np(torch.permute(obs, (1,2,0))))"
   ]
  },
  {
   "cell_type": "code",
   "execution_count": null,
   "id": "49001398",
   "metadata": {},
   "outputs": [],
   "source": [
    "reconstruction, mu, logvar = vae(torch.randn(obs.shape).to(device))\n",
    "plt.imshow(to_np(torch.permute(reconstruction, (1,2,0))))"
   ]
  },
  {
   "cell_type": "code",
   "execution_count": null,
   "id": "eefcc45f",
   "metadata": {},
   "outputs": [],
   "source": []
  }
 ],
 "metadata": {
  "kernelspec": {
   "display_name": "Python 3 (ipykernel)",
   "language": "python",
   "name": "python3"
  },
  "language_info": {
   "codemirror_mode": {
    "name": "ipython",
    "version": 3
   },
   "file_extension": ".py",
   "mimetype": "text/x-python",
   "name": "python",
   "nbconvert_exporter": "python",
   "pygments_lexer": "ipython3",
   "version": "3.10.4"
  },
  "vscode": {
   "interpreter": {
    "hash": "e7370f93d1d0cde622a1f8e1c04877d8463912d04d973331ad4851f04de6915a"
   }
  }
 },
 "nbformat": 4,
 "nbformat_minor": 5
}
