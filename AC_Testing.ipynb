{
 "cells": [
  {
   "cell_type": "markdown",
   "id": "43db25de",
   "metadata": {},
   "source": [
    "## Imports"
   ]
  },
  {
   "cell_type": "code",
   "execution_count": 47,
   "id": "d80a4c65",
   "metadata": {},
   "outputs": [
    {
     "name": "stdout",
     "output_type": "stream",
     "text": [
      "The autoreload extension is already loaded. To reload it, use:\n",
      "  %reload_ext autoreload\n"
     ]
    }
   ],
   "source": [
    "import logging\n",
    "import os\n",
    "import random\n",
    "import sys\n",
    "from collections import deque\n",
    "from operator import itemgetter\n",
    "\n",
    "import gym_donkeycar\n",
    "import gymnasium as gym\n",
    "import imageio\n",
    "import ipywidgets as widgets\n",
    "import numpy as np\n",
    "import pandas as pd\n",
    "import torch\n",
    "import torch.nn as nn\n",
    "import torch.nn.functional as F\n",
    "import torch.optim as optim\n",
    "import torchvision\n",
    "from IPython.display import display\n",
    "from ipywidgets import HBox, VBox\n",
    "from matplotlib import pyplot as plt\n",
    "from PIL import Image\n",
    "from ruamel.yaml import YAML\n",
    "from scipy.ndimage import gaussian_filter1d\n",
    "from scipy.stats import norm\n",
    "from tensorboard import notebook\n",
    "from tensorboard.backend.event_processing.event_accumulator import \\\n",
    "    EventAccumulator\n",
    "from torch import distributions as dist\n",
    "from torch.distributions import Categorical, Normal\n",
    "from torch.utils.tensorboard import SummaryWriter\n",
    "from torchvision import transforms\n",
    "from tqdm import tqdm\n",
    "\n",
    "import gym.spaces as gym_spaces\n",
    "import gymnasium as gym  # overwrite OpenAI gym\n",
    "\n",
    "# suppress warnings\n",
    "import warnings\n",
    "warnings.filterwarnings(\"ignore\", category=UserWarning, module=\"gymnasium.spaces.box\") # module=\"gymnasium\"\n",
    "os.environ['TF_CPP_MIN_LOG_LEVEL'] = '2'\n",
    "os.environ[\"IMAGEIO_IGNORE_WARNINGS\"] = \"True\"\n",
    "\n",
    "import stable_baselines3 as sb3\n",
    "from gym_donkeycar.envs.donkey_env import DonkeyEnv\n",
    "from gymnasium import spaces\n",
    "from gymnasium.spaces import Box\n",
    "from stable_baselines3 import A2C, PPO, SAC\n",
    "from stable_baselines3.common import env_checker\n",
    "from stable_baselines3.common.callbacks import EvalCallback\n",
    "from stable_baselines3.common.env_util import make_vec_env\n",
    "from stable_baselines3.common.evaluation import evaluate_policy\n",
    "from stable_baselines3.common.monitor import Monitor\n",
    "from stable_baselines3.common.results_plotter import load_results, ts2xy\n",
    "from stable_baselines3.common.vec_env import DummyVecEnv, SubprocVecEnv\n",
    "\n",
    "from src.actor_critic_discrete import DiscreteActorCritic\n",
    "from src.actor_critic_dreamer import ActorCriticDreamer\n",
    "from src.actor_critic import ContinuousActorCritic\n",
    "from src.blocks import CategoricalStraightThrough, ConvBlock\n",
    "from src.categorical_vae import CategoricalVAE\n",
    "from src.imagination_env import make_imagination_env\n",
    "from src.mlp import MLP\n",
    "from src.preprocessing import transform\n",
    "from src.replay_buffer import ReplayBuffer\n",
    "from src.rssm import RSSM\n",
    "from src.utils import (load_config, make_env, save_image_and_reconstruction,\n",
    "                       to_np, symlog, symexp, twohot_encode, ExponentialMovingAvg,\n",
    "                       ActionExponentialMovingAvg)\n",
    "from src.vae import VAE\n",
    "\n",
    "torch.cuda.empty_cache()\n",
    "%matplotlib inline\n",
    "%load_ext autoreload\n",
    "%autoreload 2\n",
    "\n",
    "# Load the config\n",
    "config = load_config()\n",
    "for key in config:\n",
    "    locals()[key] = config[key]"
   ]
  },
  {
   "cell_type": "markdown",
   "id": "1daa9ad2",
   "metadata": {},
   "source": [
    "## Create the environment"
   ]
  },
  {
   "cell_type": "code",
   "execution_count": 118,
   "id": "a4d6530b",
   "metadata": {},
   "outputs": [],
   "source": [
    "env = gym.make(\"Pendulum-v1\")\n",
    "env = gym.wrappers.RecordEpisodeStatistics(env, deque_size=config[\"n_updates\"])\n",
    "env = gym.wrappers.TimeLimit(env, max_episode_steps=config[\"max_episode_steps\"])\n",
    "env = gym.wrappers.AutoResetWrapper(env)\n",
    "env = gym.experimental.wrappers.RescaleActionV0(env, min_action=config[\"action_space_low\"], max_action=config[\"action_space_high\"])"
   ]
  },
  {
   "cell_type": "code",
   "execution_count": null,
   "id": "2917ae7c",
   "metadata": {},
   "outputs": [],
   "source": []
  },
  {
   "cell_type": "code",
   "execution_count": 119,
   "id": "15e3503e",
   "metadata": {},
   "outputs": [
    {
     "name": "stdout",
     "output_type": "stream",
     "text": [
      "Adding zero weight init to the output layer.\n"
     ]
    }
   ],
   "source": [
    "# agent = ContinuousActorCritic()\n",
    "# agent = ActorCriticDreamer()\n",
    "agent = DiscreteActorCritic()\n",
    "\n",
    "# agent.load_weights(\"weights/ContinuousActorCritic_0\")\n",
    "\n",
    "# vae = VAE()\n",
    "# vae.optim = optim.Adam(vae.parameters(), lr=1e-4, weight_decay=1e-6)"
   ]
  },
  {
   "cell_type": "code",
   "execution_count": 120,
   "id": "dad6541a",
   "metadata": {
    "scrolled": true
   },
   "outputs": [
    {
     "name": "stderr",
     "output_type": "stream",
     "text": [
      " 36%|████████████████████████████▏                                                  | 178681/500000 [1:47:51<3:13:57, 27.61it/s]\n"
     ]
    },
    {
     "ename": "KeyboardInterrupt",
     "evalue": "",
     "output_type": "error",
     "traceback": [
      "\u001b[0;31m---------------------------------------------------------------------------\u001b[0m",
      "\u001b[0;31mKeyboardInterrupt\u001b[0m                         Traceback (most recent call last)",
      "Cell \u001b[0;32mIn [120], line 70\u001b[0m\n\u001b[1;32m     67\u001b[0m last_value_pred, _ \u001b[38;5;241m=\u001b[39m agent\u001b[38;5;241m.\u001b[39mapply_critic(obs) \u001b[38;5;66;03m# last value prediction for GAE\u001b[39;00m\n\u001b[1;32m     69\u001b[0m \u001b[38;5;66;03m# Update the agent's parameters\u001b[39;00m\n\u001b[0;32m---> 70\u001b[0m critic_loss, actor_loss \u001b[38;5;241m=\u001b[39m \u001b[43magent\u001b[49m\u001b[38;5;241;43m.\u001b[39;49m\u001b[43mget_loss\u001b[49m\u001b[43m(\u001b[49m\n\u001b[1;32m     71\u001b[0m \u001b[43m    \u001b[49m\u001b[43mbatch_rewards\u001b[49m\u001b[43m,\u001b[49m\u001b[43m \u001b[49m\u001b[43mbatch_log_probs\u001b[49m\u001b[43m,\u001b[49m\u001b[43m \u001b[49m\u001b[43mbatch_value_preds\u001b[49m\u001b[43m,\u001b[49m\u001b[43m \u001b[49m\u001b[43mbatch_critic_dists\u001b[49m\u001b[43m,\u001b[49m\u001b[43m \u001b[49m\n\u001b[1;32m     72\u001b[0m \u001b[43m    \u001b[49m\u001b[43mlast_value_pred\u001b[49m\u001b[43m,\u001b[49m\u001b[43m \u001b[49m\u001b[43mbatch_entropies\u001b[49m\u001b[43m,\u001b[49m\u001b[43m \u001b[49m\u001b[43mbatch_masks\u001b[49m\n\u001b[1;32m     73\u001b[0m \u001b[43m\u001b[49m\u001b[43m)\u001b[49m\n\u001b[1;32m     74\u001b[0m agent\u001b[38;5;241m.\u001b[39mupdate_parameters(critic_loss, actor_loss)\n\u001b[1;32m     76\u001b[0m \u001b[38;5;66;03m# Update the VAE's parameters\u001b[39;00m\n\u001b[1;32m     77\u001b[0m \u001b[38;5;66;03m# vae_loss, reconstruction_loss, kld_loss = vae.get_loss(batch_, x_hat, mu, logvar)\u001b[39;00m\n\u001b[1;32m     78\u001b[0m \u001b[38;5;66;03m# vae.optim.zero_grad()\u001b[39;00m\n\u001b[1;32m     79\u001b[0m \u001b[38;5;66;03m# vae_loss.backward()\u001b[39;00m\n\u001b[1;32m     80\u001b[0m \u001b[38;5;66;03m# vae.optim.step()\u001b[39;00m\n",
      "File \u001b[0;32m~/Desktop/GitHub/self-driving-car/src/actor_critic_discrete.py:140\u001b[0m, in \u001b[0;36mDiscreteActorCritic.get_loss\u001b[0;34m(self, ep_rewards, ep_log_probs, ep_value_preds, batch_critic_dists, last_value_pred, ep_entropies, ep_masks)\u001b[0m\n\u001b[1;32m    137\u001b[0m         returns[t] \u001b[38;5;241m=\u001b[39m ep_rewards[t] \u001b[38;5;241m+\u001b[39m \u001b[38;5;28mself\u001b[39m\u001b[38;5;241m.\u001b[39mgamma \u001b[38;5;241m*\u001b[39m ep_masks[t] \u001b[38;5;241m*\u001b[39m ((\u001b[38;5;241m1\u001b[39m\u001b[38;5;241m-\u001b[39m\u001b[38;5;28mself\u001b[39m\u001b[38;5;241m.\u001b[39mlam) \u001b[38;5;241m*\u001b[39m ep_value_preds[t\u001b[38;5;241m+\u001b[39m\u001b[38;5;241m1\u001b[39m] \u001b[38;5;241m+\u001b[39m \u001b[38;5;28mself\u001b[39m\u001b[38;5;241m.\u001b[39mlam \u001b[38;5;241m*\u001b[39m returns[t\u001b[38;5;241m+\u001b[39m\u001b[38;5;241m1\u001b[39m])\n\u001b[1;32m    139\u001b[0m \u001b[38;5;66;03m# critic loss is categorical crossentropy between twohot-encoded symlog returns and probs (should be fine, I checked.)\u001b[39;00m\n\u001b[0;32m--> 140\u001b[0m twohot_returns \u001b[38;5;241m=\u001b[39m torch\u001b[38;5;241m.\u001b[39mstack([twohot_encode(r) \u001b[38;5;28;01mfor\u001b[39;00m r \u001b[38;5;129;01min\u001b[39;00m returns])\n\u001b[1;32m    141\u001b[0m critic_loss \u001b[38;5;241m=\u001b[39m \u001b[38;5;241m-\u001b[39m twohot_returns\u001b[38;5;241m.\u001b[39mdetach() \u001b[38;5;241m@\u001b[39m torch\u001b[38;5;241m.\u001b[39mlog(batch_critic_dists)\u001b[38;5;241m.\u001b[39mT\n\u001b[1;32m    142\u001b[0m critic_loss \u001b[38;5;241m=\u001b[39m torch\u001b[38;5;241m.\u001b[39mmean(torch\u001b[38;5;241m.\u001b[39mdiag(critic_loss))\n",
      "File \u001b[0;32m~/Desktop/GitHub/self-driving-car/src/actor_critic_discrete.py:140\u001b[0m, in \u001b[0;36m<listcomp>\u001b[0;34m(.0)\u001b[0m\n\u001b[1;32m    137\u001b[0m         returns[t] \u001b[38;5;241m=\u001b[39m ep_rewards[t] \u001b[38;5;241m+\u001b[39m \u001b[38;5;28mself\u001b[39m\u001b[38;5;241m.\u001b[39mgamma \u001b[38;5;241m*\u001b[39m ep_masks[t] \u001b[38;5;241m*\u001b[39m ((\u001b[38;5;241m1\u001b[39m\u001b[38;5;241m-\u001b[39m\u001b[38;5;28mself\u001b[39m\u001b[38;5;241m.\u001b[39mlam) \u001b[38;5;241m*\u001b[39m ep_value_preds[t\u001b[38;5;241m+\u001b[39m\u001b[38;5;241m1\u001b[39m] \u001b[38;5;241m+\u001b[39m \u001b[38;5;28mself\u001b[39m\u001b[38;5;241m.\u001b[39mlam \u001b[38;5;241m*\u001b[39m returns[t\u001b[38;5;241m+\u001b[39m\u001b[38;5;241m1\u001b[39m])\n\u001b[1;32m    139\u001b[0m \u001b[38;5;66;03m# critic loss is categorical crossentropy between twohot-encoded symlog returns and probs (should be fine, I checked.)\u001b[39;00m\n\u001b[0;32m--> 140\u001b[0m twohot_returns \u001b[38;5;241m=\u001b[39m torch\u001b[38;5;241m.\u001b[39mstack([\u001b[43mtwohot_encode\u001b[49m\u001b[43m(\u001b[49m\u001b[43mr\u001b[49m\u001b[43m)\u001b[49m \u001b[38;5;28;01mfor\u001b[39;00m r \u001b[38;5;129;01min\u001b[39;00m returns])\n\u001b[1;32m    141\u001b[0m critic_loss \u001b[38;5;241m=\u001b[39m \u001b[38;5;241m-\u001b[39m twohot_returns\u001b[38;5;241m.\u001b[39mdetach() \u001b[38;5;241m@\u001b[39m torch\u001b[38;5;241m.\u001b[39mlog(batch_critic_dists)\u001b[38;5;241m.\u001b[39mT\n\u001b[1;32m    142\u001b[0m critic_loss \u001b[38;5;241m=\u001b[39m torch\u001b[38;5;241m.\u001b[39mmean(torch\u001b[38;5;241m.\u001b[39mdiag(critic_loss))\n",
      "File \u001b[0;32m~/Desktop/GitHub/self-driving-car/src/utils.py:39\u001b[0m, in \u001b[0;36mtwohot_encode\u001b[0;34m(x)\u001b[0m\n\u001b[1;32m     34\u001b[0m \u001b[38;5;28;01mdef\u001b[39;00m \u001b[38;5;21mtwohot_encode\u001b[39m(x):\n\u001b[1;32m     35\u001b[0m     \u001b[38;5;124;03m\"\"\"\u001b[39;00m\n\u001b[1;32m     36\u001b[0m \u001b[38;5;124;03m    x: the original return\u001b[39;00m\n\u001b[1;32m     37\u001b[0m \u001b[38;5;124;03m    Returns the twohot encoded symlog return as a (255,) vector.\u001b[39;00m\n\u001b[1;32m     38\u001b[0m \u001b[38;5;124;03m    \"\"\"\u001b[39;00m\n\u001b[0;32m---> 39\u001b[0m     config \u001b[38;5;241m=\u001b[39m \u001b[43mload_config\u001b[49m\u001b[43m(\u001b[49m\u001b[43m)\u001b[49m\n\u001b[1;32m     40\u001b[0m     buckets \u001b[38;5;241m=\u001b[39m torch\u001b[38;5;241m.\u001b[39mlinspace(config[\u001b[38;5;124m\"\u001b[39m\u001b[38;5;124mmin_bucket\u001b[39m\u001b[38;5;124m\"\u001b[39m], config[\u001b[38;5;124m\"\u001b[39m\u001b[38;5;124mmax_bucket\u001b[39m\u001b[38;5;124m\"\u001b[39m], config[\u001b[38;5;124m\"\u001b[39m\u001b[38;5;124mnum_buckets\u001b[39m\u001b[38;5;124m\"\u001b[39m])\u001b[38;5;241m.\u001b[39mto(config[\u001b[38;5;124m\"\u001b[39m\u001b[38;5;124mdevice\u001b[39m\u001b[38;5;124m\"\u001b[39m])\n\u001b[1;32m     41\u001b[0m     encoded \u001b[38;5;241m=\u001b[39m torch\u001b[38;5;241m.\u001b[39mzeros_like(buckets)\u001b[38;5;241m.\u001b[39mto(config[\u001b[38;5;124m\"\u001b[39m\u001b[38;5;124mdevice\u001b[39m\u001b[38;5;124m\"\u001b[39m])\n",
      "File \u001b[0;32m~/Desktop/GitHub/self-driving-car/src/utils.py:63\u001b[0m, in \u001b[0;36mload_config\u001b[0;34m()\u001b[0m\n\u001b[1;32m     61\u001b[0m file_path \u001b[38;5;241m=\u001b[39m os\u001b[38;5;241m.\u001b[39mpath\u001b[38;5;241m.\u001b[39mexpanduser(\u001b[38;5;124m'\u001b[39m\u001b[38;5;124m~/Desktop/self-driving-car/src/config.yaml\u001b[39m\u001b[38;5;124m'\u001b[39m)\n\u001b[1;32m     62\u001b[0m \u001b[38;5;28;01mwith\u001b[39;00m \u001b[38;5;28mopen\u001b[39m(file_path, \u001b[38;5;124m\"\u001b[39m\u001b[38;5;124mr\u001b[39m\u001b[38;5;124m\"\u001b[39m) \u001b[38;5;28;01mas\u001b[39;00m file:\n\u001b[0;32m---> 63\u001b[0m     static_params \u001b[38;5;241m=\u001b[39m \u001b[43myaml\u001b[49m\u001b[38;5;241;43m.\u001b[39;49m\u001b[43mload\u001b[49m\u001b[43m(\u001b[49m\u001b[43mfile\u001b[49m\u001b[43m)\u001b[49m\n\u001b[1;32m     65\u001b[0m \u001b[38;5;66;03m# Set dependent variables\u001b[39;00m\n\u001b[1;32m     66\u001b[0m device \u001b[38;5;241m=\u001b[39m torch\u001b[38;5;241m.\u001b[39mdevice(\u001b[38;5;124m\"\u001b[39m\u001b[38;5;124mcuda:0\u001b[39m\u001b[38;5;124m\"\u001b[39m \u001b[38;5;28;01mif\u001b[39;00m torch\u001b[38;5;241m.\u001b[39mcuda\u001b[38;5;241m.\u001b[39mis_available() \u001b[38;5;129;01mand\u001b[39;00m static_params[\u001b[38;5;124m\"\u001b[39m\u001b[38;5;124mdevice\u001b[39m\u001b[38;5;124m\"\u001b[39m] \u001b[38;5;241m==\u001b[39m \u001b[38;5;124m\"\u001b[39m\u001b[38;5;124mcuda:0\u001b[39m\u001b[38;5;124m\"\u001b[39m \u001b[38;5;28;01melse\u001b[39;00m \u001b[38;5;124m\"\u001b[39m\u001b[38;5;124mcpu\u001b[39m\u001b[38;5;124m\"\u001b[39m)\n",
      "File \u001b[0;32m~/.local/lib/python3.10/site-packages/ruamel/yaml/main.py:434\u001b[0m, in \u001b[0;36mYAML.load\u001b[0;34m(self, stream)\u001b[0m\n\u001b[1;32m    432\u001b[0m constructor, parser \u001b[38;5;241m=\u001b[39m \u001b[38;5;28mself\u001b[39m\u001b[38;5;241m.\u001b[39mget_constructor_parser(stream)\n\u001b[1;32m    433\u001b[0m \u001b[38;5;28;01mtry\u001b[39;00m:\n\u001b[0;32m--> 434\u001b[0m     \u001b[38;5;28;01mreturn\u001b[39;00m \u001b[43mconstructor\u001b[49m\u001b[38;5;241;43m.\u001b[39;49m\u001b[43mget_single_data\u001b[49m\u001b[43m(\u001b[49m\u001b[43m)\u001b[49m\n\u001b[1;32m    435\u001b[0m \u001b[38;5;28;01mfinally\u001b[39;00m:\n\u001b[1;32m    436\u001b[0m     parser\u001b[38;5;241m.\u001b[39mdispose()\n",
      "File \u001b[0;32m~/.local/lib/python3.10/site-packages/ruamel/yaml/constructor.py:119\u001b[0m, in \u001b[0;36mBaseConstructor.get_single_data\u001b[0;34m(self)\u001b[0m\n\u001b[1;32m    116\u001b[0m \u001b[38;5;28;01mdef\u001b[39;00m \u001b[38;5;21mget_single_data\u001b[39m(\u001b[38;5;28mself\u001b[39m):\n\u001b[1;32m    117\u001b[0m     \u001b[38;5;66;03m# type: () -> Any\u001b[39;00m\n\u001b[1;32m    118\u001b[0m     \u001b[38;5;66;03m# Ensure that the stream contains a single document and construct it.\u001b[39;00m\n\u001b[0;32m--> 119\u001b[0m     node \u001b[38;5;241m=\u001b[39m \u001b[38;5;28;43mself\u001b[39;49m\u001b[38;5;241;43m.\u001b[39;49m\u001b[43mcomposer\u001b[49m\u001b[38;5;241;43m.\u001b[39;49m\u001b[43mget_single_node\u001b[49m\u001b[43m(\u001b[49m\u001b[43m)\u001b[49m\n\u001b[1;32m    120\u001b[0m     \u001b[38;5;28;01mif\u001b[39;00m node \u001b[38;5;129;01mis\u001b[39;00m \u001b[38;5;129;01mnot\u001b[39;00m \u001b[38;5;28;01mNone\u001b[39;00m:\n\u001b[1;32m    121\u001b[0m         \u001b[38;5;28;01mreturn\u001b[39;00m \u001b[38;5;28mself\u001b[39m\u001b[38;5;241m.\u001b[39mconstruct_document(node)\n",
      "File \u001b[0;32m_ruamel_yaml.pyx:706\u001b[0m, in \u001b[0;36m_ruamel_yaml.CParser.get_single_node\u001b[0;34m()\u001b[0m\n",
      "File \u001b[0;32m_ruamel_yaml.pyx:724\u001b[0m, in \u001b[0;36m_ruamel_yaml.CParser._compose_document\u001b[0;34m()\u001b[0m\n",
      "File \u001b[0;32m_ruamel_yaml.pyx:775\u001b[0m, in \u001b[0;36m_ruamel_yaml.CParser._compose_node\u001b[0;34m()\u001b[0m\n",
      "File \u001b[0;32m_ruamel_yaml.pyx:889\u001b[0m, in \u001b[0;36m_ruamel_yaml.CParser._compose_mapping_node\u001b[0;34m()\u001b[0m\n",
      "File \u001b[0;32m_ruamel_yaml.pyx:771\u001b[0m, in \u001b[0;36m_ruamel_yaml.CParser._compose_node\u001b[0;34m()\u001b[0m\n",
      "File \u001b[0;32m_ruamel_yaml.pyx:801\u001b[0m, in \u001b[0;36m_ruamel_yaml.CParser._compose_scalar_node\u001b[0;34m()\u001b[0m\n",
      "File \u001b[0;32m~/.local/lib/python3.10/site-packages/ruamel/yaml/resolver.py:369\u001b[0m, in \u001b[0;36mVersionedResolver.resolve\u001b[0;34m(self, kind, value, implicit)\u001b[0m\n\u001b[1;32m    367\u001b[0m     resolvers \u001b[38;5;241m=\u001b[39m \u001b[38;5;28mself\u001b[39m\u001b[38;5;241m.\u001b[39mversioned_resolver\u001b[38;5;241m.\u001b[39mget(\u001b[38;5;124m\"\u001b[39m\u001b[38;5;124m\"\u001b[39m, [])\n\u001b[1;32m    368\u001b[0m \u001b[38;5;28;01melse\u001b[39;00m:\n\u001b[0;32m--> 369\u001b[0m     resolvers \u001b[38;5;241m=\u001b[39m \u001b[38;5;28;43mself\u001b[39;49m\u001b[38;5;241;43m.\u001b[39;49m\u001b[43mversioned_resolver\u001b[49m\u001b[38;5;241;43m.\u001b[39;49m\u001b[43mget\u001b[49m\u001b[43m(\u001b[49m\u001b[43mvalue\u001b[49m\u001b[43m[\u001b[49m\u001b[38;5;241;43m0\u001b[39;49m\u001b[43m]\u001b[49m\u001b[43m,\u001b[49m\u001b[43m \u001b[49m\u001b[43m[\u001b[49m\u001b[43m]\u001b[49m\u001b[43m)\u001b[49m\n\u001b[1;32m    370\u001b[0m resolvers \u001b[38;5;241m+\u001b[39m\u001b[38;5;241m=\u001b[39m \u001b[38;5;28mself\u001b[39m\u001b[38;5;241m.\u001b[39mversioned_resolver\u001b[38;5;241m.\u001b[39mget(\u001b[38;5;28;01mNone\u001b[39;00m, [])\n\u001b[1;32m    371\u001b[0m \u001b[38;5;28;01mfor\u001b[39;00m tag, regexp \u001b[38;5;129;01min\u001b[39;00m resolvers:\n",
      "\u001b[0;31mKeyboardInterrupt\u001b[0m: "
     ]
    }
   ],
   "source": [
    "# New training loop with batches for the distributional critic\n",
    "\n",
    "losses = {\n",
    "    \"critic_loss\": [],\n",
    "    \"actor_loss\": [],\n",
    "}\n",
    "\n",
    "# Logging\n",
    "writer = SummaryWriter(log_dir)\n",
    "if config[\"show_inline_tensorboard\"]:\n",
    "    notebook.start(f\"--logdir={log_dir}\")\n",
    "\n",
    "for sample_phase in tqdm(range(n_updates)):\n",
    "    \n",
    "    batch_observations = []\n",
    "    \n",
    "    # NEW\n",
    "    batch_rewards = []\n",
    "    batch_log_probs = []\n",
    "    batch_value_preds = []\n",
    "    batch_entropies = []\n",
    "    batch_masks = []\n",
    "    batch_critic_dists = []\n",
    "    \n",
    "    if sample_phase == 0:\n",
    "        obs, info = env.reset(seed=42)\n",
    "        obs = torch.Tensor(obs).to(device) ### Pendulum\n",
    "        # obs = transform(obs)\n",
    "        # if len(obs.shape) == 4:\n",
    "        #     obs = obs[0]\n",
    "        # z, reconstruction, mu, logvar = vae(obs)\n",
    "\n",
    "    for step in range(n_steps_per_update):\n",
    "            \n",
    "        # Add the observation, reconstruction, mu, and logvar to the respective batches\n",
    "        batch_observations.append(obs)\n",
    "        value_pred, critic_dist = agent.apply_critic(obs) # obs for Pendulum | z for VAE\n",
    "\n",
    "        # Get an action and take an environment step\n",
    "        action, log_prob, actor_entropy = agent.get_action(obs) ### obs for Pendulum | z for VAE\n",
    "        obs, reward, terminated, truncated, info = env.step(to_np(action))\n",
    "        \n",
    "        # Transform the next obs\n",
    "        obs = torch.Tensor(obs).to(device) ### Pendulum\n",
    "        # obs = transform(obs)\n",
    "        # if len(obs.shape) == 4:\n",
    "        #     obs = obs[0]\n",
    "        # z, reconstruction, mu, logvar = vae(obs)\n",
    "        \n",
    "        # Collect the necessary data for an agent update\n",
    "        batch_rewards.append(reward)\n",
    "        batch_log_probs.append(log_prob)\n",
    "        batch_entropies.append(actor_entropy)\n",
    "        mask = torch.tensor(0.0 if terminated else 1.0)\n",
    "        batch_masks.append(mask)\n",
    "        batch_value_preds.append(value_pred)\n",
    "        batch_critic_dists.append(critic_dist)\n",
    "\n",
    "    # Convert the batch tensors to tensors\n",
    "    batch_observations = torch.stack(batch_observations).to(device)  # [n_steps_per_update, *obs_shape]\n",
    "    batch_rewards = torch.tensor(batch_rewards).to(device)  # [n_steps_per_update]\n",
    "    batch_log_probs = torch.stack(batch_log_probs).to(device)  # [n_steps_per_update]\n",
    "    batch_value_preds = torch.stack(batch_value_preds).to(device)  # [n_steps_per_update]\n",
    "    batch_entropies = torch.stack(batch_entropies).to(device)  # [n_steps_per_update]\n",
    "    batch_masks = torch.stack(batch_masks).to(device)  # [n_steps_per_update]\n",
    "    batch_critic_dists = torch.stack(batch_critic_dists).to(device)\n",
    "    last_value_pred, _ = agent.apply_critic(obs) # last value prediction for GAE\n",
    "\n",
    "    # Update the agent's parameters\n",
    "    critic_loss, actor_loss = agent.get_loss(\n",
    "        batch_rewards, batch_log_probs, batch_value_preds, batch_critic_dists, \n",
    "        last_value_pred, batch_entropies, batch_masks\n",
    "    )\n",
    "    agent.update_parameters(critic_loss, actor_loss)\n",
    "    \n",
    "    # Update the VAE's parameters\n",
    "    # vae_loss, reconstruction_loss, kld_loss = vae.get_loss(batch_, x_hat, mu, logvar)\n",
    "    # vae.optim.zero_grad()\n",
    "    # vae_loss.backward()\n",
    "    # vae.optim.step()\n",
    "\n",
    "    if sample_phase % config[\"log_interval\"] == 0:\n",
    "        \n",
    "        # Log the losses\n",
    "        losses[\"critic_loss\"].append(to_np(critic_loss))\n",
    "        losses[\"actor_loss\"].append(to_np(actor_loss))\n",
    "\n",
    "        # Log the episode metrics\n",
    "        if len(env.return_queue):\n",
    "            writer.add_scalar(\"episode_return\", np.array(env.return_queue)[-1:], global_step=len(env.return_queue))\n",
    "        writer.add_scalar(\"critic_loss\", to_np(critic_loss), global_step=sample_phase)\n",
    "        writer.add_scalar(\"actor_loss\", to_np(actor_loss), global_step=sample_phase)\n",
    "        writer.add_scalar(\"scaled_entropy_loss\", to_np(- agent.ent_coef * torch.sum(batch_entropies)), global_step=sample_phase)\n"
   ]
  },
  {
   "cell_type": "code",
   "execution_count": null,
   "id": "2733da2a",
   "metadata": {},
   "outputs": [],
   "source": []
  },
  {
   "cell_type": "code",
   "execution_count": null,
   "id": "6545abd8",
   "metadata": {},
   "outputs": [],
   "source": []
  },
  {
   "cell_type": "code",
   "execution_count": null,
   "id": "6b3e60d1",
   "metadata": {},
   "outputs": [],
   "source": []
  },
  {
   "cell_type": "code",
   "execution_count": null,
   "id": "fecb18b3",
   "metadata": {},
   "outputs": [],
   "source": []
  },
  {
   "cell_type": "code",
   "execution_count": null,
   "id": "f48b5e66",
   "metadata": {},
   "outputs": [],
   "source": []
  },
  {
   "cell_type": "code",
   "execution_count": 122,
   "id": "dd1dca84",
   "metadata": {},
   "outputs": [
    {
     "data": {
      "text/plain": [
       "[<matplotlib.lines.Line2D at 0x7fc74f18ff70>]"
      ]
     },
     "execution_count": 122,
     "metadata": {},
     "output_type": "execute_result"
    },
    {
     "data": {
      "image/png": "[encoded data removed]",
      "text/plain": [
       "<Figure size 640x480 with 1 Axes>"
      ]
     },
     "metadata": {},
     "output_type": "display_data"
    }
   ],
   "source": [
    "env = gym.make(\"Pendulum-v1\", render_mode=\"human\")\n",
    "\n",
    "value_preds = []\n",
    "\n",
    "obs, info = env.reset()\n",
    "\n",
    "for i in range(500):\n",
    "    action, _, _ = agent.get_action(obs)\n",
    "    value_pred, _ = agent.apply_critic(obs)\n",
    "    value_preds.append(value_pred)\n",
    "    #print(value_pred.item(), end=\"\\r\")\n",
    "    obs, _, _, _, _ = env.step(to_np(action))\n",
    "\n",
    "env.close()\n",
    "plt.plot(to_np(torch.stack(value_preds)))"
   ]
  },
  {
   "cell_type": "code",
   "execution_count": null,
   "id": "df577239",
   "metadata": {},
   "outputs": [],
   "source": [
    "import matplotlib.pyplot as plt\n",
    "\n",
    "# Assuming `losses` is a dictionary containing the loss values\n",
    "\n",
    "# Create a figure and subplots\n",
    "fig, axs = plt.subplots(2, figsize=(12, 8))\n",
    "\n",
    "# Plot VAE loss\n",
    "\n",
    "# Plot Critic loss\n",
    "axs[0].plot(losses[\"critic_loss\"], alpha=0.8)\n",
    "axs[0].set_title(\"Critic Loss\")\n",
    "\n",
    "# Plot Actor loss\n",
    "axs[1].plot(losses[\"actor_loss\"], alpha=0.8)\n",
    "axs[1].set_title(\"Actor Loss\")\n",
    "\n",
    "# Adjust spacing between subplots\n",
    "plt.tight_layout()\n",
    "\n",
    "# Show the plot\n",
    "plt.show()\n"
   ]
  },
  {
   "cell_type": "code",
   "execution_count": null,
   "id": "eefcc45f",
   "metadata": {},
   "outputs": [],
   "source": []
  }
 ],
 "metadata": {
  "kernelspec": {
   "display_name": "Python 3 (ipykernel)",
   "language": "python",
   "name": "python3"
  },
  "language_info": {
   "codemirror_mode": {
    "name": "ipython",
    "version": 3
   },
   "file_extension": ".py",
   "mimetype": "text/x-python",
   "name": "python",
   "nbconvert_exporter": "python",
   "pygments_lexer": "ipython3",
   "version": "3.10.4"
  },
  "vscode": {
   "interpreter": {
    "hash": "e7370f93d1d0cde622a1f8e1c04877d8463912d04d973331ad4851f04de6915a"
   }
  }
 },
 "nbformat": 4,
 "nbformat_minor": 5
}
