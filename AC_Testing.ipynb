{
 "cells": [
  {
   "cell_type": "markdown",
   "id": "43db25de",
   "metadata": {},
   "source": [
    "## Imports"
   ]
  },
  {
   "cell_type": "code",
   "execution_count": 116,
   "id": "d80a4c65",
   "metadata": {},
   "outputs": [
    {
     "name": "stdout",
     "output_type": "stream",
     "text": [
      "The autoreload extension is already loaded. To reload it, use:\n",
      "  %reload_ext autoreload\n"
     ]
    }
   ],
   "source": [
    "import logging\n",
    "import os\n",
    "import random\n",
    "import sys\n",
    "from collections import deque\n",
    "from operator import itemgetter\n",
    "\n",
    "import gym_donkeycar\n",
    "import gymnasium as gym\n",
    "import imageio\n",
    "import ipywidgets as widgets\n",
    "import numpy as np\n",
    "import pandas as pd\n",
    "import torch\n",
    "import torch.nn as nn\n",
    "import torch.nn.functional as F\n",
    "import torch.optim as optim\n",
    "import torchvision\n",
    "from IPython.display import display\n",
    "from ipywidgets import HBox, VBox\n",
    "from matplotlib import pyplot as plt\n",
    "from PIL import Image\n",
    "from ruamel.yaml import YAML\n",
    "from scipy.ndimage import gaussian_filter1d\n",
    "from scipy.stats import norm\n",
    "from tensorboard import notebook\n",
    "from tensorboard.backend.event_processing.event_accumulator import \\\n",
    "    EventAccumulator\n",
    "from torch import distributions as dist\n",
    "from torch.distributions import Categorical, Normal\n",
    "from torch.utils.tensorboard import SummaryWriter\n",
    "from torchvision import transforms\n",
    "from tqdm import tqdm\n",
    "\n",
    "import gym.spaces as gym_spaces\n",
    "import gymnasium as gym  # overwrite OpenAI gym\n",
    "\n",
    "# suppress warnings\n",
    "import warnings\n",
    "warnings.filterwarnings(\"ignore\", category=UserWarning, module=\"gymnasium.spaces.box\") # module=\"gymnasium\"\n",
    "os.environ['TF_CPP_MIN_LOG_LEVEL'] = '2'\n",
    "os.environ[\"IMAGEIO_IGNORE_WARNINGS\"] = \"True\"\n",
    "\n",
    "import stable_baselines3 as sb3\n",
    "from gym_donkeycar.envs.donkey_env import DonkeyEnv\n",
    "from gymnasium import spaces\n",
    "from gymnasium.spaces import Box\n",
    "from stable_baselines3 import A2C, PPO, SAC\n",
    "from stable_baselines3.common import env_checker\n",
    "from stable_baselines3.common.callbacks import EvalCallback\n",
    "from stable_baselines3.common.env_util import make_vec_env\n",
    "from stable_baselines3.common.evaluation import evaluate_policy\n",
    "from stable_baselines3.common.monitor import Monitor\n",
    "from stable_baselines3.common.results_plotter import load_results, ts2xy\n",
    "from stable_baselines3.common.vec_env import DummyVecEnv, SubprocVecEnv\n",
    "\n",
    "from src.actor_critic_dreamer import ActorCriticDreamer\n",
    "from src.actor_critic import ContinuousActorCritic\n",
    "from src.blocks import CategoricalStraightThrough, ConvBlock\n",
    "from src.categorical_vae import CategoricalVAE\n",
    "from src.imagination_env import make_imagination_env\n",
    "from src.mlp import MLP\n",
    "from src.preprocessing import transform\n",
    "from src.replay_buffer import ReplayBuffer\n",
    "from src.rssm import RSSM\n",
    "from src.utils import (load_config, make_env, save_image_and_reconstruction,\n",
    "                       to_np, symlog, symexp)\n",
    "from src.vae import VAE\n",
    "\n",
    "torch.cuda.empty_cache()\n",
    "%matplotlib inline\n",
    "%load_ext autoreload\n",
    "%autoreload 2\n",
    "\n",
    "# Load the config\n",
    "config = load_config()\n",
    "for key in config:\n",
    "    locals()[key] = config[key]"
   ]
  },
  {
   "cell_type": "markdown",
   "id": "1daa9ad2",
   "metadata": {},
   "source": [
    "## Create the environment"
   ]
  },
  {
   "cell_type": "code",
   "execution_count": 6,
   "id": "a47fc19e",
   "metadata": {},
   "outputs": [],
   "source": [
    "# env = make_env()"
   ]
  },
  {
   "cell_type": "code",
   "execution_count": 8,
   "id": "a4d6530b",
   "metadata": {},
   "outputs": [],
   "source": [
    "env = gym.make(\"Pendulum-v1\")\n",
    "env = gym.wrappers.RecordEpisodeStatistics(env, deque_size=config[\"n_updates\"])\n",
    "env = gym.wrappers.TimeLimit(env, max_episode_steps=config[\"max_episode_steps\"])\n",
    "env = gym.wrappers.AutoResetWrapper(env)\n",
    "env = gym.experimental.wrappers.RescaleActionV0(env, min_action=config[\"action_space_low\"], max_action=config[\"action_space_high\"])"
   ]
  },
  {
   "cell_type": "code",
   "execution_count": null,
   "id": "2917ae7c",
   "metadata": {},
   "outputs": [],
   "source": []
  },
  {
   "cell_type": "code",
   "execution_count": 186,
   "id": "15e3503e",
   "metadata": {},
   "outputs": [],
   "source": [
    "agent = ContinuousActorCritic()\n",
    "ac = ActorCriticDreamer()\n",
    "# agent.load_weights(\"weights/ContinuousActorCritic_0\")\n",
    "\n",
    "# vae = VAE()\n",
    "# vae.optim = optim.Adam(vae.parameters(), lr=1e-4, weight_decay=1e-6)"
   ]
  },
  {
   "cell_type": "code",
   "execution_count": 19,
   "id": "87cf359b",
   "metadata": {},
   "outputs": [
    {
     "data": {
      "text/plain": [
       "tensor(1., device='cuda:0', grad_fn=<SumBackward0>)"
      ]
     },
     "execution_count": 19,
     "metadata": {},
     "output_type": "execute_result"
    }
   ],
   "source": [
    "torch.sum(ac.critic(obs))"
   ]
  },
  {
   "cell_type": "code",
   "execution_count": 11,
   "id": "45986cae",
   "metadata": {},
   "outputs": [
    {
     "data": {
      "text/plain": [
       "tensor([-9.6681, -9.3535, -9.0774, -8.8249, -8.7142, -8.7512, -8.8886, -9.0520,\n",
       "        -9.3376, -9.5685, -9.9011, -9.7058, -9.3661, -9.0949, -8.8370, -8.5613],\n",
       "       device='cuda:0', dtype=torch.float64)"
      ]
     },
     "execution_count": 11,
     "metadata": {},
     "output_type": "execute_result"
    }
   ],
   "source": [
    "# batch_rewards, batch_log_probs, batch_value_preds, last_value_pred, batch_entropies, batch_masks\n",
    "batch_rewards"
   ]
  },
  {
   "cell_type": "code",
   "execution_count": 12,
   "id": "3e6ff100",
   "metadata": {},
   "outputs": [
    {
     "data": {
      "text/plain": [
       "torch.Size([16])"
      ]
     },
     "execution_count": 12,
     "metadata": {},
     "output_type": "execute_result"
    }
   ],
   "source": [
    "batch_masks.shape"
   ]
  },
  {
   "cell_type": "code",
   "execution_count": null,
   "id": "4d915620",
   "metadata": {},
   "outputs": [],
   "source": [
    "# append the last value pred to the value preds tensor\n",
    "ep_value_preds = torch.cat((ep_value_preds, last_value_pred.unsqueeze(1).detach()), dim=0)\n",
    "\n",
    "# set up tensors for the advantage calculation\n",
    "returns = torch.zeros_like(ep_rewards).to(self.device)\n",
    "# advantages = torch.zeros_like(ep_rewards).to(self.device)\n",
    "# next_advantage = torch.zeros_like(last_value_pred)\n",
    "\n",
    "for t in reversed(range(len(ep_rewards))):\n",
    "    returns[t] = ep_rewards[t] + self.gamma * ep_masks[t] * ((1-self.lam) * ep_value_preds[t+1] + self.lam * returns[t+1])"
   ]
  },
  {
   "cell_type": "code",
   "execution_count": 18,
   "id": "9ddfaae2",
   "metadata": {},
   "outputs": [
    {
     "name": "stdout",
     "output_type": "stream",
     "text": [
      "17\n",
      "16\n",
      "tensor([[-114.3007],\n",
      "        [-109.7344],\n",
      "        [-105.2457],\n",
      "        [-100.7979],\n",
      "        [ -96.3684],\n",
      "        [ -91.8087],\n",
      "        [ -86.9555],\n",
      "        [ -81.6863],\n",
      "        [ -75.9505],\n",
      "        [ -69.5931],\n",
      "        [ -62.6372],\n",
      "        [ -54.9422],\n",
      "        [ -47.0237],\n",
      "        [ -39.0220],\n",
      "        [ -30.8603],\n",
      "        [ -22.5155],\n",
      "        [ -13.9961]], device='cuda:0', grad_fn=<CopySlices>)\n",
      "tensor([[-4.7475],\n",
      "        [-4.7071],\n",
      "        [-4.6658],\n",
      "        [-4.6230],\n",
      "        [-4.5785],\n",
      "        [-4.5305],\n",
      "        [-4.4768],\n",
      "        [-4.4151],\n",
      "        [-4.3432],\n",
      "        [-4.2569],\n",
      "        [-4.1532],\n",
      "        [-4.0243],\n",
      "        [-3.8717],\n",
      "        [-3.6894],\n",
      "        [-3.4614],\n",
      "        [-3.1577],\n",
      "        [-2.7078]], device='cuda:0', grad_fn=<MulBackward0>)\n",
      "returns: torch.Size([17, 1])\n",
      "value_preds: torch.Size([17, 1])\n"
     ]
    },
    {
     "data": {
      "text/plain": [
       "(tensor(97.4321, device='cuda:0', grad_fn=<MseLossBackward0>),\n",
       " tensor(-1.8619, device='cuda:0', grad_fn=<SubBackward0>))"
      ]
     },
     "execution_count": 18,
     "metadata": {},
     "output_type": "execute_result"
    }
   ],
   "source": [
    "ac.get_loss(batch_rewards, batch_log_probs, batch_value_preds, last_value_pred, batch_entropies, batch_masks)"
   ]
  },
  {
   "cell_type": "code",
   "execution_count": 301,
   "id": "a4f7fe3b",
   "metadata": {},
   "outputs": [
    {
     "name": "stdout",
     "output_type": "stream",
     "text": [
      "tensor([-2.0000, -1.5000, -1.0000, -0.5000,  0.0000,  0.5000,  1.0000,  1.5000,\n",
      "         2.0000], device='cuda:0')\n",
      "tensor([0.8244], device='cuda:0')\n",
      "Encoded Target: tensor([0.0000, 0.0000, 0.0000, 0.0000, 0.0000, 0.8244, 0.1756, 0.0000, 0.0000],\n",
      "       device='cuda:0')\n",
      "Restored Target: tensor(0.8000, device='cuda:0')\n"
     ]
    }
   ],
   "source": [
    "def twohot_encode(x):\n",
    "    \"\"\"\n",
    "    x: the original return\n",
    "    Returns the twohot encoded symlog return as a (255,) vector.\n",
    "    \"\"\"\n",
    "    # buckets = torch.linspace(config[\"min_bucket\"], config[\"max_bucket\"], config[\"num_buckets\"]).to(device)\n",
    "    buckets = torch.linspace(-2, 2, 9).to(device)\n",
    "    print(buckets)\n",
    "    encoded = torch.zeros_like(buckets).to(device)\n",
    "    x = symlog(x)\n",
    "    if x < buckets[0]:\n",
    "        encoded[0] = 1.0\n",
    "    elif x > buckets[-1]:\n",
    "        encoded[-1] = 1.0\n",
    "    else:\n",
    "        # index: right bucket (k+1 in the DreamerV3 paper), index-1: left bucket (k in the DreamerV3 paper)\n",
    "        index = torch.searchsorted(buckets, x, side=\"right\") # index: buckets[index-1] <= v < buckets[index]\n",
    "        weight = (buckets[index] - x) / (buckets[index] - buckets[index-1])\n",
    "        print(weight)\n",
    "        encoded[index-1] = weight\n",
    "        encoded[index] = 1 - weight\n",
    "    return encoded\n",
    "\n",
    "\n",
    "# Example usage:\n",
    "test_return = torch.Tensor([0.8]).to(device)\n",
    "encoded_target = twohot_encode(test_return)\n",
    "buckets = torch.linspace(-2, 2, 9).to(device)\n",
    "\n",
    "print(\"Encoded Target:\", encoded_target)\n",
    "print(\"Restored Target:\", symexp(encoded_target @ buckets))"
   ]
  },
  {
   "cell_type": "code",
   "execution_count": 305,
   "id": "c6827a94",
   "metadata": {},
   "outputs": [
    {
     "data": {
      "text/plain": [
       "0.8244"
      ]
     },
     "execution_count": 305,
     "metadata": {},
     "output_type": "execute_result"
    }
   ],
   "source": [
    "(1-0.5878)/(1-0.5)"
   ]
  },
  {
   "cell_type": "code",
   "execution_count": 304,
   "id": "d9748484",
   "metadata": {},
   "outputs": [
    {
     "data": {
      "text/plain": [
       "0.8000240033362289"
      ]
     },
     "execution_count": 304,
     "metadata": {},
     "output_type": "execute_result"
    }
   ],
   "source": [
    "symexp(0.8244 * 0.5 + 0.1756 * 1)"
   ]
  },
  {
   "cell_type": "code",
   "execution_count": 300,
   "id": "91bd3bf7",
   "metadata": {},
   "outputs": [
    {
     "data": {
      "text/plain": [
       "0.5877866649021191"
      ]
     },
     "execution_count": 300,
     "metadata": {},
     "output_type": "execute_result"
    }
   ],
   "source": [
    "symlog(0.8)"
   ]
  },
  {
   "cell_type": "code",
   "execution_count": 277,
   "id": "936d9273",
   "metadata": {},
   "outputs": [
    {
     "data": {
      "text/plain": [
       "3269016.3724721107"
      ]
     },
     "execution_count": 277,
     "metadata": {},
     "output_type": "execute_result"
    }
   ],
   "source": [
    "symexp(15)"
   ]
  },
  {
   "cell_type": "code",
   "execution_count": null,
   "id": "3c5a78ef",
   "metadata": {},
   "outputs": [],
   "source": [
    "3,269,016"
   ]
  },
  {
   "cell_type": "code",
   "execution_count": null,
   "id": "8d7a5a23",
   "metadata": {},
   "outputs": [],
   "source": [
    "485,165,194"
   ]
  },
  {
   "cell_type": "code",
   "execution_count": null,
   "id": "52efe365",
   "metadata": {},
   "outputs": [],
   "source": [
    "162,000"
   ]
  },
  {
   "cell_type": "code",
   "execution_count": null,
   "id": "9c900889",
   "metadata": {},
   "outputs": [],
   "source": [
    "485,165,194"
   ]
  },
  {
   "cell_type": "code",
   "execution_count": 270,
   "id": "5658f5ec",
   "metadata": {},
   "outputs": [
    {
     "data": {
      "text/plain": [
       "-19.99999999915536"
      ]
     },
     "execution_count": 270,
     "metadata": {},
     "output_type": "execute_result"
    }
   ],
   "source": [
    "symlog()"
   ]
  },
  {
   "cell_type": "code",
   "execution_count": 264,
   "id": "bc0882f4",
   "metadata": {},
   "outputs": [
    {
     "name": "stdout",
     "output_type": "stream",
     "text": [
      "tensor([0.0678, 0.7529, 0.1364, 0.2639, 0.4595], device='cuda:0')\n",
      "tensor([0.0678, 0.7529, 0.1364, 0.2639, 0.4595], device='cuda:0')\n"
     ]
    }
   ],
   "source": [
    "returns = torch.rand(5).to(device)\n",
    "encoded_targets = torch.stack([twohot_encode(r) for r in returns])\n",
    "\n",
    "print(returns)\n",
    "print(symexp(encoded_targets @ buckets))"
   ]
  },
  {
   "cell_type": "code",
   "execution_count": 194,
   "id": "7b01fe58",
   "metadata": {},
   "outputs": [
    {
     "data": {
      "text/plain": [
       "tensor(-95.2481, device='cuda:0', grad_fn=<MulBackward0>)"
      ]
     },
     "execution_count": 194,
     "metadata": {},
     "output_type": "execute_result"
    }
   ],
   "source": [
    "def apply_critic(ac, obs):\n",
    "    \"\"\"\n",
    "    obs: an observation\n",
    "    \n",
    "    Returns the predicted original return.\n",
    "    Because the critic is trained to predict symlog returns, the prediction needs to be symexp'd.\n",
    "    \"\"\"\n",
    "    buckets = torch.linspace(config[\"min_bucket\"], config[\"max_bucket\"], config[\"num_buckets\"]).to(device)\n",
    "    return symexp(ac.critic(obs) @ buckets)\n",
    "\n",
    "apply_critic(ac, obs)"
   ]
  },
  {
   "cell_type": "code",
   "execution_count": 237,
   "id": "53e8c0db",
   "metadata": {},
   "outputs": [
    {
     "name": "stderr",
     "output_type": "stream",
     "text": [
      "100%|█████████████████████████████████████████████████████████████████████████████████████| 3000/3000 [00:02<00:00, 1082.09it/s]\n"
     ]
    }
   ],
   "source": [
    "losses = []\n",
    "\n",
    "for i in tqdm(range(3000)):\n",
    "    obs = torch.rand(3).to(device)\n",
    "    \n",
    "    # prediction\n",
    "    prediction = ac.critic(obs) # (255,)\n",
    "\n",
    "    # label\n",
    "    test_return = torch.mean(obs * 100)  # torch.Tensor([-100]).to(device)\n",
    "    encoded_target = twohot_encode(test_return, buckets).detach() # (255,)\n",
    "\n",
    "    # update critic\n",
    "    critic_loss = - encoded_target @ torch.log(prediction)\n",
    "    ac.critic_optim.zero_grad()\n",
    "    critic_loss.backward(retain_graph=True)\n",
    "    nn.utils.clip_grad_norm_(ac.critic.parameters(), max_norm=ac.max_grad_norm, norm_type=2)\n",
    "    ac.critic_optim.step()\n",
    "    \n",
    "    losses.append(to_np(critic_loss))"
   ]
  },
  {
   "cell_type": "code",
   "execution_count": 238,
   "id": "f4bca952",
   "metadata": {},
   "outputs": [
    {
     "data": {
      "text/plain": [
       "[<matplotlib.lines.Line2D at 0x7f87b551d000>]"
      ]
     },
     "execution_count": 238,
     "metadata": {},
     "output_type": "execute_result"
    },
    {
     "data": {
      "image/png": "[encoded data removed]",
      "text/plain": [
       "<Figure size 640x480 with 1 Axes>"
      ]
     },
     "metadata": {},
     "output_type": "display_data"
    }
   ],
   "source": [
    "plt.plot(losses)"
   ]
  },
  {
   "cell_type": "code",
   "execution_count": 243,
   "id": "8ae6535c",
   "metadata": {},
   "outputs": [
    {
     "name": "stdout",
     "output_type": "stream",
     "text": [
      "target: tensor(29.3070, device='cuda:0')\n",
      "prediction: tensor(28.7844, device='cuda:0', grad_fn=<MulBackward0>)\n"
     ]
    }
   ],
   "source": [
    "obs = torch.rand(3).to(device)\n",
    "print(\"target:\", torch.mean(obs * 100))\n",
    "print(\"prediction:\", apply_critic(ac, obs))"
   ]
  },
  {
   "cell_type": "code",
   "execution_count": null,
   "id": "8564da1a",
   "metadata": {},
   "outputs": [],
   "source": []
  },
  {
   "cell_type": "code",
   "execution_count": 170,
   "id": "53209f33",
   "metadata": {},
   "outputs": [],
   "source": [
    "# manual crossentropy loss for one t: (sum over elements in batch)\n",
    "# - encoded_target @ torch.log(prediction)"
   ]
  },
  {
   "cell_type": "code",
   "execution_count": null,
   "id": "f1ccedb7",
   "metadata": {},
   "outputs": [],
   "source": []
  },
  {
   "cell_type": "code",
   "execution_count": 267,
   "id": "db03e6f7",
   "metadata": {},
   "outputs": [
    {
     "data": {
      "text/plain": [
       "torch.Size([5, 255])"
      ]
     },
     "execution_count": 267,
     "metadata": {},
     "output_type": "execute_result"
    }
   ],
   "source": [
    "ac.critic(torch.rand(5,3).to(device)).shape"
   ]
  },
  {
   "cell_type": "code",
   "execution_count": null,
   "id": "d9f80128",
   "metadata": {},
   "outputs": [],
   "source": []
  },
  {
   "cell_type": "code",
   "execution_count": null,
   "id": "3a842d6a",
   "metadata": {},
   "outputs": [],
   "source": []
  },
  {
   "cell_type": "code",
   "execution_count": null,
   "id": "14b6c0e1",
   "metadata": {},
   "outputs": [],
   "source": []
  },
  {
   "cell_type": "code",
   "execution_count": null,
   "id": "2e67483f",
   "metadata": {},
   "outputs": [],
   "source": []
  },
  {
   "cell_type": "code",
   "execution_count": null,
   "id": "65fdd0e4",
   "metadata": {},
   "outputs": [],
   "source": []
  },
  {
   "cell_type": "code",
   "execution_count": 10,
   "id": "dad6541a",
   "metadata": {
    "scrolled": true
   },
   "outputs": [
    {
     "name": "stderr",
     "output_type": "stream",
     "text": [
      "  0%|▎                                                                                      | 128/31250 [00:02<11:38, 44.56it/s]\n"
     ]
    },
    {
     "ename": "KeyboardInterrupt",
     "evalue": "",
     "output_type": "error",
     "traceback": [
      "\u001b[0;31m---------------------------------------------------------------------------\u001b[0m",
      "\u001b[0;31mKeyboardInterrupt\u001b[0m                         Traceback (most recent call last)",
      "Cell \u001b[0;32mIn [10], line 70\u001b[0m\n\u001b[1;32m     66\u001b[0m \u001b[38;5;66;03m# Update the agent's parameters\u001b[39;00m\n\u001b[1;32m     67\u001b[0m critic_loss, actor_loss \u001b[38;5;241m=\u001b[39m agent\u001b[38;5;241m.\u001b[39mget_loss(\n\u001b[1;32m     68\u001b[0m     batch_rewards, batch_log_probs, batch_value_preds, last_value_pred, batch_entropies, batch_masks\n\u001b[1;32m     69\u001b[0m )\n\u001b[0;32m---> 70\u001b[0m \u001b[43magent\u001b[49m\u001b[38;5;241;43m.\u001b[39;49m\u001b[43mupdate_parameters\u001b[49m\u001b[43m(\u001b[49m\u001b[43mcritic_loss\u001b[49m\u001b[43m,\u001b[49m\u001b[43m \u001b[49m\u001b[43mactor_loss\u001b[49m\u001b[43m)\u001b[49m\n\u001b[1;32m     72\u001b[0m \u001b[38;5;66;03m# Update the VAE's parameters\u001b[39;00m\n\u001b[1;32m     73\u001b[0m \u001b[38;5;66;03m# vae_loss, reconstruction_loss, kld_loss = vae.get_loss(batch_, x_hat, mu, logvar)\u001b[39;00m\n\u001b[1;32m     74\u001b[0m \u001b[38;5;66;03m# vae.optim.zero_grad()\u001b[39;00m\n\u001b[1;32m     75\u001b[0m \u001b[38;5;66;03m# vae_loss.backward()\u001b[39;00m\n\u001b[1;32m     76\u001b[0m \u001b[38;5;66;03m# vae.optim.step()    \u001b[39;00m\n\u001b[1;32m     78\u001b[0m \u001b[38;5;28;01mif\u001b[39;00m sample_phase \u001b[38;5;241m%\u001b[39m config[\u001b[38;5;124m\"\u001b[39m\u001b[38;5;124mlog_interval\u001b[39m\u001b[38;5;124m\"\u001b[39m] \u001b[38;5;241m==\u001b[39m \u001b[38;5;241m0\u001b[39m:\n\u001b[1;32m     79\u001b[0m     \n\u001b[1;32m     80\u001b[0m     \u001b[38;5;66;03m# Log the losses\u001b[39;00m\n",
      "File \u001b[0;32m~/Desktop/GitHub/self-driving-car/src/actor_critic.py:119\u001b[0m, in \u001b[0;36mContinuousActorCritic.update_parameters\u001b[0;34m(self, critic_loss, actor_loss)\u001b[0m\n\u001b[1;32m    116\u001b[0m \u001b[38;5;28mself\u001b[39m\u001b[38;5;241m.\u001b[39mcritic_optim\u001b[38;5;241m.\u001b[39mstep()\n\u001b[1;32m    118\u001b[0m \u001b[38;5;28mself\u001b[39m\u001b[38;5;241m.\u001b[39mactor_optim\u001b[38;5;241m.\u001b[39mzero_grad()\n\u001b[0;32m--> 119\u001b[0m \u001b[43mactor_loss\u001b[49m\u001b[38;5;241;43m.\u001b[39;49m\u001b[43mbackward\u001b[49m\u001b[43m(\u001b[49m\u001b[43mretain_graph\u001b[49m\u001b[38;5;241;43m=\u001b[39;49m\u001b[38;5;28;43;01mTrue\u001b[39;49;00m\u001b[43m)\u001b[49m\n\u001b[1;32m    120\u001b[0m nn\u001b[38;5;241m.\u001b[39mutils\u001b[38;5;241m.\u001b[39mclip_grad_norm_(\u001b[38;5;28mself\u001b[39m\u001b[38;5;241m.\u001b[39mactor\u001b[38;5;241m.\u001b[39mparameters(), max_norm\u001b[38;5;241m=\u001b[39m\u001b[38;5;28mself\u001b[39m\u001b[38;5;241m.\u001b[39mmax_grad_norm, norm_type\u001b[38;5;241m=\u001b[39m\u001b[38;5;241m2\u001b[39m)\n\u001b[1;32m    121\u001b[0m \u001b[38;5;28mself\u001b[39m\u001b[38;5;241m.\u001b[39mactor_optim\u001b[38;5;241m.\u001b[39mstep()\n",
      "File \u001b[0;32m~/.local/lib/python3.10/site-packages/torch/_tensor.py:396\u001b[0m, in \u001b[0;36mTensor.backward\u001b[0;34m(self, gradient, retain_graph, create_graph, inputs)\u001b[0m\n\u001b[1;32m    387\u001b[0m \u001b[38;5;28;01mif\u001b[39;00m has_torch_function_unary(\u001b[38;5;28mself\u001b[39m):\n\u001b[1;32m    388\u001b[0m     \u001b[38;5;28;01mreturn\u001b[39;00m handle_torch_function(\n\u001b[1;32m    389\u001b[0m         Tensor\u001b[38;5;241m.\u001b[39mbackward,\n\u001b[1;32m    390\u001b[0m         (\u001b[38;5;28mself\u001b[39m,),\n\u001b[0;32m   (...)\u001b[0m\n\u001b[1;32m    394\u001b[0m         create_graph\u001b[38;5;241m=\u001b[39mcreate_graph,\n\u001b[1;32m    395\u001b[0m         inputs\u001b[38;5;241m=\u001b[39minputs)\n\u001b[0;32m--> 396\u001b[0m \u001b[43mtorch\u001b[49m\u001b[38;5;241;43m.\u001b[39;49m\u001b[43mautograd\u001b[49m\u001b[38;5;241;43m.\u001b[39;49m\u001b[43mbackward\u001b[49m\u001b[43m(\u001b[49m\u001b[38;5;28;43mself\u001b[39;49m\u001b[43m,\u001b[49m\u001b[43m \u001b[49m\u001b[43mgradient\u001b[49m\u001b[43m,\u001b[49m\u001b[43m \u001b[49m\u001b[43mretain_graph\u001b[49m\u001b[43m,\u001b[49m\u001b[43m \u001b[49m\u001b[43mcreate_graph\u001b[49m\u001b[43m,\u001b[49m\u001b[43m \u001b[49m\u001b[43minputs\u001b[49m\u001b[38;5;241;43m=\u001b[39;49m\u001b[43minputs\u001b[49m\u001b[43m)\u001b[49m\n",
      "File \u001b[0;32m~/.local/lib/python3.10/site-packages/torch/autograd/__init__.py:173\u001b[0m, in \u001b[0;36mbackward\u001b[0;34m(tensors, grad_tensors, retain_graph, create_graph, grad_variables, inputs)\u001b[0m\n\u001b[1;32m    168\u001b[0m     retain_graph \u001b[38;5;241m=\u001b[39m create_graph\n\u001b[1;32m    170\u001b[0m \u001b[38;5;66;03m# The reason we repeat same the comment below is that\u001b[39;00m\n\u001b[1;32m    171\u001b[0m \u001b[38;5;66;03m# some Python versions print out the first line of a multi-line function\u001b[39;00m\n\u001b[1;32m    172\u001b[0m \u001b[38;5;66;03m# calls in the traceback and some print out the last line\u001b[39;00m\n\u001b[0;32m--> 173\u001b[0m \u001b[43mVariable\u001b[49m\u001b[38;5;241;43m.\u001b[39;49m\u001b[43m_execution_engine\u001b[49m\u001b[38;5;241;43m.\u001b[39;49m\u001b[43mrun_backward\u001b[49m\u001b[43m(\u001b[49m\u001b[43m  \u001b[49m\u001b[38;5;66;43;03m# Calls into the C++ engine to run the backward pass\u001b[39;49;00m\n\u001b[1;32m    174\u001b[0m \u001b[43m    \u001b[49m\u001b[43mtensors\u001b[49m\u001b[43m,\u001b[49m\u001b[43m \u001b[49m\u001b[43mgrad_tensors_\u001b[49m\u001b[43m,\u001b[49m\u001b[43m \u001b[49m\u001b[43mretain_graph\u001b[49m\u001b[43m,\u001b[49m\u001b[43m \u001b[49m\u001b[43mcreate_graph\u001b[49m\u001b[43m,\u001b[49m\u001b[43m \u001b[49m\u001b[43minputs\u001b[49m\u001b[43m,\u001b[49m\n\u001b[1;32m    175\u001b[0m \u001b[43m    \u001b[49m\u001b[43mallow_unreachable\u001b[49m\u001b[38;5;241;43m=\u001b[39;49m\u001b[38;5;28;43;01mTrue\u001b[39;49;00m\u001b[43m,\u001b[49m\u001b[43m \u001b[49m\u001b[43maccumulate_grad\u001b[49m\u001b[38;5;241;43m=\u001b[39;49m\u001b[38;5;28;43;01mTrue\u001b[39;49;00m\u001b[43m)\u001b[49m\n",
      "\u001b[0;31mKeyboardInterrupt\u001b[0m: "
     ]
    }
   ],
   "source": [
    "# New training loop with batches\n",
    "\n",
    "losses = {\n",
    "    \"critic_loss\": [],\n",
    "    \"actor_loss\": [],\n",
    "}\n",
    "\n",
    "# Logging\n",
    "writer = SummaryWriter(log_dir)\n",
    "if config[\"show_inline_tensorboard\"]:\n",
    "    notebook.start(f\"--logdir={log_dir}\")\n",
    "\n",
    "for sample_phase in tqdm(range(n_updates)):\n",
    "    \n",
    "    batch_observations = []\n",
    "    \n",
    "    # NEW\n",
    "    batch_rewards = []\n",
    "    batch_log_probs = []\n",
    "    batch_value_preds = []\n",
    "    batch_entropies = []\n",
    "    batch_masks = []\n",
    "    \n",
    "    if sample_phase == 0:\n",
    "        obs, info = env.reset(seed=42)\n",
    "        obs = torch.Tensor(obs).to(device) ### Pendulum\n",
    "        # obs = transform(obs)\n",
    "        # if len(obs.shape) == 4:\n",
    "        #     obs = obs[0]\n",
    "        # z, reconstruction, mu, logvar = vae(obs)\n",
    "\n",
    "    for step in range(n_steps_per_update):\n",
    "            \n",
    "        # Add the observation, reconstruction, mu, and logvar to the respective batches\n",
    "        batch_observations.append(obs)\n",
    "        value_pred = agent.critic(obs) # obs for Pendulum | z for VAE\n",
    "\n",
    "        # Get an action and take an environment step\n",
    "        action, log_prob, actor_entropy = agent.get_action(obs) ### obs for Pendulum | z for VAE\n",
    "        obs, reward, terminated, truncated, info = env.step(to_np(action))\n",
    "        \n",
    "        # Transform the next obs\n",
    "        obs = torch.Tensor(obs).to(device) ### Pendulum\n",
    "        # obs = transform(obs)\n",
    "        # if len(obs.shape) == 4:\n",
    "        #     obs = obs[0]\n",
    "        # z, reconstruction, mu, logvar = vae(obs)\n",
    "        \n",
    "        # Collect the necessary data for an agent update\n",
    "        batch_rewards.append(reward)\n",
    "        batch_log_probs.append(log_prob)\n",
    "        batch_entropies.append(actor_entropy)\n",
    "        mask = torch.tensor(0.0 if terminated else 1.0)\n",
    "        batch_masks.append(mask)\n",
    "        batch_value_preds.append(value_pred)\n",
    "\n",
    "    # Convert the batch tensors to tensors\n",
    "    batch_observations = torch.stack(batch_observations).to(device)  # [n_steps_per_update, *obs_shape]\n",
    "    batch_rewards = torch.tensor(batch_rewards).to(device)  # [n_steps_per_update]\n",
    "    batch_log_probs = torch.stack(batch_log_probs).to(device)  # [n_steps_per_update]\n",
    "    batch_value_preds = torch.stack(batch_value_preds).to(device)  # [n_steps_per_update]\n",
    "    last_value_pred = agent.critic(obs).to(device)  # last value prediction for GAE\n",
    "    batch_entropies = torch.stack(batch_entropies).to(device)  # [n_steps_per_update]\n",
    "    batch_masks = torch.stack(batch_masks).to(device)  # [n_steps_per_update]\n",
    "\n",
    "    # Update the agent's parameters\n",
    "    critic_loss, actor_loss = agent.get_loss(\n",
    "        batch_rewards, batch_log_probs, batch_value_preds, last_value_pred, batch_entropies, batch_masks\n",
    "    )\n",
    "    agent.update_parameters(critic_loss, actor_loss)\n",
    "    \n",
    "    # Update the VAE's parameters\n",
    "    # vae_loss, reconstruction_loss, kld_loss = vae.get_loss(batch_, x_hat, mu, logvar)\n",
    "    # vae.optim.zero_grad()\n",
    "    # vae_loss.backward()\n",
    "    # vae.optim.step()    \n",
    "\n",
    "    if sample_phase % config[\"log_interval\"] == 0:\n",
    "        \n",
    "        # Log the losses\n",
    "        losses[\"critic_loss\"].append(to_np(critic_loss))\n",
    "        losses[\"actor_loss\"].append(to_np(actor_loss))\n",
    "\n",
    "        # Log the episode metrics\n",
    "        if len(env.return_queue):\n",
    "            writer.add_scalar(\"episode_return\", np.array(env.return_queue)[-1:], global_step=len(env.return_queue))\n",
    "        writer.add_scalar(\"critic_loss\", to_np(critic_loss), global_step=sample_phase)\n",
    "        writer.add_scalar(\"actor_loss\", to_np(actor_loss), global_step=sample_phase)\n"
   ]
  },
  {
   "cell_type": "code",
   "execution_count": null,
   "id": "07be9f86",
   "metadata": {},
   "outputs": [],
   "source": [
    "# TODO: VAE add loss, update"
   ]
  },
  {
   "cell_type": "code",
   "execution_count": null,
   "id": "e77d4cbe",
   "metadata": {},
   "outputs": [],
   "source": [
    "e"
   ]
  },
  {
   "cell_type": "code",
   "execution_count": null,
   "id": "b119e6b8",
   "metadata": {},
   "outputs": [],
   "source": []
  },
  {
   "cell_type": "code",
   "execution_count": 79,
   "id": "dd1dca84",
   "metadata": {},
   "outputs": [],
   "source": [
    "env = gym.make(\"Pendulum-v1\", render_mode=\"human\")\n",
    "\n",
    "obs, info = env.reset()\n",
    "\n",
    "for i in range(1000):\n",
    "    action, _, _ = agent.get_action(obs)\n",
    "    obs, _, _, _, _ = env.step(to_np(action))"
   ]
  },
  {
   "cell_type": "code",
   "execution_count": null,
   "id": "29640cb0",
   "metadata": {},
   "outputs": [],
   "source": []
  },
  {
   "cell_type": "code",
   "execution_count": null,
   "id": "b4bbfa15",
   "metadata": {},
   "outputs": [],
   "source": [
    "# vae.save_weights()"
   ]
  },
  {
   "cell_type": "code",
   "execution_count": null,
   "id": "7ad75f58",
   "metadata": {},
   "outputs": [],
   "source": [
    "agent.actor(z)"
   ]
  },
  {
   "cell_type": "code",
   "execution_count": null,
   "id": "fc9c0420",
   "metadata": {},
   "outputs": [],
   "source": []
  },
  {
   "cell_type": "code",
   "execution_count": null,
   "id": "77525412",
   "metadata": {},
   "outputs": [],
   "source": [
    "mu, var = agent.actor(z)"
   ]
  },
  {
   "cell_type": "code",
   "execution_count": null,
   "id": "24d87b72",
   "metadata": {},
   "outputs": [],
   "source": [
    "action_pd = dist.MultivariateNormal(mu, var * torch.eye(mu.shape[0], device=agent.device))\n",
    "action = action_pd.sample()\n",
    "action"
   ]
  },
  {
   "cell_type": "code",
   "execution_count": null,
   "id": "15044a6e",
   "metadata": {},
   "outputs": [],
   "source": [
    "action_pd.log_prob(action)"
   ]
  },
  {
   "cell_type": "code",
   "execution_count": null,
   "id": "ac0320cc",
   "metadata": {},
   "outputs": [],
   "source": []
  },
  {
   "cell_type": "code",
   "execution_count": null,
   "id": "e0fc9d20",
   "metadata": {},
   "outputs": [],
   "source": []
  },
  {
   "cell_type": "code",
   "execution_count": null,
   "id": "9cf801b2",
   "metadata": {},
   "outputs": [],
   "source": []
  },
  {
   "cell_type": "code",
   "execution_count": null,
   "id": "299a749b",
   "metadata": {},
   "outputs": [],
   "source": [
    "future_return = 0.0\n",
    "returns = []\n",
    "\n",
    "for r in reversed(batch_rewards):\n",
    "    future_return = r + config[\"gamma\"] * future_return\n",
    "    returns.insert(0, future_return)"
   ]
  },
  {
   "cell_type": "code",
   "execution_count": null,
   "id": "a539b8fa",
   "metadata": {},
   "outputs": [],
   "source": [
    "returns = torch.tensor(returns)\n",
    "returns = (returns - returns.mean()) / (returns.std() + 1e-8)"
   ]
  },
  {
   "cell_type": "code",
   "execution_count": null,
   "id": "7092c6a3",
   "metadata": {},
   "outputs": [],
   "source": [
    "returns"
   ]
  },
  {
   "cell_type": "code",
   "execution_count": null,
   "id": "ef954a82",
   "metadata": {},
   "outputs": [],
   "source": []
  },
  {
   "cell_type": "code",
   "execution_count": null,
   "id": "63b47743",
   "metadata": {},
   "outputs": [],
   "source": []
  },
  {
   "cell_type": "code",
   "execution_count": null,
   "id": "776b6054",
   "metadata": {},
   "outputs": [],
   "source": []
  },
  {
   "cell_type": "code",
   "execution_count": null,
   "id": "81d1463e",
   "metadata": {},
   "outputs": [],
   "source": []
  },
  {
   "cell_type": "code",
   "execution_count": null,
   "id": "3f34c35c",
   "metadata": {},
   "outputs": [],
   "source": []
  },
  {
   "cell_type": "code",
   "execution_count": null,
   "id": "861ca4a3",
   "metadata": {},
   "outputs": [],
   "source": [
    "log_prob"
   ]
  },
  {
   "cell_type": "code",
   "execution_count": null,
   "id": "bc6756ea",
   "metadata": {},
   "outputs": [],
   "source": []
  },
  {
   "cell_type": "code",
   "execution_count": null,
   "id": "589cc4ed",
   "metadata": {},
   "outputs": [],
   "source": [
    "    losses[\"vae_loss\"].append(to_np(vae_loss))\n",
    "    losses[\"reconstruction_loss\"].append(to_np(reconstruction_loss))\n",
    "    losses[\"KLD_loss\"].append(to_np(KLD_loss))\n",
    "    losses[\"critic_loss\"].append(to_np(critic_loss))\n",
    "    losses[\"actor_loss\"].append(to_np(actor_loss))\n"
   ]
  },
  {
   "cell_type": "code",
   "execution_count": 67,
   "id": "df577239",
   "metadata": {},
   "outputs": [
    {
     "data": {
      "image/png": "[encoded data removed]",
      "text/plain": [
       "<Figure size 1200x800 with 2 Axes>"
      ]
     },
     "metadata": {},
     "output_type": "display_data"
    }
   ],
   "source": [
    "import matplotlib.pyplot as plt\n",
    "\n",
    "# Assuming `losses` is a dictionary containing the loss values\n",
    "\n",
    "# Create a figure and subplots\n",
    "fig, axs = plt.subplots(2, figsize=(12, 8))\n",
    "\n",
    "# Plot VAE loss\n",
    "\n",
    "# Plot Critic loss\n",
    "axs[0].plot(losses[\"critic_loss\"], alpha=0.8)\n",
    "axs[0].set_title(\"Critic Loss\")\n",
    "\n",
    "# Plot Actor loss\n",
    "axs[1].plot(losses[\"actor_loss\"], alpha=0.8)\n",
    "axs[1].set_title(\"Actor Loss\")\n",
    "\n",
    "# Adjust spacing between subplots\n",
    "plt.tight_layout()\n",
    "\n",
    "# Show the plot\n",
    "plt.show()\n"
   ]
  },
  {
   "cell_type": "code",
   "execution_count": null,
   "id": "bf6f6a61",
   "metadata": {},
   "outputs": [],
   "source": [
    "batch_observations.shape"
   ]
  },
  {
   "cell_type": "code",
   "execution_count": null,
   "id": "06fc79c8",
   "metadata": {},
   "outputs": [],
   "source": [
    "batch_reconstructions.shape"
   ]
  },
  {
   "cell_type": "code",
   "execution_count": null,
   "id": "660a2286",
   "metadata": {},
   "outputs": [],
   "source": [
    "batch_mu.shape"
   ]
  },
  {
   "cell_type": "code",
   "execution_count": null,
   "id": "6ebea80c",
   "metadata": {},
   "outputs": [],
   "source": [
    "batch_logvar.shape"
   ]
  },
  {
   "cell_type": "code",
   "execution_count": null,
   "id": "e5653d7d",
   "metadata": {},
   "outputs": [],
   "source": [
    "batch_rewards.shape"
   ]
  },
  {
   "cell_type": "code",
   "execution_count": null,
   "id": "18b64d96",
   "metadata": {},
   "outputs": [],
   "source": [
    "batch_log_probs.shape"
   ]
  },
  {
   "cell_type": "code",
   "execution_count": null,
   "id": "9c934fde",
   "metadata": {},
   "outputs": [],
   "source": [
    "batch_value_preds.shape"
   ]
  },
  {
   "cell_type": "code",
   "execution_count": null,
   "id": "78c02466",
   "metadata": {},
   "outputs": [],
   "source": [
    "last_value_pred.shape"
   ]
  },
  {
   "cell_type": "code",
   "execution_count": null,
   "id": "93013cc9",
   "metadata": {},
   "outputs": [],
   "source": [
    "batch_entropies.shape"
   ]
  },
  {
   "cell_type": "code",
   "execution_count": null,
   "id": "059c1dd0",
   "metadata": {},
   "outputs": [],
   "source": [
    "batch_masks.shape"
   ]
  },
  {
   "cell_type": "code",
   "execution_count": null,
   "id": "8b470c76",
   "metadata": {},
   "outputs": [],
   "source": []
  },
  {
   "cell_type": "code",
   "execution_count": null,
   "id": "cd9da46a",
   "metadata": {},
   "outputs": [],
   "source": []
  },
  {
   "cell_type": "code",
   "execution_count": null,
   "id": "672cf06a",
   "metadata": {},
   "outputs": [],
   "source": []
  },
  {
   "cell_type": "code",
   "execution_count": null,
   "id": "817374ff",
   "metadata": {},
   "outputs": [],
   "source": []
  },
  {
   "cell_type": "code",
   "execution_count": null,
   "id": "47c97e95",
   "metadata": {},
   "outputs": [],
   "source": []
  },
  {
   "cell_type": "code",
   "execution_count": null,
   "id": "384cb9ff",
   "metadata": {},
   "outputs": [],
   "source": []
  },
  {
   "cell_type": "code",
   "execution_count": null,
   "id": "ec03a130",
   "metadata": {},
   "outputs": [],
   "source": []
  },
  {
   "cell_type": "code",
   "execution_count": null,
   "id": "e71fad09",
   "metadata": {},
   "outputs": [],
   "source": []
  },
  {
   "cell_type": "code",
   "execution_count": null,
   "id": "bd83b09c",
   "metadata": {},
   "outputs": [],
   "source": []
  },
  {
   "cell_type": "code",
   "execution_count": null,
   "id": "c611fe4d",
   "metadata": {},
   "outputs": [],
   "source": [
    "# max_episode_steps, "
   ]
  },
  {
   "cell_type": "code",
   "execution_count": null,
   "id": "9463c42b",
   "metadata": {},
   "outputs": [],
   "source": [
    "plt.plot(losses[\"vae_loss\"])"
   ]
  },
  {
   "cell_type": "code",
   "execution_count": null,
   "id": "bb76a5e8",
   "metadata": {},
   "outputs": [],
   "source": [
    "plt.plot(losses[\"reconstruction_loss\"])"
   ]
  },
  {
   "cell_type": "code",
   "execution_count": null,
   "id": "97bc2c3f",
   "metadata": {},
   "outputs": [],
   "source": [
    "plt.plot(losses[\"KLD_loss\"])"
   ]
  },
  {
   "cell_type": "code",
   "execution_count": null,
   "id": "9aacb773",
   "metadata": {},
   "outputs": [],
   "source": [
    "obs, info = env.reset(seed=42)\n",
    "\n",
    "if len(obs.shape) == 4:\n",
    "    obs = obs[0]\n",
    "\n",
    "obs = transform(obs)\n",
    "\n",
    "plt.imshow(to_np(torch.permute(obs, (1,2,0))))"
   ]
  },
  {
   "cell_type": "code",
   "execution_count": null,
   "id": "49001398",
   "metadata": {},
   "outputs": [],
   "source": [
    "reconstruction, mu, logvar = vae(torch.randn(obs.shape).to(device))\n",
    "plt.imshow(to_np(torch.permute(reconstruction, (1,2,0))))"
   ]
  },
  {
   "cell_type": "code",
   "execution_count": null,
   "id": "eefcc45f",
   "metadata": {},
   "outputs": [],
   "source": []
  }
 ],
 "metadata": {
  "kernelspec": {
   "display_name": "Python 3 (ipykernel)",
   "language": "python",
   "name": "python3"
  },
  "language_info": {
   "codemirror_mode": {
    "name": "ipython",
    "version": 3
   },
   "file_extension": ".py",
   "mimetype": "text/x-python",
   "name": "python",
   "nbconvert_exporter": "python",
   "pygments_lexer": "ipython3",
   "version": "3.10.4"
  },
  "vscode": {
   "interpreter": {
    "hash": "e7370f93d1d0cde622a1f8e1c04877d8463912d04d973331ad4851f04de6915a"
   }
  }
 },
 "nbformat": 4,
 "nbformat_minor": 5
}
