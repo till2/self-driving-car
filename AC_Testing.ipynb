{
 "cells": [
  {
   "cell_type": "markdown",
   "id": "43db25de",
   "metadata": {},
   "source": [
    "## Imports"
   ]
  },
  {
   "cell_type": "code",
   "execution_count": 1,
   "id": "d80a4c65",
   "metadata": {},
   "outputs": [
    {
     "name": "stderr",
     "output_type": "stream",
     "text": [
      "/home/till/.local/lib/python3.10/site-packages/torch/cuda/__init__.py:83: UserWarning: CUDA initialization: CUDA unknown error - this may be due to an incorrectly set up environment, e.g. changing env variable CUDA_VISIBLE_DEVICES after program start. Setting the available devices to be zero. (Triggered internally at  ../c10/cuda/CUDAFunctions.cpp:109.)\n",
      "  return torch._C._cuda_getDeviceCount() > 0\n"
     ]
    }
   ],
   "source": [
    "import logging\n",
    "import os\n",
    "import random\n",
    "import sys\n",
    "from collections import deque\n",
    "from operator import itemgetter\n",
    "\n",
    "import gym_donkeycar\n",
    "import gymnasium as gym\n",
    "import imageio\n",
    "import ipywidgets as widgets\n",
    "import numpy as np\n",
    "import pandas as pd\n",
    "import torch\n",
    "import torch.nn as nn\n",
    "import torch.nn.functional as F\n",
    "import torch.optim as optim\n",
    "import torchvision\n",
    "from IPython.display import display\n",
    "from ipywidgets import HBox, VBox\n",
    "from matplotlib import pyplot as plt\n",
    "from PIL import Image\n",
    "from ruamel.yaml import YAML\n",
    "from scipy.ndimage import gaussian_filter1d\n",
    "from scipy.stats import norm\n",
    "from tensorboard import notebook\n",
    "from tensorboard.backend.event_processing.event_accumulator import \\\n",
    "    EventAccumulator\n",
    "from torch import distributions as dist\n",
    "from torch.distributions import Categorical, Normal\n",
    "from torch.utils.tensorboard import SummaryWriter\n",
    "from torchvision import transforms\n",
    "from tqdm import tqdm\n",
    "\n",
    "# suppress warnings\n",
    "import warnings\n",
    "warnings.filterwarnings(\"ignore\", category=UserWarning, module=\"gymnasium\")\n",
    "os.environ['TF_CPP_MIN_LOG_LEVEL'] = '2'\n",
    "os.environ[\"IMAGEIO_IGNORE_WARNINGS\"] = \"True\"\n",
    "\n",
    "import gym.spaces as gym_spaces\n",
    "import gymnasium as gym  # overwrite OpenAI gym\n",
    "import stable_baselines3 as sb3\n",
    "from gym_donkeycar.envs.donkey_env import DonkeyEnv\n",
    "from gymnasium import spaces\n",
    "from gymnasium.spaces import Box\n",
    "from gymnasium.experimental.wrappers import RescaleActionV0\n",
    "from stable_baselines3 import A2C, PPO, SAC\n",
    "from stable_baselines3.common import env_checker\n",
    "from stable_baselines3.common.callbacks import EvalCallback\n",
    "from stable_baselines3.common.env_util import make_vec_env\n",
    "from stable_baselines3.common.evaluation import evaluate_policy\n",
    "from stable_baselines3.common.monitor import Monitor\n",
    "from stable_baselines3.common.results_plotter import load_results, ts2xy\n",
    "from stable_baselines3.common.vec_env import DummyVecEnv, SubprocVecEnv\n",
    "\n",
    "from src.actor_critic import ContinuousActorCritic\n",
    "from src.blocks import CategoricalStraightThrough, ConvBlock\n",
    "from src.categorical_vae import CategoricalVAE\n",
    "from src.imagination_env import ImaginationEnv\n",
    "from src.mlp import MLP\n",
    "from src.preprocessing import grayscale_transform as transform\n",
    "from src.replay_buffer import ReplayBuffer\n",
    "from src.rssm import RSSM\n",
    "from src.utils import (load_config, make_env, save_image_and_reconstruction,\n",
    "                       to_np)\n",
    "from src.vae import VAE\n",
    "\n",
    "torch.cuda.empty_cache()\n",
    "%matplotlib inline\n",
    "%load_ext autoreload\n",
    "%autoreload 2\n",
    "\n",
    "# Load the config\n",
    "config = load_config()\n",
    "for key in config:\n",
    "    locals()[key] = config[key]"
   ]
  },
  {
   "cell_type": "markdown",
   "id": "1daa9ad2",
   "metadata": {},
   "source": [
    "## Create the environment"
   ]
  },
  {
   "cell_type": "code",
   "execution_count": 2,
   "id": "a47fc19e",
   "metadata": {},
   "outputs": [
    {
     "name": "stdout",
     "output_type": "stream",
     "text": [
      "Making a toy env.\n",
      "Making 1 vectorized envs.\n",
      "Adding a Gymnasium RecordEpisodeStatistics wrapper.\n",
      "Adding a TimeLimit wrapper with 1000 max episode steps.\n",
      "Adding an AutoReset wrapper.\n",
      "Adding a RescaleActionV0 wrapper to have an effective action space [-1,1].\n",
      "Note: Clip actions at 1.0 => The agent can take agents from:\n",
      "Low: [-1. -1. -1.] to High: [1. 1. 1.]\n"
     ]
    }
   ],
   "source": [
    "env = make_env()"
   ]
  },
  {
   "cell_type": "code",
   "execution_count": null,
   "id": "a4d6530b",
   "metadata": {},
   "outputs": [],
   "source": [
    "# env = gym.make(\"Pendulum-v1\")\n",
    "# env = gym.wrappers.RecordEpisodeStatistics(env, deque_size=config[\"n_updates\"])\n",
    "# env = gym.wrappers.TimeLimit(env, max_episode_steps=config[\"max_episode_steps\"])\n",
    "# env = gym.wrappers.AutoResetWrapper(env)\n",
    "# env = RescaleActionV0(env, min_action=config[\"action_space_low\"], max_action=config[\"action_space_high\"])"
   ]
  },
  {
   "cell_type": "code",
   "execution_count": null,
   "id": "2917ae7c",
   "metadata": {},
   "outputs": [],
   "source": []
  },
  {
   "cell_type": "code",
   "execution_count": null,
   "id": "15e3503e",
   "metadata": {},
   "outputs": [],
   "source": [
    "agent = ContinuousActorCritic()\n",
    "# agent.load_weights(\"weights/ContinuousActorCritic_0\")"
   ]
  },
  {
   "cell_type": "code",
   "execution_count": null,
   "id": "6d579da5",
   "metadata": {},
   "outputs": [],
   "source": [
    "vae = VAE()\n",
    "vae.optim = optim.Adam(vae.parameters(), lr=1e-4, weight_decay=1e-6)"
   ]
  },
  {
   "cell_type": "code",
   "execution_count": null,
   "id": "1c0f5631",
   "metadata": {},
   "outputs": [],
   "source": []
  },
  {
   "cell_type": "code",
   "execution_count": null,
   "id": "185f3047",
   "metadata": {},
   "outputs": [],
   "source": [
    "type(obs)"
   ]
  },
  {
   "cell_type": "code",
   "execution_count": null,
   "id": "dad6541a",
   "metadata": {
    "scrolled": true
   },
   "outputs": [],
   "source": [
    "# New training loop with batches\n",
    "\n",
    "losses = {\n",
    "    \"critic_loss\": [],\n",
    "    \"actor_loss\": [],\n",
    "}\n",
    "\n",
    "# Logging\n",
    "writer = SummaryWriter(log_dir)\n",
    "if config[\"show_inline_tensorboard\"]:\n",
    "    notebook.start(f\"--logdir={log_dir}\")\n",
    "\n",
    "for sample_phase in tqdm(range(n_updates)):\n",
    "    \n",
    "    batch_observations = []\n",
    "    \n",
    "    # NEW\n",
    "    batch_rewards = []\n",
    "    batch_log_probs = []\n",
    "    batch_value_preds = []\n",
    "    batch_entropies = []\n",
    "    batch_masks = []\n",
    "    \n",
    "    if sample_phase == 0:\n",
    "        obs, info = env.reset(seed=42)\n",
    "        # obs = torch.Tensor(obs).to(device) ### Pendulum\n",
    "        obs = transform(obs)\n",
    "        if len(obs.shape) == 4:\n",
    "            obs = obs[0]\n",
    "        z, reconstruction, mu, logvar = vae(obs)\n",
    "\n",
    "    for step in range(n_steps_per_update):\n",
    "            \n",
    "        # Add the observation, reconstruction, mu, and logvar to the respective batches\n",
    "        batch_observations.append(obs)\n",
    "\n",
    "        # Get an action and take an environment step\n",
    "        action, log_prob, actor_entropy = agent.get_action(z) ### obs for Pendulum\n",
    "        obs, reward, terminated, truncated, info = env.step(to_np(action))\n",
    "        \n",
    "        # Transform the next obs\n",
    "        # obs = torch.Tensor(obs).to(device) ### Pendulum\n",
    "        obs = transform(obs)\n",
    "        if len(obs.shape) == 4:\n",
    "            obs = obs[0]\n",
    "        z, reconstruction, mu, logvar = vae(obs)\n",
    "        \n",
    "        # Collect the necessary data for an agent update\n",
    "        batch_rewards.append(reward)\n",
    "        batch_log_probs.append(log_prob)\n",
    "        batch_entropies.append(actor_entropy)\n",
    "        mask = torch.tensor(0.0 if terminated else 1.0)\n",
    "        batch_masks.append(mask)\n",
    "        value_pred = agent.critic(z) # obs for Pendulum\n",
    "        batch_value_preds.append(value_pred)\n",
    "\n",
    "    # Convert the batch tensors to tensors\n",
    "    batch_observations = torch.stack(batch_observations).to(device)  # [n_steps_per_update, *obs_shape]\n",
    "    batch_rewards = torch.tensor(batch_rewards).to(device)  # [n_steps_per_update]\n",
    "    batch_log_probs = torch.stack(batch_log_probs).to(device)  # [n_steps_per_update]\n",
    "    batch_value_preds = torch.stack(batch_value_preds).to(device)  # [n_steps_per_update]\n",
    "    last_value_pred = agent.critic(z).to(device)  # last value prediction for GAE\n",
    "    batch_entropies = torch.stack(batch_entropies).to(device)  # [n_steps_per_update]\n",
    "    batch_masks = torch.stack(batch_masks).to(device)  # [n_steps_per_update]\n",
    "\n",
    "    # Update the agent's parameters\n",
    "    critic_loss, actor_loss = agent.get_loss(\n",
    "        batch_rewards, batch_log_probs, batch_value_preds, last_value_pred, batch_entropies, batch_masks\n",
    "    )\n",
    "    agent.update_parameters(critic_loss, actor_loss, sample_phase)\n",
    "    \n",
    "    # Update the VAE's parameters\n",
    "    vae_loss, reconstruction_loss, kld_loss = vae.get_loss(batch_, x_hat, mu, logvar)\n",
    "    vae.optim.zero_grad()\n",
    "    vae_loss.backward()\n",
    "    vae.optim.step()    \n",
    "\n",
    "    if sample_phase % config[\"log_interval\"] == 0:\n",
    "        \n",
    "        # Log the losses\n",
    "        losses[\"critic_loss\"].append(to_np(critic_loss))\n",
    "        losses[\"actor_loss\"].append(to_np(actor_loss))\n",
    "\n",
    "        # Log the episode metrics\n",
    "        writer.add_scalar(\"mean_reward\", np.mean(to_np(batch_rewards)), global_step=sample_phase)\n",
    "        writer.add_scalar(\"critic_loss\", to_np(critic_loss), global_step=sample_phase)\n",
    "        writer.add_scalar(\"actor_loss\", to_np(actor_loss), global_step=sample_phase)\n"
   ]
  },
  {
   "cell_type": "code",
   "execution_count": null,
   "id": "07be9f86",
   "metadata": {},
   "outputs": [],
   "source": [
    "# TODO: VAE add loss, update"
   ]
  },
  {
   "cell_type": "code",
   "execution_count": null,
   "id": "e77d4cbe",
   "metadata": {},
   "outputs": [],
   "source": []
  },
  {
   "cell_type": "code",
   "execution_count": null,
   "id": "b119e6b8",
   "metadata": {},
   "outputs": [],
   "source": []
  },
  {
   "cell_type": "code",
   "execution_count": null,
   "id": "dd1dca84",
   "metadata": {},
   "outputs": [],
   "source": [
    "env = gym.make(\"Pendulum-v1\", render_mode=\"human\")\n",
    "\n",
    "obs, info = env.reset()\n",
    "\n",
    "for i in range(1000):\n",
    "    action, _, _ = agent.get_action(obs)\n",
    "    obs, _, _, _, _ = env.step(to_np(action))"
   ]
  },
  {
   "cell_type": "code",
   "execution_count": null,
   "id": "29640cb0",
   "metadata": {},
   "outputs": [],
   "source": []
  },
  {
   "cell_type": "code",
   "execution_count": null,
   "id": "b4bbfa15",
   "metadata": {},
   "outputs": [],
   "source": [
    "# vae.save_weights()"
   ]
  },
  {
   "cell_type": "code",
   "execution_count": null,
   "id": "7ad75f58",
   "metadata": {},
   "outputs": [],
   "source": [
    "agent.actor(z)"
   ]
  },
  {
   "cell_type": "code",
   "execution_count": null,
   "id": "fc9c0420",
   "metadata": {},
   "outputs": [],
   "source": []
  },
  {
   "cell_type": "code",
   "execution_count": null,
   "id": "77525412",
   "metadata": {},
   "outputs": [],
   "source": [
    "mu, var = agent.actor(z)"
   ]
  },
  {
   "cell_type": "code",
   "execution_count": null,
   "id": "24d87b72",
   "metadata": {},
   "outputs": [],
   "source": [
    "action_pd = dist.MultivariateNormal(mu, var * torch.eye(mu.shape[0], device=agent.device))\n",
    "action = action_pd.sample()\n",
    "action"
   ]
  },
  {
   "cell_type": "code",
   "execution_count": null,
   "id": "15044a6e",
   "metadata": {},
   "outputs": [],
   "source": [
    "action_pd.log_prob(action)"
   ]
  },
  {
   "cell_type": "code",
   "execution_count": null,
   "id": "ac0320cc",
   "metadata": {},
   "outputs": [],
   "source": []
  },
  {
   "cell_type": "code",
   "execution_count": null,
   "id": "e0fc9d20",
   "metadata": {},
   "outputs": [],
   "source": []
  },
  {
   "cell_type": "code",
   "execution_count": null,
   "id": "9cf801b2",
   "metadata": {},
   "outputs": [],
   "source": []
  },
  {
   "cell_type": "code",
   "execution_count": null,
   "id": "299a749b",
   "metadata": {},
   "outputs": [],
   "source": [
    "future_return = 0.0\n",
    "returns = []\n",
    "\n",
    "for r in reversed(batch_rewards):\n",
    "    future_return = r + config[\"gamma\"] * future_return\n",
    "    returns.insert(0, future_return)"
   ]
  },
  {
   "cell_type": "code",
   "execution_count": null,
   "id": "a539b8fa",
   "metadata": {},
   "outputs": [],
   "source": [
    "returns = torch.tensor(returns)\n",
    "returns = (returns - returns.mean()) / (returns.std() + 1e-8)"
   ]
  },
  {
   "cell_type": "code",
   "execution_count": null,
   "id": "7092c6a3",
   "metadata": {},
   "outputs": [],
   "source": [
    "returns"
   ]
  },
  {
   "cell_type": "code",
   "execution_count": null,
   "id": "ef954a82",
   "metadata": {},
   "outputs": [],
   "source": []
  },
  {
   "cell_type": "code",
   "execution_count": null,
   "id": "63b47743",
   "metadata": {},
   "outputs": [],
   "source": []
  },
  {
   "cell_type": "code",
   "execution_count": null,
   "id": "776b6054",
   "metadata": {},
   "outputs": [],
   "source": []
  },
  {
   "cell_type": "code",
   "execution_count": null,
   "id": "81d1463e",
   "metadata": {},
   "outputs": [],
   "source": []
  },
  {
   "cell_type": "code",
   "execution_count": null,
   "id": "3f34c35c",
   "metadata": {},
   "outputs": [],
   "source": []
  },
  {
   "cell_type": "code",
   "execution_count": null,
   "id": "861ca4a3",
   "metadata": {},
   "outputs": [],
   "source": [
    "log_prob"
   ]
  },
  {
   "cell_type": "code",
   "execution_count": null,
   "id": "bc6756ea",
   "metadata": {},
   "outputs": [],
   "source": []
  },
  {
   "cell_type": "code",
   "execution_count": null,
   "id": "589cc4ed",
   "metadata": {},
   "outputs": [],
   "source": [
    "    losses[\"vae_loss\"].append(to_np(vae_loss))\n",
    "    losses[\"reconstruction_loss\"].append(to_np(reconstruction_loss))\n",
    "    losses[\"KLD_loss\"].append(to_np(KLD_loss))\n",
    "    losses[\"critic_loss\"].append(to_np(critic_loss))\n",
    "    losses[\"actor_loss\"].append(to_np(actor_loss))\n"
   ]
  },
  {
   "cell_type": "code",
   "execution_count": null,
   "id": "df577239",
   "metadata": {},
   "outputs": [],
   "source": [
    "import matplotlib.pyplot as plt\n",
    "\n",
    "# Assuming `losses` is a dictionary containing the loss values\n",
    "\n",
    "# Create a figure and subplots\n",
    "fig, axs = plt.subplots(2, figsize=(12, 8))\n",
    "\n",
    "# Plot VAE loss\n",
    "\n",
    "# Plot Critic loss\n",
    "axs[0].plot(losses[\"critic_loss\"], alpha=0.8)\n",
    "axs[0].set_title(\"Critic Loss\")\n",
    "\n",
    "# Plot Actor loss\n",
    "axs[1].plot(losses[\"actor_loss\"], alpha=0.8)\n",
    "axs[1].set_title(\"Actor Loss\")\n",
    "\n",
    "# Adjust spacing between subplots\n",
    "plt.tight_layout()\n",
    "\n",
    "# Show the plot\n",
    "plt.show()\n"
   ]
  },
  {
   "cell_type": "code",
   "execution_count": null,
   "id": "bf6f6a61",
   "metadata": {},
   "outputs": [],
   "source": [
    "batch_observations.shape"
   ]
  },
  {
   "cell_type": "code",
   "execution_count": null,
   "id": "06fc79c8",
   "metadata": {},
   "outputs": [],
   "source": [
    "batch_reconstructions.shape"
   ]
  },
  {
   "cell_type": "code",
   "execution_count": null,
   "id": "660a2286",
   "metadata": {},
   "outputs": [],
   "source": [
    "batch_mu.shape"
   ]
  },
  {
   "cell_type": "code",
   "execution_count": null,
   "id": "6ebea80c",
   "metadata": {},
   "outputs": [],
   "source": [
    "batch_logvar.shape"
   ]
  },
  {
   "cell_type": "code",
   "execution_count": null,
   "id": "e5653d7d",
   "metadata": {},
   "outputs": [],
   "source": [
    "batch_rewards.shape"
   ]
  },
  {
   "cell_type": "code",
   "execution_count": null,
   "id": "18b64d96",
   "metadata": {},
   "outputs": [],
   "source": [
    "batch_log_probs.shape"
   ]
  },
  {
   "cell_type": "code",
   "execution_count": null,
   "id": "9c934fde",
   "metadata": {},
   "outputs": [],
   "source": [
    "batch_value_preds.shape"
   ]
  },
  {
   "cell_type": "code",
   "execution_count": null,
   "id": "78c02466",
   "metadata": {},
   "outputs": [],
   "source": [
    "last_value_pred.shape"
   ]
  },
  {
   "cell_type": "code",
   "execution_count": null,
   "id": "93013cc9",
   "metadata": {},
   "outputs": [],
   "source": [
    "batch_entropies.shape"
   ]
  },
  {
   "cell_type": "code",
   "execution_count": null,
   "id": "059c1dd0",
   "metadata": {},
   "outputs": [],
   "source": [
    "batch_masks.shape"
   ]
  },
  {
   "cell_type": "code",
   "execution_count": null,
   "id": "8b470c76",
   "metadata": {},
   "outputs": [],
   "source": []
  },
  {
   "cell_type": "code",
   "execution_count": null,
   "id": "cd9da46a",
   "metadata": {},
   "outputs": [],
   "source": []
  },
  {
   "cell_type": "code",
   "execution_count": null,
   "id": "672cf06a",
   "metadata": {},
   "outputs": [],
   "source": []
  },
  {
   "cell_type": "code",
   "execution_count": null,
   "id": "817374ff",
   "metadata": {},
   "outputs": [],
   "source": []
  },
  {
   "cell_type": "code",
   "execution_count": null,
   "id": "47c97e95",
   "metadata": {},
   "outputs": [],
   "source": []
  },
  {
   "cell_type": "code",
   "execution_count": null,
   "id": "384cb9ff",
   "metadata": {},
   "outputs": [],
   "source": []
  },
  {
   "cell_type": "code",
   "execution_count": null,
   "id": "ec03a130",
   "metadata": {},
   "outputs": [],
   "source": []
  },
  {
   "cell_type": "code",
   "execution_count": null,
   "id": "e71fad09",
   "metadata": {},
   "outputs": [],
   "source": []
  },
  {
   "cell_type": "code",
   "execution_count": null,
   "id": "bd83b09c",
   "metadata": {},
   "outputs": [],
   "source": []
  },
  {
   "cell_type": "code",
   "execution_count": null,
   "id": "c611fe4d",
   "metadata": {},
   "outputs": [],
   "source": [
    "# max_episode_steps, "
   ]
  },
  {
   "cell_type": "code",
   "execution_count": null,
   "id": "9463c42b",
   "metadata": {},
   "outputs": [],
   "source": [
    "plt.plot(losses[\"vae_loss\"])"
   ]
  },
  {
   "cell_type": "code",
   "execution_count": null,
   "id": "bb76a5e8",
   "metadata": {},
   "outputs": [],
   "source": [
    "plt.plot(losses[\"reconstruction_loss\"])"
   ]
  },
  {
   "cell_type": "code",
   "execution_count": null,
   "id": "97bc2c3f",
   "metadata": {},
   "outputs": [],
   "source": [
    "plt.plot(losses[\"KLD_loss\"])"
   ]
  },
  {
   "cell_type": "code",
   "execution_count": null,
   "id": "9aacb773",
   "metadata": {},
   "outputs": [],
   "source": [
    "obs, info = env.reset(seed=42)\n",
    "\n",
    "if len(obs.shape) == 4:\n",
    "    obs = obs[0]\n",
    "\n",
    "obs = transform(obs)\n",
    "\n",
    "plt.imshow(to_np(torch.permute(obs, (1,2,0))))"
   ]
  },
  {
   "cell_type": "code",
   "execution_count": null,
   "id": "49001398",
   "metadata": {},
   "outputs": [],
   "source": [
    "reconstruction, mu, logvar = vae(torch.randn(obs.shape).to(device))\n",
    "plt.imshow(to_np(torch.permute(reconstruction, (1,2,0))))"
   ]
  },
  {
   "cell_type": "code",
   "execution_count": null,
   "id": "eefcc45f",
   "metadata": {},
   "outputs": [],
   "source": []
  }
 ],
 "metadata": {
  "kernelspec": {
   "display_name": "Python 3 (ipykernel)",
   "language": "python",
   "name": "python3"
  },
  "language_info": {
   "codemirror_mode": {
    "name": "ipython",
    "version": 3
   },
   "file_extension": ".py",
   "mimetype": "text/x-python",
   "name": "python",
   "nbconvert_exporter": "python",
   "pygments_lexer": "ipython3",
   "version": "3.10.4"
  },
  "vscode": {
   "interpreter": {
    "hash": "e7370f93d1d0cde622a1f8e1c04877d8463912d04d973331ad4851f04de6915a"
   }
  }
 },
 "nbformat": 4,
 "nbformat_minor": 5
}
