{
 "cells": [
  {
   "cell_type": "markdown",
   "id": "43db25de",
   "metadata": {},
   "source": [
    "## Imports"
   ]
  },
  {
   "cell_type": "code",
   "execution_count": 1,
   "id": "d80a4c65",
   "metadata": {},
   "outputs": [],
   "source": [
    "import logging\n",
    "import os\n",
    "import random\n",
    "import sys\n",
    "from collections import deque\n",
    "from operator import itemgetter\n",
    "\n",
    "import gym_donkeycar\n",
    "import gymnasium as gym\n",
    "import imageio\n",
    "import ipywidgets as widgets\n",
    "import numpy as np\n",
    "import pandas as pd\n",
    "import torch\n",
    "import torch.nn as nn\n",
    "import torch.nn.functional as F\n",
    "import torch.optim as optim\n",
    "import torchvision\n",
    "from IPython.display import display\n",
    "from ipywidgets import HBox, VBox\n",
    "from matplotlib import pyplot as plt\n",
    "from PIL import Image\n",
    "from ruamel.yaml import YAML\n",
    "from scipy.ndimage import gaussian_filter1d\n",
    "from scipy.stats import norm\n",
    "from tensorboard import notebook\n",
    "from tensorboard.backend.event_processing.event_accumulator import \\\n",
    "    EventAccumulator\n",
    "from torch import distributions as dist\n",
    "from torch.distributions import Categorical, Normal\n",
    "from torch.utils.tensorboard import SummaryWriter\n",
    "from torchvision import transforms\n",
    "from tqdm import tqdm\n",
    "\n",
    "import gym.spaces as gym_spaces\n",
    "import gymnasium as gym  # overwrite OpenAI gym\n",
    "\n",
    "# suppress warnings\n",
    "import warnings\n",
    "warnings.filterwarnings(\"ignore\", category=UserWarning, module=\"gymnasium.spaces.box\") # module=\"gymnasium\"\n",
    "os.environ['TF_CPP_MIN_LOG_LEVEL'] = '2'\n",
    "os.environ[\"IMAGEIO_IGNORE_WARNINGS\"] = \"True\"\n",
    "\n",
    "import stable_baselines3 as sb3\n",
    "from gym_donkeycar.envs.donkey_env import DonkeyEnv\n",
    "from gymnasium import spaces\n",
    "from gymnasium.spaces import Box\n",
    "from stable_baselines3 import A2C, PPO, SAC\n",
    "from stable_baselines3.common import env_checker\n",
    "from stable_baselines3.common.callbacks import EvalCallback\n",
    "from stable_baselines3.common.env_util import make_vec_env\n",
    "from stable_baselines3.common.evaluation import evaluate_policy\n",
    "from stable_baselines3.common.monitor import Monitor\n",
    "from stable_baselines3.common.results_plotter import load_results, ts2xy\n",
    "from stable_baselines3.common.vec_env import DummyVecEnv, SubprocVecEnv\n",
    "\n",
    "from src.actor_critic_dreamer import ActorCriticDreamer\n",
    "from src.actor_critic import ContinuousActorCritic\n",
    "from src.blocks import CategoricalStraightThrough, ConvBlock\n",
    "from src.categorical_vae import CategoricalVAE\n",
    "from src.imagination_env import make_imagination_env\n",
    "from src.mlp import MLP\n",
    "from src.preprocessing import transform\n",
    "from src.replay_buffer import ReplayBuffer\n",
    "from src.rssm import RSSM\n",
    "from src.utils import (load_config, make_env, save_image_and_reconstruction,\n",
    "                       to_np, symlog, symexp, twohot_encode, ExponentialMovingAvg)\n",
    "from src.vae import VAE\n",
    "\n",
    "torch.cuda.empty_cache()\n",
    "%matplotlib inline\n",
    "%load_ext autoreload\n",
    "%autoreload 2\n",
    "\n",
    "# Load the config\n",
    "config = load_config()\n",
    "for key in config:\n",
    "    locals()[key] = config[key]"
   ]
  },
  {
   "cell_type": "markdown",
   "id": "1daa9ad2",
   "metadata": {},
   "source": [
    "## Create the environment"
   ]
  },
  {
   "cell_type": "code",
   "execution_count": 2,
   "id": "a47fc19e",
   "metadata": {},
   "outputs": [],
   "source": [
    "# env = make_env()"
   ]
  },
  {
   "cell_type": "code",
   "execution_count": 3,
   "id": "a4d6530b",
   "metadata": {},
   "outputs": [],
   "source": [
    "env = gym.make(\"Pendulum-v1\")\n",
    "env = gym.wrappers.RecordEpisodeStatistics(env, deque_size=config[\"n_updates\"])\n",
    "env = gym.wrappers.TimeLimit(env, max_episode_steps=config[\"max_episode_steps\"])\n",
    "env = gym.wrappers.AutoResetWrapper(env)\n",
    "env = gym.experimental.wrappers.RescaleActionV0(env, min_action=config[\"action_space_low\"], max_action=config[\"action_space_high\"])"
   ]
  },
  {
   "cell_type": "code",
   "execution_count": null,
   "id": "2917ae7c",
   "metadata": {},
   "outputs": [],
   "source": []
  },
  {
   "cell_type": "code",
   "execution_count": 4,
   "id": "15e3503e",
   "metadata": {},
   "outputs": [
    {
     "name": "stdout",
     "output_type": "stream",
     "text": [
      "Initializing critic.\n",
      "Adding zero weight init to the output layer.\n",
      "\n",
      "Initializing actor.\n"
     ]
    }
   ],
   "source": [
    "# agent = ContinuousActorCritic()\n",
    "agent = ActorCriticDreamer()\n",
    "\n",
    "\n",
    "# agent.load_weights(\"weights/ContinuousActorCritic_0\")\n",
    "\n",
    "# vae = VAE()\n",
    "# vae.optim = optim.Adam(vae.parameters(), lr=1e-4, weight_decay=1e-6)"
   ]
  },
  {
   "cell_type": "code",
   "execution_count": null,
   "id": "42ef123f",
   "metadata": {},
   "outputs": [],
   "source": []
  },
  {
   "cell_type": "code",
   "execution_count": null,
   "id": "5797b531",
   "metadata": {},
   "outputs": [],
   "source": []
  },
  {
   "cell_type": "code",
   "execution_count": null,
   "id": "dad6541a",
   "metadata": {
    "scrolled": false
   },
   "outputs": [
    {
     "name": "stderr",
     "output_type": "stream",
     "text": [
      " 31%|████████████████████████▊                                                      | 156658/500000 [1:35:36<3:44:44, 25.46it/s]"
     ]
    }
   ],
   "source": [
    "# New training loop with batches for the distributional critic\n",
    "\n",
    "losses = {\n",
    "    \"critic_loss\": [],\n",
    "    \"actor_loss\": [],\n",
    "}\n",
    "\n",
    "# Logging\n",
    "writer = SummaryWriter(log_dir)\n",
    "if config[\"show_inline_tensorboard\"]:\n",
    "    notebook.start(f\"--logdir={log_dir}\")\n",
    "\n",
    "for sample_phase in tqdm(range(n_updates)):\n",
    "    \n",
    "    batch_observations = []\n",
    "    \n",
    "    # NEW\n",
    "    batch_rewards = []\n",
    "    batch_log_probs = []\n",
    "    batch_value_preds = []\n",
    "    batch_entropies = []\n",
    "    batch_masks = []\n",
    "    batch_critic_dists = []\n",
    "    \n",
    "    if sample_phase == 0:\n",
    "        obs, info = env.reset(seed=42)\n",
    "        obs = torch.Tensor(obs).to(device) ### Pendulum\n",
    "        # obs = transform(obs)\n",
    "        # if len(obs.shape) == 4:\n",
    "        #     obs = obs[0]\n",
    "        # z, reconstruction, mu, logvar = vae(obs)\n",
    "\n",
    "    for step in range(n_steps_per_update):\n",
    "            \n",
    "        # Add the observation, reconstruction, mu, and logvar to the respective batches\n",
    "        batch_observations.append(obs)\n",
    "        value_pred, critic_dist = agent.apply_critic(obs) # obs for Pendulum | z for VAE\n",
    "\n",
    "        # Get an action and take an environment step\n",
    "        action, log_prob, actor_entropy = agent.get_action(obs) ### obs for Pendulum | z for VAE\n",
    "        obs, reward, terminated, truncated, info = env.step(to_np(action))\n",
    "        \n",
    "        # Transform the next obs\n",
    "        obs = torch.Tensor(obs).to(device) ### Pendulum\n",
    "        # obs = transform(obs)\n",
    "        # if len(obs.shape) == 4:\n",
    "        #     obs = obs[0]\n",
    "        # z, reconstruction, mu, logvar = vae(obs)\n",
    "        \n",
    "        # Collect the necessary data for an agent update\n",
    "        batch_rewards.append(reward)\n",
    "        batch_log_probs.append(log_prob)\n",
    "        batch_entropies.append(actor_entropy)\n",
    "        mask = torch.tensor(0.0 if terminated else 1.0)\n",
    "        batch_masks.append(mask)\n",
    "        batch_value_preds.append(value_pred)\n",
    "        batch_critic_dists.append(critic_dist)\n",
    "\n",
    "    # Convert the batch tensors to tensors\n",
    "    batch_observations = torch.stack(batch_observations).to(device)  # [n_steps_per_update, *obs_shape]\n",
    "    batch_rewards = torch.tensor(batch_rewards).to(device)  # [n_steps_per_update]\n",
    "    batch_log_probs = torch.stack(batch_log_probs).to(device)  # [n_steps_per_update]\n",
    "    batch_value_preds = torch.stack(batch_value_preds).to(device)  # [n_steps_per_update]\n",
    "    batch_entropies = torch.stack(batch_entropies).to(device)  # [n_steps_per_update]\n",
    "    batch_masks = torch.stack(batch_masks).to(device)  # [n_steps_per_update]\n",
    "    batch_critic_dists = torch.stack(batch_critic_dists).to(device)\n",
    "    last_value_pred, last_critic_dist = agent.apply_critic(obs) # last value prediction for GAE\n",
    "\n",
    "    # Update the agent's parameters\n",
    "    critic_loss, actor_loss = agent.get_loss(\n",
    "        batch_rewards, batch_log_probs, batch_value_preds, batch_critic_dists, \n",
    "        last_value_pred, last_critic_dist, batch_entropies, batch_masks\n",
    "    )\n",
    "    agent.update_parameters(critic_loss, actor_loss)\n",
    "    \n",
    "    # Update the VAE's parameters\n",
    "    # vae_loss, reconstruction_loss, kld_loss = vae.get_loss(batch_, x_hat, mu, logvar)\n",
    "    # vae.optim.zero_grad()\n",
    "    # vae_loss.backward()\n",
    "    # vae.optim.step()\n",
    "\n",
    "    if sample_phase % config[\"log_interval\"] == 0:\n",
    "        \n",
    "        # Log the losses\n",
    "        losses[\"critic_loss\"].append(to_np(critic_loss))\n",
    "        losses[\"actor_loss\"].append(to_np(actor_loss))\n",
    "\n",
    "        # Log the episode metrics\n",
    "        if len(env.return_queue):\n",
    "            writer.add_scalar(\"episode_return\", np.array(env.return_queue)[-1:], global_step=len(env.return_queue))\n",
    "        writer.add_scalar(\"critic_loss\", to_np(critic_loss), global_step=sample_phase)\n",
    "        writer.add_scalar(\"actor_loss\", to_np(actor_loss), global_step=sample_phase)\n"
   ]
  },
  {
   "cell_type": "code",
   "execution_count": null,
   "id": "b119e6b8",
   "metadata": {},
   "outputs": [],
   "source": []
  },
  {
   "cell_type": "code",
   "execution_count": null,
   "id": "c254c91b",
   "metadata": {},
   "outputs": [],
   "source": []
  },
  {
   "cell_type": "code",
   "execution_count": null,
   "id": "dd1dca84",
   "metadata": {},
   "outputs": [],
   "source": [
    "env = gym.make(\"Pendulum-v1\", render_mode=\"human\")\n",
    "\n",
    "value_preds = []\n",
    "\n",
    "obs, info = env.reset()\n",
    "\n",
    "for i in range(1000):\n",
    "    action, _, _ = agent.get_action(obs)\n",
    "    value_pred, _ = agent.apply_critic(obs)\n",
    "    value_preds.append(value_pred)\n",
    "    #print(value_pred.item(), end=\"\\r\")\n",
    "    obs, _, _, _, _ = env.step(to_np(action))\n",
    "\n",
    "env.close()\n",
    "plt.plot(to_np(torch.stack(value_preds)))"
   ]
  },
  {
   "cell_type": "code",
   "execution_count": null,
   "id": "f09a3bec",
   "metadata": {},
   "outputs": [],
   "source": []
  },
  {
   "cell_type": "code",
   "execution_count": null,
   "id": "df577239",
   "metadata": {},
   "outputs": [],
   "source": [
    "import matplotlib.pyplot as plt\n",
    "\n",
    "# Assuming `losses` is a dictionary containing the loss values\n",
    "\n",
    "# Create a figure and subplots\n",
    "fig, axs = plt.subplots(2, figsize=(12, 8))\n",
    "\n",
    "# Plot VAE loss\n",
    "\n",
    "# Plot Critic loss\n",
    "axs[0].plot(losses[\"critic_loss\"], alpha=0.8)\n",
    "axs[0].set_title(\"Critic Loss\")\n",
    "\n",
    "# Plot Actor loss\n",
    "axs[1].plot(losses[\"actor_loss\"], alpha=0.8)\n",
    "axs[1].set_title(\"Actor Loss\")\n",
    "\n",
    "# Adjust spacing between subplots\n",
    "plt.tight_layout()\n",
    "\n",
    "# Show the plot\n",
    "plt.show()\n"
   ]
  },
  {
   "cell_type": "code",
   "execution_count": null,
   "id": "eefcc45f",
   "metadata": {},
   "outputs": [],
   "source": []
  }
 ],
 "metadata": {
  "kernelspec": {
   "display_name": "Python 3 (ipykernel)",
   "language": "python",
   "name": "python3"
  },
  "language_info": {
   "codemirror_mode": {
    "name": "ipython",
    "version": 3
   },
   "file_extension": ".py",
   "mimetype": "text/x-python",
   "name": "python",
   "nbconvert_exporter": "python",
   "pygments_lexer": "ipython3",
   "version": "3.10.4"
  },
  "vscode": {
   "interpreter": {
    "hash": "e7370f93d1d0cde622a1f8e1c04877d8463912d04d973331ad4851f04de6915a"
   }
  }
 },
 "nbformat": 4,
 "nbformat_minor": 5
}
