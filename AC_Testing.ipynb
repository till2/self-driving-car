{
 "cells": [
  {
   "cell_type": "markdown",
   "id": "43db25de",
   "metadata": {},
   "source": [
    "## Imports"
   ]
  },
  {
   "cell_type": "code",
   "execution_count": 1,
   "id": "d80a4c65",
   "metadata": {},
   "outputs": [],
   "source": [
    "from __future__ import annotations\n",
    "from typing import Dict, List, Union\n",
    "\n",
    "import logging\n",
    "import os\n",
    "import random\n",
    "import sys\n",
    "from collections import deque\n",
    "from operator import itemgetter\n",
    "\n",
    "import gym_donkeycar\n",
    "import gymnasium as gym\n",
    "import imageio\n",
    "import ipywidgets as widgets\n",
    "import numpy as np\n",
    "import pandas as pd\n",
    "import torch\n",
    "import torch.nn as nn\n",
    "import torch.nn.functional as F\n",
    "import torch.optim as optim\n",
    "import torchvision\n",
    "from IPython.display import display\n",
    "from ipywidgets import HBox, VBox\n",
    "from matplotlib import pyplot as plt\n",
    "from PIL import Image\n",
    "from ruamel.yaml import YAML\n",
    "from scipy.ndimage import gaussian_filter1d\n",
    "from scipy.stats import norm\n",
    "from tensorboard import notebook\n",
    "from tensorboard.backend.event_processing.event_accumulator import \\\n",
    "    EventAccumulator\n",
    "from torch import distributions as dist\n",
    "from torch.distributions import Categorical, Normal\n",
    "from torch.utils.tensorboard import SummaryWriter\n",
    "from torchvision import transforms\n",
    "from tqdm import tqdm\n",
    "\n",
    "import gymnasium as gym\n",
    "\n",
    "# suppress warnings\n",
    "import warnings\n",
    "warnings.filterwarnings(\"ignore\", category=UserWarning, module=\"gymnasium.spaces.box\") # module=\"gymnasium\"\n",
    "os.environ['TF_CPP_MIN_LOG_LEVEL'] = '2'\n",
    "os.environ[\"IMAGEIO_IGNORE_WARNINGS\"] = \"True\"\n",
    "\n",
    "import stable_baselines3 as sb3\n",
    "from gym_donkeycar.envs.donkey_env import DonkeyEnv\n",
    "from gymnasium import spaces\n",
    "from gymnasium.spaces import Box\n",
    "from stable_baselines3 import A2C, PPO, SAC\n",
    "from stable_baselines3.common import env_checker\n",
    "from stable_baselines3.common.callbacks import EvalCallback\n",
    "from stable_baselines3.common.env_util import make_vec_env\n",
    "from stable_baselines3.common.evaluation import evaluate_policy\n",
    "from stable_baselines3.common.monitor import Monitor\n",
    "from stable_baselines3.common.results_plotter import load_results, ts2xy\n",
    "from stable_baselines3.common.vec_env import DummyVecEnv, SubprocVecEnv\n",
    "\n",
    "import src\n",
    "from src.actor_critic_discrete import DiscreteActorCritic\n",
    "from src.actor_critic import ContinuousActorCritic\n",
    "from src.blocks import CategoricalStraightThrough, ConvBlock\n",
    "from src.categorical_vae import CategoricalVAE\n",
    "from src.imagination_env import make_imagination_env\n",
    "from src.mlp import MLP\n",
    "from src.preprocessing import transform\n",
    "from src.replay_buffer import ReplayBuffer\n",
    "from src.rssm import RSSM\n",
    "from src.utils import (load_config, make_env, save_image_and_reconstruction,\n",
    "                       to_np, symlog, symexp, twohot_encode, ExponentialMovingAvg,\n",
    "                       ActionExponentialMovingAvg, MetricsTracker)\n",
    "from src.vae import VAE\n",
    "\n",
    "torch.cuda.empty_cache()\n",
    "%matplotlib inline\n",
    "%load_ext autoreload\n",
    "%autoreload 2\n",
    "\n",
    "# Load the config\n",
    "config = load_config()\n",
    "for key in config:\n",
    "    locals()[key] = config[key]"
   ]
  },
  {
   "cell_type": "markdown",
   "id": "1daa9ad2",
   "metadata": {},
   "source": [
    "## Create the environment"
   ]
  },
  {
   "cell_type": "code",
   "execution_count": 2,
   "id": "a4d6530b",
   "metadata": {},
   "outputs": [],
   "source": [
    "make_one_env = lambda: gym.make(\"Pendulum-v1\")\n",
    "make_time_limit_env = lambda: gym.wrappers.TimeLimit(make_one_env(), max_episode_steps=config[\"max_episode_steps\"])\n",
    "make_auto_reset_env = lambda: gym.wrappers.AutoResetWrapper(make_time_limit_env())\n",
    "\n",
    "env = gym.vector.AsyncVectorEnv([lambda: make_auto_reset_env() for i in range(n_envs)])\n",
    "\n",
    "env = gym.experimental.wrappers.RescaleActionV0(env, min_action=config[\"action_space_low\"], max_action=config[\"action_space_high\"])\n",
    "env = gym.wrappers.RecordEpisodeStatistics(env, deque_size=config[\"n_updates\"])"
   ]
  },
  {
   "cell_type": "code",
   "execution_count": 3,
   "id": "969fdb10",
   "metadata": {},
   "outputs": [],
   "source": [
    "# env = make_env()\n",
    "# \n",
    "# env.reset()\n",
    "# for i in range(1000):\n",
    "#     obs, reward, terminated, truncated, info = env.step(np.random.rand(5,3)*100)\n",
    "#     done = [te or tr for te, tr in zip(terminated, truncated)]\n",
    "#     print(done)"
   ]
  },
  {
   "cell_type": "code",
   "execution_count": null,
   "id": "cae3f4af",
   "metadata": {},
   "outputs": [],
   "source": []
  },
  {
   "cell_type": "code",
   "execution_count": null,
   "id": "fc989b51",
   "metadata": {},
   "outputs": [],
   "source": []
  },
  {
   "cell_type": "code",
   "execution_count": null,
   "id": "f35b9a5a",
   "metadata": {},
   "outputs": [],
   "source": []
  },
  {
   "cell_type": "code",
   "execution_count": null,
   "id": "9f8352ac",
   "metadata": {},
   "outputs": [],
   "source": []
  },
  {
   "cell_type": "code",
   "execution_count": null,
   "id": "700abf0b",
   "metadata": {},
   "outputs": [],
   "source": []
  },
  {
   "cell_type": "code",
   "execution_count": null,
   "id": "5ff6b40a",
   "metadata": {},
   "outputs": [],
   "source": []
  },
  {
   "cell_type": "code",
   "execution_count": null,
   "id": "3b122502",
   "metadata": {},
   "outputs": [],
   "source": []
  },
  {
   "cell_type": "code",
   "execution_count": null,
   "id": "491ecbe2",
   "metadata": {},
   "outputs": [],
   "source": []
  },
  {
   "cell_type": "code",
   "execution_count": 4,
   "id": "15e3503e",
   "metadata": {},
   "outputs": [
    {
     "name": "stdout",
     "output_type": "stream",
     "text": [
      "Initializing agent with 3 features and 1 actions.\n",
      "Initializing critic.\n",
      "Adding zero weight init to the output layer.\n",
      "Initializing actor.\n"
     ]
    }
   ],
   "source": [
    "# agent = ContinuousActorCritic()\n",
    "agent = DiscreteActorCritic(n_features=3, n_actions=1)\n",
    "\n",
    "# agent.load_weights(\"weights/ContinuousActorCritic_0\")\n",
    "\n",
    "# vae = VAE()\n",
    "# vae.optim = optim.Adam(vae.parameters(), lr=1e-4, weight_decay=1e-6)"
   ]
  },
  {
   "cell_type": "code",
   "execution_count": null,
   "id": "3b3ca322",
   "metadata": {},
   "outputs": [],
   "source": []
  },
  {
   "cell_type": "code",
   "execution_count": null,
   "id": "f777aca1",
   "metadata": {},
   "outputs": [],
   "source": []
  },
  {
   "cell_type": "code",
   "execution_count": 5,
   "id": "d8f90f26",
   "metadata": {},
   "outputs": [
    {
     "name": "stderr",
     "output_type": "stream",
     "text": [
      "  0%|                                                                                                | 0/500000 [00:00<?, ?it/s]"
     ]
    },
    {
     "name": "stdout",
     "output_type": "stream",
     "text": [
      "rewards torch.Size([16, 5])\n",
      "log_probs torch.Size([16, 5])\n",
      "value_preds torch.Size([16, 5])\n",
      "critic_dists torch.Size([16, 5, 255])\n",
      "entropies torch.Size([16, 5])\n",
      "masks torch.Size([16, 5])\n"
     ]
    },
    {
     "name": "stderr",
     "output_type": "stream",
     "text": [
      "\n"
     ]
    },
    {
     "ename": "RuntimeError",
     "evalue": "Boolean value of Tensor with more than one value is ambiguous",
     "output_type": "error",
     "traceback": [
      "\u001b[0;31m---------------------------------------------------------------------------\u001b[0m",
      "\u001b[0;31mRuntimeError\u001b[0m                              Traceback (most recent call last)",
      "Cell \u001b[0;32mIn [5], line 43\u001b[0m\n\u001b[1;32m     41\u001b[0m \u001b[38;5;28;01mfor\u001b[39;00m key, val \u001b[38;5;129;01min\u001b[39;00m episode_batches\u001b[38;5;241m.\u001b[39mitems():\n\u001b[1;32m     42\u001b[0m     \u001b[38;5;28mprint\u001b[39m(key, val\u001b[38;5;241m.\u001b[39mshape)\n\u001b[0;32m---> 43\u001b[0m critic_loss, actor_loss \u001b[38;5;241m=\u001b[39m \u001b[43magent\u001b[49m\u001b[38;5;241;43m.\u001b[39;49m\u001b[43mget_loss\u001b[49m\u001b[43m(\u001b[49m\u001b[43mepisode_batches\u001b[49m\u001b[43m,\u001b[49m\u001b[43m \u001b[49m\u001b[43mlast_value_pred\u001b[49m\u001b[43m)\u001b[49m\n\u001b[1;32m     44\u001b[0m agent\u001b[38;5;241m.\u001b[39mupdate_parameters(critic_loss, actor_loss)\n\u001b[1;32m     46\u001b[0m \u001b[38;5;66;03m# Log the episode metrics\u001b[39;00m\n",
      "File \u001b[0;32m~/Desktop/GitHub/self-driving-car/src/actor_critic_discrete.py:183\u001b[0m, in \u001b[0;36mDiscreteActorCritic.get_loss\u001b[0;34m(self, episode_batches, last_value_pred)\u001b[0m\n\u001b[1;32m    180\u001b[0m     advantages[t] \u001b[38;5;241m=\u001b[39m next_advantage \u001b[38;5;241m=\u001b[39m td_error \u001b[38;5;241m+\u001b[39m \u001b[38;5;28mself\u001b[39m\u001b[38;5;241m.\u001b[39mgamma \u001b[38;5;241m*\u001b[39m \u001b[38;5;28mself\u001b[39m\u001b[38;5;241m.\u001b[39mlam \u001b[38;5;241m*\u001b[39m ep_masks[t] \u001b[38;5;241m*\u001b[39m next_advantage\n\u001b[1;32m    182\u001b[0m \u001b[38;5;66;03m# categorical crossentropy (should be fine, I checked.)\u001b[39;00m\n\u001b[0;32m--> 183\u001b[0m twohot_returns \u001b[38;5;241m=\u001b[39m torch\u001b[38;5;241m.\u001b[39mstack([twohot_encode(r) \u001b[38;5;28;01mfor\u001b[39;00m r \u001b[38;5;129;01min\u001b[39;00m returns])\n\u001b[1;32m    184\u001b[0m critic_loss \u001b[38;5;241m=\u001b[39m \u001b[38;5;241m-\u001b[39m twohot_returns\u001b[38;5;241m.\u001b[39mdetach() \u001b[38;5;241m@\u001b[39m torch\u001b[38;5;241m.\u001b[39mlog(batch_critic_dists)\u001b[38;5;241m.\u001b[39mT\n\u001b[1;32m    185\u001b[0m critic_loss \u001b[38;5;241m=\u001b[39m torch\u001b[38;5;241m.\u001b[39msum(torch\u001b[38;5;241m.\u001b[39mdiag(critic_loss))\n",
      "File \u001b[0;32m~/Desktop/GitHub/self-driving-car/src/actor_critic_discrete.py:183\u001b[0m, in \u001b[0;36m<listcomp>\u001b[0;34m(.0)\u001b[0m\n\u001b[1;32m    180\u001b[0m     advantages[t] \u001b[38;5;241m=\u001b[39m next_advantage \u001b[38;5;241m=\u001b[39m td_error \u001b[38;5;241m+\u001b[39m \u001b[38;5;28mself\u001b[39m\u001b[38;5;241m.\u001b[39mgamma \u001b[38;5;241m*\u001b[39m \u001b[38;5;28mself\u001b[39m\u001b[38;5;241m.\u001b[39mlam \u001b[38;5;241m*\u001b[39m ep_masks[t] \u001b[38;5;241m*\u001b[39m next_advantage\n\u001b[1;32m    182\u001b[0m \u001b[38;5;66;03m# categorical crossentropy (should be fine, I checked.)\u001b[39;00m\n\u001b[0;32m--> 183\u001b[0m twohot_returns \u001b[38;5;241m=\u001b[39m torch\u001b[38;5;241m.\u001b[39mstack([\u001b[43mtwohot_encode\u001b[49m\u001b[43m(\u001b[49m\u001b[43mr\u001b[49m\u001b[43m)\u001b[49m \u001b[38;5;28;01mfor\u001b[39;00m r \u001b[38;5;129;01min\u001b[39;00m returns])\n\u001b[1;32m    184\u001b[0m critic_loss \u001b[38;5;241m=\u001b[39m \u001b[38;5;241m-\u001b[39m twohot_returns\u001b[38;5;241m.\u001b[39mdetach() \u001b[38;5;241m@\u001b[39m torch\u001b[38;5;241m.\u001b[39mlog(batch_critic_dists)\u001b[38;5;241m.\u001b[39mT\n\u001b[1;32m    185\u001b[0m critic_loss \u001b[38;5;241m=\u001b[39m torch\u001b[38;5;241m.\u001b[39msum(torch\u001b[38;5;241m.\u001b[39mdiag(critic_loss))\n",
      "File \u001b[0;32m~/Desktop/GitHub/self-driving-car/src/utils.py:49\u001b[0m, in \u001b[0;36mtwohot_encode\u001b[0;34m(x)\u001b[0m\n\u001b[1;32m     46\u001b[0m \u001b[38;5;66;03m# symlog transform the value\u001b[39;00m\n\u001b[1;32m     47\u001b[0m x \u001b[38;5;241m=\u001b[39m symlog(x)\n\u001b[0;32m---> 49\u001b[0m \u001b[38;5;28;01mif\u001b[39;00m x \u001b[38;5;241m<\u001b[39m buckets[\u001b[38;5;241m0\u001b[39m]:\n\u001b[1;32m     50\u001b[0m     encoded[\u001b[38;5;241m0\u001b[39m] \u001b[38;5;241m=\u001b[39m \u001b[38;5;241m1.0\u001b[39m\n\u001b[1;32m     51\u001b[0m \u001b[38;5;28;01melif\u001b[39;00m x \u001b[38;5;241m>\u001b[39m buckets[\u001b[38;5;241m-\u001b[39m\u001b[38;5;241m1\u001b[39m]:\n",
      "\u001b[0;31mRuntimeError\u001b[0m: Boolean value of Tensor with more than one value is ambiguous"
     ]
    }
   ],
   "source": [
    "# New training loop with batches for the distributional critic\n",
    "\n",
    "tracker = MetricsTracker(\n",
    "    training_metrics=[\"critic_loss\", \"actor_loss\"],\n",
    "    episode_metrics=[\"rewards\", \"log_probs\", \"value_preds\", \"critic_dists\", \"entropies\", \"masks\"],\n",
    ")\n",
    "\n",
    "for sample_phase in tqdm(range(n_updates)):\n",
    "    \n",
    "    if sample_phase == 0:\n",
    "        obs, info = env.reset(seed=42)\n",
    "        # obs = transform(torch.tensor(obs)) ### only for images\n",
    "\n",
    "    for step in range(n_steps_per_update):\n",
    "            \n",
    "        value_pred, critic_dist = agent.apply_critic(obs)\n",
    "\n",
    "        # Get an action and take an environment step\n",
    "        action, log_prob, actor_entropy = agent.get_action(obs)\n",
    "        obs, reward, terminated, truncated, info = env.step(to_np(action))\n",
    "        # obs = transform(torch.tensor(obs)) ### only for images\n",
    "        \n",
    "        # every step:\n",
    "        tracker.add(\n",
    "            episode_metrics={\n",
    "                \"rewards\": reward,\n",
    "                \"log_probs\": log_prob,\n",
    "                \"value_preds\": value_pred,\n",
    "                \"critic_dists\": critic_dist,\n",
    "                \"entropies\": actor_entropy,\n",
    "                \"masks\": np.where(terminated, 0, 1),\n",
    "            }\n",
    "        )\n",
    "    \n",
    "    # every sample phase:\n",
    "    episode_batches = tracker.get_episode_batches() # episode_batches is a dict\n",
    "    last_value_pred, _ = agent.apply_critic(obs) # last value prediction for GAE\n",
    "\n",
    "    # Update the agent's parameters\n",
    "    # DEBUG:\n",
    "    for key, val in episode_batches.items():\n",
    "        print(key, val.shape)\n",
    "    critic_loss, actor_loss = agent.get_loss(episode_batches, last_value_pred)\n",
    "    agent.update_parameters(critic_loss, actor_loss)\n",
    "    \n",
    "    # Log the episode metrics\n",
    "    if sample_phase % config[\"log_interval\"] == 0:\n",
    "        tracker.add(\n",
    "            training_metrics={\n",
    "                \"critic_loss\": critic_loss,\n",
    "                \"actor_loss\": actor_loss,\n",
    "            }\n",
    "        )\n",
    "\n",
    "        # Episode return\n",
    "        if len(env.return_queue):\n",
    "            tracker.writer.add_scalar(\"episode_return\", np.array(env.return_queue)[-1], global_step=len(env.return_queue))\n",
    "\n",
    "        # Actor and critic losses\n",
    "        tracker.log_to_tensorboard(step=sample_phase)\n",
    "        "
   ]
  },
  {
   "cell_type": "code",
   "execution_count": null,
   "id": "4311121e",
   "metadata": {},
   "outputs": [],
   "source": [
    "ep_rewards = episode_batches[\"rewards\"]\n",
    "ep_log_probs = episode_batches[\"log_probs\"]\n",
    "ep_value_preds = episode_batches[\"value_preds\"]\n",
    "batch_critic_dists = episode_batches[\"critic_dists\"]\n",
    "ep_entropies = episode_batches[\"entropies\"]\n",
    "ep_masks = episode_batches[\"masks\"]\n",
    "last_value_pred = torch.randn(5).to(device)"
   ]
  },
  {
   "cell_type": "code",
   "execution_count": null,
   "id": "195e8346",
   "metadata": {},
   "outputs": [],
   "source": [
    "print(ep_rewards.shape)\n",
    "print(last_value_pred.shape)"
   ]
  },
  {
   "cell_type": "code",
   "execution_count": null,
   "id": "836581ec",
   "metadata": {},
   "outputs": [],
   "source": [
    "last_value_pred = last_value_pred.unsqueeze(0).detach() # (1, B)\n",
    "ep_value_preds = torch.cat((ep_value_preds, last_value_pred), dim=0) # (SEQ_LEN+1, B)\n",
    "\n",
    "# set up tensors for the advantage calculation\n",
    "returns = torch.zeros_like(ep_rewards).to(device) # (SEQ_LEN, B)\n",
    "advantages = torch.zeros_like(ep_rewards).to(device) # (SEQ_LEN, B)\n",
    "next_advantage = torch.zeros_like(last_value_pred) # (1, B)"
   ]
  },
  {
   "cell_type": "code",
   "execution_count": null,
   "id": "fe5dffe7",
   "metadata": {},
   "outputs": [],
   "source": []
  },
  {
   "cell_type": "code",
   "execution_count": null,
   "id": "46bfb4a7",
   "metadata": {},
   "outputs": [],
   "source": [
    "# calculate advantages using GAE\n",
    "for t in reversed(range(len(ep_rewards))):\n",
    "    returns[t] = ep_rewards[t] + gamma * ep_masks[t] * ep_value_preds[t+1]\n",
    "    td_error = returns[t] - ep_value_preds[t]\n",
    "    advantages[t] = next_advantage = td_error + gamma * lam * ep_masks[t] * next_advantage"
   ]
  },
  {
   "cell_type": "code",
   "execution_count": 6,
   "id": "0995b600",
   "metadata": {},
   "outputs": [
    {
     "ename": "NameError",
     "evalue": "name 'advantages' is not defined",
     "output_type": "error",
     "traceback": [
      "\u001b[0;31m---------------------------------------------------------------------------\u001b[0m",
      "\u001b[0;31mNameError\u001b[0m                                 Traceback (most recent call last)",
      "Cell \u001b[0;32mIn [6], line 1\u001b[0m\n\u001b[0;32m----> 1\u001b[0m \u001b[43madvantages\u001b[49m\u001b[38;5;241m.\u001b[39mshape\n",
      "\u001b[0;31mNameError\u001b[0m: name 'advantages' is not defined"
     ]
    }
   ],
   "source": [
    "advantages.shape"
   ]
  },
  {
   "cell_type": "code",
   "execution_count": 7,
   "id": "95946dc6",
   "metadata": {},
   "outputs": [
    {
     "ename": "NameError",
     "evalue": "name 'returns' is not defined",
     "output_type": "error",
     "traceback": [
      "\u001b[0;31m---------------------------------------------------------------------------\u001b[0m",
      "\u001b[0;31mNameError\u001b[0m                                 Traceback (most recent call last)",
      "Cell \u001b[0;32mIn [7], line 1\u001b[0m\n\u001b[0;32m----> 1\u001b[0m \u001b[43mreturns\u001b[49m\u001b[38;5;241m.\u001b[39mshape\n",
      "\u001b[0;31mNameError\u001b[0m: name 'returns' is not defined"
     ]
    }
   ],
   "source": [
    "returns.shape"
   ]
  },
  {
   "cell_type": "code",
   "execution_count": 8,
   "id": "3d74261d",
   "metadata": {},
   "outputs": [
    {
     "ename": "NameError",
     "evalue": "name 'returns' is not defined",
     "output_type": "error",
     "traceback": [
      "\u001b[0;31m---------------------------------------------------------------------------\u001b[0m",
      "\u001b[0;31mNameError\u001b[0m                                 Traceback (most recent call last)",
      "Cell \u001b[0;32mIn [8], line 1\u001b[0m\n\u001b[0;32m----> 1\u001b[0m twohot_returns \u001b[38;5;241m=\u001b[39m torch\u001b[38;5;241m.\u001b[39mstack([twohot_encode(r) \u001b[38;5;28;01mfor\u001b[39;00m r \u001b[38;5;129;01min\u001b[39;00m \u001b[43mreturns\u001b[49m])\n\u001b[1;32m      2\u001b[0m critic_loss \u001b[38;5;241m=\u001b[39m \u001b[38;5;241m-\u001b[39m twohot_returns\u001b[38;5;241m.\u001b[39mdetach() \u001b[38;5;241m@\u001b[39m torch\u001b[38;5;241m.\u001b[39mlog(batch_critic_dists)\u001b[38;5;241m.\u001b[39mT\n\u001b[1;32m      3\u001b[0m critic_loss \u001b[38;5;241m=\u001b[39m torch\u001b[38;5;241m.\u001b[39msum(torch\u001b[38;5;241m.\u001b[39mdiag(critic_loss))\n",
      "\u001b[0;31mNameError\u001b[0m: name 'returns' is not defined"
     ]
    }
   ],
   "source": [
    "twohot_returns = torch.stack([twohot_encode(r) for r in returns])\n",
    "critic_loss = - twohot_returns.detach() @ torch.log(batch_critic_dists).T\n",
    "critic_loss = torch.sum(torch.diag(critic_loss))"
   ]
  },
  {
   "cell_type": "code",
   "execution_count": null,
   "id": "01514a63",
   "metadata": {},
   "outputs": [],
   "source": []
  },
  {
   "cell_type": "code",
   "execution_count": null,
   "id": "46e920e4",
   "metadata": {},
   "outputs": [],
   "source": []
  },
  {
   "cell_type": "code",
   "execution_count": null,
   "id": "c295b519",
   "metadata": {},
   "outputs": [],
   "source": []
  },
  {
   "cell_type": "code",
   "execution_count": null,
   "id": "55194e4d",
   "metadata": {},
   "outputs": [],
   "source": []
  },
  {
   "cell_type": "code",
   "execution_count": null,
   "id": "9ec6ef51",
   "metadata": {},
   "outputs": [],
   "source": []
  },
  {
   "cell_type": "code",
   "execution_count": null,
   "id": "db0cddbb",
   "metadata": {},
   "outputs": [],
   "source": []
  },
  {
   "cell_type": "code",
   "execution_count": null,
   "id": "abbc08d2",
   "metadata": {},
   "outputs": [],
   "source": [
    "# WORKS:\n",
    "###def twohot_encode(x):\n",
    "###    \"\"\"\n",
    "###    Computes the twohot encoded symlog returns.\n",
    "###    \n",
    "###    Args:\n",
    "###        x (torch.Tensor): the original returns (scalar or vector of values) to be encoded\n",
    "###            Shape: (B,)\n",
    "###    \n",
    "###    Returns:\n",
    "###        encoded (torch.Tensor): the encoded symlog returns as a vector\n",
    "###            Shape: (B, NUM_BUCKETS)\n",
    "###    \n",
    "###    Notes:\n",
    "###        - note that the returns are automatically symlogged before the two-hot encoding\n",
    "###    \"\"\"\n",
    "###    config = load_config()\n",
    "###    \n",
    "###    if not isinstance(x, torch.Tensor):\n",
    "###        x = torch.tensor(x)\n",
    "###    x = x.to(config[\"device\"])\n",
    "###    \n",
    "###    # add an empty dim for scalar inputs\n",
    "###    if not len(x.shape):\n",
    "###        x = x.view(-1)\n",
    "###        \n",
    "###    buckets = torch.linspace(config[\"min_bucket\"], config[\"max_bucket\"], config[\"num_buckets\"]).to(config[\"device\"])\n",
    "###    encoded = torch.zeros((x.shape[0], buckets.shape[0])).to(config[\"device\"])\n",
    "###    \n",
    "###    for i in range(x.shape[0]):\n",
    "###        # symlog transform the value\n",
    "###        value = symlog(x[i])\n",
    "###\n",
    "###        if value < buckets[0]:\n",
    "###            encoded[i, 0] = 1.0\n",
    "###        elif value > buckets[-1]:\n",
    "###            encoded[i, -1] = 1.0\n",
    "###        else:\n",
    "###            # index: right bucket (k+1 in the DreamerV3 paper), index-1: left bucket (k in the DreamerV3 paper)\n",
    "###            index = torch.searchsorted(buckets, value, side=\"right\")  # index: buckets[index-1] <= v < buckets[index]\n",
    "###            weight = (buckets[index] - value) / (buckets[index] - buckets[index-1])\n",
    "###            encoded[i, index-1] = weight\n",
    "###            encoded[i, index] = 1 - weight\n",
    "###\n",
    "###    return encoded\n",
    "###"
   ]
  },
  {
   "cell_type": "code",
   "execution_count": 24,
   "id": "e0b7775b",
   "metadata": {},
   "outputs": [
    {
     "data": {
      "text/plain": [
       "tensor(0.8448, device='cuda:0')"
      ]
     },
     "execution_count": 24,
     "metadata": {},
     "output_type": "execute_result"
    }
   ],
   "source": [
    "twohot_encode(42)[159]"
   ]
  },
  {
   "cell_type": "code",
   "execution_count": null,
   "id": "28b36b48",
   "metadata": {},
   "outputs": [],
   "source": []
  },
  {
   "cell_type": "code",
   "execution_count": 27,
   "id": "7317c552",
   "metadata": {},
   "outputs": [],
   "source": [
    "solution = torch.zeros(1,255).to(config[\"device\"])\n",
    "solution[0, 158] = 0.1552\n",
    "solution[0, 159] = 0.8448"
   ]
  },
  {
   "cell_type": "code",
   "execution_count": 28,
   "id": "c25d1c89",
   "metadata": {},
   "outputs": [
    {
     "data": {
      "text/plain": [
       "True"
      ]
     },
     "execution_count": 28,
     "metadata": {},
     "output_type": "execute_result"
    }
   ],
   "source": [
    "torch.isclose(twohot_encode(42), solution, atol=1e-4).all().item()"
   ]
  },
  {
   "cell_type": "code",
   "execution_count": 29,
   "id": "14adb937",
   "metadata": {},
   "outputs": [],
   "source": [
    "import torch\n",
    "\n",
    "def twohot_encode(x):\n",
    "    \"\"\"\n",
    "    Computes the twohot encoded symlog returns.\n",
    "    \n",
    "    Args:\n",
    "        x (torch.Tensor): the original returns (scalar or vector of values) to be encoded\n",
    "            Shape: (B,)\n",
    "    \n",
    "    Returns:\n",
    "        encoded (torch.Tensor): the encoded symlog returns as a vector\n",
    "            Shape: (B, NUM_BUCKETS)\n",
    "    \n",
    "    Notes:\n",
    "        - note that the returns are automatically symlogged before the two-hot encoding\n",
    "    \"\"\"\n",
    "    config = load_config()\n",
    "    \n",
    "    if not isinstance(x, torch.Tensor):\n",
    "        x = torch.tensor(x)\n",
    "    x = x.to(config[\"device\"])\n",
    "    \n",
    "    # add an empty dim for scalar inputs\n",
    "    if not len(x.shape):\n",
    "        x = x.view(-1)\n",
    "        \n",
    "    buckets = torch.linspace(config[\"min_bucket\"], config[\"max_bucket\"], config[\"num_buckets\"]).to(config[\"device\"])\n",
    "    \n",
    "    # symlog transform the values\n",
    "    values = symlog(x)\n",
    "\n",
    "    # clip values at the borders to ensure they lie within the bucket range\n",
    "    clipped_values = torch.clamp(values, buckets[0], buckets[-1])\n",
    "\n",
    "    # calculate the index of the right bucket (k+1) and left bucket (k) for each value\n",
    "    index = torch.searchsorted(buckets, clipped_values, side=\"right\")\n",
    "    left_bucket_index = torch.clamp(index - 1, 0, buckets.shape[0] - 1)\n",
    "    right_bucket_index = torch.clamp(index, 0, buckets.shape[0] - 1)\n",
    "\n",
    "    # calculate the weights\n",
    "    weight = (buckets[right_bucket_index] - clipped_values) / (buckets[right_bucket_index] - buckets[left_bucket_index])\n",
    "    weight = torch.clamp(weight, 0.0, 1.0)  # Ensure weights are within [0, 1]\n",
    "\n",
    "    # create the one-hot encoding for each value\n",
    "    encoded = torch.zeros((x.shape[0], buckets.shape[0])).to(config[\"device\"])\n",
    "    encoded.scatter_add_(1, left_bucket_index.unsqueeze(1), weight.unsqueeze(1))\n",
    "    encoded.scatter_add_(1, right_bucket_index.unsqueeze(1), 1 - weight.unsqueeze(1))\n",
    "\n",
    "    return encoded\n"
   ]
  },
  {
   "cell_type": "code",
   "execution_count": 30,
   "id": "34f126bd",
   "metadata": {},
   "outputs": [],
   "source": [
    "buckets = torch.linspace(config[\"min_bucket\"], config[\"max_bucket\"], config[\"num_buckets\"]).to(config[\"device\"])"
   ]
  },
  {
   "cell_type": "code",
   "execution_count": 32,
   "id": "7ac3eeb8",
   "metadata": {},
   "outputs": [
    {
     "data": {
      "text/plain": [
       "torch.Size([5, 255])"
      ]
     },
     "execution_count": 32,
     "metadata": {},
     "output_type": "execute_result"
    }
   ],
   "source": [
    "twohot_encode([-500.33, 42, 1, 2, 3]).shape"
   ]
  },
  {
   "cell_type": "code",
   "execution_count": null,
   "id": "6b4c7fc9",
   "metadata": {},
   "outputs": [],
   "source": [
    "twohot_encode(5).shape"
   ]
  },
  {
   "cell_type": "code",
   "execution_count": 53,
   "id": "0daa7f6a",
   "metadata": {},
   "outputs": [
    {
     "data": {
      "text/plain": [
       "tensor([0.0100], device='cuda:0')"
      ]
     },
     "execution_count": 53,
     "metadata": {},
     "output_type": "execute_result"
    }
   ],
   "source": [
    "symexp(twohot_encode(0.01) @ buckets)"
   ]
  },
  {
   "cell_type": "code",
   "execution_count": null,
   "id": "36dff404",
   "metadata": {},
   "outputs": [],
   "source": [
    "torch.tensor(5).view(-1).shape"
   ]
  },
  {
   "cell_type": "code",
   "execution_count": null,
   "id": "e29d06ea",
   "metadata": {},
   "outputs": [],
   "source": []
  },
  {
   "cell_type": "code",
   "execution_count": 36,
   "id": "92258499",
   "metadata": {},
   "outputs": [],
   "source": [
    "result = symexp(twohot_encode([-500.33,10,0.42]) @ buckets)"
   ]
  },
  {
   "cell_type": "code",
   "execution_count": 37,
   "id": "8d517e48",
   "metadata": {},
   "outputs": [],
   "source": [
    "solution = torch.tensor([-500.33,10,0.42]).to(config[\"device\"])"
   ]
  },
  {
   "cell_type": "code",
   "execution_count": 38,
   "id": "8c9f71c3",
   "metadata": {},
   "outputs": [
    {
     "data": {
      "text/plain": [
       "tensor([-5.0033e+02,  1.0000e+01,  4.2000e-01], device='cuda:0')"
      ]
     },
     "execution_count": 38,
     "metadata": {},
     "output_type": "execute_result"
    }
   ],
   "source": [
    "result"
   ]
  },
  {
   "cell_type": "code",
   "execution_count": 39,
   "id": "7e612a42",
   "metadata": {},
   "outputs": [
    {
     "data": {
      "text/plain": [
       "tensor([-5.0033e+02,  1.0000e+01,  4.2000e-01], device='cuda:0')"
      ]
     },
     "execution_count": 39,
     "metadata": {},
     "output_type": "execute_result"
    }
   ],
   "source": [
    "solution"
   ]
  },
  {
   "cell_type": "code",
   "execution_count": 52,
   "id": "a1bee4dd",
   "metadata": {},
   "outputs": [
    {
     "data": {
      "text/plain": [
       "True"
      ]
     },
     "execution_count": 52,
     "metadata": {},
     "output_type": "execute_result"
    }
   ],
   "source": [
    "torch.isclose(result, solution).all().item()"
   ]
  },
  {
   "cell_type": "code",
   "execution_count": null,
   "id": "d5e8812c",
   "metadata": {},
   "outputs": [],
   "source": []
  },
  {
   "cell_type": "code",
   "execution_count": null,
   "id": "24e6239d",
   "metadata": {},
   "outputs": [],
   "source": []
  },
  {
   "cell_type": "code",
   "execution_count": null,
   "id": "22ce00af",
   "metadata": {},
   "outputs": [],
   "source": [
    "[twohot_encode(r) for r in returns]"
   ]
  },
  {
   "cell_type": "code",
   "execution_count": null,
   "id": "b07c62bc",
   "metadata": {},
   "outputs": [],
   "source": []
  },
  {
   "cell_type": "code",
   "execution_count": null,
   "id": "6a05e758",
   "metadata": {},
   "outputs": [],
   "source": []
  },
  {
   "cell_type": "code",
   "execution_count": null,
   "id": "fbc45352",
   "metadata": {},
   "outputs": [],
   "source": []
  },
  {
   "cell_type": "code",
   "execution_count": null,
   "id": "0e6f1a14",
   "metadata": {},
   "outputs": [],
   "source": []
  },
  {
   "cell_type": "code",
   "execution_count": null,
   "id": "48b753e1",
   "metadata": {},
   "outputs": [],
   "source": []
  },
  {
   "cell_type": "code",
   "execution_count": null,
   "id": "f5a4abb6",
   "metadata": {},
   "outputs": [],
   "source": []
  },
  {
   "cell_type": "code",
   "execution_count": null,
   "id": "f8c99e7d",
   "metadata": {},
   "outputs": [],
   "source": [
    "for key, val in episode_batches.items():\n",
    "    print(key, val.shape)"
   ]
  },
  {
   "cell_type": "code",
   "execution_count": null,
   "id": "b12135eb",
   "metadata": {},
   "outputs": [],
   "source": [
    "episode_batches[\"rewards\"]"
   ]
  },
  {
   "cell_type": "code",
   "execution_count": null,
   "id": "f3b58485",
   "metadata": {},
   "outputs": [],
   "source": []
  }
 ],
 "metadata": {
  "kernelspec": {
   "display_name": "Python 3 (ipykernel)",
   "language": "python",
   "name": "python3"
  },
  "language_info": {
   "codemirror_mode": {
    "name": "ipython",
    "version": 3
   },
   "file_extension": ".py",
   "mimetype": "text/x-python",
   "name": "python",
   "nbconvert_exporter": "python",
   "pygments_lexer": "ipython3",
   "version": "3.10.4"
  },
  "vscode": {
   "interpreter": {
    "hash": "e7370f93d1d0cde622a1f8e1c04877d8463912d04d973331ad4851f04de6915a"
   }
  }
 },
 "nbformat": 4,
 "nbformat_minor": 5
}
