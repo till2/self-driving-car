{
 "cells": [
  {
   "cell_type": "markdown",
   "id": "43db25de",
   "metadata": {},
   "source": [
    "## Imports"
   ]
  },
  {
   "cell_type": "code",
   "execution_count": 81,
   "id": "d80a4c65",
   "metadata": {},
   "outputs": [
    {
     "name": "stdout",
     "output_type": "stream",
     "text": [
      "The autoreload extension is already loaded. To reload it, use:\n",
      "  %reload_ext autoreload\n"
     ]
    }
   ],
   "source": [
    "import logging\n",
    "import os\n",
    "import random\n",
    "import sys\n",
    "from collections import deque\n",
    "from operator import itemgetter\n",
    "\n",
    "import gym_donkeycar\n",
    "import gymnasium as gym\n",
    "import imageio\n",
    "import ipywidgets as widgets\n",
    "import numpy as np\n",
    "import pandas as pd\n",
    "import torch\n",
    "import torch.nn as nn\n",
    "import torch.nn.functional as F\n",
    "import torch.optim as optim\n",
    "import torchvision\n",
    "from IPython.display import display\n",
    "from ipywidgets import HBox, VBox\n",
    "from matplotlib import pyplot as plt\n",
    "from PIL import Image\n",
    "from ruamel.yaml import YAML\n",
    "from scipy.ndimage import gaussian_filter1d\n",
    "from scipy.stats import norm\n",
    "from tensorboard import notebook\n",
    "from tensorboard.backend.event_processing.event_accumulator import \\\n",
    "    EventAccumulator\n",
    "from torch import distributions as dist\n",
    "from torch.distributions import Categorical, Normal\n",
    "from torch.utils.tensorboard import SummaryWriter\n",
    "from torchvision import transforms\n",
    "from tqdm import tqdm\n",
    "\n",
    "import gym.spaces as gym_spaces\n",
    "import gymnasium as gym  # overwrite OpenAI gym\n",
    "\n",
    "# suppress warnings\n",
    "import warnings\n",
    "warnings.filterwarnings(\"ignore\", category=UserWarning, module=\"gymnasium.spaces.box\") # module=\"gymnasium\"\n",
    "os.environ['TF_CPP_MIN_LOG_LEVEL'] = '2'\n",
    "os.environ[\"IMAGEIO_IGNORE_WARNINGS\"] = \"True\"\n",
    "\n",
    "import stable_baselines3 as sb3\n",
    "from gym_donkeycar.envs.donkey_env import DonkeyEnv\n",
    "from gymnasium import spaces\n",
    "from gymnasium.spaces import Box\n",
    "from stable_baselines3 import A2C, PPO, SAC\n",
    "from stable_baselines3.common import env_checker\n",
    "from stable_baselines3.common.callbacks import EvalCallback\n",
    "from stable_baselines3.common.env_util import make_vec_env\n",
    "from stable_baselines3.common.evaluation import evaluate_policy\n",
    "from stable_baselines3.common.monitor import Monitor\n",
    "from stable_baselines3.common.results_plotter import load_results, ts2xy\n",
    "from stable_baselines3.common.vec_env import DummyVecEnv, SubprocVecEnv\n",
    "\n",
    "from src.actor_critic_dreamer import ActorCriticDreamer\n",
    "from src.actor_critic import ContinuousActorCritic\n",
    "from src.blocks import CategoricalStraightThrough, ConvBlock\n",
    "from src.categorical_vae import CategoricalVAE\n",
    "from src.imagination_env import make_imagination_env\n",
    "from src.mlp import MLP\n",
    "from src.preprocessing import transform\n",
    "from src.replay_buffer import ReplayBuffer\n",
    "from src.rssm import RSSM\n",
    "from src.utils import (load_config, make_env, save_image_and_reconstruction,\n",
    "                       to_np, symlog, symexp, twohot_encode)\n",
    "from src.vae import VAE\n",
    "\n",
    "torch.cuda.empty_cache()\n",
    "%matplotlib inline\n",
    "%load_ext autoreload\n",
    "%autoreload 2\n",
    "\n",
    "# Load the config\n",
    "config = load_config()\n",
    "for key in config:\n",
    "    locals()[key] = config[key]"
   ]
  },
  {
   "cell_type": "markdown",
   "id": "1daa9ad2",
   "metadata": {},
   "source": [
    "## Create the environment"
   ]
  },
  {
   "cell_type": "code",
   "execution_count": 82,
   "id": "a47fc19e",
   "metadata": {},
   "outputs": [],
   "source": [
    "# env = make_env()"
   ]
  },
  {
   "cell_type": "code",
   "execution_count": 83,
   "id": "a4d6530b",
   "metadata": {},
   "outputs": [],
   "source": [
    "env = gym.make(\"Pendulum-v1\")\n",
    "env = gym.wrappers.RecordEpisodeStatistics(env, deque_size=config[\"n_updates\"])\n",
    "env = gym.wrappers.TimeLimit(env, max_episode_steps=config[\"max_episode_steps\"])\n",
    "env = gym.wrappers.AutoResetWrapper(env)\n",
    "env = gym.experimental.wrappers.RescaleActionV0(env, min_action=config[\"action_space_low\"], max_action=config[\"action_space_high\"])"
   ]
  },
  {
   "cell_type": "code",
   "execution_count": null,
   "id": "2917ae7c",
   "metadata": {},
   "outputs": [],
   "source": []
  },
  {
   "cell_type": "code",
   "execution_count": 84,
   "id": "15e3503e",
   "metadata": {},
   "outputs": [],
   "source": [
    "# agent = ContinuousActorCritic()\n",
    "agent = ActorCriticDreamer()\n",
    "\n",
    "\n",
    "# agent.load_weights(\"weights/ContinuousActorCritic_0\")\n",
    "\n",
    "# vae = VAE()\n",
    "# vae.optim = optim.Adam(vae.parameters(), lr=1e-4, weight_decay=1e-6)"
   ]
  },
  {
   "cell_type": "code",
   "execution_count": 85,
   "id": "f9b673c1",
   "metadata": {},
   "outputs": [],
   "source": [
    "obs, _ = env.reset()\n",
    "obs = torch.Tensor(obs).to(device)"
   ]
  },
  {
   "cell_type": "code",
   "execution_count": 86,
   "id": "8c87a637",
   "metadata": {},
   "outputs": [
    {
     "data": {
      "text/plain": [
       "tensor(1.0000, device='cuda:0', grad_fn=<SumBackward0>)"
      ]
     },
     "execution_count": 86,
     "metadata": {},
     "output_type": "execute_result"
    }
   ],
   "source": [
    "torch.sum(ac.critic(obs))"
   ]
  },
  {
   "cell_type": "code",
   "execution_count": 87,
   "id": "eb9b7b63",
   "metadata": {},
   "outputs": [],
   "source": [
    "# ac.get_loss(batch_rewards, batch_log_probs, batch_value_preds, last_value_pred, batch_entropies, batch_masks)"
   ]
  },
  {
   "cell_type": "code",
   "execution_count": 88,
   "id": "a0118371",
   "metadata": {},
   "outputs": [
    {
     "name": "stdout",
     "output_type": "stream",
     "text": [
      "Encoded Target: tensor([0.0000, 0.0000, 0.0000, 0.0000, 0.0000, 0.0000, 0.0000, 0.0000, 0.0000,\n",
      "        0.0000, 0.0000, 0.0000, 0.0000, 0.0000, 0.0000, 0.0000, 0.0000, 0.0000,\n",
      "        0.0000, 0.0000, 0.0000, 0.0000, 0.0000, 0.0000, 0.0000, 0.0000, 0.0000,\n",
      "        0.0000, 0.0000, 0.0000, 0.0000, 0.0000, 0.0000, 0.0000, 0.0000, 0.0000,\n",
      "        0.0000, 0.0000, 0.0000, 0.0000, 0.0000, 0.0000, 0.0000, 0.0000, 0.0000,\n",
      "        0.0000, 0.0000, 0.0000, 0.0000, 0.0000, 0.0000, 0.0000, 0.0000, 0.0000,\n",
      "        0.0000, 0.0000, 0.0000, 0.0000, 0.0000, 0.0000, 0.0000, 0.0000, 0.0000,\n",
      "        0.0000, 0.0000, 0.0000, 0.0000, 0.0000, 0.0000, 0.0000, 0.0000, 0.0000,\n",
      "        0.0000, 0.0000, 0.0000, 0.0000, 0.0000, 0.0000, 0.0000, 0.0000, 0.0000,\n",
      "        0.0000, 0.0000, 0.0000, 0.0000, 0.0000, 0.0000, 0.0000, 0.0000, 0.0000,\n",
      "        0.0000, 0.0000, 0.0000, 0.0000, 0.0000, 0.0000, 0.0000, 0.0000, 0.0000,\n",
      "        0.0000, 0.0000, 0.0000, 0.0000, 0.0000, 0.0000, 0.0000, 0.0000, 0.0000,\n",
      "        0.0000, 0.0000, 0.0000, 0.0000, 0.0000, 0.0000, 0.0000, 0.0000, 0.0000,\n",
      "        0.0000, 0.0000, 0.0000, 0.0000, 0.0000, 0.0000, 0.0000, 0.0000, 0.0000,\n",
      "        0.0000, 0.0000, 0.0000, 0.0000, 0.0000, 0.0234, 0.9766, 0.0000, 0.0000,\n",
      "        0.0000, 0.0000, 0.0000, 0.0000, 0.0000, 0.0000, 0.0000, 0.0000, 0.0000,\n",
      "        0.0000, 0.0000, 0.0000, 0.0000, 0.0000, 0.0000, 0.0000, 0.0000, 0.0000,\n",
      "        0.0000, 0.0000, 0.0000, 0.0000, 0.0000, 0.0000, 0.0000, 0.0000, 0.0000,\n",
      "        0.0000, 0.0000, 0.0000, 0.0000, 0.0000, 0.0000, 0.0000, 0.0000, 0.0000,\n",
      "        0.0000, 0.0000, 0.0000, 0.0000, 0.0000, 0.0000, 0.0000, 0.0000, 0.0000,\n",
      "        0.0000, 0.0000, 0.0000, 0.0000, 0.0000, 0.0000, 0.0000, 0.0000, 0.0000,\n",
      "        0.0000, 0.0000, 0.0000, 0.0000, 0.0000, 0.0000, 0.0000, 0.0000, 0.0000,\n",
      "        0.0000, 0.0000, 0.0000, 0.0000, 0.0000, 0.0000, 0.0000, 0.0000, 0.0000,\n",
      "        0.0000, 0.0000, 0.0000, 0.0000, 0.0000, 0.0000, 0.0000, 0.0000, 0.0000,\n",
      "        0.0000, 0.0000, 0.0000, 0.0000, 0.0000, 0.0000, 0.0000, 0.0000, 0.0000,\n",
      "        0.0000, 0.0000, 0.0000, 0.0000, 0.0000, 0.0000, 0.0000, 0.0000, 0.0000,\n",
      "        0.0000, 0.0000, 0.0000, 0.0000, 0.0000, 0.0000, 0.0000, 0.0000, 0.0000,\n",
      "        0.0000, 0.0000, 0.0000, 0.0000, 0.0000, 0.0000, 0.0000, 0.0000, 0.0000,\n",
      "        0.0000, 0.0000, 0.0000], device='cuda:0')\n",
      "Restored Target: tensor(0.8000, device='cuda:0')\n"
     ]
    }
   ],
   "source": [
    "# Example usage:\n",
    "test_return = torch.Tensor([0.8]).to(device)\n",
    "encoded_target = twohot_encode(test_return)\n",
    "buckets = torch.linspace(-15, 15, 255).to(device)\n",
    "\n",
    "print(\"Encoded Target:\", encoded_target)\n",
    "print(\"Restored Target:\", symexp(encoded_target @ buckets))"
   ]
  },
  {
   "cell_type": "code",
   "execution_count": null,
   "id": "3d0272e8",
   "metadata": {},
   "outputs": [],
   "source": []
  },
  {
   "cell_type": "code",
   "execution_count": 89,
   "id": "afca0d35",
   "metadata": {},
   "outputs": [
    {
     "name": "stdout",
     "output_type": "stream",
     "text": [
      "tensor([0.6299, 0.6569, 0.6757, 0.9354, 0.1089], device='cuda:0')\n",
      "tensor([0.6299, 0.6569, 0.6757, 0.9354, 0.1089], device='cuda:0')\n"
     ]
    }
   ],
   "source": [
    "returns = torch.rand(5).to(device)\n",
    "encoded_targets = torch.stack([twohot_encode(r) for r in returns])\n",
    "\n",
    "print(returns)\n",
    "print(symexp(encoded_targets @ buckets))"
   ]
  },
  {
   "cell_type": "code",
   "execution_count": null,
   "id": "ab73c7c7",
   "metadata": {},
   "outputs": [],
   "source": []
  },
  {
   "cell_type": "code",
   "execution_count": 90,
   "id": "9457c291",
   "metadata": {},
   "outputs": [],
   "source": [
    "# losses = []\n",
    "# \n",
    "# for i in tqdm(range(3000)):\n",
    "#     obs = torch.rand(3).to(device)\n",
    "#     \n",
    "#     # prediction\n",
    "#     prediction = ac.critic(obs) # (255,)\n",
    "# \n",
    "#     # label\n",
    "#     test_return = torch.mean(obs * 100)  # torch.Tensor([-100]).to(device)\n",
    "#     encoded_target = twohot_encode(test_return, buckets).detach() # (255,)\n",
    "# \n",
    "#     # update critic\n",
    "#     critic_loss = - encoded_target @ torch.log(prediction)\n",
    "#     ac.critic_optim.zero_grad()\n",
    "#     critic_loss.backward(retain_graph=True)\n",
    "#     nn.utils.clip_grad_norm_(ac.critic.parameters(), max_norm=ac.max_grad_norm, norm_type=2)\n",
    "#     ac.critic_optim.step()\n",
    "#     \n",
    "#     losses.append(to_np(critic_loss))"
   ]
  },
  {
   "cell_type": "code",
   "execution_count": 91,
   "id": "b4d570ba",
   "metadata": {},
   "outputs": [],
   "source": [
    "# plt.plot(losses)"
   ]
  },
  {
   "cell_type": "code",
   "execution_count": 170,
   "id": "0fe338b8",
   "metadata": {},
   "outputs": [],
   "source": [
    "# manual crossentropy loss for one t: (sum over elements in batch)\n",
    "# - encoded_target @ torch.log(prediction)"
   ]
  },
  {
   "cell_type": "code",
   "execution_count": null,
   "id": "5797b531",
   "metadata": {},
   "outputs": [],
   "source": []
  },
  {
   "cell_type": "code",
   "execution_count": null,
   "id": "dad6541a",
   "metadata": {
    "scrolled": false
   },
   "outputs": [
    {
     "name": "stderr",
     "output_type": "stream",
     "text": [
      " 18%|███████████████                                                                       | 5478/31250 [03:41<17:29, 24.55it/s]"
     ]
    }
   ],
   "source": [
    "# New training loop with batches\n",
    "\n",
    "losses = {\n",
    "    \"critic_loss\": [],\n",
    "    \"actor_loss\": [],\n",
    "}\n",
    "\n",
    "# Logging\n",
    "writer = SummaryWriter(log_dir)\n",
    "if config[\"show_inline_tensorboard\"]:\n",
    "    notebook.start(f\"--logdir={log_dir}\")\n",
    "\n",
    "for sample_phase in tqdm(range(n_updates)):\n",
    "    \n",
    "    batch_observations = []\n",
    "    \n",
    "    # NEW\n",
    "    batch_rewards = []\n",
    "    batch_log_probs = []\n",
    "    batch_value_preds = []\n",
    "    batch_entropies = []\n",
    "    batch_masks = []\n",
    "    batch_critic_dists = []\n",
    "    \n",
    "    if sample_phase == 0:\n",
    "        obs, info = env.reset(seed=42)\n",
    "        obs = torch.Tensor(obs).to(device) ### Pendulum\n",
    "        # obs = transform(obs)\n",
    "        # if len(obs.shape) == 4:\n",
    "        #     obs = obs[0]\n",
    "        # z, reconstruction, mu, logvar = vae(obs)\n",
    "\n",
    "    for step in range(n_steps_per_update):\n",
    "            \n",
    "        # Add the observation, reconstruction, mu, and logvar to the respective batches\n",
    "        batch_observations.append(obs)\n",
    "        value_pred, critic_dist = agent.apply_critic(obs) # obs for Pendulum | z for VAE\n",
    "\n",
    "        # Get an action and take an environment step\n",
    "        action, log_prob, actor_entropy = agent.get_action(obs) ### obs for Pendulum | z for VAE\n",
    "        obs, reward, terminated, truncated, info = env.step(to_np(action))\n",
    "        \n",
    "        # Transform the next obs\n",
    "        obs = torch.Tensor(obs).to(device) ### Pendulum\n",
    "        # obs = transform(obs)\n",
    "        # if len(obs.shape) == 4:\n",
    "        #     obs = obs[0]\n",
    "        # z, reconstruction, mu, logvar = vae(obs)\n",
    "        \n",
    "        # Collect the necessary data for an agent update\n",
    "        batch_rewards.append(reward)\n",
    "        batch_log_probs.append(log_prob)\n",
    "        batch_entropies.append(actor_entropy)\n",
    "        mask = torch.tensor(0.0 if terminated else 1.0)\n",
    "        batch_masks.append(mask)\n",
    "        batch_value_preds.append(value_pred)\n",
    "        batch_critic_dists.append(critic_dist)\n",
    "\n",
    "    # Convert the batch tensors to tensors\n",
    "    batch_observations = torch.stack(batch_observations).to(device)  # [n_steps_per_update, *obs_shape]\n",
    "    batch_rewards = torch.tensor(batch_rewards).to(device)  # [n_steps_per_update]\n",
    "    batch_log_probs = torch.stack(batch_log_probs).to(device)  # [n_steps_per_update]\n",
    "    batch_value_preds = torch.stack(batch_value_preds).to(device)  # [n_steps_per_update]\n",
    "    batch_entropies = torch.stack(batch_entropies).to(device)  # [n_steps_per_update]\n",
    "    batch_masks = torch.stack(batch_masks).to(device)  # [n_steps_per_update]\n",
    "    batch_critic_dists = torch.stack(batch_critic_dists).to(device)\n",
    "    last_value_pred, last_critic_dist = agent.apply_critic(obs) # last value prediction for GAE\n",
    "\n",
    "    # Update the agent's parameters\n",
    "    critic_loss, actor_loss = agent.get_loss(\n",
    "        batch_rewards, batch_log_probs, batch_value_preds, batch_critic_dists, \n",
    "        last_value_pred, last_critic_dist, batch_entropies, batch_masks\n",
    "    )\n",
    "    agent.update_parameters(critic_loss, actor_loss)\n",
    "    \n",
    "    # Update the VAE's parameters\n",
    "    # vae_loss, reconstruction_loss, kld_loss = vae.get_loss(batch_, x_hat, mu, logvar)\n",
    "    # vae.optim.zero_grad()\n",
    "    # vae_loss.backward()\n",
    "    # vae.optim.step()    \n",
    "\n",
    "    if sample_phase % config[\"log_interval\"] == 0:\n",
    "        \n",
    "        # Log the losses\n",
    "        losses[\"critic_loss\"].append(to_np(critic_loss))\n",
    "        losses[\"actor_loss\"].append(to_np(actor_loss))\n",
    "\n",
    "        # Log the episode metrics\n",
    "        if len(env.return_queue):\n",
    "            writer.add_scalar(\"episode_return\", np.array(env.return_queue)[-1:], global_step=len(env.return_queue))\n",
    "        writer.add_scalar(\"critic_loss\", to_np(critic_loss), global_step=sample_phase)\n",
    "        writer.add_scalar(\"actor_loss\", to_np(actor_loss), global_step=sample_phase)\n"
   ]
  },
  {
   "cell_type": "code",
   "execution_count": null,
   "id": "58f35993",
   "metadata": {},
   "outputs": [],
   "source": [
    "#     encoded_target = twohot_encode(test_return, buckets).detach() # (255,)\n",
    "# \n",
    "#     # update critic\n",
    "#     critic_loss = - encoded_target @ torch.log(prediction)"
   ]
  },
  {
   "cell_type": "code",
   "execution_count": 29,
   "id": "11e37f98",
   "metadata": {},
   "outputs": [
    {
     "ename": "RuntimeError",
     "evalue": "Boolean value of Tensor with more than one value is ambiguous",
     "output_type": "error",
     "traceback": [
      "\u001b[0;31m---------------------------------------------------------------------------\u001b[0m",
      "\u001b[0;31mRuntimeError\u001b[0m                              Traceback (most recent call last)",
      "Cell \u001b[0;32mIn [29], line 1\u001b[0m\n\u001b[0;32m----> 1\u001b[0m encoded_target \u001b[38;5;241m=\u001b[39m \u001b[43mtwohot_encode\u001b[49m\u001b[43m(\u001b[49m\u001b[43mbatch_rewards\u001b[49m\u001b[43m)\u001b[49m\u001b[38;5;241m.\u001b[39mdetach()\n",
      "File \u001b[0;32m~/Desktop/GitHub/self-driving-car/src/utils.py:44\u001b[0m, in \u001b[0;36mtwohot_encode\u001b[0;34m(x)\u001b[0m\n\u001b[1;32m     42\u001b[0m encoded \u001b[38;5;241m=\u001b[39m torch\u001b[38;5;241m.\u001b[39mzeros_like(buckets)\u001b[38;5;241m.\u001b[39mto(config[\u001b[38;5;124m\"\u001b[39m\u001b[38;5;124mdevice\u001b[39m\u001b[38;5;124m\"\u001b[39m])\n\u001b[1;32m     43\u001b[0m x \u001b[38;5;241m=\u001b[39m symlog(x)\n\u001b[0;32m---> 44\u001b[0m \u001b[38;5;28;01mif\u001b[39;00m x \u001b[38;5;241m<\u001b[39m buckets[\u001b[38;5;241m0\u001b[39m]:\n\u001b[1;32m     45\u001b[0m     encoded[\u001b[38;5;241m0\u001b[39m] \u001b[38;5;241m=\u001b[39m \u001b[38;5;241m1.0\u001b[39m\n\u001b[1;32m     46\u001b[0m \u001b[38;5;28;01melif\u001b[39;00m x \u001b[38;5;241m>\u001b[39m buckets[\u001b[38;5;241m-\u001b[39m\u001b[38;5;241m1\u001b[39m]:\n",
      "\u001b[0;31mRuntimeError\u001b[0m: Boolean value of Tensor with more than one value is ambiguous"
     ]
    }
   ],
   "source": [
    "encoded_target = twohot_encode(batch_rewards).detach()"
   ]
  },
  {
   "cell_type": "code",
   "execution_count": 75,
   "id": "52b9701b",
   "metadata": {},
   "outputs": [
    {
     "name": "stdout",
     "output_type": "stream",
     "text": [
      "torch.Size([16])\n",
      "torch.Size([16, 255])\n"
     ]
    }
   ],
   "source": [
    "print(batch_rewards.shape)\n",
    "print(batch_critic_dists.shape)"
   ]
  },
  {
   "cell_type": "code",
   "execution_count": 78,
   "id": "5f5daeea",
   "metadata": {},
   "outputs": [
    {
     "name": "stdout",
     "output_type": "stream",
     "text": [
      "torch.Size([16, 16])\n",
      "tensor([6.6508, 6.7063, 6.6502, 6.4340, 6.1467, 6.4129, 5.8678, 5.5685, 5.5100,\n",
      "        5.8971, 6.5546, 7.2786, 7.7551, 7.9722, 7.8865, 7.3415],\n",
      "       device='cuda:0', grad_fn=<DiagBackward0>)\n",
      "tensor(6.6646, device='cuda:0', grad_fn=<MeanBackward0>)\n"
     ]
    }
   ],
   "source": [
    "# matrixmul method\n",
    "\n",
    "twohot_returns = torch.stack([twohot_encode(r) for r in batch_rewards])\n",
    "critic_loss = - twohot_returns @ torch.log(batch_critic_dists).T\n",
    "print(critic_loss.shape) # (16,16)\n",
    "\n",
    "print(torch.diag(critic_loss))\n",
    "\n",
    "print(torch.mean(torch.diag(critic_loss)))"
   ]
  },
  {
   "cell_type": "code",
   "execution_count": 79,
   "id": "2e48442d",
   "metadata": {},
   "outputs": [
    {
     "name": "stdout",
     "output_type": "stream",
     "text": [
      "tensor(6.6508, device='cuda:0', grad_fn=<DotBackward0>)\n",
      "tensor(6.7063, device='cuda:0', grad_fn=<DotBackward0>)\n",
      "tensor(6.6502, device='cuda:0', grad_fn=<DotBackward0>)\n",
      "tensor(6.4340, device='cuda:0', grad_fn=<DotBackward0>)\n",
      "tensor(6.1467, device='cuda:0', grad_fn=<DotBackward0>)\n",
      "tensor(6.4129, device='cuda:0', grad_fn=<DotBackward0>)\n",
      "tensor(5.8678, device='cuda:0', grad_fn=<DotBackward0>)\n",
      "tensor(5.5685, device='cuda:0', grad_fn=<DotBackward0>)\n",
      "tensor(5.5100, device='cuda:0', grad_fn=<DotBackward0>)\n",
      "tensor(5.8971, device='cuda:0', grad_fn=<DotBackward0>)\n",
      "tensor(6.5546, device='cuda:0', grad_fn=<DotBackward0>)\n",
      "tensor(7.2786, device='cuda:0', grad_fn=<DotBackward0>)\n",
      "tensor(7.7551, device='cuda:0', grad_fn=<DotBackward0>)\n",
      "tensor(7.9722, device='cuda:0', grad_fn=<DotBackward0>)\n",
      "tensor(7.8865, device='cuda:0', grad_fn=<DotBackward0>)\n",
      "tensor(7.3415, device='cuda:0', grad_fn=<DotBackward0>)\n",
      "\n",
      "tensor(6.6646, device='cuda:0', grad_fn=<DivBackward0>)\n"
     ]
    }
   ],
   "source": [
    "# dot product method\n",
    "\n",
    "critic_loss = 0.0\n",
    "for i, r in enumerate(batch_rewards):\n",
    "    twohot_return = twohot_encode(r)\n",
    "    current_loss = - twohot_return @ torch.log(batch_critic_dists[i])\n",
    "    print(current_loss)\n",
    "    critic_loss += current_loss\n",
    "\n",
    "critic_loss /= len(batch_rewards)\n",
    "\n",
    "print()\n",
    "print(critic_loss)"
   ]
  },
  {
   "cell_type": "code",
   "execution_count": null,
   "id": "2f7f3968",
   "metadata": {},
   "outputs": [],
   "source": []
  },
  {
   "cell_type": "code",
   "execution_count": null,
   "id": "7907858f",
   "metadata": {},
   "outputs": [],
   "source": [
    "twohot_returns"
   ]
  },
  {
   "cell_type": "code",
   "execution_count": 42,
   "id": "c32db353",
   "metadata": {},
   "outputs": [
    {
     "data": {
      "text/plain": [
       "torch.Size([16, 16])"
      ]
     },
     "execution_count": 42,
     "metadata": {},
     "output_type": "execute_result"
    }
   ],
   "source": [
    "\n"
   ]
  },
  {
   "cell_type": "code",
   "execution_count": 25,
   "id": "0dbdf50a",
   "metadata": {},
   "outputs": [
    {
     "data": {
      "text/plain": [
       "torch.Size([16, 255])"
      ]
     },
     "execution_count": 25,
     "metadata": {},
     "output_type": "execute_result"
    }
   ],
   "source": [
    "batch_critic_dists.shape"
   ]
  },
  {
   "cell_type": "code",
   "execution_count": 26,
   "id": "24a529f0",
   "metadata": {},
   "outputs": [
    {
     "data": {
      "text/plain": [
       "torch.Size([16])"
      ]
     },
     "execution_count": 26,
     "metadata": {},
     "output_type": "execute_result"
    }
   ],
   "source": [
    "batch_rewards.shape"
   ]
  },
  {
   "cell_type": "code",
   "execution_count": null,
   "id": "eae945bd",
   "metadata": {},
   "outputs": [],
   "source": []
  },
  {
   "cell_type": "code",
   "execution_count": null,
   "id": "46e707e6",
   "metadata": {},
   "outputs": [],
   "source": [
    "batch_"
   ]
  },
  {
   "cell_type": "code",
   "execution_count": null,
   "id": "b119e6b8",
   "metadata": {},
   "outputs": [],
   "source": []
  },
  {
   "cell_type": "code",
   "execution_count": 79,
   "id": "dd1dca84",
   "metadata": {},
   "outputs": [],
   "source": [
    "env = gym.make(\"Pendulum-v1\", render_mode=\"human\")\n",
    "\n",
    "obs, info = env.reset()\n",
    "\n",
    "for i in range(1000):\n",
    "    action, _, _ = agent.get_action(obs)\n",
    "    obs, _, _, _, _ = env.step(to_np(action))"
   ]
  },
  {
   "cell_type": "code",
   "execution_count": null,
   "id": "29640cb0",
   "metadata": {},
   "outputs": [],
   "source": []
  },
  {
   "cell_type": "code",
   "execution_count": null,
   "id": "b4bbfa15",
   "metadata": {},
   "outputs": [],
   "source": [
    "# vae.save_weights()"
   ]
  },
  {
   "cell_type": "code",
   "execution_count": null,
   "id": "7ad75f58",
   "metadata": {},
   "outputs": [],
   "source": [
    "agent.actor(z)"
   ]
  },
  {
   "cell_type": "code",
   "execution_count": null,
   "id": "fc9c0420",
   "metadata": {},
   "outputs": [],
   "source": []
  },
  {
   "cell_type": "code",
   "execution_count": null,
   "id": "77525412",
   "metadata": {},
   "outputs": [],
   "source": [
    "mu, var = agent.actor(z)"
   ]
  },
  {
   "cell_type": "code",
   "execution_count": null,
   "id": "24d87b72",
   "metadata": {},
   "outputs": [],
   "source": [
    "action_pd = dist.MultivariateNormal(mu, var * torch.eye(mu.shape[0], device=agent.device))\n",
    "action = action_pd.sample()\n",
    "action"
   ]
  },
  {
   "cell_type": "code",
   "execution_count": null,
   "id": "15044a6e",
   "metadata": {},
   "outputs": [],
   "source": [
    "action_pd.log_prob(action)"
   ]
  },
  {
   "cell_type": "code",
   "execution_count": null,
   "id": "ac0320cc",
   "metadata": {},
   "outputs": [],
   "source": []
  },
  {
   "cell_type": "code",
   "execution_count": null,
   "id": "e0fc9d20",
   "metadata": {},
   "outputs": [],
   "source": []
  },
  {
   "cell_type": "code",
   "execution_count": null,
   "id": "9cf801b2",
   "metadata": {},
   "outputs": [],
   "source": []
  },
  {
   "cell_type": "code",
   "execution_count": null,
   "id": "299a749b",
   "metadata": {},
   "outputs": [],
   "source": [
    "future_return = 0.0\n",
    "returns = []\n",
    "\n",
    "for r in reversed(batch_rewards):\n",
    "    future_return = r + config[\"gamma\"] * future_return\n",
    "    returns.insert(0, future_return)"
   ]
  },
  {
   "cell_type": "code",
   "execution_count": null,
   "id": "a539b8fa",
   "metadata": {},
   "outputs": [],
   "source": [
    "returns = torch.tensor(returns)\n",
    "returns = (returns - returns.mean()) / (returns.std() + 1e-8)"
   ]
  },
  {
   "cell_type": "code",
   "execution_count": null,
   "id": "7092c6a3",
   "metadata": {},
   "outputs": [],
   "source": [
    "returns"
   ]
  },
  {
   "cell_type": "code",
   "execution_count": null,
   "id": "ef954a82",
   "metadata": {},
   "outputs": [],
   "source": []
  },
  {
   "cell_type": "code",
   "execution_count": null,
   "id": "63b47743",
   "metadata": {},
   "outputs": [],
   "source": []
  },
  {
   "cell_type": "code",
   "execution_count": null,
   "id": "776b6054",
   "metadata": {},
   "outputs": [],
   "source": []
  },
  {
   "cell_type": "code",
   "execution_count": null,
   "id": "81d1463e",
   "metadata": {},
   "outputs": [],
   "source": []
  },
  {
   "cell_type": "code",
   "execution_count": null,
   "id": "3f34c35c",
   "metadata": {},
   "outputs": [],
   "source": []
  },
  {
   "cell_type": "code",
   "execution_count": null,
   "id": "861ca4a3",
   "metadata": {},
   "outputs": [],
   "source": [
    "log_prob"
   ]
  },
  {
   "cell_type": "code",
   "execution_count": null,
   "id": "bc6756ea",
   "metadata": {},
   "outputs": [],
   "source": []
  },
  {
   "cell_type": "code",
   "execution_count": null,
   "id": "589cc4ed",
   "metadata": {},
   "outputs": [],
   "source": [
    "    losses[\"vae_loss\"].append(to_np(vae_loss))\n",
    "    losses[\"reconstruction_loss\"].append(to_np(reconstruction_loss))\n",
    "    losses[\"KLD_loss\"].append(to_np(KLD_loss))\n",
    "    losses[\"critic_loss\"].append(to_np(critic_loss))\n",
    "    losses[\"actor_loss\"].append(to_np(actor_loss))\n"
   ]
  },
  {
   "cell_type": "code",
   "execution_count": 67,
   "id": "df577239",
   "metadata": {},
   "outputs": [
    {
     "data": {
      "image/png": "[encoded data removed]",
      "text/plain": [
       "<Figure size 1200x800 with 2 Axes>"
      ]
     },
     "metadata": {},
     "output_type": "display_data"
    }
   ],
   "source": [
    "import matplotlib.pyplot as plt\n",
    "\n",
    "# Assuming `losses` is a dictionary containing the loss values\n",
    "\n",
    "# Create a figure and subplots\n",
    "fig, axs = plt.subplots(2, figsize=(12, 8))\n",
    "\n",
    "# Plot VAE loss\n",
    "\n",
    "# Plot Critic loss\n",
    "axs[0].plot(losses[\"critic_loss\"], alpha=0.8)\n",
    "axs[0].set_title(\"Critic Loss\")\n",
    "\n",
    "# Plot Actor loss\n",
    "axs[1].plot(losses[\"actor_loss\"], alpha=0.8)\n",
    "axs[1].set_title(\"Actor Loss\")\n",
    "\n",
    "# Adjust spacing between subplots\n",
    "plt.tight_layout()\n",
    "\n",
    "# Show the plot\n",
    "plt.show()\n"
   ]
  },
  {
   "cell_type": "code",
   "execution_count": null,
   "id": "bf6f6a61",
   "metadata": {},
   "outputs": [],
   "source": [
    "batch_observations.shape"
   ]
  },
  {
   "cell_type": "code",
   "execution_count": null,
   "id": "06fc79c8",
   "metadata": {},
   "outputs": [],
   "source": [
    "batch_reconstructions.shape"
   ]
  },
  {
   "cell_type": "code",
   "execution_count": null,
   "id": "660a2286",
   "metadata": {},
   "outputs": [],
   "source": [
    "batch_mu.shape"
   ]
  },
  {
   "cell_type": "code",
   "execution_count": null,
   "id": "6ebea80c",
   "metadata": {},
   "outputs": [],
   "source": [
    "batch_logvar.shape"
   ]
  },
  {
   "cell_type": "code",
   "execution_count": null,
   "id": "e5653d7d",
   "metadata": {},
   "outputs": [],
   "source": [
    "batch_rewards.shape"
   ]
  },
  {
   "cell_type": "code",
   "execution_count": null,
   "id": "18b64d96",
   "metadata": {},
   "outputs": [],
   "source": [
    "batch_log_probs.shape"
   ]
  },
  {
   "cell_type": "code",
   "execution_count": null,
   "id": "9c934fde",
   "metadata": {},
   "outputs": [],
   "source": [
    "batch_value_preds.shape"
   ]
  },
  {
   "cell_type": "code",
   "execution_count": null,
   "id": "78c02466",
   "metadata": {},
   "outputs": [],
   "source": [
    "last_value_pred.shape"
   ]
  },
  {
   "cell_type": "code",
   "execution_count": null,
   "id": "93013cc9",
   "metadata": {},
   "outputs": [],
   "source": [
    "batch_entropies.shape"
   ]
  },
  {
   "cell_type": "code",
   "execution_count": null,
   "id": "059c1dd0",
   "metadata": {},
   "outputs": [],
   "source": [
    "batch_masks.shape"
   ]
  },
  {
   "cell_type": "code",
   "execution_count": null,
   "id": "8b470c76",
   "metadata": {},
   "outputs": [],
   "source": []
  },
  {
   "cell_type": "code",
   "execution_count": null,
   "id": "cd9da46a",
   "metadata": {},
   "outputs": [],
   "source": []
  },
  {
   "cell_type": "code",
   "execution_count": null,
   "id": "672cf06a",
   "metadata": {},
   "outputs": [],
   "source": []
  },
  {
   "cell_type": "code",
   "execution_count": null,
   "id": "817374ff",
   "metadata": {},
   "outputs": [],
   "source": []
  },
  {
   "cell_type": "code",
   "execution_count": null,
   "id": "47c97e95",
   "metadata": {},
   "outputs": [],
   "source": []
  },
  {
   "cell_type": "code",
   "execution_count": null,
   "id": "384cb9ff",
   "metadata": {},
   "outputs": [],
   "source": []
  },
  {
   "cell_type": "code",
   "execution_count": null,
   "id": "ec03a130",
   "metadata": {},
   "outputs": [],
   "source": []
  },
  {
   "cell_type": "code",
   "execution_count": null,
   "id": "e71fad09",
   "metadata": {},
   "outputs": [],
   "source": []
  },
  {
   "cell_type": "code",
   "execution_count": null,
   "id": "bd83b09c",
   "metadata": {},
   "outputs": [],
   "source": []
  },
  {
   "cell_type": "code",
   "execution_count": null,
   "id": "c611fe4d",
   "metadata": {},
   "outputs": [],
   "source": [
    "# max_episode_steps, "
   ]
  },
  {
   "cell_type": "code",
   "execution_count": null,
   "id": "9463c42b",
   "metadata": {},
   "outputs": [],
   "source": [
    "plt.plot(losses[\"vae_loss\"])"
   ]
  },
  {
   "cell_type": "code",
   "execution_count": null,
   "id": "bb76a5e8",
   "metadata": {},
   "outputs": [],
   "source": [
    "plt.plot(losses[\"reconstruction_loss\"])"
   ]
  },
  {
   "cell_type": "code",
   "execution_count": null,
   "id": "97bc2c3f",
   "metadata": {},
   "outputs": [],
   "source": [
    "plt.plot(losses[\"KLD_loss\"])"
   ]
  },
  {
   "cell_type": "code",
   "execution_count": null,
   "id": "9aacb773",
   "metadata": {},
   "outputs": [],
   "source": [
    "obs, info = env.reset(seed=42)\n",
    "\n",
    "if len(obs.shape) == 4:\n",
    "    obs = obs[0]\n",
    "\n",
    "obs = transform(obs)\n",
    "\n",
    "plt.imshow(to_np(torch.permute(obs, (1,2,0))))"
   ]
  },
  {
   "cell_type": "code",
   "execution_count": null,
   "id": "49001398",
   "metadata": {},
   "outputs": [],
   "source": [
    "reconstruction, mu, logvar = vae(torch.randn(obs.shape).to(device))\n",
    "plt.imshow(to_np(torch.permute(reconstruction, (1,2,0))))"
   ]
  },
  {
   "cell_type": "code",
   "execution_count": null,
   "id": "eefcc45f",
   "metadata": {},
   "outputs": [],
   "source": []
  }
 ],
 "metadata": {
  "kernelspec": {
   "display_name": "Python 3 (ipykernel)",
   "language": "python",
   "name": "python3"
  },
  "language_info": {
   "codemirror_mode": {
    "name": "ipython",
    "version": 3
   },
   "file_extension": ".py",
   "mimetype": "text/x-python",
   "name": "python",
   "nbconvert_exporter": "python",
   "pygments_lexer": "ipython3",
   "version": "3.10.4"
  },
  "vscode": {
   "interpreter": {
    "hash": "e7370f93d1d0cde622a1f8e1c04877d8463912d04d973331ad4851f04de6915a"
   }
  }
 },
 "nbformat": 4,
 "nbformat_minor": 5
}
