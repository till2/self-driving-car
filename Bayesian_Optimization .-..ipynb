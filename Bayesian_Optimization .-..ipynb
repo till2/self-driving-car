{
 "cells": [
  {
   "cell_type": "code",
   "execution_count": 1,
   "id": "f2e8900d",
   "metadata": {},
   "outputs": [],
   "source": [
    "# https://scikit-optimize.github.io/stable/auto_examples/hyperparameter-optimization.html#sphx-glr-auto-examples-hyperparameter-optimization-py"
   ]
  },
  {
   "cell_type": "code",
   "execution_count": 2,
   "id": "73e83a50",
   "metadata": {},
   "outputs": [],
   "source": [
    "from skopt.space import Real, Integer\n",
    "from skopt.utils import use_named_args\n",
    "import numpy as np"
   ]
  },
  {
   "cell_type": "code",
   "execution_count": 3,
   "id": "f7178fd9",
   "metadata": {},
   "outputs": [],
   "source": [
    "space  = [\n",
    "    Integer(0, 5, name=\"alpha\"),\n",
    "    Integer(-2, 10, name=\"beta\"),\n",
    "    Integer(0, 8, name=\"gamma\"),\n",
    "    \n",
    "    Real(10**-5, 10**0, \"log-uniform\", name=\"lr\"),\n",
    "    Real(0, 1, name=\"epsilon\"),\n",
    "    Real(0, 1, name=\"lmbda\"),\n",
    "]"
   ]
  },
  {
   "cell_type": "code",
   "execution_count": 4,
   "id": "6c8acdcc",
   "metadata": {},
   "outputs": [],
   "source": [
    "@use_named_args(space)\n",
    "def objective(**params):\n",
    "    \"\"\"  The objective we want to MINIMIZE \"\"\"\n",
    "    \n",
    "    # for a neural net\n",
    "    # model.set_params(**params)\n",
    "    # return -np.mean(cross_val_score(reg, X, y, cv=5, n_jobs=-1, scoring=\"neg_mean_absolute_error\"))\n",
    "    \n",
    "    print(params)\n",
    "    result = 0\n",
    "    for x in params.values():\n",
    "        result -= x\n",
    "    return result"
   ]
  },
  {
   "cell_type": "code",
   "execution_count": 5,
   "id": "20705d07",
   "metadata": {},
   "outputs": [
    {
     "name": "stdout",
     "output_type": "stream",
     "text": [
      "{'alpha': 3, 'beta': 8, 'gamma': 7, 'lr': 0.17228945369609433, 'epsilon': 0.6235636967859725, 'lmbda': 0.38438170729269994}\n",
      "{'alpha': 1, 'beta': -1, 'gamma': 2, 'lr': 0.0024452630570839917, 'epsilon': 0.8121687287754934, 'lmbda': 0.47997717237505744}\n",
      "{'alpha': 2, 'beta': 8, 'gamma': 3, 'lr': 0.017412429067220004, 'epsilon': 0.368241539840548, 'lmbda': 0.9571551589530466}\n",
      "{'alpha': 1, 'beta': 8, 'gamma': 4, 'lr': 0.10105405843110161, 'epsilon': 0.5204774795512049, 'lmbda': 0.6788795301189604}\n",
      "{'alpha': 4, 'beta': 5, 'gamma': 4, 'lr': 0.06209807272272614, 'epsilon': 0.10590760718779216, 'lmbda': 0.47360041934665753}\n",
      "{'alpha': 1, 'beta': 7, 'gamma': 2, 'lr': 4.743412208473003e-05, 'epsilon': 0.32414100779321414, 'lmbda': 0.1496748671836832}\n",
      "{'alpha': 1, 'beta': 3, 'gamma': 7, 'lr': 0.001777255838269662, 'epsilon': 0.6130634578841325, 'lmbda': 0.9023485831739845}\n",
      "{'alpha': 0, 'beta': 10, 'gamma': 5, 'lr': 7.153983360412324e-05, 'epsilon': 0.35815216696952507, 'lmbda': 0.7506861412184564}\n",
      "{'alpha': 3, 'beta': 2, 'gamma': 0, 'lr': 0.014837826542888396, 'epsilon': 0.9589492686245206, 'lmbda': 0.652790317005491}\n",
      "{'alpha': 3, 'beta': 10, 'gamma': 5, 'lr': 0.0011798938600090507, 'epsilon': 0.474697502288413, 'lmbda': 0.6235101011318683}\n",
      "{'alpha': 5, 'beta': 10, 'gamma': 8, 'lr': 1.0, 'epsilon': 1.0, 'lmbda': 1.0}\n",
      "{'alpha': 5, 'beta': 10, 'gamma': 8, 'lr': 1e-05, 'epsilon': 1.0, 'lmbda': 1.0}\n",
      "{'alpha': 5, 'beta': 10, 'gamma': 8, 'lr': 1.0, 'epsilon': 0.0, 'lmbda': 1.0}\n",
      "{'alpha': 5, 'beta': 10, 'gamma': 8, 'lr': 0.22327879597655734, 'epsilon': 0.2821923728025935, 'lmbda': 0.10980934210512752}\n",
      "{'alpha': 5, 'beta': 10, 'gamma': 8, 'lr': 1.0, 'epsilon': 1.0, 'lmbda': 1.0}\n",
      "Best score: -26.0\n"
     ]
    },
    {
     "name": "stderr",
     "output_type": "stream",
     "text": [
      "/home/till/.local/lib/python3.10/site-packages/skopt/optimizer/optimizer.py:449: UserWarning: The objective has been evaluated at this point before.\n",
      "  warnings.warn(\"The objective has been evaluated \"\n"
     ]
    }
   ],
   "source": [
    "from skopt import gp_minimize\n",
    "gp_result = gp_minimize(\n",
    "    objective, \n",
    "    space, \n",
    "    n_calls=15, \n",
    "    random_state=0)\n",
    "\n",
    "print(\"Best score:\", gp_result.fun)"
   ]
  },
  {
   "cell_type": "code",
   "execution_count": 7,
   "id": "eb6e8efd",
   "metadata": {},
   "outputs": [
    {
     "data": {
      "text/plain": [
       "<AxesSubplot:title={'center':'Convergence plot'}, xlabel='Number of calls $n$', ylabel='$\\\\min f(x)$ after $n$ calls'>"
      ]
     },
     "execution_count": 7,
     "metadata": {},
     "output_type": "execute_result"
    },
    {
     "data": {
      "image/png": "[encoded data removed]",
      "text/plain": [
       "<Figure size 640x480 with 1 Axes>"
      ]
     },
     "metadata": {},
     "output_type": "display_data"
    }
   ],
   "source": [
    "from skopt.plots import plot_convergence\n",
    "\n",
    "plot_convergence(gp_result)"
   ]
  },
  {
   "cell_type": "code",
   "execution_count": null,
   "id": "e2136250",
   "metadata": {},
   "outputs": [],
   "source": []
  },
  {
   "cell_type": "code",
   "execution_count": null,
   "id": "802cad1d",
   "metadata": {},
   "outputs": [],
   "source": []
  },
  {
   "cell_type": "code",
   "execution_count": null,
   "id": "eb25d89b",
   "metadata": {},
   "outputs": [],
   "source": []
  },
  {
   "cell_type": "code",
   "execution_count": null,
   "id": "b6b81e4f",
   "metadata": {},
   "outputs": [],
   "source": [
    "# # Example from the docs\n",
    "# # https://scikit-optimize.github.io/stable/auto_examples/hyperparameter-optimization.html#sphx-glr-auto-examples-hyperparameter-optimization-py\n",
    "# \n",
    "# from sklearn.datasets import load_boston\n",
    "# from sklearn.ensemble import GradientBoostingRegressor\n",
    "# from sklearn.model_selection import cross_val_score\n",
    "# \n",
    "# boston = load_boston()\n",
    "# X, y = boston.data, boston.target\n",
    "# n_features = X.shape[1]\n",
    "# \n",
    "# # gradient boosted trees tend to do well on problems like this\n",
    "# reg = GradientBoostingRegressor(n_estimators=50, random_state=0)\n",
    "# \n",
    "# \n",
    "# \n",
    "# \n",
    "# from skopt.space import Real, Integer\n",
    "# from skopt.utils import use_named_args\n",
    "# \n",
    "# # hint: Integer ranges are inclusive here.\n",
    "# \n",
    "# # The list of hyper-parameters we want to optimize. For each one we define the\n",
    "# # bounds, the corresponding scikit-learn parameter name, as well as how to\n",
    "# # sample values from that dimension (`'log-uniform'` for the learning rate)\n",
    "# \n",
    "# space  = [\n",
    "#     Integer(1, 5, name='max_depth'),\n",
    "#     Real(10**-5, 10**0, \"log-uniform\", name='learning_rate'),\n",
    "#     Integer(1, 5, name='max_features'),\n",
    "#     Integer(2, 100, name='min_samples_split'),\n",
    "#     Integer(1, 100, name='min_samples_leaf')\n",
    "# ]\n",
    "# \n",
    "# # this decorator allows your objective function to receive a the parameters as\n",
    "# # keyword arguments. This is particularly convenient when you want to set\n",
    "# # scikit-learn estimator parameters\n",
    "# @use_named_args(space)\n",
    "# def objective(**params):\n",
    "#     reg.set_params(**params)\n",
    "# \n",
    "#     return -np.mean(cross_val_score(reg, X, y, cv=5, n_jobs=-1,\n",
    "#                                     scoring=\"neg_mean_absolute_error\"))"
   ]
  },
  {
   "cell_type": "code",
   "execution_count": null,
   "id": "8bbfabf3",
   "metadata": {},
   "outputs": [],
   "source": []
  }
 ],
 "metadata": {
  "kernelspec": {
   "display_name": "Python 3 (ipykernel)",
   "language": "python",
   "name": "python3"
  },
  "language_info": {
   "codemirror_mode": {
    "name": "ipython",
    "version": 3
   },
   "file_extension": ".py",
   "mimetype": "text/x-python",
   "name": "python",
   "nbconvert_exporter": "python",
   "pygments_lexer": "ipython3",
   "version": "3.10.4"
  }
 },
 "nbformat": 4,
 "nbformat_minor": 5
}
