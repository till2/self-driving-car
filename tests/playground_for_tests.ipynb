{
 "cells": [
  {
   "cell_type": "code",
   "execution_count": 4,
   "id": "6196a65f",
   "metadata": {},
   "outputs": [],
   "source": [
    "import unittest"
   ]
  },
  {
   "cell_type": "code",
   "execution_count": 5,
   "id": "a6a3171a",
   "metadata": {},
   "outputs": [],
   "source": [
    "import sys\n",
    "sys.path.append(\"/home/till/Desktop/GitHub/self-driving-car/\")\n",
    "sys.path.append(\"/home/till/Desktop/GitHub/self-driving-car/src\")"
   ]
  },
  {
   "cell_type": "code",
   "execution_count": 6,
   "id": "65811782",
   "metadata": {
    "scrolled": false
   },
   "outputs": [],
   "source": [
    "from __future__ import annotations\n",
    "from typing import Dict, List, Union\n",
    "\n",
    "import logging\n",
    "import os\n",
    "import random\n",
    "import sys\n",
    "from collections import deque\n",
    "from operator import itemgetter\n",
    "\n",
    "import gym_donkeycar\n",
    "import gymnasium as gym\n",
    "import imageio\n",
    "import ipywidgets as widgets\n",
    "import numpy as np\n",
    "import pandas as pd\n",
    "import torch\n",
    "import torch.nn as nn\n",
    "import torch.nn.functional as F\n",
    "import torch.optim as optim\n",
    "import torchvision\n",
    "from IPython.display import display\n",
    "from ipywidgets import HBox, VBox\n",
    "from matplotlib import pyplot as plt\n",
    "from PIL import Image\n",
    "from ruamel.yaml import YAML\n",
    "from scipy.ndimage import gaussian_filter1d\n",
    "from scipy.stats import norm\n",
    "from tensorboard import notebook\n",
    "from tensorboard.backend.event_processing.event_accumulator import \\\n",
    "    EventAccumulator\n",
    "from torch import distributions as dist\n",
    "from torch.distributions import Categorical, Normal\n",
    "from torch.utils.tensorboard import SummaryWriter\n",
    "from torchvision import transforms\n",
    "from tqdm import tqdm\n",
    "\n",
    "import gymnasium as gym\n",
    "\n",
    "# suppress warnings\n",
    "import warnings\n",
    "warnings.filterwarnings(\"ignore\", category=UserWarning, module=\"gymnasium.spaces.box\") # module=\"gymnasium\"\n",
    "os.environ['TF_CPP_MIN_LOG_LEVEL'] = '2'\n",
    "os.environ[\"IMAGEIO_IGNORE_WARNINGS\"] = \"True\"\n",
    "\n",
    "import stable_baselines3 as sb3\n",
    "from gym_donkeycar.envs.donkey_env import DonkeyEnv\n",
    "from gymnasium import spaces\n",
    "from gymnasium.spaces import Box\n",
    "from stable_baselines3 import A2C, PPO, SAC\n",
    "from stable_baselines3.common import env_checker\n",
    "from stable_baselines3.common.callbacks import EvalCallback\n",
    "from stable_baselines3.common.env_util import make_vec_env\n",
    "from stable_baselines3.common.evaluation import evaluate_policy\n",
    "from stable_baselines3.common.monitor import Monitor\n",
    "from stable_baselines3.common.results_plotter import load_results, ts2xy\n",
    "from stable_baselines3.common.vec_env import DummyVecEnv, SubprocVecEnv\n",
    "\n",
    "import src\n",
    "from src.actor_critic_discrete import DiscreteActorCritic\n",
    "from src.actor_critic_dreamer import ActorCriticDreamer\n",
    "from src.actor_critic import ContinuousActorCritic\n",
    "from src.blocks import CategoricalStraightThrough, ConvBlock\n",
    "from src.categorical_vae import CategoricalVAE\n",
    "from src.imagination_env import make_imagination_env\n",
    "from src.mlp import MLP\n",
    "from src.preprocessing import transform\n",
    "from src.replay_buffer import ReplayBuffer\n",
    "from src.rssm import RSSM\n",
    "from src.utils import (load_config, make_env, save_image_and_reconstruction,\n",
    "                       to_np, symlog, symexp, twohot_encode, ExponentialMovingAvg,\n",
    "                       ActionExponentialMovingAvg, MetricsTracker)\n",
    "from src.vae import VAE\n",
    "\n",
    "torch.cuda.empty_cache()\n",
    "%matplotlib inline\n",
    "%load_ext autoreload\n",
    "%autoreload 2\n",
    "\n",
    "# Load the config\n",
    "config = load_config()\n",
    "for key in config:\n",
    "    locals()[key] = config[key]"
   ]
  },
  {
   "cell_type": "code",
   "execution_count": 27,
   "id": "61df226d",
   "metadata": {},
   "outputs": [],
   "source": [
    "class TestAddition(unittest.TestCase):\n",
    "    \n",
    "    def addition(self,x,y):\n",
    "        return x+y\n",
    "    \n",
    "    def test_addition(self):\n",
    "        self.assertEqual(self.addition(1,2), 3)"
   ]
  },
  {
   "cell_type": "code",
   "execution_count": 19,
   "id": "b47d5c8c",
   "metadata": {},
   "outputs": [
    {
     "name": "stdout",
     "output_type": "stream",
     "text": [
      "hi\n"
     ]
    }
   ],
   "source": [
    "# if __name__ == \"__main__\":\n",
    "#     unittest.main()"
   ]
  },
  {
   "cell_type": "code",
   "execution_count": null,
   "id": "e8c671f5",
   "metadata": {},
   "outputs": [],
   "source": []
  },
  {
   "cell_type": "code",
   "execution_count": 30,
   "id": "fa5236b7",
   "metadata": {},
   "outputs": [
    {
     "name": "stdout",
     "output_type": "stream",
     "text": [
      "Initializing critic.\n",
      "Adding zero weight init to the output layer.\n",
      "\n",
      "Initializing actor.\n"
     ]
    }
   ],
   "source": [
    "agent = src.actor_critic_discrete.DiscreteActorCritic()"
   ]
  },
  {
   "cell_type": "code",
   "execution_count": 31,
   "id": "9738fad6",
   "metadata": {},
   "outputs": [
    {
     "data": {
      "text/plain": [
       "MLP(\n",
       "  (layers): Sequential(\n",
       "    (layer_0): Sequential(\n",
       "      (0): Linear(in_features=1536, out_features=256, bias=True)\n",
       "      (1): LayerNorm((256,), eps=1e-05, elementwise_affine=True)\n",
       "      (2): SiLU(inplace=True)\n",
       "    )\n",
       "    (layer_1): Sequential(\n",
       "      (0): Linear(in_features=256, out_features=256, bias=True)\n",
       "      (1): LayerNorm((256,), eps=1e-05, elementwise_affine=True)\n",
       "      (2): SiLU(inplace=True)\n",
       "    )\n",
       "    (layer_2): Sequential(\n",
       "      (0): Linear(in_features=256, out_features=255, bias=True)\n",
       "      (2): Softmax(dim=-1)\n",
       "    )\n",
       "  )\n",
       ")"
      ]
     },
     "execution_count": 31,
     "metadata": {},
     "output_type": "execute_result"
    }
   ],
   "source": [
    "agent.critic"
   ]
  },
  {
   "cell_type": "code",
   "execution_count": 45,
   "id": "47e69df8",
   "metadata": {},
   "outputs": [],
   "source": [
    "sample_input = torch.randn(config[\"H\"] + config[\"Z\"]).to(config[\"device\"]) # torch.Size([1536])"
   ]
  },
  {
   "cell_type": "code",
   "execution_count": 47,
   "id": "c76a5214",
   "metadata": {},
   "outputs": [],
   "source": [
    "value_pred, critic_dist = agent.apply_critic(sample_input)"
   ]
  },
  {
   "cell_type": "code",
   "execution_count": 50,
   "id": "0fd4d783",
   "metadata": {},
   "outputs": [
    {
     "data": {
      "text/plain": [
       "0"
      ]
     },
     "execution_count": 50,
     "metadata": {},
     "output_type": "execute_result"
    }
   ],
   "source": [
    "len(value_pred.shape)"
   ]
  },
  {
   "cell_type": "code",
   "execution_count": 57,
   "id": "3285da58",
   "metadata": {},
   "outputs": [
    {
     "data": {
      "text/plain": [
       "torch.Size([255])"
      ]
     },
     "execution_count": 57,
     "metadata": {},
     "output_type": "execute_result"
    }
   ],
   "source": [
    "critic_dist.shape"
   ]
  },
  {
   "cell_type": "code",
   "execution_count": 59,
   "id": "3658f523",
   "metadata": {},
   "outputs": [
    {
     "data": {
      "text/plain": [
       "255"
      ]
     },
     "execution_count": 59,
     "metadata": {},
     "output_type": "execute_result"
    }
   ],
   "source": [
    "config[\"num_buckets\"]"
   ]
  },
  {
   "cell_type": "code",
   "execution_count": 63,
   "id": "d5709a42",
   "metadata": {},
   "outputs": [
    {
     "data": {
      "text/plain": [
       "torch.Size([255])"
      ]
     },
     "execution_count": 63,
     "metadata": {},
     "output_type": "execute_result"
    }
   ],
   "source": [
    "torch.Size([config[\"num_buckets\"]])"
   ]
  },
  {
   "cell_type": "code",
   "execution_count": null,
   "id": "be5995cb",
   "metadata": {},
   "outputs": [],
   "source": []
  },
  {
   "cell_type": "code",
   "execution_count": 51,
   "id": "50f24e35",
   "metadata": {},
   "outputs": [
    {
     "name": "stdout",
     "output_type": "stream",
     "text": [
      "Initializing critic.\n",
      "Adding zero weight init to the output layer.\n",
      "\n",
      "Initializing actor.\n"
     ]
    }
   ],
   "source": [
    "class TestDiscreteActorCritic(unittest.TestCase):\n",
    "    \n",
    "    agent = src.actor_critic_discrete.DiscreteActorCritic()\n",
    "    \n",
    "    # test if the critic softmax sums to 1\n",
    "    # test the critic output shape \n",
    "    # => for a single instance\n",
    "    # => for a batch\n",
    "    def test_critic(self):\n",
    "        \n",
    "        sample_input = torch.randn(config[\"H\"] + config[\"Z\"]).to(config[\"device\"]) # torch.Size([1536])\n",
    "        value_pred, critic_dist = agent.apply_critic(sample_input)\n",
    "        \n",
    "        # value_pred should be a scalar without shape\n",
    "        self.assertEqual(len(value_pred.shape), 0)"
   ]
  },
  {
   "cell_type": "code",
   "execution_count": 65,
   "id": "fdf127f8",
   "metadata": {},
   "outputs": [
    {
     "data": {
      "text/plain": [
       "torch.Size([32, 1536])"
      ]
     },
     "execution_count": 65,
     "metadata": {},
     "output_type": "execute_result"
    }
   ],
   "source": [
    "sample_batch = torch.randn(32, config[\"H\"] + config[\"Z\"]).to(config[\"device\"])\n",
    "sample_batch.shape"
   ]
  },
  {
   "cell_type": "code",
   "execution_count": 67,
   "id": "899c4979",
   "metadata": {},
   "outputs": [],
   "source": [
    "value_pred, critic_dist = agent.apply_critic(sample_batch)"
   ]
  },
  {
   "cell_type": "code",
   "execution_count": 72,
   "id": "27d5201c",
   "metadata": {},
   "outputs": [
    {
     "data": {
      "text/plain": [
       "tensor([1., 1., 1., 1., 1., 1., 1., 1., 1., 1., 1., 1., 1., 1., 1., 1., 1., 1.,\n",
       "        1., 1., 1., 1., 1., 1., 1., 1., 1., 1., 1., 1., 1., 1.],\n",
       "       device='cuda:0', grad_fn=<SumBackward1>)"
      ]
     },
     "execution_count": 72,
     "metadata": {},
     "output_type": "execute_result"
    }
   ],
   "source": [
    "torch.sum(critic_dist, dim=-1)"
   ]
  },
  {
   "cell_type": "code",
   "execution_count": null,
   "id": "8e19453b",
   "metadata": {},
   "outputs": [],
   "source": []
  },
  {
   "cell_type": "code",
   "execution_count": null,
   "id": "a9dd8cb4",
   "metadata": {},
   "outputs": [],
   "source": []
  },
  {
   "cell_type": "code",
   "execution_count": 8,
   "id": "3b202f5f",
   "metadata": {},
   "outputs": [
    {
     "name": "stdout",
     "output_type": "stream",
     "text": [
      "Initializing encoder:\n",
      "- adding ConvBlock((3, 64))                   ==> output shape: (64, 32, 32) ==> prod: 65536\n",
      "- adding ConvBlock((64, 128))                   ==> output shape: (128, 16, 16) ==> prod: 32768\n",
      "- adding ConvBlock((128, 256))                   ==> output shape: (256, 8, 8) ==> prod: 16384\n",
      "- adding ConvBlock((256, 512))                   ==> output shape: (512, 4, 4) ==> prod: 8192\n",
      "- adding ConvBlock((512, 256))                   ==> output shape: (256, 2, 2) ==> prod: 1024\n",
      "- adding Flatten()\n",
      "- adding Reshape: (*,1024) => (*,32,32)\n",
      "\n",
      "Initializing decoder:\n",
      "- adding Reshape: (*,1024) => (*,256,2,2)\n",
      "- adding transpose ConvBlock(256, 256)                   ==> output shape: (256, 4, 4) ==> prod: 4096\n",
      "- adding transpose ConvBlock(256, 512)                   ==> output shape: (512, 8, 8) ==> prod: 32768\n",
      "- adding transpose ConvBlock(512, 256)                   ==> output shape: (256, 16, 16) ==> prod: 65536\n",
      "- adding transpose ConvBlock(256, 128)                   ==> output shape: (128, 32, 32) ==> prod: 131072\n",
      "- adding transpose ConvBlock(128, 3)                   ==> output shape: (3, 64, 64) ==> prod: 12288\n",
      "\n",
      "Initializing dynamics_mlp.\n",
      "\n",
      "Initializing reward_mlp.\n",
      "Adding zero weight init to the output layer.\n",
      "\n",
      "Initializing continue_mlp.\n"
     ]
    }
   ],
   "source": [
    "rssm = RSSM().to(device)"
   ]
  },
  {
   "cell_type": "code",
   "execution_count": 21,
   "id": "1990c6e7",
   "metadata": {},
   "outputs": [
    {
     "data": {
      "text/plain": [
       "(tensor([[ 1.0907e-01,  3.7030e-01,  8.2652e-02,  1.4333e-01,  5.7968e-02,\n",
       "           5.5485e-01, -2.6533e-01, -1.6376e+00,  1.7660e-01,  2.8212e-01,\n",
       "          -4.4095e-01,  4.1365e-01,  3.2652e-01,  7.4823e-01,  8.1275e-01,\n",
       "           3.7246e-01, -5.4447e-01,  8.5899e-02,  5.5583e-02,  1.1376e+00,\n",
       "          -7.5834e-01,  2.5150e-01,  9.1271e-01,  1.2435e+00,  6.6928e-01,\n",
       "           6.1936e-01,  2.4938e-01,  8.5445e-01,  3.3247e-01, -6.8071e-02,\n",
       "           2.1838e-01,  7.0267e-01,  1.2314e+00,  1.3962e-01,  5.0053e-01,\n",
       "          -3.3483e-01,  4.7302e-01,  8.1347e-01,  7.1268e-01,  8.0030e-01,\n",
       "          -2.0715e-01,  8.8734e-01, -1.0655e+00, -6.5527e-01,  2.3202e-01,\n",
       "           2.7707e-01,  1.0166e+00,  1.7675e+00,  8.7402e-01, -3.1712e-01,\n",
       "          -3.5289e-01, -5.2366e-01, -1.0398e-01,  1.9573e-02,  8.4406e-02,\n",
       "           4.0108e-01,  7.7255e-01, -6.4351e-01, -1.0140e-01,  4.9053e-01,\n",
       "          -8.2503e-02,  3.4494e-01, -3.5788e-02, -7.9148e-02,  7.5272e-01,\n",
       "           4.1834e-01,  9.2940e-01,  3.0451e-01, -1.2009e+00, -3.2090e-01,\n",
       "          -3.5039e-01, -4.7967e-01,  3.7379e-01,  1.0224e+00, -2.2118e-01,\n",
       "          -8.8494e-01,  7.3232e-01, -1.1166e+00,  1.0536e+00, -5.6128e-01,\n",
       "          -3.0107e-01,  1.2772e+00,  6.8775e-01, -1.6048e+00, -1.8676e-01,\n",
       "          -5.3621e-02, -1.7687e-01,  5.9286e-01, -4.6743e-03, -4.1109e-01,\n",
       "          -3.3979e-01,  7.8542e-02,  4.9477e-01, -7.3244e-01,  1.5721e-01,\n",
       "          -2.8459e-01, -5.6799e-02,  4.0595e-01, -4.9901e-01,  6.4462e-01,\n",
       "          -3.7729e-01,  9.2115e-01, -8.3035e-01, -3.2476e-01,  9.7619e-01,\n",
       "          -4.4748e-01, -3.4418e-01, -3.6780e-01,  7.1108e-02,  2.0884e-01,\n",
       "           3.8540e-01,  9.5054e-01,  3.3205e-01, -3.6603e-01,  5.0818e-01,\n",
       "          -5.0289e-01,  6.1056e-01,  1.2880e+00, -7.6150e-01, -1.5485e-02,\n",
       "           5.9952e-01,  2.7011e-01, -6.1761e-01,  7.3286e-01,  4.0552e-01,\n",
       "          -5.2205e-01,  8.5715e-01, -2.9418e-01, -6.8952e-01, -5.4780e-01,\n",
       "          -1.2812e+00,  4.1856e-01,  3.6005e-01, -1.0191e+00, -1.2984e+00,\n",
       "          -1.5270e+00,  5.8398e-01,  2.5212e-01, -1.0878e+00, -1.4513e-01,\n",
       "           2.5290e-01,  2.3630e-01,  1.9128e-01, -4.3706e-01,  1.2883e+00,\n",
       "           7.1628e-01,  3.9711e-01, -8.3302e-01, -7.0983e-01, -1.5048e-01,\n",
       "          -6.2574e-01,  1.2595e-01, -3.7607e-01,  1.8838e-01, -4.6723e-01,\n",
       "          -1.8124e-01,  8.8118e-01,  1.0718e+00, -5.5979e-01,  9.5479e-01,\n",
       "           9.8886e-01,  9.6761e-01, -2.4124e-01,  1.1296e+00,  1.0832e+00,\n",
       "           7.2780e-01,  3.5036e-01, -3.4369e-01,  2.7937e-01, -8.6016e-01,\n",
       "           8.4691e-02, -3.8874e-01,  7.3387e-01, -9.2335e-01, -1.4362e-03,\n",
       "          -1.3408e+00, -8.5397e-01,  6.9261e-01, -1.0618e+00,  3.4499e-02,\n",
       "           5.0421e-01, -1.2316e-01,  5.6065e-01,  5.6327e-02,  3.7047e-01,\n",
       "          -1.3261e+00,  7.3490e-01,  7.1545e-01, -3.2654e-01,  1.8280e-01,\n",
       "          -4.5499e-01,  1.5010e-01, -1.2448e-01,  2.7631e-01, -4.3833e-01,\n",
       "          -2.3154e-01, -1.2226e+00, -8.6139e-02,  3.9328e-01,  2.9855e-01,\n",
       "           3.5128e-01, -1.3923e+00, -9.4797e-01, -2.6223e-02,  6.7497e-01,\n",
       "          -4.9535e-02,  4.6605e-01,  1.4262e-01,  2.9227e-01, -2.2743e-01,\n",
       "           1.9150e-04,  1.4598e-01, -9.2089e-01,  2.8320e-01, -3.5514e-01,\n",
       "          -8.7547e-01,  7.5302e-01,  1.8371e-01,  5.7083e-01,  2.8343e-01,\n",
       "          -5.4094e-01, -5.8091e-01,  6.2378e-01, -4.4139e-02, -8.6507e-01,\n",
       "          -8.3170e-01,  9.6975e-01,  1.3365e-01,  6.9824e-01,  9.3598e-01,\n",
       "          -6.6004e-01,  2.9220e-01, -6.1109e-01,  7.3159e-01, -4.9153e-01,\n",
       "          -6.6599e-01, -8.8735e-03, -4.1472e-01, -2.8945e-01, -2.1380e-01,\n",
       "           1.3553e-02,  1.1852e-01, -1.1516e+00, -3.3608e-01, -3.2185e-01,\n",
       "          -4.9915e-01, -1.0945e+00,  9.8925e-01,  5.7175e-01, -4.7547e-01,\n",
       "           1.0063e+00, -5.9028e-01, -5.2008e-01,  1.0301e+00, -2.2276e-02,\n",
       "           2.9789e-01, -4.5171e-01,  1.1931e-01, -4.6296e-01,  7.9955e-01,\n",
       "          -1.7742e-01, -3.4745e-01, -3.7113e-02, -2.8031e-01,  3.3478e-01,\n",
       "          -5.2212e-02,  9.7323e-01, -1.1006e-01, -8.6155e-01, -1.1360e+00,\n",
       "          -3.1633e-01,  2.5399e-01, -1.8901e-02, -8.1395e-01,  9.4854e-01,\n",
       "          -2.6555e-02, -9.7273e-01,  1.1991e+00, -5.2452e-01, -1.2476e-01,\n",
       "           4.3173e-01,  5.5977e-01,  1.1875e+00, -1.6316e-03,  1.9789e+00,\n",
       "           5.5507e-01, -1.3061e+00,  4.8481e-01, -6.0751e-01,  1.8274e-01,\n",
       "          -8.8863e-01, -1.2493e-01, -1.4648e+00,  2.2021e-01, -9.5005e-01,\n",
       "           7.4001e-01,  5.1315e-02,  1.0582e+00, -1.4131e-01, -7.5998e-02,\n",
       "           7.5228e-02,  6.8554e-01,  2.9573e-01,  2.6678e-01, -8.3430e-01,\n",
       "           7.5189e-01,  1.7188e+00,  4.2749e-01,  2.5217e-01, -2.0656e-01,\n",
       "          -5.8985e-02, -2.9016e-01,  2.1665e-01, -9.4612e-01, -1.5295e-01,\n",
       "          -8.5133e-02,  1.3395e-01,  9.8008e-01,  4.9584e-01, -2.0212e+00,\n",
       "          -2.6535e-01,  7.9735e-01, -4.7611e-01, -5.9620e-01,  1.0457e-01,\n",
       "          -3.1734e-01,  7.4477e-01, -1.2258e+00,  5.1025e-01,  8.0015e-01,\n",
       "           2.7686e-01, -3.4057e-01, -1.3886e+00, -3.9334e-01, -7.4742e-01,\n",
       "          -1.6068e-01,  6.5837e-01,  4.3885e-01,  2.1577e-01, -1.9244e-01,\n",
       "          -7.4782e-02,  5.5855e-01,  5.2360e-01,  3.2008e-01, -6.2522e-02,\n",
       "          -8.3295e-01,  1.9123e-02, -6.7420e-01,  4.6305e-01,  7.4379e-01,\n",
       "          -1.1272e+00, -8.4420e-01, -3.6394e-01,  3.2587e-02, -2.3553e-01,\n",
       "          -3.4760e-01, -2.6350e-01, -4.4252e-02, -2.9662e-01, -5.7516e-01,\n",
       "           4.0132e-01,  5.5222e-01,  3.3693e-01,  5.3935e-01, -7.3719e-01,\n",
       "           4.8603e-01,  6.9095e-01,  4.1453e-01,  1.3828e+00, -2.1862e-01,\n",
       "           2.5277e-01,  1.2725e-01, -5.7064e-01,  3.5608e-01,  1.0477e+00,\n",
       "           2.7789e-01,  3.8909e-01, -6.9228e-01,  2.8851e-01, -6.8314e-01,\n",
       "          -1.0126e+00, -2.1308e-01,  4.8604e-01, -5.2096e-01, -6.2778e-01,\n",
       "           9.6430e-01, -4.1138e-01,  3.5654e-01, -1.1249e+00,  1.0729e+00,\n",
       "           5.1244e-01,  6.7435e-01, -1.1704e+00,  1.1820e+00,  2.6150e-01,\n",
       "          -4.0703e-01,  2.3385e-01,  1.1999e+00,  1.8277e-02,  1.1582e+00,\n",
       "          -1.2053e+00, -9.9491e-01,  1.2505e-01, -2.1794e-01, -7.0723e-01,\n",
       "          -8.3595e-01,  5.0032e-02, -4.1563e-01, -2.4707e-01, -1.2081e+00,\n",
       "           4.6764e-01, -4.0964e-01, -1.1926e-01,  6.6477e-01,  5.3656e-01,\n",
       "           2.0065e-01, -7.0869e-01, -1.3398e+00, -1.3967e+00,  6.7664e-01,\n",
       "          -2.3307e-01, -2.7516e-01, -4.3352e-02, -3.7133e-01, -8.1747e-02,\n",
       "           1.1135e-01,  1.9517e-01,  8.9260e-01, -4.8541e-01,  3.0897e-01,\n",
       "          -1.9055e-01, -2.8151e-02,  3.9813e-01, -8.6057e-01, -1.0130e-01,\n",
       "           1.3187e+00,  6.9747e-02,  1.8221e-03, -2.0000e-01,  8.8388e-01,\n",
       "          -6.8199e-01, -1.5642e+00,  4.6010e-01, -4.7670e-01, -3.0787e-01,\n",
       "          -8.1099e-01, -8.4521e-01,  1.6319e-01, -1.3171e-01, -3.7565e-01,\n",
       "           9.1978e-01, -1.3401e-01, -4.5537e-01,  7.8158e-01, -9.9632e-01,\n",
       "           8.2250e-03, -5.7365e-01,  1.0529e+00, -3.0024e-01,  3.3278e-01,\n",
       "           1.0970e-01,  7.8460e-01, -1.4215e-01, -7.8040e-01, -3.3346e-01,\n",
       "           1.0652e+00,  6.3877e-01,  5.4712e-01, -8.7716e-01,  9.0705e-01,\n",
       "           6.1715e-02, -5.8179e-01, -2.2716e-01, -1.0777e+00,  1.5091e+00,\n",
       "          -5.9173e-01, -2.0145e-01, -1.1248e+00,  4.1813e-01, -6.5198e-02,\n",
       "          -6.2786e-01,  3.4838e-01,  6.0667e-01,  5.9673e-02, -4.1397e-01,\n",
       "           8.6697e-01,  6.1658e-01, -2.0453e-01,  3.5521e-01,  5.8330e-02,\n",
       "           1.5194e-01,  4.8814e-01, -4.9824e-01,  1.0106e+00,  1.4476e-01,\n",
       "           3.9969e-02, -1.8881e+00,  3.1907e-01,  2.4536e-01, -9.8887e-01,\n",
       "          -5.3617e-01, -2.4650e-01,  6.5493e-02,  1.1085e+00, -2.4330e-01,\n",
       "           1.5677e-01,  6.2665e-03, -2.5594e-01,  9.1155e-01, -1.7788e-01,\n",
       "          -5.2380e-01,  8.8005e-01]], device='cuda:0',\n",
       "        grad_fn=<SqueezeBackward1>),\n",
       " tensor([[0.0387]], device='cuda:0', grad_fn=<AddmmBackward0>),\n",
       " tensor([[0.5706]], device='cuda:0', grad_fn=<SigmoidBackward0>),\n",
       " tensor([[1.]], device='cuda:0', grad_fn=<BernoulliBackward0>),\n",
       " tensor([[[[0.4714, 0.5164, 0.4891,  ..., 0.4666, 0.4876, 0.4724],\n",
       "           [0.4424, 0.7053, 0.6501,  ..., 0.4916, 0.4845, 0.4965],\n",
       "           [0.4916, 0.5276, 0.4758,  ..., 0.4988, 0.4934, 0.5060],\n",
       "           ...,\n",
       "           [0.4821, 0.5495, 0.4868,  ..., 0.4657, 0.4658, 0.4704],\n",
       "           [0.4844, 0.4929, 0.5048,  ..., 0.4789, 0.4799, 0.4790],\n",
       "           [0.4791, 0.5021, 0.4879,  ..., 0.4826, 0.4800, 0.4892]],\n",
       " \n",
       "          [[0.5129, 0.4752, 0.4616,  ..., 0.4832, 0.5001, 0.5049],\n",
       "           [0.4645, 0.4343, 0.4310,  ..., 0.4946, 0.4522, 0.4740],\n",
       "           [0.4819, 0.5837, 0.4313,  ..., 0.5758, 0.5019, 0.4755],\n",
       "           ...,\n",
       "           [0.4687, 0.4624, 0.4444,  ..., 0.4598, 0.4824, 0.4876],\n",
       "           [0.4789, 0.4697, 0.4699,  ..., 0.4943, 0.4781, 0.4912],\n",
       "           [0.4767, 0.4737, 0.5182,  ..., 0.4737, 0.4785, 0.4859]],\n",
       " \n",
       "          [[0.4766, 0.4767, 0.5546,  ..., 0.4947, 0.4929, 0.4732],\n",
       "           [0.5122, 0.6114, 0.4596,  ..., 0.4532, 0.5041, 0.4982],\n",
       "           [0.4536, 0.7073, 0.7540,  ..., 0.4928, 0.5389, 0.4501],\n",
       "           ...,\n",
       "           [0.5006, 0.4754, 0.5021,  ..., 0.4808, 0.4881, 0.4748],\n",
       "           [0.4898, 0.5344, 0.4862,  ..., 0.4716, 0.4879, 0.4821],\n",
       "           [0.4703, 0.4929, 0.5576,  ..., 0.4761, 0.4875, 0.4752]]]],\n",
       "        device='cuda:0', grad_fn=<SigmoidBackward0>))"
      ]
     },
     "execution_count": 21,
     "metadata": {},
     "output_type": "execute_result"
    }
   ],
   "source": [
    "action = torch.randn(config[\"A\"])\n",
    "h = torch.randn(config[\"H\"]).to(config[\"device\"]).unsqueeze(0)\n",
    "z = torch.randn(config[\"Z\"]).to(config[\"device\"]).unsqueeze(0)\n",
    "rssm.step(action, h, z)"
   ]
  },
  {
   "cell_type": "code",
   "execution_count": 19,
   "id": "12ee8ffe",
   "metadata": {},
   "outputs": [
    {
     "name": "stdout",
     "output_type": "stream",
     "text": [
      "action: torch.Size([3])\n",
      "h: torch.Size([512])\n",
      "z: torch.Size([1024])\n"
     ]
    }
   ],
   "source": [
    "print(\"action:\", action.shape)\n",
    "print(\"h:\", h.shape)\n",
    "print(\"z:\", z.shape)"
   ]
  },
  {
   "cell_type": "code",
   "execution_count": null,
   "id": "b1529eea",
   "metadata": {},
   "outputs": [],
   "source": []
  },
  {
   "cell_type": "code",
   "execution_count": null,
   "id": "d8beb420",
   "metadata": {},
   "outputs": [],
   "source": []
  }
 ],
 "metadata": {
  "kernelspec": {
   "display_name": "Python 3 (ipykernel)",
   "language": "python",
   "name": "python3"
  },
  "language_info": {
   "codemirror_mode": {
    "name": "ipython",
    "version": 3
   },
   "file_extension": ".py",
   "mimetype": "text/x-python",
   "name": "python",
   "nbconvert_exporter": "python",
   "pygments_lexer": "ipython3",
   "version": "3.10.4"
  }
 },
 "nbformat": 4,
 "nbformat_minor": 5
}
