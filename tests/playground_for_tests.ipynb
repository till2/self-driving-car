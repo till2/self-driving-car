{
 "cells": [
  {
   "cell_type": "code",
   "execution_count": 1,
   "id": "6196a65f",
   "metadata": {},
   "outputs": [],
   "source": [
    "import unittest"
   ]
  },
  {
   "cell_type": "code",
   "execution_count": 2,
   "id": "a6a3171a",
   "metadata": {},
   "outputs": [],
   "source": [
    "import sys\n",
    "sys.path.append(\"/home/till/Desktop/GitHub/self-driving-car/\")\n",
    "sys.path.append(\"/home/till/Desktop/GitHub/self-driving-car/src\")"
   ]
  },
  {
   "cell_type": "code",
   "execution_count": 3,
   "id": "65811782",
   "metadata": {
    "scrolled": false
   },
   "outputs": [],
   "source": [
    "from __future__ import annotations\n",
    "from typing import Dict, List, Union\n",
    "\n",
    "import logging\n",
    "import os\n",
    "import random\n",
    "import sys\n",
    "from collections import deque\n",
    "from operator import itemgetter\n",
    "\n",
    "import gym_donkeycar\n",
    "import gymnasium as gym\n",
    "import imageio\n",
    "import ipywidgets as widgets\n",
    "import numpy as np\n",
    "import pandas as pd\n",
    "import torch\n",
    "import torch.nn as nn\n",
    "import torch.nn.functional as F\n",
    "import torch.optim as optim\n",
    "import torchvision\n",
    "from IPython.display import display\n",
    "from ipywidgets import HBox, VBox\n",
    "from matplotlib import pyplot as plt\n",
    "from PIL import Image\n",
    "from ruamel.yaml import YAML\n",
    "from scipy.ndimage import gaussian_filter1d\n",
    "from scipy.stats import norm\n",
    "from tensorboard import notebook\n",
    "from tensorboard.backend.event_processing.event_accumulator import \\\n",
    "    EventAccumulator\n",
    "from torch import distributions as dist\n",
    "from torch.distributions import Categorical, Normal\n",
    "from torch.utils.tensorboard import SummaryWriter\n",
    "from torchvision import transforms\n",
    "from tqdm import tqdm\n",
    "\n",
    "import gymnasium as gym\n",
    "\n",
    "# suppress warnings\n",
    "import warnings\n",
    "warnings.filterwarnings(\"ignore\", category=UserWarning, module=\"gymnasium.spaces.box\") # module=\"gymnasium\"\n",
    "os.environ['TF_CPP_MIN_LOG_LEVEL'] = '2'\n",
    "os.environ[\"IMAGEIO_IGNORE_WARNINGS\"] = \"True\"\n",
    "\n",
    "import stable_baselines3 as sb3\n",
    "from gym_donkeycar.envs.donkey_env import DonkeyEnv\n",
    "from gymnasium import spaces\n",
    "from gymnasium.spaces import Box\n",
    "from stable_baselines3 import A2C, PPO, SAC\n",
    "from stable_baselines3.common import env_checker\n",
    "from stable_baselines3.common.callbacks import EvalCallback\n",
    "from stable_baselines3.common.env_util import make_vec_env\n",
    "from stable_baselines3.common.evaluation import evaluate_policy\n",
    "from stable_baselines3.common.monitor import Monitor\n",
    "from stable_baselines3.common.results_plotter import load_results, ts2xy\n",
    "from stable_baselines3.common.vec_env import DummyVecEnv, SubprocVecEnv\n",
    "\n",
    "import src\n",
    "from src.actor_critic_discrete import DiscreteActorCritic\n",
    "from src.actor_critic_dreamer import ActorCriticDreamer\n",
    "from src.actor_critic import ContinuousActorCritic\n",
    "from src.blocks import CategoricalStraightThrough, ConvBlock\n",
    "from src.categorical_vae import CategoricalVAE\n",
    "from src.imagination_env import make_imagination_env\n",
    "from src.mlp import MLP\n",
    "from src.preprocessing import transform\n",
    "from src.replay_buffer import ReplayBuffer\n",
    "from src.rssm import RSSM\n",
    "from src.utils import (load_config, make_env, save_image_and_reconstruction,\n",
    "                       to_np, symlog, symexp, twohot_encode, ExponentialMovingAvg,\n",
    "                       ActionExponentialMovingAvg, MetricsTracker)\n",
    "from src.vae import VAE\n",
    "\n",
    "torch.cuda.empty_cache()\n",
    "%matplotlib inline\n",
    "%load_ext autoreload\n",
    "%autoreload 2\n",
    "\n",
    "# Load the config\n",
    "config = load_config()\n",
    "for key in config:\n",
    "    locals()[key] = config[key]"
   ]
  },
  {
   "cell_type": "code",
   "execution_count": 27,
   "id": "61df226d",
   "metadata": {},
   "outputs": [],
   "source": [
    "class TestAddition(unittest.TestCase):\n",
    "    \n",
    "    def addition(self,x,y):\n",
    "        return x+y\n",
    "    \n",
    "    def test_addition(self):\n",
    "        self.assertEqual(self.addition(1,2), 3)"
   ]
  },
  {
   "cell_type": "code",
   "execution_count": 19,
   "id": "b47d5c8c",
   "metadata": {},
   "outputs": [
    {
     "name": "stdout",
     "output_type": "stream",
     "text": [
      "hi\n"
     ]
    }
   ],
   "source": [
    "# if __name__ == \"__main__\":\n",
    "#     unittest.main()"
   ]
  },
  {
   "cell_type": "code",
   "execution_count": null,
   "id": "e8c671f5",
   "metadata": {},
   "outputs": [],
   "source": []
  },
  {
   "cell_type": "code",
   "execution_count": 200,
   "id": "fa5236b7",
   "metadata": {},
   "outputs": [
    {
     "name": "stdout",
     "output_type": "stream",
     "text": [
      "Initializing critic.\n",
      "Adding zero weight init to the output layer.\n",
      "\n",
      "Initializing actor.\n"
     ]
    }
   ],
   "source": [
    "agent = src.actor_critic_discrete.DiscreteActorCritic()"
   ]
  },
  {
   "cell_type": "code",
   "execution_count": 31,
   "id": "9738fad6",
   "metadata": {},
   "outputs": [
    {
     "data": {
      "text/plain": [
       "MLP(\n",
       "  (layers): Sequential(\n",
       "    (layer_0): Sequential(\n",
       "      (0): Linear(in_features=1536, out_features=256, bias=True)\n",
       "      (1): LayerNorm((256,), eps=1e-05, elementwise_affine=True)\n",
       "      (2): SiLU(inplace=True)\n",
       "    )\n",
       "    (layer_1): Sequential(\n",
       "      (0): Linear(in_features=256, out_features=256, bias=True)\n",
       "      (1): LayerNorm((256,), eps=1e-05, elementwise_affine=True)\n",
       "      (2): SiLU(inplace=True)\n",
       "    )\n",
       "    (layer_2): Sequential(\n",
       "      (0): Linear(in_features=256, out_features=255, bias=True)\n",
       "      (2): Softmax(dim=-1)\n",
       "    )\n",
       "  )\n",
       ")"
      ]
     },
     "execution_count": 31,
     "metadata": {},
     "output_type": "execute_result"
    }
   ],
   "source": [
    "agent.critic"
   ]
  },
  {
   "cell_type": "code",
   "execution_count": 45,
   "id": "47e69df8",
   "metadata": {},
   "outputs": [],
   "source": [
    "sample_input = torch.randn(config[\"H\"] + config[\"Z\"]).to(config[\"device\"]) # torch.Size([1536])"
   ]
  },
  {
   "cell_type": "code",
   "execution_count": 47,
   "id": "c76a5214",
   "metadata": {},
   "outputs": [],
   "source": [
    "value_pred, critic_dist = agent.apply_critic(sample_input)"
   ]
  },
  {
   "cell_type": "code",
   "execution_count": 50,
   "id": "0fd4d783",
   "metadata": {},
   "outputs": [
    {
     "data": {
      "text/plain": [
       "0"
      ]
     },
     "execution_count": 50,
     "metadata": {},
     "output_type": "execute_result"
    }
   ],
   "source": [
    "len(value_pred.shape)"
   ]
  },
  {
   "cell_type": "code",
   "execution_count": 57,
   "id": "3285da58",
   "metadata": {},
   "outputs": [
    {
     "data": {
      "text/plain": [
       "torch.Size([255])"
      ]
     },
     "execution_count": 57,
     "metadata": {},
     "output_type": "execute_result"
    }
   ],
   "source": [
    "critic_dist.shape"
   ]
  },
  {
   "cell_type": "code",
   "execution_count": 59,
   "id": "3658f523",
   "metadata": {},
   "outputs": [
    {
     "data": {
      "text/plain": [
       "255"
      ]
     },
     "execution_count": 59,
     "metadata": {},
     "output_type": "execute_result"
    }
   ],
   "source": [
    "config[\"num_buckets\"]"
   ]
  },
  {
   "cell_type": "code",
   "execution_count": 63,
   "id": "d5709a42",
   "metadata": {},
   "outputs": [
    {
     "data": {
      "text/plain": [
       "torch.Size([255])"
      ]
     },
     "execution_count": 63,
     "metadata": {},
     "output_type": "execute_result"
    }
   ],
   "source": [
    "torch.Size([config[\"num_buckets\"]])"
   ]
  },
  {
   "cell_type": "code",
   "execution_count": null,
   "id": "be5995cb",
   "metadata": {},
   "outputs": [],
   "source": []
  },
  {
   "cell_type": "code",
   "execution_count": 51,
   "id": "50f24e35",
   "metadata": {},
   "outputs": [
    {
     "name": "stdout",
     "output_type": "stream",
     "text": [
      "Initializing critic.\n",
      "Adding zero weight init to the output layer.\n",
      "\n",
      "Initializing actor.\n"
     ]
    }
   ],
   "source": [
    "class TestDiscreteActorCritic(unittest.TestCase):\n",
    "    \n",
    "    agent = src.actor_critic_discrete.DiscreteActorCritic()\n",
    "    \n",
    "    # test if the critic softmax sums to 1\n",
    "    # test the critic output shape \n",
    "    # => for a single instance\n",
    "    # => for a batch\n",
    "    def test_critic(self):\n",
    "        \n",
    "        sample_input = torch.randn(config[\"H\"] + config[\"Z\"]).to(config[\"device\"]) # torch.Size([1536])\n",
    "        value_pred, critic_dist = agent.apply_critic(sample_input)\n",
    "        \n",
    "        # value_pred should be a scalar without shape\n",
    "        self.assertEqual(len(value_pred.shape), 0)"
   ]
  },
  {
   "cell_type": "code",
   "execution_count": 65,
   "id": "fdf127f8",
   "metadata": {},
   "outputs": [
    {
     "data": {
      "text/plain": [
       "torch.Size([32, 1536])"
      ]
     },
     "execution_count": 65,
     "metadata": {},
     "output_type": "execute_result"
    }
   ],
   "source": [
    "sample_batch = torch.randn(32, config[\"H\"] + config[\"Z\"]).to(config[\"device\"])\n",
    "sample_batch.shape"
   ]
  },
  {
   "cell_type": "code",
   "execution_count": 67,
   "id": "899c4979",
   "metadata": {},
   "outputs": [],
   "source": [
    "value_pred, critic_dist = agent.apply_critic(sample_batch)"
   ]
  },
  {
   "cell_type": "code",
   "execution_count": 72,
   "id": "27d5201c",
   "metadata": {},
   "outputs": [
    {
     "data": {
      "text/plain": [
       "tensor([1., 1., 1., 1., 1., 1., 1., 1., 1., 1., 1., 1., 1., 1., 1., 1., 1., 1.,\n",
       "        1., 1., 1., 1., 1., 1., 1., 1., 1., 1., 1., 1., 1., 1.],\n",
       "       device='cuda:0', grad_fn=<SumBackward1>)"
      ]
     },
     "execution_count": 72,
     "metadata": {},
     "output_type": "execute_result"
    }
   ],
   "source": [
    "torch.sum(critic_dist, dim=-1)"
   ]
  },
  {
   "cell_type": "code",
   "execution_count": null,
   "id": "8e19453b",
   "metadata": {},
   "outputs": [],
   "source": []
  },
  {
   "cell_type": "code",
   "execution_count": null,
   "id": "a9dd8cb4",
   "metadata": {},
   "outputs": [],
   "source": []
  },
  {
   "cell_type": "code",
   "execution_count": 8,
   "id": "aa6ae687",
   "metadata": {},
   "outputs": [
    {
     "name": "stdout",
     "output_type": "stream",
     "text": [
      "Initializing encoder:\n",
      "- adding ConvBlock((3, 64))                   ==> output shape: (64, 32, 32) ==> prod: 65536\n",
      "- adding ConvBlock((64, 128))                   ==> output shape: (128, 16, 16) ==> prod: 32768\n",
      "- adding ConvBlock((128, 256))                   ==> output shape: (256, 8, 8) ==> prod: 16384\n",
      "- adding ConvBlock((256, 512))                   ==> output shape: (512, 4, 4) ==> prod: 8192\n",
      "- adding ConvBlock((512, 256))                   ==> output shape: (256, 2, 2) ==> prod: 1024\n",
      "- adding Flatten()\n",
      "- adding Reshape: (*,1024) => (*,32,32)\n",
      "\n",
      "Initializing decoder:\n",
      "- adding Reshape: (*,1024) => (*,256,2,2)\n",
      "- adding transpose ConvBlock(256, 256)                   ==> output shape: (256, 4, 4) ==> prod: 4096\n",
      "- adding transpose ConvBlock(256, 512)                   ==> output shape: (512, 8, 8) ==> prod: 32768\n",
      "- adding transpose ConvBlock(512, 256)                   ==> output shape: (256, 16, 16) ==> prod: 65536\n",
      "- adding transpose ConvBlock(256, 128)                   ==> output shape: (128, 32, 32) ==> prod: 131072\n",
      "- adding transpose ConvBlock(128, 3)                   ==> output shape: (3, 64, 64) ==> prod: 12288\n",
      "\n",
      "Initializing dynamics_mlp.\n",
      "\n",
      "Initializing reward_mlp.\n",
      "Adding zero weight init to the output layer.\n",
      "\n",
      "Initializing continue_mlp.\n"
     ]
    }
   ],
   "source": [
    "rssm = RSSM().to(device)"
   ]
  },
  {
   "cell_type": "code",
   "execution_count": 33,
   "id": "aaf1a95d",
   "metadata": {},
   "outputs": [
    {
     "ename": "NameError",
     "evalue": "name 'rssm' is not defined",
     "output_type": "error",
     "traceback": [
      "\u001b[0;31m---------------------------------------------------------------------------\u001b[0m",
      "\u001b[0;31mNameError\u001b[0m                                 Traceback (most recent call last)",
      "Cell \u001b[0;32mIn [33], line 4\u001b[0m\n\u001b[1;32m      2\u001b[0m h \u001b[38;5;241m=\u001b[39m torch\u001b[38;5;241m.\u001b[39mrandn(config[\u001b[38;5;124m\"\u001b[39m\u001b[38;5;124mH\u001b[39m\u001b[38;5;124m\"\u001b[39m])\u001b[38;5;241m.\u001b[39mto(config[\u001b[38;5;124m\"\u001b[39m\u001b[38;5;124mdevice\u001b[39m\u001b[38;5;124m\"\u001b[39m])\u001b[38;5;241m.\u001b[39munsqueeze(\u001b[38;5;241m0\u001b[39m)\n\u001b[1;32m      3\u001b[0m z \u001b[38;5;241m=\u001b[39m torch\u001b[38;5;241m.\u001b[39mrandn(config[\u001b[38;5;124m\"\u001b[39m\u001b[38;5;124mZ\u001b[39m\u001b[38;5;124m\"\u001b[39m])\u001b[38;5;241m.\u001b[39mto(config[\u001b[38;5;124m\"\u001b[39m\u001b[38;5;124mdevice\u001b[39m\u001b[38;5;124m\"\u001b[39m])\u001b[38;5;241m.\u001b[39munsqueeze(\u001b[38;5;241m0\u001b[39m)\n\u001b[0;32m----> 4\u001b[0m \u001b[43mrssm\u001b[49m\u001b[38;5;241m.\u001b[39mstep(action, h, z)\n",
      "\u001b[0;31mNameError\u001b[0m: name 'rssm' is not defined"
     ]
    }
   ],
   "source": [
    "action = torch.randn(config[\"A\"])\n",
    "h = torch.randn(config[\"H\"]).to(config[\"device\"]).unsqueeze(0)\n",
    "z = torch.randn(config[\"Z\"]).to(config[\"device\"]).unsqueeze(0)\n",
    "rssm.step(action, h, z)"
   ]
  },
  {
   "cell_type": "code",
   "execution_count": 34,
   "id": "8bd4c710",
   "metadata": {},
   "outputs": [
    {
     "name": "stdout",
     "output_type": "stream",
     "text": [
      "action: torch.Size([3])\n",
      "h: torch.Size([1, 512])\n",
      "z: torch.Size([1, 1024])\n"
     ]
    }
   ],
   "source": [
    "print(\"action:\", action.shape)\n",
    "print(\"h:\", h.shape)\n",
    "print(\"z:\", z.shape)"
   ]
  },
  {
   "cell_type": "code",
   "execution_count": null,
   "id": "9d0daa7c",
   "metadata": {},
   "outputs": [],
   "source": []
  },
  {
   "cell_type": "code",
   "execution_count": 61,
   "id": "03d45d33",
   "metadata": {},
   "outputs": [
    {
     "name": "stdout",
     "output_type": "stream",
     "text": [
      "action: torch.Size([32, 3])\n",
      "log_prob: torch.Size([32])\n",
      "actor_entropy: torch.Size([32])\n"
     ]
    }
   ],
   "source": [
    "action, log_prob, actor_entropy = agent.get_action(torch.randn(32, config[\"H\"] + config[\"Z\"]))\n",
    "\n",
    "print(\"action:\", action.shape)\n",
    "print(\"log_prob:\", log_prob.shape)\n",
    "print(\"actor_entropy:\", actor_entropy.shape)"
   ]
  },
  {
   "cell_type": "code",
   "execution_count": 46,
   "id": "ba056a79",
   "metadata": {},
   "outputs": [
    {
     "data": {
      "text/plain": [
       "torch.Size([32, 3])"
      ]
     },
     "execution_count": 46,
     "metadata": {},
     "output_type": "execute_result"
    }
   ],
   "source": [
    "action.shape"
   ]
  },
  {
   "cell_type": "code",
   "execution_count": 47,
   "id": "fe7257b0",
   "metadata": {},
   "outputs": [
    {
     "data": {
      "text/plain": [
       "torch.Size([32])"
      ]
     },
     "execution_count": 47,
     "metadata": {},
     "output_type": "execute_result"
    }
   ],
   "source": [
    "log_prob.shape"
   ]
  },
  {
   "cell_type": "code",
   "execution_count": 48,
   "id": "1eb31240",
   "metadata": {},
   "outputs": [
    {
     "data": {
      "text/plain": [
       "torch.Size([32])"
      ]
     },
     "execution_count": 48,
     "metadata": {},
     "output_type": "execute_result"
    }
   ],
   "source": [
    "actor_entropy.shape"
   ]
  },
  {
   "cell_type": "code",
   "execution_count": 49,
   "id": "019c7960",
   "metadata": {},
   "outputs": [
    {
     "data": {
      "text/plain": [
       "tensor([5.6765, 5.6701, 5.6614, 5.6770, 5.6970, 5.6877, 5.6655, 5.7580, 5.7321,\n",
       "        5.7102, 5.6841, 5.6886, 5.7618, 5.7470, 5.6534, 5.7194, 5.7698, 5.7119,\n",
       "        5.6412, 5.7520, 5.7313, 5.6788, 5.6968, 5.7121, 5.6598, 5.6970, 5.6914,\n",
       "        5.6608, 5.6692, 5.7146, 5.7430, 5.7094], device='cuda:0',\n",
       "       grad_fn=<SumBackward1>)"
      ]
     },
     "execution_count": 49,
     "metadata": {},
     "output_type": "execute_result"
    }
   ],
   "source": [
    "actor_entropy"
   ]
  },
  {
   "cell_type": "code",
   "execution_count": null,
   "id": "0ae90edb",
   "metadata": {},
   "outputs": [],
   "source": [
    "\"\"\"\n",
    "Tests:\n",
    "- output shapes\n",
    "- that the action is within the valid action range\n",
    "- that the log probability and entropy are tensors\n",
    "\"\"\"\n",
    "sample_instance = torch.randn(config[\"H\"] + config[\"Z\"]).to(config[\"device\"]) # torch.Size([1536])\n",
    "\n",
    "action, log_prob, entropy = self.test_agent.get_action(sample_instance)\n",
    "\n",
    "# action should have shape (n_actions,)\n",
    "self.assertEqual(action.shape, torch.Size([self.test_agent.n_actions]))\n",
    "\n",
    "# Check that the action is within the valid action range\n",
    "self.assertTrue(torch.all(action >= self.test_agent.action_buckets[0]))\n",
    "self.assertTrue(torch.all(action <= self.test_agent.action_buckets[-1]))\n",
    "\n",
    "# log_prob and entropy should be tensors\n",
    "self.assertTrue(isinstance(log_prob, torch.Tensor))\n",
    "self.assertTrue(isinstance(entropy, torch.Tensor))"
   ]
  },
  {
   "cell_type": "code",
   "execution_count": null,
   "id": "b01aaa55",
   "metadata": {},
   "outputs": [],
   "source": []
  },
  {
   "cell_type": "code",
   "execution_count": null,
   "id": "987a0878",
   "metadata": {},
   "outputs": [],
   "source": []
  },
  {
   "cell_type": "code",
   "execution_count": 210,
   "id": "85cc5e44",
   "metadata": {},
   "outputs": [
    {
     "name": "stdout",
     "output_type": "stream",
     "text": [
      "sample instance: torch.Size([1536])\n",
      "sample batch: torch.Size([32, 1536])\n"
     ]
    }
   ],
   "source": [
    "sample_instance = torch.randn(config[\"H\"] + config[\"Z\"]).to(config[\"device\"]) # torch.Size([1536])\n",
    "sample_batch = torch.randn(32, config[\"H\"] + config[\"Z\"]).to(config[\"device\"]) # torch.Size([32, 1536])\n",
    "\n",
    "print(\"sample instance:\", sample_instance.shape)\n",
    "print(\"sample batch:\", sample_batch.shape)"
   ]
  },
  {
   "cell_type": "code",
   "execution_count": 211,
   "id": "dad7f398",
   "metadata": {},
   "outputs": [
    {
     "name": "stdout",
     "output_type": "stream",
     "text": [
      "action: torch.Size([1, 3])\n",
      "log_prob: torch.Size([1])\n",
      "actor_entropy: torch.Size([1])\n"
     ]
    }
   ],
   "source": [
    "action, log_prob, actor_entropy = agent.get_action(sample_instance)\n",
    "\n",
    "print(\"action:\", action.shape)\n",
    "print(\"log_prob:\", log_prob.shape)\n",
    "print(\"actor_entropy:\", actor_entropy.shape)\n",
    "\n",
    "assert action.shape == torch.Size([1, config[\"A\"]])\n",
    "assert log_prob.shape == torch.Size([1])\n",
    "assert actor_entropy.shape == torch.Size([1])"
   ]
  },
  {
   "cell_type": "code",
   "execution_count": 212,
   "id": "18b8a4fd",
   "metadata": {},
   "outputs": [
    {
     "name": "stdout",
     "output_type": "stream",
     "text": [
      "action: torch.Size([32, 3])\n",
      "log_prob: torch.Size([32])\n",
      "actor_entropy: torch.Size([32])\n"
     ]
    }
   ],
   "source": [
    "action, log_prob, actor_entropy = agent.get_action(sample_batch)\n",
    "\n",
    "print(\"action:\", action.shape)\n",
    "print(\"log_prob:\", log_prob.shape)\n",
    "print(\"actor_entropy:\", actor_entropy.shape)\n",
    "\n",
    "assert action.shape == torch.Size([32, config[\"A\"]])\n",
    "assert log_prob.shape == torch.Size([32])\n",
    "assert actor_entropy.shape == torch.Size([32])"
   ]
  },
  {
   "cell_type": "code",
   "execution_count": null,
   "id": "8bb1cfa9",
   "metadata": {},
   "outputs": [],
   "source": []
  },
  {
   "cell_type": "code",
   "execution_count": null,
   "id": "da4316e7",
   "metadata": {},
   "outputs": [],
   "source": []
  },
  {
   "cell_type": "code",
   "execution_count": null,
   "id": "ccff008f",
   "metadata": {},
   "outputs": [],
   "source": []
  },
  {
   "cell_type": "code",
   "execution_count": null,
   "id": "c18a2fa3",
   "metadata": {},
   "outputs": [],
   "source": []
  },
  {
   "cell_type": "code",
   "execution_count": 213,
   "id": "d6e54fad",
   "metadata": {},
   "outputs": [
    {
     "name": "stdout",
     "output_type": "stream",
     "text": [
      "value pred: torch.Size([1])\n",
      "critic dist: torch.Size([1, 255])\n"
     ]
    }
   ],
   "source": [
    "value_pred, critic_dist = agent.apply_critic(sample_instance)\n",
    "print(\"value pred:\", value_pred.shape)\n",
    "print(\"critic dist:\", critic_dist.shape)"
   ]
  },
  {
   "cell_type": "code",
   "execution_count": 214,
   "id": "f69f8a2d",
   "metadata": {},
   "outputs": [
    {
     "name": "stdout",
     "output_type": "stream",
     "text": [
      "value pred: torch.Size([32])\n",
      "critic dist: torch.Size([32, 255])\n"
     ]
    }
   ],
   "source": [
    "value_pred, critic_dist = agent.apply_critic(sample_batch)\n",
    "print(\"value pred:\", value_pred.shape)\n",
    "print(\"critic dist:\", critic_dist.shape)"
   ]
  },
  {
   "cell_type": "code",
   "execution_count": null,
   "id": "0a9e2650",
   "metadata": {},
   "outputs": [],
   "source": []
  },
  {
   "cell_type": "code",
   "execution_count": null,
   "id": "0ee51c59",
   "metadata": {},
   "outputs": [],
   "source": []
  },
  {
   "cell_type": "code",
   "execution_count": null,
   "id": "f93409a3",
   "metadata": {},
   "outputs": [],
   "source": []
  },
  {
   "cell_type": "code",
   "execution_count": null,
   "id": "d403a5c1",
   "metadata": {},
   "outputs": [],
   "source": []
  },
  {
   "cell_type": "code",
   "execution_count": 196,
   "id": "a692c94e",
   "metadata": {},
   "outputs": [
    {
     "data": {
      "text/plain": [
       "torch.Size([32])"
      ]
     },
     "execution_count": 196,
     "metadata": {},
     "output_type": "execute_result"
    }
   ],
   "source": [
    "torch.ones([32]).shape"
   ]
  },
  {
   "cell_type": "code",
   "execution_count": null,
   "id": "a2dc6d0d",
   "metadata": {},
   "outputs": [],
   "source": []
  },
  {
   "cell_type": "code",
   "execution_count": null,
   "id": "424e5a70",
   "metadata": {},
   "outputs": [],
   "source": [
    "# todo: add proper vector env\n",
    "\n",
    "### envs = gym.vector.AsyncVectorEnv(\n",
    "###     [\n",
    "###         lambda: gym.make(\n",
    "###             \"LunarLander-v2\",\n",
    "###             gravity=np.clip(\n",
    "###                 np.random.normal(loc=-10.0, scale=1.0), a_min=-11.99, a_max=-0.01\n",
    "###             ),\n",
    "###             enable_wind=np.random.choice([True, False]),\n",
    "###             wind_power=np.clip(\n",
    "###                 np.random.normal(loc=15.0, scale=1.0), a_min=0.01, a_max=19.99\n",
    "###             ),\n",
    "###             turbulence_power=np.clip(\n",
    "###                 np.random.normal(loc=1.5, scale=0.5), a_min=0.01, a_max=1.99\n",
    "###             ),\n",
    "###             max_episode_steps=600,\n",
    "###         )\n",
    "###         for i in range(n_envs)\n",
    "###     ]\n",
    "### )"
   ]
  },
  {
   "cell_type": "code",
   "execution_count": 167,
   "id": "51021e2f",
   "metadata": {},
   "outputs": [
    {
     "name": "stdout",
     "output_type": "stream",
     "text": [
      "Making a toy env.\n",
      "Making 3 vectorized envs.\n",
      "Adding a Gymnasium RecordEpisodeStatistics wrapper.\n",
      "Adding a TimeLimit wrapper with 1000 max episode steps.\n",
      "Adding an AutoReset wrapper.\n",
      "Adding a RescaleActionV0 wrapper. Low: [-1. -1. -1.], High: [1. 1. 1.]\n"
     ]
    }
   ],
   "source": [
    "env = make_env()"
   ]
  },
  {
   "cell_type": "code",
   "execution_count": 170,
   "id": "c65a21d7",
   "metadata": {},
   "outputs": [
    {
     "data": {
      "text/plain": [
       "(96, 96, 3)"
      ]
     },
     "execution_count": 170,
     "metadata": {},
     "output_type": "execute_result"
    }
   ],
   "source": [
    "obs, info = env.reset()\n",
    "obs.shape # not working vectorized!"
   ]
  },
  {
   "cell_type": "code",
   "execution_count": null,
   "id": "d22a06f8",
   "metadata": {},
   "outputs": [],
   "source": []
  },
  {
   "cell_type": "code",
   "execution_count": null,
   "id": "cfef1516",
   "metadata": {},
   "outputs": [],
   "source": []
  },
  {
   "cell_type": "code",
   "execution_count": 107,
   "id": "c779e898",
   "metadata": {},
   "outputs": [],
   "source": [
    "ema = ActionExponentialMovingAvg()"
   ]
  },
  {
   "cell_type": "code",
   "execution_count": null,
   "id": "03f6542a",
   "metadata": {},
   "outputs": [],
   "source": []
  },
  {
   "cell_type": "code",
   "execution_count": null,
   "id": "949a23e8",
   "metadata": {},
   "outputs": [],
   "source": []
  },
  {
   "cell_type": "code",
   "execution_count": 63,
   "id": "04189080",
   "metadata": {},
   "outputs": [
    {
     "data": {
      "text/plain": [
       "tensor([-6.3694, -6.6164, -5.3328, -5.6937, -6.3013, -5.5463, -5.1594, -5.9310,\n",
       "        -6.3248, -5.9097, -5.2662, -5.4119, -5.9785, -5.9952, -5.9080, -5.6857,\n",
       "        -4.8114, -5.9112, -5.5444, -5.0474, -5.6220, -5.6623, -5.8521, -6.3300,\n",
       "        -5.0737, -5.4063, -4.8265, -5.4533, -5.7005, -5.8377, -6.2331, -5.2692],\n",
       "       device='cuda:0', grad_fn=<SumBackward1>)"
      ]
     },
     "execution_count": 63,
     "metadata": {},
     "output_type": "execute_result"
    }
   ],
   "source": [
    "log_prob"
   ]
  },
  {
   "cell_type": "code",
   "execution_count": 67,
   "id": "b334a2b9",
   "metadata": {},
   "outputs": [
    {
     "data": {
      "text/plain": [
       "-23.025850929940457"
      ]
     },
     "execution_count": 67,
     "metadata": {},
     "output_type": "execute_result"
    }
   ],
   "source": [
    "np.log(0.0000000001)"
   ]
  },
  {
   "cell_type": "code",
   "execution_count": 68,
   "id": "0ba78769",
   "metadata": {},
   "outputs": [
    {
     "data": {
      "text/plain": [
       "tensor([5.7355, 5.5546, 5.7163, 5.6698, 5.6928, 5.6896, 5.7400, 5.6838, 5.6797,\n",
       "        5.6873, 5.7251, 5.6763, 5.7283, 5.6503, 5.7192, 5.7047, 5.5833, 5.6886,\n",
       "        5.7189, 5.7330, 5.7141, 5.6925, 5.6848, 5.7214, 5.7266, 5.6649, 5.6694,\n",
       "        5.7534, 5.6803, 5.5994, 5.7590, 5.6697], device='cuda:0',\n",
       "       grad_fn=<SumBackward1>)"
      ]
     },
     "execution_count": 68,
     "metadata": {},
     "output_type": "execute_result"
    }
   ],
   "source": [
    "actor_entropy"
   ]
  },
  {
   "cell_type": "code",
   "execution_count": 116,
   "id": "99f9e357",
   "metadata": {},
   "outputs": [
    {
     "name": "stdout",
     "output_type": "stream",
     "text": [
      "Initializing critic.\n",
      "Adding zero weight init to the output layer.\n",
      "\n",
      "Initializing actor.\n"
     ]
    }
   ],
   "source": [
    "agent = src.actor_critic_discrete.DiscreteActorCritic()"
   ]
  },
  {
   "cell_type": "code",
   "execution_count": 122,
   "id": "0a0d3f9c",
   "metadata": {},
   "outputs": [
    {
     "data": {
      "text/plain": [
       "torch.Size([1536])"
      ]
     },
     "execution_count": 122,
     "metadata": {},
     "output_type": "execute_result"
    }
   ],
   "source": [
    "sample_instance = torch.randn(config[\"H\"] + config[\"Z\"]).to(config[\"device\"])  # torch.Size([1536])#\n",
    "sample_instance.shape"
   ]
  },
  {
   "cell_type": "code",
   "execution_count": 133,
   "id": "7f0e9a41",
   "metadata": {},
   "outputs": [
    {
     "data": {
      "text/plain": [
       "(tensor([[ 0.4231, -0.1996,  0.1345]], device='cuda:0'),\n",
       " tensor([-6.4722], device='cuda:0', grad_fn=<SumBackward1>),\n",
       " tensor([1.8924], device='cuda:0', grad_fn=<MeanBackward1>))"
      ]
     },
     "execution_count": 133,
     "metadata": {},
     "output_type": "execute_result"
    }
   ],
   "source": [
    "agent.get_action(to_np(sample_instance))"
   ]
  },
  {
   "cell_type": "code",
   "execution_count": null,
   "id": "372e03d8",
   "metadata": {},
   "outputs": [],
   "source": []
  },
  {
   "cell_type": "code",
   "execution_count": null,
   "id": "e86f1b2a",
   "metadata": {},
   "outputs": [],
   "source": []
  },
  {
   "cell_type": "code",
   "execution_count": null,
   "id": "0d3905aa",
   "metadata": {},
   "outputs": [],
   "source": []
  }
 ],
 "metadata": {
  "kernelspec": {
   "display_name": "Python 3 (ipykernel)",
   "language": "python",
   "name": "python3"
  },
  "language_info": {
   "codemirror_mode": {
    "name": "ipython",
    "version": 3
   },
   "file_extension": ".py",
   "mimetype": "text/x-python",
   "name": "python",
   "nbconvert_exporter": "python",
   "pygments_lexer": "ipython3",
   "version": "3.10.4"
  }
 },
 "nbformat": 4,
 "nbformat_minor": 5
}
