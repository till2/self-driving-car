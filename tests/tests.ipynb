{
 "cells": [
  {
   "cell_type": "code",
   "execution_count": 22,
   "id": "df9a80b4",
   "metadata": {},
   "outputs": [],
   "source": [
    "import unittest"
   ]
  },
  {
   "cell_type": "code",
   "execution_count": 23,
   "id": "54b085b1",
   "metadata": {},
   "outputs": [],
   "source": [
    "import sys\n",
    "sys.path.append(\"/home/till/Desktop/GitHub/self-driving-car/\")\n",
    "sys.path.append(\"/home/till/Desktop/GitHub/self-driving-car/src\")"
   ]
  },
  {
   "cell_type": "code",
   "execution_count": 24,
   "id": "f85239a9",
   "metadata": {},
   "outputs": [
    {
     "name": "stdout",
     "output_type": "stream",
     "text": [
      "The autoreload extension is already loaded. To reload it, use:\n",
      "  %reload_ext autoreload\n"
     ]
    }
   ],
   "source": [
    "from __future__ import annotations\n",
    "from typing import Dict, List, Union\n",
    "\n",
    "import logging\n",
    "import os\n",
    "import random\n",
    "import sys\n",
    "from collections import deque\n",
    "from operator import itemgetter\n",
    "\n",
    "import gym_donkeycar\n",
    "import gymnasium as gym\n",
    "import imageio\n",
    "import ipywidgets as widgets\n",
    "import numpy as np\n",
    "import pandas as pd\n",
    "import torch\n",
    "import torch.nn as nn\n",
    "import torch.nn.functional as F\n",
    "import torch.optim as optim\n",
    "import torchvision\n",
    "from IPython.display import display\n",
    "from ipywidgets import HBox, VBox\n",
    "from matplotlib import pyplot as plt\n",
    "from PIL import Image\n",
    "from ruamel.yaml import YAML\n",
    "from scipy.ndimage import gaussian_filter1d\n",
    "from scipy.stats import norm\n",
    "from tensorboard import notebook\n",
    "from tensorboard.backend.event_processing.event_accumulator import \\\n",
    "    EventAccumulator\n",
    "from torch import distributions as dist\n",
    "from torch.distributions import Categorical, Normal\n",
    "from torch.utils.tensorboard import SummaryWriter\n",
    "from torchvision import transforms\n",
    "from tqdm import tqdm\n",
    "\n",
    "import gym.spaces as gym_spaces\n",
    "import gymnasium as gym  # overwrite OpenAI gym\n",
    "\n",
    "# suppress warnings\n",
    "import warnings\n",
    "warnings.filterwarnings(\"ignore\", category=UserWarning, module=\"gymnasium.spaces.box\") # module=\"gymnasium\"\n",
    "os.environ['TF_CPP_MIN_LOG_LEVEL'] = '2'\n",
    "os.environ[\"IMAGEIO_IGNORE_WARNINGS\"] = \"True\"\n",
    "\n",
    "import stable_baselines3 as sb3\n",
    "from gym_donkeycar.envs.donkey_env import DonkeyEnv\n",
    "from gymnasium import spaces\n",
    "from gymnasium.spaces import Box\n",
    "from stable_baselines3 import A2C, PPO, SAC\n",
    "from stable_baselines3.common import env_checker\n",
    "from stable_baselines3.common.callbacks import EvalCallback\n",
    "from stable_baselines3.common.env_util import make_vec_env\n",
    "from stable_baselines3.common.evaluation import evaluate_policy\n",
    "from stable_baselines3.common.monitor import Monitor\n",
    "from stable_baselines3.common.results_plotter import load_results, ts2xy\n",
    "from stable_baselines3.common.vec_env import DummyVecEnv, SubprocVecEnv\n",
    "\n",
    "import src\n",
    "from src.actor_critic_discrete import DiscreteActorCritic\n",
    "from src.actor_critic_dreamer import ActorCriticDreamer\n",
    "from src.actor_critic import ContinuousActorCritic\n",
    "from src.blocks import CategoricalStraightThrough, ConvBlock\n",
    "from src.categorical_vae import CategoricalVAE\n",
    "from src.imagination_env import make_imagination_env\n",
    "from src.mlp import MLP\n",
    "from src.preprocessing import transform\n",
    "from src.replay_buffer import ReplayBuffer\n",
    "from src.rssm import RSSM\n",
    "from src.utils import (load_config, make_env, save_image_and_reconstruction,\n",
    "                       to_np, symlog, symexp, twohot_encode, ExponentialMovingAvg,\n",
    "                       ActionExponentialMovingAvg, MetricsTracker)\n",
    "from src.vae import VAE\n",
    "\n",
    "torch.cuda.empty_cache()\n",
    "%matplotlib inline\n",
    "%load_ext autoreload\n",
    "%autoreload 2\n",
    "\n",
    "# Load the config\n",
    "config = load_config()\n",
    "for key in config:\n",
    "    locals()[key] = config[key]"
   ]
  },
  {
   "cell_type": "code",
   "execution_count": 26,
   "id": "11126f88",
   "metadata": {
    "scrolled": true
   },
   "outputs": [
    {
     "name": "stdout",
     "output_type": "stream",
     "text": [
      "Python 3.10.4\r\n"
     ]
    }
   ],
   "source": [
    "!python -V"
   ]
  },
  {
   "cell_type": "code",
   "execution_count": null,
   "id": "4c8ada4a",
   "metadata": {},
   "outputs": [],
   "source": []
  },
  {
   "cell_type": "code",
   "execution_count": 5,
   "id": "0caa77b6",
   "metadata": {},
   "outputs": [],
   "source": []
  },
  {
   "cell_type": "code",
   "execution_count": 27,
   "id": "ad640da4",
   "metadata": {},
   "outputs": [],
   "source": [
    "class TestAddition(unittest.TestCase):\n",
    "    \n",
    "    def addition(self,x,y):\n",
    "        return x+y\n",
    "    \n",
    "    def test_addition(self):\n",
    "        self.assertEqual(self.addition(1,2), 3)"
   ]
  },
  {
   "cell_type": "code",
   "execution_count": 19,
   "id": "c3507b3c",
   "metadata": {},
   "outputs": [
    {
     "name": "stdout",
     "output_type": "stream",
     "text": [
      "hi\n"
     ]
    }
   ],
   "source": [
    "# if __name__ == \"__main__\":\n",
    "#     unittest.main()"
   ]
  },
  {
   "cell_type": "code",
   "execution_count": null,
   "id": "4d10d744",
   "metadata": {},
   "outputs": [],
   "source": []
  },
  {
   "cell_type": "code",
   "execution_count": 28,
   "id": "896dde5d",
   "metadata": {},
   "outputs": [
    {
     "data": {
      "text/plain": [
       "src.actor_critic_discrete.DiscreteActorCritic"
      ]
     },
     "execution_count": 28,
     "metadata": {},
     "output_type": "execute_result"
    }
   ],
   "source": [
    "src.actor_critic_discrete.DiscreteActorCritic"
   ]
  },
  {
   "cell_type": "code",
   "execution_count": 30,
   "id": "e7087758",
   "metadata": {},
   "outputs": [
    {
     "name": "stdout",
     "output_type": "stream",
     "text": [
      "Initializing critic.\n",
      "Adding zero weight init to the output layer.\n",
      "\n",
      "Initializing actor.\n"
     ]
    }
   ],
   "source": [
    "agent = src.actor_critic_discrete.DiscreteActorCritic()"
   ]
  },
  {
   "cell_type": "code",
   "execution_count": 31,
   "id": "5fcf731d",
   "metadata": {},
   "outputs": [
    {
     "data": {
      "text/plain": [
       "MLP(\n",
       "  (layers): Sequential(\n",
       "    (layer_0): Sequential(\n",
       "      (0): Linear(in_features=1536, out_features=256, bias=True)\n",
       "      (1): LayerNorm((256,), eps=1e-05, elementwise_affine=True)\n",
       "      (2): SiLU(inplace=True)\n",
       "    )\n",
       "    (layer_1): Sequential(\n",
       "      (0): Linear(in_features=256, out_features=256, bias=True)\n",
       "      (1): LayerNorm((256,), eps=1e-05, elementwise_affine=True)\n",
       "      (2): SiLU(inplace=True)\n",
       "    )\n",
       "    (layer_2): Sequential(\n",
       "      (0): Linear(in_features=256, out_features=255, bias=True)\n",
       "      (2): Softmax(dim=-1)\n",
       "    )\n",
       "  )\n",
       ")"
      ]
     },
     "execution_count": 31,
     "metadata": {},
     "output_type": "execute_result"
    }
   ],
   "source": [
    "agent.critic"
   ]
  },
  {
   "cell_type": "code",
   "execution_count": 45,
   "id": "cc349334",
   "metadata": {},
   "outputs": [],
   "source": [
    "sample_input = torch.randn(config[\"H\"] + config[\"Z\"]).to(config[\"device\"]) # torch.Size([1536])"
   ]
  },
  {
   "cell_type": "code",
   "execution_count": 47,
   "id": "690d46ed",
   "metadata": {},
   "outputs": [],
   "source": [
    "value_pred, critic_dist = agent.apply_critic(sample_input)"
   ]
  },
  {
   "cell_type": "code",
   "execution_count": 50,
   "id": "bbdf8604",
   "metadata": {},
   "outputs": [
    {
     "data": {
      "text/plain": [
       "0"
      ]
     },
     "execution_count": 50,
     "metadata": {},
     "output_type": "execute_result"
    }
   ],
   "source": [
    "len(value_pred.shape)"
   ]
  },
  {
   "cell_type": "code",
   "execution_count": 57,
   "id": "b0fb7f95",
   "metadata": {},
   "outputs": [
    {
     "data": {
      "text/plain": [
       "torch.Size([255])"
      ]
     },
     "execution_count": 57,
     "metadata": {},
     "output_type": "execute_result"
    }
   ],
   "source": [
    "critic_dist.shape"
   ]
  },
  {
   "cell_type": "code",
   "execution_count": 59,
   "id": "346db646",
   "metadata": {},
   "outputs": [
    {
     "data": {
      "text/plain": [
       "255"
      ]
     },
     "execution_count": 59,
     "metadata": {},
     "output_type": "execute_result"
    }
   ],
   "source": [
    "config[\"num_buckets\"]"
   ]
  },
  {
   "cell_type": "code",
   "execution_count": 63,
   "id": "a2dc7e66",
   "metadata": {},
   "outputs": [
    {
     "data": {
      "text/plain": [
       "torch.Size([255])"
      ]
     },
     "execution_count": 63,
     "metadata": {},
     "output_type": "execute_result"
    }
   ],
   "source": [
    "torch.Size([config[\"num_buckets\"]])"
   ]
  },
  {
   "cell_type": "code",
   "execution_count": null,
   "id": "f019214b",
   "metadata": {},
   "outputs": [],
   "source": []
  },
  {
   "cell_type": "code",
   "execution_count": 51,
   "id": "5fcce64b",
   "metadata": {},
   "outputs": [
    {
     "name": "stdout",
     "output_type": "stream",
     "text": [
      "Initializing critic.\n",
      "Adding zero weight init to the output layer.\n",
      "\n",
      "Initializing actor.\n"
     ]
    }
   ],
   "source": [
    "class TestDiscreteActorCritic(unittest.TestCase):\n",
    "    \n",
    "    agent = src.actor_critic_discrete.DiscreteActorCritic()\n",
    "    \n",
    "    # test if the critic softmax sums to 1\n",
    "    # test the critic output shape \n",
    "    # => for a single instance\n",
    "    # => for a batch\n",
    "    def test_critic(self):\n",
    "        \n",
    "        sample_input = torch.randn(config[\"H\"] + config[\"Z\"]).to(config[\"device\"]) # torch.Size([1536])\n",
    "        value_pred, critic_dist = agent.apply_critic(sample_input)\n",
    "        \n",
    "        # value_pred should be a scalar without shape\n",
    "        self.assertEqual(len(value_pred.shape), 0)"
   ]
  },
  {
   "cell_type": "code",
   "execution_count": 65,
   "id": "928504ca",
   "metadata": {},
   "outputs": [
    {
     "data": {
      "text/plain": [
       "torch.Size([32, 1536])"
      ]
     },
     "execution_count": 65,
     "metadata": {},
     "output_type": "execute_result"
    }
   ],
   "source": [
    "sample_batch = torch.randn(32, config[\"H\"] + config[\"Z\"]).to(config[\"device\"])\n",
    "sample_batch.shape"
   ]
  },
  {
   "cell_type": "code",
   "execution_count": 67,
   "id": "71a7b190",
   "metadata": {},
   "outputs": [],
   "source": [
    "value_pred, critic_dist = agent.apply_critic(sample_batch)"
   ]
  },
  {
   "cell_type": "code",
   "execution_count": 72,
   "id": "46bbcc80",
   "metadata": {},
   "outputs": [
    {
     "data": {
      "text/plain": [
       "tensor([1., 1., 1., 1., 1., 1., 1., 1., 1., 1., 1., 1., 1., 1., 1., 1., 1., 1.,\n",
       "        1., 1., 1., 1., 1., 1., 1., 1., 1., 1., 1., 1., 1., 1.],\n",
       "       device='cuda:0', grad_fn=<SumBackward1>)"
      ]
     },
     "execution_count": 72,
     "metadata": {},
     "output_type": "execute_result"
    }
   ],
   "source": [
    "torch.sum(critic_dist, dim=-1)"
   ]
  },
  {
   "cell_type": "code",
   "execution_count": null,
   "id": "661db0da",
   "metadata": {},
   "outputs": [],
   "source": []
  },
  {
   "cell_type": "code",
   "execution_count": null,
   "id": "3b8a41f1",
   "metadata": {},
   "outputs": [],
   "source": []
  }
 ],
 "metadata": {
  "kernelspec": {
   "display_name": "Python 3 (ipykernel)",
   "language": "python",
   "name": "python3"
  },
  "language_info": {
   "codemirror_mode": {
    "name": "ipython",
    "version": 3
   },
   "file_extension": ".py",
   "mimetype": "text/x-python",
   "name": "python",
   "nbconvert_exporter": "python",
   "pygments_lexer": "ipython3",
   "version": "3.10.4"
  }
 },
 "nbformat": 4,
 "nbformat_minor": 5
}
