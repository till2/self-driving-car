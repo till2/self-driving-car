{
 "cells": [
  {
   "cell_type": "code",
   "execution_count": 3,
   "id": "1f4e4282",
   "metadata": {},
   "outputs": [],
   "source": [
    "import gymnasium as gym\n",
    "\n",
    "import numpy as np\n",
    "import matplotlib.pyplot as plt\n",
    "from tqdm import tqdm\n",
    "\n",
    "import torch\n",
    "import torch.nn as nn\n",
    "import torch.functional as F\n",
    "from torch import optim"
   ]
  },
  {
   "cell_type": "code",
   "execution_count": 4,
   "id": "e4793f98",
   "metadata": {},
   "outputs": [
    {
     "ename": "NameError",
     "evalue": "name 'B' is not defined",
     "output_type": "error",
     "traceback": [
      "\u001b[0;31m---------------------------------------------------------------------------\u001b[0m",
      "\u001b[0;31mNameError\u001b[0m                                 Traceback (most recent call last)",
      "Cell \u001b[0;32mIn [4], line 7\u001b[0m\n\u001b[1;32m      4\u001b[0m Z \u001b[38;5;241m=\u001b[39m \u001b[38;5;241m32\u001b[39m\u001b[38;5;241m*\u001b[39m\u001b[38;5;241m32\u001b[39m \u001b[38;5;66;03m# stochastic Zx1 state\u001b[39;00m\n\u001b[1;32m      5\u001b[0m num_rnn_layers \u001b[38;5;241m=\u001b[39m \u001b[38;5;241m1\u001b[39m\n\u001b[0;32m----> 7\u001b[0m x \u001b[38;5;241m=\u001b[39m torch\u001b[38;5;241m.\u001b[39mrandn(\u001b[38;5;241m1\u001b[39m, \u001b[43mB\u001b[49m, A\u001b[38;5;241m+\u001b[39mH\u001b[38;5;241m+\u001b[39mZ) \u001b[38;5;66;03m# LENGTH x BATCHES x A+H+Z\u001b[39;00m\n\u001b[1;32m      8\u001b[0m x\u001b[38;5;241m.\u001b[39mshape\n",
      "\u001b[0;31mNameError\u001b[0m: name 'B' is not defined"
     ]
    }
   ],
   "source": [
    "batch_size = 8 # batch size\n",
    "A = 2 # number of action dimensions\n",
    "H = 512 # discrete h state \n",
    "Z = 32*32 # stochastic Zx1 state\n",
    "num_rnn_layers = 1\n",
    "\n",
    "x = torch.randn(1, B, A+H+Z) # LENGTH x BATCHES x A+H+Z\n",
    "x.shape"
   ]
  },
  {
   "cell_type": "code",
   "execution_count": 10,
   "id": "5a6f1b85",
   "metadata": {},
   "outputs": [
    {
     "name": "stdout",
     "output_type": "stream",
     "text": [
      "torch.Size([1, 8, 512])\n",
      "torch.Size([1, 8, 512])\n",
      "torch.Size([1, 8, 512])\n",
      "torch.Size([1, 8, 512])\n",
      "torch.Size([1, 8, 512])\n",
      "torch.Size([1, 8, 512])\n",
      "torch.Size([1, 8, 512])\n",
      "torch.Size([1, 8, 512])\n",
      "torch.Size([1, 8, 512])\n",
      "torch.Size([1, 8, 512])\n"
     ]
    }
   ],
   "source": [
    "# apply to one input at a time\n",
    "\n",
    "rnn = nn.GRU(\n",
    "    input_size=A+H+Z,\n",
    "    hidden_size=H,\n",
    "    num_layers=num_rnn_layers)\n",
    "\n",
    "h = torch.zeros(num_rnn_layers, batch_size, H) # N_LAYER, B, H\n",
    "\n",
    "for i in range(10):\n",
    "    \n",
    "    # concat a (action) + H (deter) + z (stoch) to get the belief state x\n",
    "    x = torch.randn(1, batch_size, A+H+Z) # SEQUENCE_LENGTH,B,INPUT\n",
    "    \n",
    "    # compute the new hidden state (note: output is the same as h, so we can throw it away)\n",
    "    out, h = rnn(x, h)\n",
    "    print(h.shape)"
   ]
  },
  {
   "cell_type": "code",
   "execution_count": 110,
   "id": "4536b924",
   "metadata": {},
   "outputs": [],
   "source": [
    "# apply to a sequence of inputs (unrealistic scenario)\n",
    "# \n",
    "# rnn = nn.GRU(\n",
    "#     input_size=H+Z, \n",
    "#     hidden_size=H, \n",
    "#     num_layers=num_layers)\n",
    "# \n",
    "# x = torch.randn(L, B, H+Z) # L,B,INPUT\n",
    "# h0 = torch.randn(num_layers, B, H) # N_LAYER, B, HIDDEN\n",
    "# output, hn = rnn(x, h0)"
   ]
  },
  {
   "cell_type": "markdown",
   "id": "1eb76a19",
   "metadata": {},
   "source": [
    "# TODO List"
   ]
  },
  {
   "cell_type": "markdown",
   "id": "ddeecd89",
   "metadata": {},
   "source": [
    "## [ x ] Integrate RNN into training loop (with dummy mlps)"
   ]
  },
  {
   "cell_type": "markdown",
   "id": "98d36370",
   "metadata": {},
   "source": [
    "```py\n",
    "\n",
    "[ x ] - given: h, obs (obs is given only in training mode)\n",
    "\n",
    "# predict z from h\n",
    "[ x ] z_pred = dynamics_mlp(h)\n",
    "\n",
    "# get true z from encoder\n",
    "[ x ] z_sample = vae.encode(obs) # returns one-hot on softmax sample\n",
    "\n",
    "[ x ] state = concat(h,z)\n",
    "\n",
    "# apply actor and critic nets on state\n",
    "[ x ] v = val_net(state)\n",
    "[ x ] a = policy_net(state) # a is a 2x1 vector\n",
    "\n",
    "# predict other stuff\n",
    "[ x ] r = reward_mlp(state)\n",
    "[ x ] c = continue_mlp(state) # binary classification\n",
    "\n",
    "# combine everything into belief state\n",
    "[ x ] rnn_input = concat(a, state)\n",
    "\n",
    "\n",
    "# apply rnn\n",
    "[ x ] _, h_new = rnn(rnn_input, h)\n",
    "```"
   ]
  },
  {
   "cell_type": "markdown",
   "id": "03f90dd3",
   "metadata": {},
   "source": [
    "## [ x ] Create MLPs"
   ]
  },
  {
   "cell_type": "markdown",
   "id": "8fbd7806",
   "metadata": {},
   "source": [
    "```py\n",
    "[ x ] dynamics_mlp\n",
    "[ x ] reward_mlp\n",
    "[ x ] continue_mlp\n",
    "\n",
    "[ x ] value_net\n",
    "[ x ] policy_net\n",
    "```"
   ]
  },
  {
   "cell_type": "markdown",
   "id": "9f9ec6dd",
   "metadata": {},
   "source": [
    "## [  ] Combine Networks into RSSM"
   ]
  },
  {
   "cell_type": "markdown",
   "id": "9894de9a",
   "metadata": {},
   "source": [
    "```py\n",
    "\n",
    "[ x ] vae\n",
    "[ x ] rnn\n",
    "\n",
    "[ x ] dynamics_mlp\n",
    "[ x ] reward_mlp\n",
    "[ x ] continue_mlp\n",
    "\n",
    "[ x ] forward\n",
    "[  ] info\n",
    "```"
   ]
  },
  {
   "cell_type": "code",
   "execution_count": null,
   "id": "64e5d16b",
   "metadata": {},
   "outputs": [],
   "source": []
  }
 ],
 "metadata": {
  "kernelspec": {
   "display_name": "Python 3 (ipykernel)",
   "language": "python",
   "name": "python3"
  },
  "language_info": {
   "codemirror_mode": {
    "name": "ipython",
    "version": 3
   },
   "file_extension": ".py",
   "mimetype": "text/x-python",
   "name": "python",
   "nbconvert_exporter": "python",
   "pygments_lexer": "ipython3",
   "version": "3.10.4"
  }
 },
 "nbformat": 4,
 "nbformat_minor": 5
}
