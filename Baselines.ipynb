{
 "cells": [
  {
   "cell_type": "markdown",
   "id": "43db25de",
   "metadata": {},
   "source": [
    "## Imports"
   ]
  },
  {
   "cell_type": "code",
   "execution_count": 1,
   "id": "d80a4c65",
   "metadata": {},
   "outputs": [],
   "source": [
    "import os\n",
    "from operator import itemgetter\n",
    "\n",
    "import gym_donkeycar\n",
    "import gymnasium as gym\n",
    "import imageio\n",
    "import ipywidgets as widgets\n",
    "import numpy as np\n",
    "import torch\n",
    "import torch.nn as nn\n",
    "import torch.nn.functional as F\n",
    "import torch.optim as optim\n",
    "import torchvision\n",
    "from IPython.display import display\n",
    "from ipywidgets import HBox, VBox\n",
    "from matplotlib import pyplot as plt\n",
    "from PIL import Image\n",
    "from ruamel.yaml import YAML\n",
    "from tensorboard import notebook\n",
    "from tensorboard.backend.event_processing.event_accumulator import EventAccumulator\n",
    "from torch import distributions as dist\n",
    "from torch.distributions import Categorical, Normal\n",
    "from torch.utils.tensorboard import SummaryWriter\n",
    "from torchvision import transforms\n",
    "from tqdm import tqdm\n",
    "\n",
    "# suppress warnings\n",
    "os.environ['TF_CPP_MIN_LOG_LEVEL'] = '2'\n",
    "os.environ[\"IMAGEIO_IGNORE_WARNINGS\"] = \"True\"\n",
    "\n",
    "import gym.spaces as gym_spaces\n",
    "import gymnasium as gym  # overwrite OpenAI gym\n",
    "import stable_baselines3 as sb3\n",
    "from gym_donkeycar.envs.donkey_env import DonkeyEnv\n",
    "from gymnasium import spaces\n",
    "from gymnasium.spaces import Box\n",
    "from stable_baselines3 import A2C, PPO, SAC\n",
    "from stable_baselines3.common import env_checker\n",
    "from stable_baselines3.common.callbacks import EvalCallback\n",
    "from stable_baselines3.common.env_util import make_vec_env\n",
    "from stable_baselines3.common.evaluation import evaluate_policy\n",
    "from stable_baselines3.common.results_plotter import load_results, ts2xy\n",
    "from stable_baselines3.common.vec_env import DummyVecEnv\n",
    "\n",
    "from src.actor_critic import ContinuousActorCritic\n",
    "# custom classes and functions\n",
    "from src.blocks import CategoricalStraightThrough, ConvBlock\n",
    "from src.categorical_vae import CategoricalVAE\n",
    "from src.imagination_env import ImaginationEnv\n",
    "from src.mlp import MLP\n",
    "from src.preprocessing import grayscale_transform as transform\n",
    "from src.rssm import RSSM\n",
    "from src.utils import load_config, save_image_and_reconstruction, to_np\n",
    "\n",
    "torch.cuda.empty_cache()\n",
    "%matplotlib inline"
   ]
  },
  {
   "cell_type": "markdown",
   "id": "545b8cec",
   "metadata": {},
   "source": [
    "## Load the config"
   ]
  },
  {
   "cell_type": "code",
   "execution_count": 2,
   "id": "1cddca1c",
   "metadata": {},
   "outputs": [
    {
     "name": "stdout",
     "output_type": "stream",
     "text": [
      "{'device': device(type='cuda', index=0), 'A': 3, 'Z': 1024, 'debug': False, 'logdir': 'logs/', 'seed': 0, 'size': [128, 128], 'grayscale': True, 'toy_env': True, 'n_episodes': 5000, 'max_episode_steps': 500, 'max_imagination_episode_steps': 200, 'imagination_timesteps_per_model_update': 500, 'env_id': 'donkey-minimonaco-track-v0', 'max_grad_norm': 1, 'batch_size': 1, 'H': 512, 'num_categoricals': 32, 'num_classes': 32, 'buffer_size': 10000, 'mlp_n_layers': 3, 'mlp_hidden_dims': 256, 'verbose': 0, 'imagination_progress_bar': False, 'action_clip': 1}\n"
     ]
    }
   ],
   "source": [
    "config = load_config()\n",
    "\n",
    "for key in config:\n",
    "    locals()[key] = config[key]\n",
    "\n",
    "print(config)"
   ]
  },
  {
   "cell_type": "markdown",
   "id": "1daa9ad2",
   "metadata": {},
   "source": [
    "## Create the environment"
   ]
  },
  {
   "cell_type": "code",
   "execution_count": 3,
   "id": "bb125f48",
   "metadata": {},
   "outputs": [
    {
     "name": "stdout",
     "output_type": "stream",
     "text": [
      "starting DonkeyGym env\n",
      "Setting default: start_delay 5.0\n",
      "Setting default: max_cte 8.0\n",
      "Setting default: frame_skip 1\n",
      "Setting default: cam_resolution (120, 160, 3)\n",
      "Setting default: log_level 20\n",
      "Setting default: host localhost\n",
      "Setting default: steer_limit 1.0\n",
      "Setting default: throttle_min 0.0\n",
      "Setting default: throttle_max 1.0\n",
      "donkey subprocess started\n",
      "Found path: /home/till/Desktop/Thesis/donkeycar_sim/DonkeySimLinux/donkey_sim.x86_64\n"
     ]
    },
    {
     "name": "stderr",
     "output_type": "stream",
     "text": [
      "INFO:gym_donkeycar.core.client:connecting to localhost:9091 \n",
      "/home/till/.local/lib/python3.10/site-packages/gym/spaces/box.py:73: UserWarning: \u001b[33mWARN: Box bound precision lowered by casting to float32\u001b[0m\n",
      "  logger.warn(\n",
      "WARNING:gym_donkeycar.envs.donkey_sim:waiting for sim to start..\n"
     ]
    },
    {
     "name": "stdout",
     "output_type": "stream",
     "text": [
      "loading scene mini_monaco\n"
     ]
    },
    {
     "name": "stderr",
     "output_type": "stream",
     "text": [
      "INFO:gym_donkeycar.envs.donkey_sim:on need car config\n",
      "INFO:gym_donkeycar.envs.donkey_sim:sending car config.\n",
      "INFO:gym_donkeycar.envs.donkey_sim:sim started!\n"
     ]
    }
   ],
   "source": [
    "sim_config = {\n",
    "    \"exe_path\" : \"/home/till/Desktop/Thesis/donkeycar_sim/DonkeySimLinux/donkey_sim.x86_64\",\n",
    "    \"port\" : 9091\n",
    "}\n",
    "env = gym.make(\n",
    "    \"GymV21Environment-v0\",\n",
    "    env_id=env_id,\n",
    "    max_episode_steps=1000,\n",
    "    make_kwargs={\n",
    "        \"conf\": sim_config\n",
    "    })"
   ]
  },
  {
   "cell_type": "markdown",
   "id": "22dee59a",
   "metadata": {},
   "source": [
    "## Create the agent"
   ]
  },
  {
   "cell_type": "code",
   "execution_count": 4,
   "id": "f16608a6",
   "metadata": {},
   "outputs": [
    {
     "name": "stdout",
     "output_type": "stream",
     "text": [
      "Using cuda device\n",
      "Wrapping the env with a `Monitor` wrapper\n",
      "Wrapping the env in a DummyVecEnv.\n",
      "Wrapping the env in a VecTransposeImage.\n"
     ]
    }
   ],
   "source": [
    "agent = SAC(\n",
    "    \"CnnPolicy\", \n",
    "    env,\n",
    "    buffer_size=20_000,\n",
    "    verbose=1, \n",
    "    tensorboard_log=\"logs/\")"
   ]
  },
  {
   "cell_type": "markdown",
   "id": "afb107ed",
   "metadata": {},
   "source": [
    "## Train the agent"
   ]
  },
  {
   "cell_type": "code",
   "execution_count": null,
   "id": "3e58af9b",
   "metadata": {},
   "outputs": [],
   "source": [
    "agent.learn(total_timesteps=30_000)"
   ]
  },
  {
   "cell_type": "code",
   "execution_count": null,
   "id": "b2abda3e",
   "metadata": {},
   "outputs": [],
   "source": [
    "# agent = SAC(\n",
    "#     \"CnnPolicy\", \n",
    "#     env,\n",
    "#     buffer_size=20_000,\n",
    "#     verbose=1, \n",
    "#     tensorboard_log=\"logs/\")\n",
    "# \n",
    "# eval_callback = EvalCallback(\n",
    "#     env, \n",
    "#     best_model_save_path='weights/', \n",
    "#     log_path='logs/', \n",
    "#     eval_freq=500,\n",
    "#     n_eval_episodes=1)\n",
    "#\n",
    "# agent.learn(total_timesteps=30_000, callback=eval_callback)"
   ]
  },
  {
   "cell_type": "markdown",
   "id": "c421a68c",
   "metadata": {},
   "source": [
    "## Plot the results"
   ]
  },
  {
   "cell_type": "code",
   "execution_count": 17,
   "id": "1c452a95",
   "metadata": {},
   "outputs": [],
   "source": [
    "# files = {\n",
    "#     \"SAC_27\": \"logs/SAC_27/events.out.tfevents.1684525093.z.31751.0\",\n",
    "# }\n",
    "# \n",
    "# for event_file in os.listdir(\"logs/A2C_19/\"):\n",
    "#     files[\"A2C_19\"] = \"logs/A2C_19/\" + event_file"
   ]
  },
  {
   "cell_type": "code",
   "execution_count": 21,
   "id": "ad61c60b",
   "metadata": {},
   "outputs": [],
   "source": [
    "files = {}"
   ]
  },
  {
   "cell_type": "code",
   "execution_count": null,
   "id": "d5b2f788",
   "metadata": {},
   "outputs": [],
   "source": []
  },
  {
   "cell_type": "code",
   "execution_count": null,
   "id": "e184ebee",
   "metadata": {},
   "outputs": [],
   "source": [
    "for key, log_file in files.items():\n",
    "    event_acc = EventAccumulator(log_file)\n",
    "    event_acc.Reload()\n",
    "\n",
    "    steps = []\n",
    "    rewards = []\n",
    "\n",
    "    for event in event_acc.Scalars(\"rollout/ep_rew_mean\"):\n",
    "        steps.append(event.step)\n",
    "        rewards.append(event.value)"
   ]
  },
  {
   "cell_type": "code",
   "execution_count": null,
   "id": "c1f78062",
   "metadata": {},
   "outputs": [],
   "source": []
  },
  {
   "cell_type": "code",
   "execution_count": null,
   "id": "fdf808bc",
   "metadata": {},
   "outputs": [],
   "source": []
  },
  {
   "cell_type": "code",
   "execution_count": null,
   "id": "fa1494fe",
   "metadata": {},
   "outputs": [],
   "source": []
  },
  {
   "cell_type": "code",
   "execution_count": 22,
   "id": "bb5805a4",
   "metadata": {},
   "outputs": [
    {
     "data": {
      "image/png": "[encoded data removed]",
      "text/plain": [
       "<Figure size 1200x400 with 2 Axes>"
      ]
     },
     "metadata": {},
     "output_type": "display_data"
    }
   ],
   "source": [
    "baselines = {\n",
    "    \"SAC_27\": \"logs/SAC_27/events.out.tfevents.1684525093.z.31751.0\",\n",
    "}\n",
    "\n",
    "fig, axs = plt.subplots(1, 2, figsize=(12, 4))\n",
    "fig.suptitle(\"Training: Mean accumulated reward per episode\", fontsize=12)\n",
    "\n",
    "\"\"\" Steps on x-axis plot \"\"\"\n",
    "\n",
    "for key, log_file in baselines.items():\n",
    "    event_acc = EventAccumulator(log_file)\n",
    "    event_acc.Reload()\n",
    "\n",
    "    steps = []\n",
    "    rewards = []\n",
    "\n",
    "    for event in event_acc.Scalars(\"rollout/ep_rew_mean\"):\n",
    "        steps.append(event.step)\n",
    "        rewards.append(event.value)\n",
    "        \n",
    "    axs[0].plot(steps, rewards, label=key)\n",
    "\n",
    "axs[0].set_xlabel('Timesteps')\n",
    "axs[0].set_ylabel('Mean Episode Return')\n",
    "axs[0].legend(loc=\"upper right\")\n",
    "\n",
    "\"\"\" wall time on x-axis plot \"\"\"\n",
    "\n",
    "for key, log_file in baselines.items():\n",
    "    event_acc = EventAccumulator(log_file)\n",
    "    event_acc.Reload()\n",
    "\n",
    "    wtimes = []\n",
    "    rewards = []\n",
    "\n",
    "    for event in event_acc.Scalars(\"rollout/ep_rew_mean\"):\n",
    "        wtimes.append(event.wall_time)\n",
    "        rewards.append(event.value)\n",
    "\n",
    "    # Subtract the first wtime to start at 0 \n",
    "    # and convert it to minutes\n",
    "    wtimes = np.array(wtimes) - wtimes[0]\n",
    "    wtimes /= 60\n",
    "\n",
    "    axs[1].plot(wtimes, rewards, label=key)\n",
    "\n",
    "axs[1].set_xlabel('Wall Time (minutes)')\n",
    "axs[1].set_ylabel('Mean Episode Return')\n",
    "axs[1].legend(loc=\"upper right\")\n",
    "\n",
    "plt.tight_layout()\n",
    "plt.show()"
   ]
  },
  {
   "cell_type": "code",
   "execution_count": null,
   "id": "91f9d3e4",
   "metadata": {},
   "outputs": [],
   "source": []
  },
  {
   "cell_type": "code",
   "execution_count": null,
   "id": "ea5fe1f0",
   "metadata": {},
   "outputs": [],
   "source": []
  },
  {
   "cell_type": "code",
   "execution_count": null,
   "id": "bc3e274c",
   "metadata": {},
   "outputs": [],
   "source": []
  },
  {
   "cell_type": "code",
   "execution_count": null,
   "id": "e7f9c6b4",
   "metadata": {},
   "outputs": [],
   "source": []
  },
  {
   "cell_type": "code",
   "execution_count": null,
   "id": "cf6d6342",
   "metadata": {},
   "outputs": [],
   "source": []
  }
 ],
 "metadata": {
  "kernelspec": {
   "display_name": "Python 3 (ipykernel)",
   "language": "python",
   "name": "python3"
  },
  "language_info": {
   "codemirror_mode": {
    "name": "ipython",
    "version": 3
   },
   "file_extension": ".py",
   "mimetype": "text/x-python",
   "name": "python",
   "nbconvert_exporter": "python",
   "pygments_lexer": "ipython3",
   "version": "3.10.4"
  },
  "vscode": {
   "interpreter": {
    "hash": "e7370f93d1d0cde622a1f8e1c04877d8463912d04d973331ad4851f04de6915a"
   }
  }
 },
 "nbformat": 4,
 "nbformat_minor": 5
}
