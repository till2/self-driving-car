{
 "cells": [
  {
   "cell_type": "code",
   "execution_count": 1,
   "id": "1f4e4282",
   "metadata": {},
   "outputs": [],
   "source": [
    "import gymnasium as gym\n",
    "\n",
    "import numpy as np\n",
    "import matplotlib.pyplot as plt\n",
    "from tqdm import tqdm\n",
    "\n",
    "import torch\n",
    "import torch.nn as nn\n",
    "import torch.functional as F\n",
    "from torch import optim"
   ]
  },
  {
   "cell_type": "code",
   "execution_count": 92,
   "id": "e4793f98",
   "metadata": {},
   "outputs": [
    {
     "data": {
      "text/plain": [
       "torch.Size([1, 40, 1])"
      ]
     },
     "execution_count": 92,
     "metadata": {},
     "output_type": "execute_result"
    }
   ],
   "source": [
    "num_layers = 1\n",
    "\n",
    "L = 1 # sequence length\n",
    "B = 1 # batch size\n",
    "\n",
    "# discrete MxN state\n",
    "H = 256\n",
    "\n",
    "# stochastic Zx1 state\n",
    "Z = 8\n",
    "\n",
    "x = torch.randn(B, M+Z, N) # B batches of M+Z x N matrix\n",
    "x.shape"
   ]
  },
  {
   "cell_type": "code",
   "execution_count": 107,
   "id": "5a6f1b85",
   "metadata": {},
   "outputs": [
    {
     "name": "stdout",
     "output_type": "stream",
     "text": [
      "torch.Size([1, 1, 256])\n",
      "torch.Size([1, 1, 256])\n",
      "torch.Size([1, 1, 256])\n",
      "torch.Size([1, 1, 256])\n",
      "torch.Size([1, 1, 256])\n",
      "torch.Size([1, 1, 256])\n",
      "torch.Size([1, 1, 256])\n",
      "torch.Size([1, 1, 256])\n",
      "torch.Size([1, 1, 256])\n",
      "torch.Size([1, 1, 256])\n"
     ]
    }
   ],
   "source": [
    "# apply to one input at a time\n",
    "\n",
    "rnn = nn.GRU(\n",
    "    input_size=H+Z, \n",
    "    hidden_size=H, \n",
    "    num_layers=num_layers)\n",
    "\n",
    "h = torch.randn(num_layers, B, H) # N_LAYER, B, HIDDEN\n",
    "\n",
    "for i in range(10):\n",
    "    \n",
    "    # concat h (deter) + z (stoch) states to get the belief state x\n",
    "    x = torch.randn(1, B, H+Z) # L,B,INPUT\n",
    "    \n",
    "    # compute the new hidden state (note: output is the same as h, so we can throw it away)\n",
    "    output, h = rnn(x, h)\n",
    "    print(h.shape)"
   ]
  },
  {
   "cell_type": "code",
   "execution_count": 110,
   "id": "4536b924",
   "metadata": {},
   "outputs": [],
   "source": [
    "# apply to a sequence of inputs (unrealistic scenario)\n",
    "# \n",
    "# rnn = nn.GRU(\n",
    "#     input_size=H+Z, \n",
    "#     hidden_size=H, \n",
    "#     num_layers=num_layers)\n",
    "# \n",
    "# x = torch.randn(L, B, H+Z) # L,B,INPUT\n",
    "# h0 = torch.randn(num_layers, B, H) # N_LAYER, B, HIDDEN\n",
    "# output, hn = rnn(x, h0)"
   ]
  },
  {
   "cell_type": "code",
   "execution_count": null,
   "id": "5eb1a97a",
   "metadata": {},
   "outputs": [],
   "source": []
  }
 ],
 "metadata": {
  "kernelspec": {
   "display_name": "Python 3 (ipykernel)",
   "language": "python",
   "name": "python3"
  },
  "language_info": {
   "codemirror_mode": {
    "name": "ipython",
    "version": 3
   },
   "file_extension": ".py",
   "mimetype": "text/x-python",
   "name": "python",
   "nbconvert_exporter": "python",
   "pygments_lexer": "ipython3",
   "version": "3.10.4"
  }
 },
 "nbformat": 4,
 "nbformat_minor": 5
}
