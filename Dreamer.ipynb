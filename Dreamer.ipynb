{
 "cells": [
  {
   "cell_type": "code",
   "execution_count": 1,
   "id": "0b1c5dcf",
   "metadata": {},
   "outputs": [],
   "source": [
    "from __future__ import annotations\n",
    "from typing import Dict, List, Union\n",
    "\n",
    "import logging\n",
    "import os\n",
    "import random\n",
    "import sys\n",
    "from collections import deque\n",
    "from operator import itemgetter\n",
    "\n",
    "import gym_donkeycar\n",
    "import gymnasium as gym\n",
    "import imageio\n",
    "import ipywidgets as widgets\n",
    "import numpy as np\n",
    "import pandas as pd\n",
    "import torch\n",
    "import torch.nn as nn\n",
    "import torch.nn.functional as F\n",
    "import torch.optim as optim\n",
    "import torchvision\n",
    "from IPython.display import display\n",
    "from ipywidgets import HBox, VBox\n",
    "from matplotlib import pyplot as plt\n",
    "from PIL import Image\n",
    "from ruamel.yaml import YAML\n",
    "from scipy.ndimage import gaussian_filter1d\n",
    "from scipy.stats import norm\n",
    "from tensorboard import notebook\n",
    "from tensorboard.backend.event_processing.event_accumulator import \\\n",
    "    EventAccumulator\n",
    "from torch import distributions as dist\n",
    "from torch.distributions import Categorical, Normal\n",
    "from torch.utils.tensorboard import SummaryWriter\n",
    "from torchvision import transforms\n",
    "from tqdm import tqdm\n",
    "\n",
    "import gymnasium as gym\n",
    "\n",
    "# suppress warnings\n",
    "import warnings\n",
    "warnings.filterwarnings(\"ignore\", category=UserWarning, module=\"gymnasium.spaces.box\") # module=\"gymnasium\"\n",
    "os.environ['TF_CPP_MIN_LOG_LEVEL'] = '2'\n",
    "os.environ[\"IMAGEIO_IGNORE_WARNINGS\"] = \"True\"\n",
    "\n",
    "import stable_baselines3 as sb3\n",
    "from gym_donkeycar.envs.donkey_env import DonkeyEnv\n",
    "from gymnasium import spaces\n",
    "from gymnasium.spaces import Box\n",
    "from stable_baselines3 import A2C, PPO, SAC\n",
    "from stable_baselines3.common import env_checker\n",
    "from stable_baselines3.common.callbacks import EvalCallback\n",
    "from stable_baselines3.common.env_util import make_vec_env\n",
    "from stable_baselines3.common.evaluation import evaluate_policy\n",
    "from stable_baselines3.common.monitor import Monitor\n",
    "from stable_baselines3.common.results_plotter import load_results, ts2xy\n",
    "from stable_baselines3.common.vec_env import DummyVecEnv, SubprocVecEnv\n",
    "\n",
    "import src\n",
    "from src.actor_critic_discrete import DiscreteActorCritic\n",
    "from src.actor_critic_dreamer import ActorCriticDreamer\n",
    "from src.actor_critic import ContinuousActorCritic\n",
    "from src.blocks import CategoricalStraightThrough, ConvBlock\n",
    "from src.categorical_vae import CategoricalVAE\n",
    "from src.imagination_env import make_imagination_env\n",
    "from src.mlp import MLP\n",
    "from src.preprocessing import transform\n",
    "from src.replay_buffer import ReplayBuffer\n",
    "from src.rssm import RSSM\n",
    "from src.utils import (load_config, make_env, save_image_and_reconstruction,\n",
    "                       to_np, symlog, symexp, twohot_encode, ExponentialMovingAvg,\n",
    "                       ActionExponentialMovingAvg, MetricsTracker)\n",
    "from src.vae import VAE\n",
    "\n",
    "torch.cuda.empty_cache()\n",
    "%matplotlib inline\n",
    "%load_ext autoreload\n",
    "%autoreload 2\n",
    "\n",
    "# Load the config\n",
    "config = load_config()\n",
    "for key in config:\n",
    "    locals()[key] = config[key]"
   ]
  },
  {
   "cell_type": "markdown",
   "id": "239558a5",
   "metadata": {},
   "source": [
    "## Init the RSSM (including all networks)"
   ]
  },
  {
   "cell_type": "code",
   "execution_count": 2,
   "id": "cda9f099",
   "metadata": {
    "scrolled": false
   },
   "outputs": [
    {
     "name": "stdout",
     "output_type": "stream",
     "text": [
      "Initializing encoder:\n",
      "- adding ConvBlock((3, 64))                   ==> output shape: (64, 32, 32) ==> prod: 65536\n",
      "- adding ConvBlock((64, 128))                   ==> output shape: (128, 16, 16) ==> prod: 32768\n",
      "- adding ConvBlock((128, 256))                   ==> output shape: (256, 8, 8) ==> prod: 16384\n",
      "- adding ConvBlock((256, 512))                   ==> output shape: (512, 4, 4) ==> prod: 8192\n",
      "- adding ConvBlock((512, 256))                   ==> output shape: (256, 2, 2) ==> prod: 1024\n",
      "- adding Flatten()\n",
      "- adding Reshape: (*,1024) => (*,32,32)\n",
      "\n",
      "Initializing decoder:\n",
      "- adding Reshape: (*,1024) => (*,256,2,2)\n",
      "- adding transpose ConvBlock(256, 256)                   ==> output shape: (256, 4, 4) ==> prod: 4096\n",
      "- adding transpose ConvBlock(256, 512)                   ==> output shape: (512, 8, 8) ==> prod: 32768\n",
      "- adding transpose ConvBlock(512, 256)                   ==> output shape: (256, 16, 16) ==> prod: 65536\n",
      "- adding transpose ConvBlock(256, 128)                   ==> output shape: (128, 32, 32) ==> prod: 131072\n",
      "- adding transpose ConvBlock(128, 3)                   ==> output shape: (3, 64, 64) ==> prod: 12288\n",
      "\n",
      "Initializing dynamics_mlp.\n",
      "\n",
      "Initializing reward_mlp.\n",
      "Adding zero weight init to the output layer.\n",
      "\n",
      "Initializing continue_mlp.\n"
     ]
    }
   ],
   "source": [
    "rssm = RSSM().to(device)"
   ]
  },
  {
   "cell_type": "markdown",
   "id": "e56fd60e",
   "metadata": {},
   "source": [
    "TODO:\n",
    "\n",
    "required:\n",
    "- use discrete actor critic agent [WIP ]\n",
    "- distributional critic [ ]\n",
    "\n",
    "optional:\n",
    "(- output batches with rssm)\n",
    "(- train on vector env with batches)"
   ]
  },
  {
   "cell_type": "markdown",
   "id": "229f8133",
   "metadata": {},
   "source": [
    "## Create the imagination environment for training the agent"
   ]
  },
  {
   "cell_type": "code",
   "execution_count": 3,
   "id": "a9a08c01",
   "metadata": {},
   "outputs": [],
   "source": [
    "replay_buffer = ReplayBuffer()"
   ]
  },
  {
   "cell_type": "code",
   "execution_count": 4,
   "id": "ec4e9cc6",
   "metadata": {},
   "outputs": [
    {
     "name": "stdout",
     "output_type": "stream",
     "text": [
      "Adding a Gymnasium RecordEpisodeStatistics wrapper.\n",
      "Adding a TimeLimit wrapper with 16 max imagination episode steps.\n",
      "Adding an AutoReset wrapper.\n",
      "Adding a RescaleActionV0 wrapper. Low: [-1. -1. -1.], High: [1. 1. 1.]\n"
     ]
    }
   ],
   "source": [
    "imagination_env = make_imagination_env(rssm, replay_buffer, render_mode=None)"
   ]
  },
  {
   "cell_type": "markdown",
   "id": "4a93b68d",
   "metadata": {},
   "source": [
    "## Init the agent"
   ]
  },
  {
   "cell_type": "code",
   "execution_count": 5,
   "id": "fe1ee1a6",
   "metadata": {},
   "outputs": [
    {
     "name": "stdout",
     "output_type": "stream",
     "text": [
      "Initializing critic.\n",
      "Adding zero weight init to the output layer.\n",
      "\n",
      "Initializing actor.\n"
     ]
    }
   ],
   "source": [
    "# agent = PPO(\n",
    "#     policy=\"MlpPolicy\",\n",
    "#     env=imagination_env,\n",
    "#     verbose=verbose,\n",
    "#     tensorboard_log=log_dir,\n",
    "#     gamma=gamma,\n",
    "#     gae_lambda=lam,\n",
    "#     ent_coef=ent_coef,\n",
    "# )\n",
    "\n",
    "agent = DiscreteActorCritic()"
   ]
  },
  {
   "cell_type": "markdown",
   "id": "856cb39a",
   "metadata": {},
   "source": [
    "## Training loop\n"
   ]
  },
  {
   "cell_type": "code",
   "execution_count": 6,
   "id": "37f8d4b9",
   "metadata": {},
   "outputs": [],
   "source": [
    "# plt.matshow(to_np(dream_obs.view(-1, 128)))"
   ]
  },
  {
   "cell_type": "code",
   "execution_count": null,
   "id": "6367c5ae",
   "metadata": {},
   "outputs": [],
   "source": []
  },
  {
   "cell_type": "code",
   "execution_count": 7,
   "id": "8ae41bdb",
   "metadata": {},
   "outputs": [],
   "source": [
    "# agent_tracker = MetricsTracker(\n",
    "#     training_metrics=[\"critic_loss\", \"actor_loss\"],\n",
    "#     episode_metrics=[\"rewards\", \"log_probs\", \"value_preds\", \"critic_dists\", \"entropies\", \"masks\"],\n",
    "# )\n",
    "# \n",
    "# for imagination_phase in range(agent_update_phases_per_model_update):\n",
    "#     \n",
    "#     if imagination_phase == 0:\n",
    "#         dream_obs, dream_info = imagination_env.reset(seed=42)\n",
    "#         dream_obs = torch.tensor(dream_obs).to(device)\n",
    "#     \n",
    "#     for step in range(imagination_steps_per_agent_update):\n",
    "#         \n",
    "#         value_pred, critic_dist = agent.apply_critic(dream_obs)\n",
    "# \n",
    "#         # Get an action and take an environment step\n",
    "#         action, log_prob, actor_entropy = agent.get_action(dream_obs)\n",
    "#         dream_obs, reward, terminated, truncated, info = imagination_env.step(to_np(action))\n",
    "#         \n",
    "#         # Transform the next obs\n",
    "#         dream_obs = torch.Tensor(dream_obs).to(device)\n",
    "#         \n",
    "#         # every step:\n",
    "#         agent_tracker.add(\n",
    "#             episode_metrics={\n",
    "#                 \"rewards\": reward,\n",
    "#                 \"log_probs\": log_prob,\n",
    "#                 \"value_preds\": value_pred,\n",
    "#                 \"critic_dists\": critic_dist,\n",
    "#                 \"entropies\": actor_entropy,\n",
    "#                 \"masks\": torch.tensor(0.0 if terminated else 1.0),\n",
    "#             }\n",
    "#         )\n",
    "#     \n",
    "#     # every imagination phase:\n",
    "#     episode_batches = agent_tracker.get_episode_batches() # episode_batches is a dict\n",
    "#     last_value_pred, _ = agent.apply_critic(dream_obs) # last value prediction for GAE\n",
    "# \n",
    "#     # Update the agent's parameters\n",
    "#     critic_loss, actor_loss = agent.get_loss(episode_batches, last_value_pred)\n",
    "#     agent.update_parameters(critic_loss, actor_loss)\n",
    "#     \n",
    "#     # Only for the last imagined episode: Log the episode metrics\n",
    "#     if imagination_phase == agent_update_phases_per_model_update - 1:\n",
    "# \n",
    "#         agent_tracker.add(\n",
    "#             training_metrics={\n",
    "#                 \"critic_loss\": critic_loss,\n",
    "#                 \"actor_loss\": actor_loss,\n",
    "#             }\n",
    "#         )\n",
    "#     \n",
    "#         # Episode return\n",
    "#         if len(imagination_env.return_queue):\n",
    "#             agent_tracker.writer.add_scalar(\"dream_episode_return\", np.array(imagination_env.return_queue)[-1], global_step=sample_phase)\n",
    "#     \n",
    "#         # Actor and critic losses\n",
    "#         agent_tracker.log_to_tensorboard(step=sample_phase)\n",
    "#     \n",
    "#         "
   ]
  },
  {
   "cell_type": "code",
   "execution_count": null,
   "id": "93bc655a",
   "metadata": {},
   "outputs": [],
   "source": []
  },
  {
   "cell_type": "code",
   "execution_count": null,
   "id": "9d612a51",
   "metadata": {},
   "outputs": [],
   "source": []
  },
  {
   "cell_type": "code",
   "execution_count": null,
   "id": "0eaa9450",
   "metadata": {},
   "outputs": [],
   "source": []
  },
  {
   "cell_type": "code",
   "execution_count": null,
   "id": "506e0495",
   "metadata": {},
   "outputs": [],
   "source": []
  },
  {
   "cell_type": "code",
   "execution_count": null,
   "id": "d1c954c6",
   "metadata": {},
   "outputs": [],
   "source": []
  },
  {
   "cell_type": "code",
   "execution_count": 8,
   "id": "bff31322",
   "metadata": {
    "scrolled": false
   },
   "outputs": [
    {
     "name": "stdout",
     "output_type": "stream",
     "text": [
      "Making a toy env.\n",
      "Making 1 vectorized envs.\n",
      "Adding a Gymnasium RecordEpisodeStatistics wrapper.\n",
      "Adding a TimeLimit wrapper with 1000 max episode steps.\n",
      "Adding an AutoReset wrapper.\n",
      "Adding a RescaleActionV0 wrapper. Low: [-1. -1. -1.], High: [1. 1. 1.]\n"
     ]
    },
    {
     "name": "stderr",
     "output_type": "stream",
     "text": [
      "  0%|                                                                                                  | 0/7812 [00:00<?, ?it/s]\n"
     ]
    },
    {
     "ename": "IndexError",
     "evalue": "Dimension out of range (expected to be in range of [-1, 0], but got 1)",
     "output_type": "error",
     "traceback": [
      "\u001b[0;31m---------------------------------------------------------------------------\u001b[0m",
      "\u001b[0;31mIndexError\u001b[0m                                Traceback (most recent call last)",
      "Cell \u001b[0;32mIn [8], line 58\u001b[0m\n\u001b[1;32m     55\u001b[0m     action, _, _ \u001b[38;5;241m=\u001b[39m agent\u001b[38;5;241m.\u001b[39mget_action(state)\n\u001b[1;32m     57\u001b[0m \u001b[38;5;66;03m# Predict one step using the world model (for training it)\u001b[39;00m\n\u001b[0;32m---> 58\u001b[0m h, reward_pred, continue_prob, continue_pred, x_pred \u001b[38;5;241m=\u001b[39m \u001b[43mrssm\u001b[49m\u001b[38;5;241;43m.\u001b[39;49m\u001b[43mstep\u001b[49m\u001b[43m(\u001b[49m\u001b[43maction\u001b[49m\u001b[43m,\u001b[49m\u001b[43m \u001b[49m\u001b[43mh\u001b[49m\u001b[43m,\u001b[49m\u001b[43m \u001b[49m\u001b[43mz\u001b[49m\u001b[43m)\u001b[49m\n\u001b[1;32m     60\u001b[0m \u001b[38;5;66;03m# Take an environment step with the action\u001b[39;00m\n\u001b[1;32m     61\u001b[0m obs, reward, terminated, truncated, info \u001b[38;5;241m=\u001b[39m env\u001b[38;5;241m.\u001b[39mstep(action\u001b[38;5;241m.\u001b[39msqueeze())\n",
      "File \u001b[0;32m~/Desktop/GitHub/self-driving-car/src/rssm.py:73\u001b[0m, in \u001b[0;36mRSSM.step\u001b[0;34m(self, action, h, z)\u001b[0m\n\u001b[1;32m     69\u001b[0m continue_pred \u001b[38;5;241m=\u001b[39m torch\u001b[38;5;241m.\u001b[39mbernoulli(continue_prob)\n\u001b[1;32m     71\u001b[0m \u001b[38;5;66;03m# rssm step:\u001b[39;00m\n\u001b[1;32m     72\u001b[0m \u001b[38;5;66;03m# concatenate the rnn_input and apply RNN to obtain the next hidden state\u001b[39;00m\n\u001b[0;32m---> 73\u001b[0m rnn_input \u001b[38;5;241m=\u001b[39m \u001b[43mtorch\u001b[49m\u001b[38;5;241;43m.\u001b[39;49m\u001b[43mcat\u001b[49m\u001b[43m(\u001b[49m\u001b[43m(\u001b[49m\u001b[43maction\u001b[49m\u001b[43m,\u001b[49m\u001b[43m \u001b[49m\u001b[43mh\u001b[49m\u001b[43m,\u001b[49m\u001b[43m \u001b[49m\u001b[43mz\u001b[49m\u001b[43m)\u001b[49m\u001b[43m,\u001b[49m\u001b[43m \u001b[49m\u001b[38;5;241;43m1\u001b[39;49m\u001b[43m)\u001b[49m\u001b[38;5;241m.\u001b[39mfloat()\n\u001b[1;32m     74\u001b[0m \u001b[38;5;66;03m# linear in\u001b[39;00m\n\u001b[1;32m     75\u001b[0m _, h \u001b[38;5;241m=\u001b[39m \u001b[38;5;28mself\u001b[39m\u001b[38;5;241m.\u001b[39mrnn(rnn_input, h)\n",
      "\u001b[0;31mIndexError\u001b[0m: Dimension out of range (expected to be in range of [-1, 0], but got 1)"
     ]
    }
   ],
   "source": [
    "# New dreamer training loop with batches for the distributional critic\n",
    "# (and later: add manual actor-critic training in imagination env. and delete sb3).\n",
    "# add batches to rssm\n",
    "\n",
    "### rssm.load_weights(\"weights/RSSM_1.70111713\")\n",
    "### rssm.train()\n",
    "\n",
    "# Create the environment\n",
    "env = make_env()\n",
    "\n",
    "# World Model Logging\n",
    "model_tracker = MetricsTracker(\n",
    "    # Log the mean loss for the training metrics\n",
    "    training_metrics=[\"loss\", \"image_loss\", \"reward_loss\", \"continue_loss\", \"dyn_loss\", \"rep_loss\", \"rewards\"],\n",
    "    \n",
    "    # Loss per step\n",
    "    episode_metrics=[\"loss\", \"image_loss\", \"reward_loss\", \"continue_loss\", \"dyn_loss\", \"rep_loss\", \"rewards\"],\n",
    ")\n",
    "\n",
    "# Agent Logging\n",
    "agent_tracker = MetricsTracker(\n",
    "    training_metrics=[\"critic_loss\", \"actor_loss\"],\n",
    "    episode_metrics=[\"rewards\", \"log_probs\", \"value_preds\", \"critic_dists\", \"entropies\", \"masks\"],\n",
    ")\n",
    "\n",
    "\n",
    "for sample_phase in tqdm(range(start_phase, n_seed_phases + n_model_updates)):\n",
    "    \n",
    "    # Reset the RNN's hidden state\n",
    "    h = torch.zeros(rssm.num_rnn_layers, 1, H, device=device, dtype=torch.float32) # seq_len, B, H\n",
    "    \n",
    "    if sample_phase == start_phase:\n",
    "        \n",
    "        # Get the first obs\n",
    "        obs, info = env.reset(seed=42)\n",
    "        x = transform(obs).view(-1, 1 if grayscale else 3, *size) # (B, 3, 128, 128)\n",
    "        replay_buffer.push(x)\n",
    "    \n",
    "    for step in range(n_steps_per_model_update):\n",
    "    \n",
    "        \"\"\" WORLD MODEL LEARNING \"\"\"\n",
    "\n",
    "        # Get real z and z prediction, also get state\n",
    "        z_prior = rssm.dynamics_mlp(h).view(-1, num_categoricals, num_classes) # (1,32,32) for the softmax\n",
    "        z_prior = F.softmax(z_prior, -1).flatten(start_dim=1, end_dim=2) # (1, 1024)\n",
    "        z = rssm.vae.encode(x).flatten(start_dim=1, end_dim=2)\n",
    "        state = to_np(torch.cat((h.flatten().detach(), z.flatten().detach()), dim=0))\n",
    "\n",
    "        # Get random action in sample phases and otherwise action from policy net\n",
    "        if sample_phase < n_seed_phases:\n",
    "            action = env.action_space.sample()\n",
    "        else:\n",
    "            ### action, _ = agent.predict(state, deterministic=False)\n",
    "            # NEW:\n",
    "            action, _, _ = agent.get_action(state)\n",
    "\n",
    "        # Predict one step using the world model (for training it)\n",
    "        h, reward_pred, continue_prob, continue_pred, x_pred = rssm.step(action, h, z)\n",
    "\n",
    "        # Take an environment step with the action\n",
    "        obs, reward, terminated, truncated, info = env.step(action.squeeze())\n",
    "        x = transform(obs).view(-1, 1 if grayscale else 3, *size) # (B, 3, 128, 128)\n",
    "        replay_buffer.push(x)\n",
    "\n",
    "        # Calculate the world model loss\n",
    "        continue_target = torch.tensor(1 - (terminated or truncated), device=device, dtype=torch.float32)\n",
    "        reward = torch.tensor(reward, device=device, dtype=torch.float32)\n",
    "        losses = rssm.get_losses(x, x_pred, reward, reward_pred, \n",
    "                                 continue_target, continue_prob, z_prior, z)\n",
    "\n",
    "        # Track the losses\n",
    "        model_tracker.add(\n",
    "            episode_metrics=losses # losses is a dict with batches for all episode metrics\n",
    "        )\n",
    "        # Track the reward for the episode return\n",
    "        model_tracker.add(\n",
    "            episode_metrics={\n",
    "                \"rewards\": reward,\n",
    "            }\n",
    "        )\n",
    "    \n",
    "    # Get mean loss and update world model\n",
    "    episode_losses = model_tracker.get_episode_batches(reduction=\"mean\") # episode_losses is a dict\n",
    "    rssm.update_parameters(episode_losses[\"loss\"])\n",
    "\n",
    "    \n",
    "    \"\"\" RL AGENT LEARNING (IN THE WORLD MODEL) \"\"\"\n",
    "    if verbose and sample_phase == n_seed_phases:\n",
    "        print(\"The agent starts learning.\")\n",
    "\n",
    "        \n",
    "    if sample_phase >= n_seed_phases:\n",
    "        ### agent.learn(\n",
    "        ###     total_timesteps=imagination_steps_per_model_update,\n",
    "        ###     progress_bar=imagination_progress_bar,\n",
    "        ###     reset_num_timesteps=False\n",
    "        ### )\n",
    "        \n",
    "        # NEW: discrete actor critic\n",
    "        for imagination_phase in range(agent_update_phases_per_model_update):\n",
    "            print(\"IMAGINATINO PHASE:\", imagination_phase) # debug\n",
    "            \n",
    "            if imagination_phase == 0:\n",
    "                dream_obs, dream_info = imagination_env.reset(seed=42)\n",
    "                dream_obs = torch.tensor(dream_obs).to(device)\n",
    "\n",
    "            for step in range(imagination_steps_per_agent_update):\n",
    "\n",
    "                value_pred, critic_dist = agent.apply_critic(dream_obs)\n",
    "\n",
    "                # Get an action and take an environment step\n",
    "                action, log_prob, actor_entropy = agent.get_action(dream_obs)\n",
    "                dream_obs, reward, terminated, truncated, info = imagination_env.step(to_np(action))\n",
    "\n",
    "                # Transform the next obs\n",
    "                dream_obs = torch.Tensor(dream_obs).to(device)\n",
    "\n",
    "                # every step:\n",
    "                agent_tracker.add(\n",
    "                    episode_metrics={\n",
    "                        \"rewards\": reward,\n",
    "                        \"log_probs\": log_prob,\n",
    "                        \"value_preds\": value_pred,\n",
    "                        \"critic_dists\": critic_dist,\n",
    "                        \"entropies\": actor_entropy,\n",
    "                        \"masks\": torch.tensor(0.0 if terminated else 1.0),\n",
    "                    }\n",
    "                )\n",
    "\n",
    "            # every imagination phase:\n",
    "            episode_batches = agent_tracker.get_episode_batches() # episode_batches is a dict\n",
    "            last_value_pred, _ = agent.apply_critic(dream_obs) # last value prediction for GAE\n",
    "\n",
    "            # Update the agent's parameters\n",
    "            critic_loss, actor_loss = agent.get_loss(episode_batches, last_value_pred)\n",
    "            agent.update_parameters(critic_loss, actor_loss)\n",
    "\n",
    "            # Only for the last imagined episode: Log the episode metrics\n",
    "            print(imagination_phase, agent_update_phases_per_model_update-1)\n",
    "            if imagination_phase == agent_update_phases_per_model_update - 1:\n",
    "                print(\"HI\")\n",
    "\n",
    "                agent_tracker.add(\n",
    "                    training_metrics={\n",
    "                        \"critic_loss\": critic_loss,\n",
    "                        \"actor_loss\": actor_loss,\n",
    "                    }\n",
    "                )\n",
    "\n",
    "                # Episode return\n",
    "                if len(imagination_env.return_queue):\n",
    "                    agent_tracker.writer.add_scalar(\"dream_episode_return\", np.array(imagination_env.return_queue)[-1], global_step=sample_phase)\n",
    "\n",
    "                # Actor and critic losses\n",
    "                agent_tracker.log_to_tensorboard(step=sample_phase)\n",
    "\n",
    "    \n",
    "    # Every couple episodes:\n",
    "    if sample_phase % config[\"log_interval\"] == 0:\n",
    "        \n",
    "        # Log: mean episode losses\n",
    "        model_tracker.add(\n",
    "            training_metrics=episode_losses\n",
    "        )\n",
    "        \n",
    "        # Log: episode return\n",
    "        if len(env.return_queue):\n",
    "            model_tracker.writer.add_scalar(\"episode_return\", np.array(env.return_queue)[-1], global_step=len(env.return_queue))\n",
    "        \n",
    "        # Tensorboard\n",
    "        model_tracker.log_to_tensorboard(step=sample_phase)\n",
    "        \n",
    "        # TODO Later: actor and critic losses\n",
    "\n",
    "        # Save original image and reconstruction\n",
    "        save_image_and_reconstruction(x, x_pred, sample_phase)\n",
    "\n",
    "env.close()\n",
    "    \n",
    "    "
   ]
  },
  {
   "cell_type": "code",
   "execution_count": 40,
   "id": "946bd69e",
   "metadata": {},
   "outputs": [
    {
     "data": {
      "text/plain": [
       "(3,)"
      ]
     },
     "execution_count": 40,
     "metadata": {},
     "output_type": "execute_result"
    }
   ],
   "source": [
    "PPO(\n",
    "policy=\"MlpPolicy\",\n",
    "env=imagination_env,\n",
    "verbose=verbose,\n",
    "tensorboard_log=log_dir,\n",
    "gamma=gamma,\n",
    "gae_lambda=lam,\n",
    "ent_coef=ent_coef).predict(state, deterministic=False)[0].shape"
   ]
  },
  {
   "cell_type": "code",
   "execution_count": 29,
   "id": "dd303c9c",
   "metadata": {},
   "outputs": [
    {
     "data": {
      "text/plain": [
       "torch.Size([3])"
      ]
     },
     "execution_count": 29,
     "metadata": {},
     "output_type": "execute_result"
    }
   ],
   "source": [
    "action.shape"
   ]
  },
  {
   "cell_type": "code",
   "execution_count": 43,
   "id": "c04d9e0b",
   "metadata": {},
   "outputs": [
    {
     "data": {
      "text/plain": [
       "torch.Size([3])"
      ]
     },
     "execution_count": 43,
     "metadata": {},
     "output_type": "execute_result"
    }
   ],
   "source": [
    "action.squeeze().shape"
   ]
  },
  {
   "cell_type": "code",
   "execution_count": 13,
   "id": "edb66562",
   "metadata": {},
   "outputs": [
    {
     "data": {
      "text/plain": [
       "torch.Size([1, 1, 512])"
      ]
     },
     "execution_count": 13,
     "metadata": {},
     "output_type": "execute_result"
    }
   ],
   "source": [
    "h.shape"
   ]
  },
  {
   "cell_type": "code",
   "execution_count": 14,
   "id": "bb7823a0",
   "metadata": {},
   "outputs": [
    {
     "data": {
      "text/plain": [
       "torch.Size([1, 1024])"
      ]
     },
     "execution_count": 14,
     "metadata": {},
     "output_type": "execute_result"
    }
   ],
   "source": [
    "z.shape"
   ]
  },
  {
   "cell_type": "code",
   "execution_count": 47,
   "id": "cd5d62a0",
   "metadata": {},
   "outputs": [
    {
     "ename": "RuntimeError",
     "evalue": "Tensors must have same number of dimensions: got 2 and 3",
     "output_type": "error",
     "traceback": [
      "\u001b[0;31m---------------------------------------------------------------------------\u001b[0m",
      "\u001b[0;31mRuntimeError\u001b[0m                              Traceback (most recent call last)",
      "Cell \u001b[0;32mIn [47], line 1\u001b[0m\n\u001b[0;32m----> 1\u001b[0m \u001b[43mtorch\u001b[49m\u001b[38;5;241;43m.\u001b[39;49m\u001b[43mcat\u001b[49m\u001b[43m(\u001b[49m\u001b[43m(\u001b[49m\u001b[43maction\u001b[49m\u001b[38;5;241;43m.\u001b[39;49m\u001b[43munsqueeze\u001b[49m\u001b[43m(\u001b[49m\u001b[38;5;241;43m0\u001b[39;49m\u001b[43m)\u001b[49m\u001b[43m,\u001b[49m\u001b[43m \u001b[49m\u001b[43mh\u001b[49m\u001b[43m,\u001b[49m\u001b[43m \u001b[49m\u001b[43mz\u001b[49m\u001b[43m)\u001b[49m\u001b[43m,\u001b[49m\u001b[43m \u001b[49m\u001b[38;5;241;43m1\u001b[39;49m\u001b[43m)\u001b[49m\u001b[38;5;241m.\u001b[39mfloat()\n",
      "\u001b[0;31mRuntimeError\u001b[0m: Tensors must have same number of dimensions: got 2 and 3"
     ]
    }
   ],
   "source": [
    "torch.cat((action.unsqueeze(0), h, z), 1).float()"
   ]
  },
  {
   "cell_type": "code",
   "execution_count": null,
   "id": "f2c14715",
   "metadata": {},
   "outputs": [],
   "source": []
  },
  {
   "cell_type": "code",
   "execution_count": null,
   "id": "80a3a48a",
   "metadata": {},
   "outputs": [],
   "source": [
    "# try:\n",
    "# - training loop\n",
    "# except KeyboardInterrupt:\n",
    "#     \"\"\" Clean handling for interrupts to stop training early \"\"\"\n",
    "#     print(\"Stopping training.\")\n",
    "#     # Delete the last loss if the training was stopped early\n",
    "#     # so that the list only consists of floats\n",
    "#     for key in episode_losses:\n",
    "#         if isinstance(episode_losses[key][-1], torch.Tensor):\n",
    "#             episode_losses[key] = episode_losses[key][:-1]\n",
    "# \n",
    "#     # Close the TensorBoard writer and the gym environment\n",
    "#     writer.close()\n",
    "#     env.close()"
   ]
  },
  {
   "cell_type": "code",
   "execution_count": null,
   "id": "e6ad0c48",
   "metadata": {},
   "outputs": [],
   "source": [
    "#            # save the rssm and agent\n",
    "#            rssm.save_weights(filename=f\"RSSM_{best_running_loss:.8f}\")\n",
    "#            agent.save(f\"weights/{agent.__class__.__name__}_agent\")"
   ]
  },
  {
   "cell_type": "code",
   "execution_count": null,
   "id": "6d96d812",
   "metadata": {},
   "outputs": [],
   "source": []
  },
  {
   "cell_type": "code",
   "execution_count": null,
   "id": "38a2fb86",
   "metadata": {},
   "outputs": [],
   "source": []
  },
  {
   "cell_type": "code",
   "execution_count": null,
   "id": "e42fb0f2",
   "metadata": {},
   "outputs": [],
   "source": []
  },
  {
   "cell_type": "code",
   "execution_count": null,
   "id": "7f7ebb9b",
   "metadata": {},
   "outputs": [],
   "source": []
  },
  {
   "cell_type": "code",
   "execution_count": null,
   "id": "90979190",
   "metadata": {},
   "outputs": [],
   "source": []
  },
  {
   "cell_type": "code",
   "execution_count": null,
   "id": "21ea7a23",
   "metadata": {},
   "outputs": [],
   "source": []
  },
  {
   "cell_type": "code",
   "execution_count": null,
   "id": "82409e2b",
   "metadata": {},
   "outputs": [],
   "source": []
  },
  {
   "cell_type": "markdown",
   "id": "55e74d14",
   "metadata": {},
   "source": [
    "## Plot the results"
   ]
  },
  {
   "cell_type": "code",
   "execution_count": null,
   "id": "0703ff02",
   "metadata": {},
   "outputs": [],
   "source": [
    "plot_results = False\n",
    "\n",
    "if plot_results:\n",
    "    rolling_length = max(1, int(len(episode_losses[\"episode_loss\"])/20))\n",
    "\n",
    "    fig, axs = plt.subplots(ncols=3, nrows=2, figsize=(3*5, 2*5))\n",
    "\n",
    "    # Iterate over the keys and plot the losses\n",
    "    for i, key in enumerate(episode_losses.keys()):\n",
    "        row = i // 3\n",
    "        col = i % 3\n",
    "\n",
    "        axs[row, col].set_title(key)\n",
    "        losses = episode_losses[key]\n",
    "        losses_moving_average = (\n",
    "            np.convolve(\n",
    "                np.array(losses).flatten(), np.ones(rolling_length), mode=\"valid\"\n",
    "            )\n",
    "            / rolling_length\n",
    "        )\n",
    "        axs[row, col].plot(range(len(losses)), losses, label=key)\n",
    "        axs[row, col].plot(range(len(losses_moving_average)), losses_moving_average, label=\"moving average\")\n",
    "        axs[row, col].legend(loc=\"upper right\")\n",
    "\n",
    "    plt.tight_layout()\n",
    "    plt.show()"
   ]
  },
  {
   "cell_type": "markdown",
   "id": "55d0fd15",
   "metadata": {},
   "source": [
    "## Showcase the trained agent playing in latent imagination"
   ]
  },
  {
   "cell_type": "code",
   "execution_count": null,
   "id": "b5f62546",
   "metadata": {},
   "outputs": [],
   "source": [
    "showcase_agent = False\n",
    "\n",
    "if showcase_agent:\n",
    "    \n",
    "    showcase_rewards = []\n",
    "    imagination_env.render_mode = \"gif\"\n",
    "    obs, info = imagination_env.reset()\n",
    "    \n",
    "    for i in range(500):\n",
    "        \n",
    "        # apply the RL agent in eval mode to get an action\n",
    "        state = to_np(torch.cat((h.flatten().detach(), z.flatten().detach()), dim=0))\n",
    "        action, _ = agent.predict(state, deterministic=False)\n",
    "        # action = imagination_env.action_space.sample()\n",
    "        \n",
    "        obs, reward, terminated, truncated, info = imagination_env.step(action)\n",
    "        showcase_rewards.append(reward)\n",
    "        imagination_env.render()\n",
    "        \n",
    "        if terminated or truncated:\n",
    "            break\n",
    "        \n",
    "    imagination_env.close()\n",
    "    imagination_env.render_mode = None\n",
    "\n",
    "    plt.plot(showcase_rewards)\n",
    "    plt.show()"
   ]
  },
  {
   "cell_type": "code",
   "execution_count": null,
   "id": "0e073982",
   "metadata": {},
   "outputs": [],
   "source": []
  },
  {
   "cell_type": "markdown",
   "id": "3354e868",
   "metadata": {},
   "source": [
    "## Test area"
   ]
  },
  {
   "cell_type": "code",
   "execution_count": null,
   "id": "60cb6387",
   "metadata": {},
   "outputs": [],
   "source": [
    "# !tensorboard "
   ]
  },
  {
   "cell_type": "code",
   "execution_count": null,
   "id": "35914cfb",
   "metadata": {},
   "outputs": [],
   "source": []
  },
  {
   "cell_type": "code",
   "execution_count": null,
   "id": "8f70fa43",
   "metadata": {},
   "outputs": [],
   "source": []
  },
  {
   "cell_type": "code",
   "execution_count": null,
   "id": "a4bdcc84",
   "metadata": {},
   "outputs": [],
   "source": []
  }
 ],
 "metadata": {
  "kernelspec": {
   "display_name": "Python 3 (ipykernel)",
   "language": "python",
   "name": "python3"
  },
  "language_info": {
   "codemirror_mode": {
    "name": "ipython",
    "version": 3
   },
   "file_extension": ".py",
   "mimetype": "text/x-python",
   "name": "python",
   "nbconvert_exporter": "python",
   "pygments_lexer": "ipython3",
   "version": "3.10.4"
  },
  "vscode": {
   "interpreter": {
    "hash": "e7370f93d1d0cde622a1f8e1c04877d8463912d04d973331ad4851f04de6915a"
   }
  }
 },
 "nbformat": 4,
 "nbformat_minor": 5
}
