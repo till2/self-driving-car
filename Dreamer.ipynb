{
 "cells": [
  {
   "cell_type": "code",
   "execution_count": 1,
   "id": "0b1c5dcf",
   "metadata": {},
   "outputs": [],
   "source": [
    "from __future__ import annotations\n",
    "from typing import Dict, List, Union\n",
    "\n",
    "import logging\n",
    "import os\n",
    "import random\n",
    "import sys\n",
    "from collections import deque\n",
    "from operator import itemgetter\n",
    "\n",
    "import gym_donkeycar\n",
    "import gymnasium as gym\n",
    "import imageio\n",
    "import ipywidgets as widgets\n",
    "import numpy as np\n",
    "import pandas as pd\n",
    "import torch\n",
    "import torch.nn as nn\n",
    "import torch.nn.functional as F\n",
    "import torch.optim as optim\n",
    "import torchvision\n",
    "from IPython.display import display\n",
    "from ipywidgets import HBox, VBox\n",
    "from matplotlib import pyplot as plt\n",
    "from PIL import Image\n",
    "from ruamel.yaml import YAML\n",
    "from scipy.ndimage import gaussian_filter1d\n",
    "from scipy.stats import norm\n",
    "from tensorboard import notebook\n",
    "from tensorboard.backend.event_processing.event_accumulator import \\\n",
    "    EventAccumulator\n",
    "from torch import distributions as dist\n",
    "from torch.distributions import Categorical, Normal\n",
    "from torch.utils.tensorboard import SummaryWriter\n",
    "from torchvision import transforms\n",
    "from tqdm import tqdm\n",
    "\n",
    "import gymnasium as gym\n",
    "\n",
    "# suppress warnings\n",
    "import warnings\n",
    "warnings.filterwarnings(\"ignore\", category=UserWarning, module=\"gymnasium.spaces.box\") # module=\"gymnasium\"\n",
    "os.environ['TF_CPP_MIN_LOG_LEVEL'] = '2'\n",
    "os.environ[\"IMAGEIO_IGNORE_WARNINGS\"] = \"True\"\n",
    "\n",
    "import stable_baselines3 as sb3\n",
    "from gym_donkeycar.envs.donkey_env import DonkeyEnv\n",
    "from gymnasium import spaces\n",
    "from gymnasium.spaces import Box\n",
    "from stable_baselines3 import A2C, PPO, SAC\n",
    "from stable_baselines3.common import env_checker\n",
    "from stable_baselines3.common.callbacks import EvalCallback\n",
    "from stable_baselines3.common.env_util import make_vec_env\n",
    "from stable_baselines3.common.evaluation import evaluate_policy\n",
    "from stable_baselines3.common.monitor import Monitor\n",
    "from stable_baselines3.common.results_plotter import load_results, ts2xy\n",
    "from stable_baselines3.common.vec_env import DummyVecEnv, SubprocVecEnv\n",
    "\n",
    "import src\n",
    "from src.actor_critic_discrete import DiscreteActorCritic\n",
    "from src.actor_critic import ContinuousActorCritic\n",
    "from src.blocks import CategoricalStraightThrough, ConvBlock\n",
    "from src.categorical_vae import CategoricalVAE\n",
    "from src.imagination_env import make_imagination_env\n",
    "from src.mlp import MLP\n",
    "from src.preprocessing import transform\n",
    "from src.replay_buffer import ReplayBuffer\n",
    "from src.rssm import RSSM\n",
    "from src.utils import (load_config, make_env, save_image_and_reconstruction,\n",
    "                       to_np, symlog, symexp, twohot_encode, ExponentialMovingAvg,\n",
    "                       ActionExponentialMovingAvg, MetricsTracker)\n",
    "from src.vae import VAE\n",
    "\n",
    "torch.cuda.empty_cache()\n",
    "%matplotlib inline\n",
    "%load_ext autoreload\n",
    "%autoreload 2\n",
    "\n",
    "# Load the config\n",
    "config = load_config()\n",
    "for key in config:\n",
    "    locals()[key] = config[key]"
   ]
  },
  {
   "cell_type": "markdown",
   "id": "239558a5",
   "metadata": {},
   "source": [
    "## Init the RSSM (including all networks)"
   ]
  },
  {
   "cell_type": "code",
   "execution_count": 2,
   "id": "cda9f099",
   "metadata": {
    "scrolled": false
   },
   "outputs": [
    {
     "name": "stdout",
     "output_type": "stream",
     "text": [
      "Initializing encoder:\n",
      "- adding ConvBlock((3, 64))                   ==> output shape: (64, 32, 32) ==> prod: 65536\n",
      "- adding ConvBlock((64, 128))                   ==> output shape: (128, 16, 16) ==> prod: 32768\n",
      "- adding ConvBlock((128, 256))                   ==> output shape: (256, 8, 8) ==> prod: 16384\n",
      "- adding ConvBlock((256, 512))                   ==> output shape: (512, 4, 4) ==> prod: 8192\n",
      "- adding ConvBlock((512, 256))                   ==> output shape: (256, 2, 2) ==> prod: 1024\n",
      "- adding Flatten()\n",
      "- adding Reshape: (*,1024) => (*,32,32)\n",
      "\n",
      "Initializing decoder:\n",
      "- adding Reshape: (*,1024) => (*,256,2,2)\n",
      "- adding transpose ConvBlock(256, 256)                   ==> output shape: (256, 4, 4) ==> prod: 4096\n",
      "- adding transpose ConvBlock(256, 512)                   ==> output shape: (512, 8, 8) ==> prod: 32768\n",
      "- adding transpose ConvBlock(512, 256)                   ==> output shape: (256, 16, 16) ==> prod: 65536\n",
      "- adding transpose ConvBlock(256, 128)                   ==> output shape: (128, 32, 32) ==> prod: 131072\n",
      "- adding transpose ConvBlock(128, 3)                   ==> output shape: (3, 64, 64) ==> prod: 12288\n",
      "\n",
      "Initializing dynamics_mlp.\n",
      "\n",
      "Initializing reward_mlp.\n",
      "Adding zero weight init to the output layer.\n",
      "\n",
      "Initializing continue_mlp.\n"
     ]
    }
   ],
   "source": [
    "rssm = RSSM()"
   ]
  },
  {
   "cell_type": "markdown",
   "id": "e56fd60e",
   "metadata": {},
   "source": [
    "TODO:\n",
    "\n",
    "required:\n",
    "- use discrete actor critic agent [x ]\n",
    "- distributional reward_predictor [ ]\n",
    "\n",
    "optional:\n",
    "- output batches with rssm [x]\n",
    "- train on vector env with batches [x]"
   ]
  },
  {
   "cell_type": "code",
   "execution_count": null,
   "id": "553555a5",
   "metadata": {},
   "outputs": [],
   "source": []
  },
  {
   "cell_type": "code",
   "execution_count": null,
   "id": "d3aa5fc8",
   "metadata": {},
   "outputs": [],
   "source": []
  },
  {
   "cell_type": "code",
   "execution_count": null,
   "id": "d9360481",
   "metadata": {},
   "outputs": [],
   "source": []
  },
  {
   "cell_type": "code",
   "execution_count": null,
   "id": "dc2874f4",
   "metadata": {},
   "outputs": [],
   "source": []
  },
  {
   "cell_type": "markdown",
   "id": "229f8133",
   "metadata": {},
   "source": [
    "## Create the imagination environment for training the agent"
   ]
  },
  {
   "cell_type": "code",
   "execution_count": 3,
   "id": "a9a08c01",
   "metadata": {},
   "outputs": [],
   "source": [
    "replay_buffer = ReplayBuffer()"
   ]
  },
  {
   "cell_type": "code",
   "execution_count": 4,
   "id": "ec4e9cc6",
   "metadata": {},
   "outputs": [
    {
     "name": "stdout",
     "output_type": "stream",
     "text": [
      "Adding a RescaleActionV0 wrapper. Low: [-1. -1. -1.], High: [1. 1. 1.]\n"
     ]
    }
   ],
   "source": [
    "imagination_env = make_imagination_env(rssm, replay_buffer, batch_size=5) # batch_size=config[\"imagination_batch_size\"]"
   ]
  },
  {
   "cell_type": "code",
   "execution_count": null,
   "id": "ae0065c3",
   "metadata": {},
   "outputs": [],
   "source": []
  },
  {
   "cell_type": "code",
   "execution_count": null,
   "id": "19d984f0",
   "metadata": {},
   "outputs": [],
   "source": []
  },
  {
   "cell_type": "code",
   "execution_count": null,
   "id": "5610bb31",
   "metadata": {},
   "outputs": [],
   "source": []
  },
  {
   "cell_type": "code",
   "execution_count": null,
   "id": "8586567e",
   "metadata": {},
   "outputs": [],
   "source": []
  },
  {
   "cell_type": "code",
   "execution_count": 5,
   "id": "04955ded",
   "metadata": {},
   "outputs": [],
   "source": [
    "# env = make_env()"
   ]
  },
  {
   "cell_type": "code",
   "execution_count": null,
   "id": "9d080070",
   "metadata": {},
   "outputs": [],
   "source": []
  },
  {
   "cell_type": "code",
   "execution_count": null,
   "id": "dd94fb97",
   "metadata": {},
   "outputs": [],
   "source": []
  },
  {
   "cell_type": "markdown",
   "id": "4a93b68d",
   "metadata": {},
   "source": [
    "## Init the agent"
   ]
  },
  {
   "cell_type": "code",
   "execution_count": 6,
   "id": "fe1ee1a6",
   "metadata": {},
   "outputs": [
    {
     "name": "stdout",
     "output_type": "stream",
     "text": [
      "Initializing agent with 1536 features and 3 actions.\n",
      "Initializing critic.\n",
      "Adding zero weight init to the output layer.\n",
      "Initializing actor.\n",
      "Adding zero weight init to the output layer.\n"
     ]
    }
   ],
   "source": [
    "# agent = PPO(\n",
    "#     policy=\"MlpPolicy\",\n",
    "#     env=imagination_env,\n",
    "#     verbose=verbose,\n",
    "#     tensorboard_log=log_dir,\n",
    "#     gamma=gamma,\n",
    "#     gae_lambda=lam,\n",
    "#     ent_coef=ent_coef,\n",
    "# )\n",
    "\n",
    "agent = DiscreteActorCritic()"
   ]
  },
  {
   "cell_type": "code",
   "execution_count": null,
   "id": "705a7a7a",
   "metadata": {},
   "outputs": [],
   "source": []
  },
  {
   "cell_type": "code",
   "execution_count": null,
   "id": "27455aa2",
   "metadata": {},
   "outputs": [],
   "source": []
  },
  {
   "cell_type": "code",
   "execution_count": null,
   "id": "a02b6516",
   "metadata": {},
   "outputs": [],
   "source": []
  },
  {
   "cell_type": "code",
   "execution_count": null,
   "id": "4d75d589",
   "metadata": {},
   "outputs": [],
   "source": []
  },
  {
   "cell_type": "code",
   "execution_count": null,
   "id": "833a4b30",
   "metadata": {},
   "outputs": [],
   "source": []
  },
  {
   "cell_type": "code",
   "execution_count": null,
   "id": "60016e18",
   "metadata": {},
   "outputs": [],
   "source": []
  },
  {
   "cell_type": "code",
   "execution_count": null,
   "id": "e225e265",
   "metadata": {},
   "outputs": [],
   "source": []
  },
  {
   "cell_type": "code",
   "execution_count": null,
   "id": "a5061107",
   "metadata": {},
   "outputs": [],
   "source": []
  },
  {
   "cell_type": "markdown",
   "id": "856cb39a",
   "metadata": {},
   "source": [
    "## Training loop\n"
   ]
  },
  {
   "cell_type": "code",
   "execution_count": null,
   "id": "bff31322",
   "metadata": {
    "scrolled": false
   },
   "outputs": [
    {
     "name": "stdout",
     "output_type": "stream",
     "text": [
      "Creating environment with properties:\n",
      "- type: toy env\n",
      "- adding a TimeLimit wrapper with 1000 max episode steps\n",
      "- adding an AutoReset wrapper\n",
      "- making a AsyncVectorEnv with 16 envs\n",
      "- adding a RescaleActionV0 wrapper Low: -1, High: 1\n",
      "- adding a Gymnasium RecordEpisodeStatistics wrapper\n"
     ]
    },
    {
     "name": "stderr",
     "output_type": "stream",
     "text": [
      "  1%|█▎                                                                                    | 130/8812 [03:29<3:52:35,  1.61s/it]"
     ]
    }
   ],
   "source": [
    "# New dreamer training loop with batches for the distributional critic\n",
    "\n",
    "### rssm.load_weights(\"weights/RSSM_1.70111713\")\n",
    "### rssm.train()\n",
    "\n",
    "# Create the environment\n",
    "env = make_env()\n",
    "batch_size = config[\"n_envs\"]\n",
    "\n",
    "# World Model Logging\n",
    "model_tracker = MetricsTracker(\n",
    "    # Log the mean loss for the training metrics\n",
    "    training_metrics=[\"loss\", \"image_loss\", \"reward_loss\", \"continue_loss\", \"dyn_loss\", \"rep_loss\", \"rewards\"],\n",
    "    \n",
    "    # Loss per step\n",
    "    episode_metrics=[\"loss\", \"image_loss\", \"reward_loss\", \"continue_loss\", \"dyn_loss\", \"rep_loss\", \"rewards\"],\n",
    ")\n",
    "\n",
    "# Agent Logging\n",
    "agent_tracker = MetricsTracker(\n",
    "    training_metrics=[\"critic_loss\", \"actor_loss\"],\n",
    "    episode_metrics=[\"rewards\", \"log_probs\", \"value_preds\", \"critic_dists\", \"entropies\", \"masks\"],\n",
    ")\n",
    "\n",
    "\n",
    "for sample_phase in tqdm(range(start_phase, n_seed_phases + n_model_updates)):\n",
    "    \n",
    "    if sample_phase == start_phase:\n",
    "        \n",
    "        # Perform the first pre_step\n",
    "        obs, info = env.reset(seed=42)\n",
    "        x = transform(torch.tensor(obs)) # => (B,C,H,W)\n",
    "        replay_buffer.push(x)\n",
    "        step_dict = rssm.pre_step(x=x)\n",
    "    \n",
    "    for step in range(n_steps_per_model_update):\n",
    "    \n",
    "        \"\"\" WORLD MODEL LEARNING \"\"\"\n",
    "\n",
    "        h = step_dict[\"h\"]\n",
    "        step_dict = rssm.pre_step(h, x)\n",
    "        assert h.shape == torch.Size([batch_size, H])\n",
    "        assert x.shape == torch.Size([batch_size, 1 if grayscale else 3, *size])\n",
    "        \n",
    "        # Get action (random in init phases, otherwise from agent)\n",
    "        if sample_phase < n_seed_phases:\n",
    "            action = env.action_space.sample()\n",
    "        else:\n",
    "            assert step_dict[\"state\"].shape == torch.Size([batch_size, H+Z])\n",
    "            action, _, _ = agent.get_action(step_dict[\"state\"])\n",
    "        \n",
    "        # Update the world model state\n",
    "        h = step_dict[\"h\"]\n",
    "        z = step_dict[\"z\"]\n",
    "        h = rssm.step(action, h, z)\n",
    "\n",
    "        # Take an environment step with the action\n",
    "        obs, reward, terminated, truncated, info = env.step(to_np(action))\n",
    "        x = transform(torch.tensor(obs)) # => (B,C,H,W)\n",
    "        replay_buffer.push(x)\n",
    "\n",
    "        # Calculate the world model loss\n",
    "        step_dict[\"continue_target\"] = continue_target = torch.tensor(1 - (terminated | truncated), device=device, dtype=torch.float32)\n",
    "        step_dict[\"reward_target\"] = reward = torch.tensor(reward, device=device, dtype=torch.float32)\n",
    "        losses = rssm.get_losses(step_dict)\n",
    "\n",
    "        # Track the losses\n",
    "        model_tracker.add(\n",
    "            episode_metrics=losses # losses is a dict with batches for all episode metrics\n",
    "        )\n",
    "        # Track the reward for the episode return\n",
    "        model_tracker.add(\n",
    "            episode_metrics={\n",
    "                \"rewards\": reward,\n",
    "            }\n",
    "        )\n",
    "    \n",
    "    # Get mean loss and update world model\n",
    "    episode_losses = model_tracker.get_episode_batches(reduction=\"mean\") # episode_losses is a dict\n",
    "    rssm.update_parameters(episode_losses[\"loss\"])\n",
    "\n",
    "    \n",
    "    \"\"\" RL AGENT LEARNING (IN THE WORLD MODEL) \"\"\"\n",
    "    if verbose and sample_phase == n_seed_phases:\n",
    "        print(\"The agent starts learning.\")\n",
    "        \n",
    "    if sample_phase >= n_seed_phases:\n",
    "        \n",
    "        # for step in range(imagination_steps_per_agent_update):\n",
    "        for agent_update in range(agent_updates_per_model_update):\n",
    "            \n",
    "            # reset the env\n",
    "            dream_obs, dream_info = imagination_env.reset(seed=42)\n",
    "                \n",
    "            for imag_episode in range(max_imagination_episode_steps):\n",
    "\n",
    "                # play one episode with max. 16 steps in the imagination env\n",
    "                value_pred, critic_dist = agent.apply_critic(dream_obs)\n",
    "\n",
    "                # Get an action and take an environment step\n",
    "                action, log_prob, actor_entropy = agent.get_action(dream_obs)\n",
    "                dream_obs, reward, terminated, truncated, info = imagination_env.step(to_np(action))\n",
    "\n",
    "                # every step:\n",
    "                agent_tracker.add(\n",
    "                    episode_metrics={\n",
    "                        \"rewards\": reward,\n",
    "                        \"log_probs\": log_prob,\n",
    "                        \"value_preds\": value_pred,\n",
    "                        \"critic_dists\": critic_dist,\n",
    "                        \"entropies\": actor_entropy,\n",
    "                        \"masks\": (~terminated).float(), # 0 if terminated, else 1\n",
    "                    }\n",
    "                )\n",
    "\n",
    "            # every agent_update phase:\n",
    "            episode_batches = agent_tracker.get_episode_batches() # episode_batches is a dict\n",
    "            last_value_pred, _ = agent.apply_critic(dream_obs) # last value prediction for GAE\n",
    "\n",
    "            # Update the agent's parameters\n",
    "            critic_loss, actor_loss = agent.get_loss(episode_batches, last_value_pred)\n",
    "            agent.update_parameters(critic_loss, actor_loss)\n",
    "\n",
    "            # Only for the last imagined episode: Log the episode metrics\n",
    "            if agent_update == agent_updates_per_model_update - 1:\n",
    "\n",
    "                agent_tracker.add(\n",
    "                    training_metrics={\n",
    "                        \"critic_loss\": critic_loss,\n",
    "                        \"actor_loss\": actor_loss,\n",
    "                    }\n",
    "                )\n",
    "\n",
    "                # Actor and critic losses\n",
    "                agent_tracker.log_to_tensorboard(step=sample_phase)\n",
    "\n",
    "    \n",
    "    # Every couple episodes:\n",
    "    if sample_phase % config[\"log_interval\"] == 0:\n",
    "        \n",
    "        # Log: mean episode losses\n",
    "        model_tracker.add(\n",
    "            training_metrics=episode_losses\n",
    "        )\n",
    "        \n",
    "        # Log: episode return\n",
    "        if len(env.return_queue):\n",
    "            model_tracker.writer.add_scalar(\"episode_return\", np.array(env.return_queue)[-1], global_step=len(env.return_queue))\n",
    "        \n",
    "        # Tensorboard\n",
    "        model_tracker.log_to_tensorboard(step=sample_phase)\n",
    "        \n",
    "        # TODO Later: actor and critic losses\n",
    "        if agent_tracker.has_elements():\n",
    "            agent_tracker.log_to_tensorboard(step=sample_phase)\n",
    "\n",
    "        # Save original image and reconstruction\n",
    "        save_image_and_reconstruction(step_dict[\"x\"], step_dict[\"x_reconstruction\"], sample_phase)\n",
    "\n",
    "env.close()\n",
    "\n",
    "    "
   ]
  },
  {
   "cell_type": "code",
   "execution_count": null,
   "id": "1fc0846b",
   "metadata": {},
   "outputs": [],
   "source": []
  },
  {
   "cell_type": "code",
   "execution_count": null,
   "id": "21414d1b",
   "metadata": {},
   "outputs": [],
   "source": [
    "terminated"
   ]
  },
  {
   "cell_type": "code",
   "execution_count": null,
   "id": "4069e82f",
   "metadata": {},
   "outputs": [],
   "source": []
  },
  {
   "cell_type": "code",
   "execution_count": null,
   "id": "6659d476",
   "metadata": {},
   "outputs": [],
   "source": [
    "# 3 envs: 1.2/it\n",
    "# 8 envs: 1.4/it\n",
    "# 16 envs: 1.6/it"
   ]
  },
  {
   "cell_type": "code",
   "execution_count": null,
   "id": "6d254602",
   "metadata": {},
   "outputs": [],
   "source": []
  },
  {
   "cell_type": "code",
   "execution_count": null,
   "id": "7718278a",
   "metadata": {},
   "outputs": [],
   "source": [
    "plt.imshow(to_np(step_dict[\"x_reconstruction\"][0].permute(1,2,0)))"
   ]
  },
  {
   "cell_type": "code",
   "execution_count": null,
   "id": "974d6e1b",
   "metadata": {},
   "outputs": [],
   "source": []
  },
  {
   "cell_type": "code",
   "execution_count": null,
   "id": "01a4e43e",
   "metadata": {},
   "outputs": [],
   "source": []
  },
  {
   "cell_type": "code",
   "execution_count": null,
   "id": "96cbc339",
   "metadata": {},
   "outputs": [],
   "source": []
  },
  {
   "cell_type": "code",
   "execution_count": null,
   "id": "e9a22ad1",
   "metadata": {},
   "outputs": [],
   "source": []
  },
  {
   "cell_type": "code",
   "execution_count": null,
   "id": "88ce5b97",
   "metadata": {},
   "outputs": [],
   "source": []
  },
  {
   "cell_type": "code",
   "execution_count": null,
   "id": "98698051",
   "metadata": {},
   "outputs": [],
   "source": []
  },
  {
   "cell_type": "code",
   "execution_count": null,
   "id": "56c67441",
   "metadata": {},
   "outputs": [],
   "source": []
  },
  {
   "cell_type": "code",
   "execution_count": null,
   "id": "7f41fa6c",
   "metadata": {},
   "outputs": [],
   "source": []
  },
  {
   "cell_type": "code",
   "execution_count": null,
   "id": "2b3c5652",
   "metadata": {},
   "outputs": [],
   "source": []
  },
  {
   "cell_type": "code",
   "execution_count": null,
   "id": "a7b67bc4",
   "metadata": {},
   "outputs": [],
   "source": [
    "step_dict[\"x\"].shape"
   ]
  },
  {
   "cell_type": "code",
   "execution_count": null,
   "id": "558d9e2b",
   "metadata": {},
   "outputs": [],
   "source": [
    "step_dict[\"reward_target\"].shape"
   ]
  },
  {
   "cell_type": "code",
   "execution_count": null,
   "id": "0e6ee982",
   "metadata": {},
   "outputs": [],
   "source": [
    "step_dict[\"reward_target\"]"
   ]
  },
  {
   "cell_type": "code",
   "execution_count": null,
   "id": "78b9ab3e",
   "metadata": {},
   "outputs": [],
   "source": [
    "batch_size = 7\n",
    "h = torch.randn(batch_size, config[\"H\"]).to(config[\"device\"])\n",
    "x = torch.randn(batch_size, 3, 64, 64).to(config[\"device\"]) #  (B, C, H, W)"
   ]
  },
  {
   "cell_type": "code",
   "execution_count": null,
   "id": "e6aa3968",
   "metadata": {},
   "outputs": [],
   "source": [
    "x.shape[2:4]"
   ]
  },
  {
   "cell_type": "code",
   "execution_count": null,
   "id": "ed9169d2",
   "metadata": {},
   "outputs": [],
   "source": [
    "torch.tensor(env.reset()[0][0]).shape\n",
    "transform(torch.tensor(env.reset()[0][0])).shape"
   ]
  },
  {
   "cell_type": "code",
   "execution_count": null,
   "id": "5ad8f4ff",
   "metadata": {},
   "outputs": [],
   "source": []
  },
  {
   "cell_type": "code",
   "execution_count": null,
   "id": "690d9572",
   "metadata": {
    "scrolled": false
   },
   "outputs": [],
   "source": [
    "step_dict = rssm.pre_step(x=x)\n",
    "step_dict"
   ]
  },
  {
   "cell_type": "code",
   "execution_count": null,
   "id": "e7896396",
   "metadata": {},
   "outputs": [],
   "source": [
    "step_dict[\"z_pred\"] == step_dict[\"z\"]"
   ]
  },
  {
   "cell_type": "code",
   "execution_count": null,
   "id": "5169db30",
   "metadata": {},
   "outputs": [],
   "source": []
  },
  {
   "cell_type": "code",
   "execution_count": null,
   "id": "3816c365",
   "metadata": {},
   "outputs": [],
   "source": []
  },
  {
   "cell_type": "code",
   "execution_count": null,
   "id": "fbaff2c1",
   "metadata": {},
   "outputs": [],
   "source": [
    "h = torch.zeros(batch_size, H)\n",
    "h.shape"
   ]
  },
  {
   "cell_type": "code",
   "execution_count": null,
   "id": "946bd69e",
   "metadata": {},
   "outputs": [],
   "source": [
    "PPO(\n",
    "policy=\"MlpPolicy\",\n",
    "env=imagination_env,\n",
    "verbose=verbose,\n",
    "tensorboard_log=log_dir,\n",
    "gamma=gamma,\n",
    "gae_lambda=lam,\n",
    "ent_coef=ent_coef).predict(state, deterministic=False)[0].shape"
   ]
  },
  {
   "cell_type": "code",
   "execution_count": null,
   "id": "dd303c9c",
   "metadata": {},
   "outputs": [],
   "source": [
    "action.shape"
   ]
  },
  {
   "cell_type": "code",
   "execution_count": null,
   "id": "c04d9e0b",
   "metadata": {},
   "outputs": [],
   "source": [
    "action.squeeze().shape"
   ]
  },
  {
   "cell_type": "code",
   "execution_count": null,
   "id": "edb66562",
   "metadata": {},
   "outputs": [],
   "source": [
    "h.shape"
   ]
  },
  {
   "cell_type": "code",
   "execution_count": null,
   "id": "bb7823a0",
   "metadata": {},
   "outputs": [],
   "source": [
    "z.shape"
   ]
  },
  {
   "cell_type": "code",
   "execution_count": null,
   "id": "cd5d62a0",
   "metadata": {},
   "outputs": [],
   "source": [
    "torch.cat((action.unsqueeze(0), h, z), 1).float()"
   ]
  },
  {
   "cell_type": "code",
   "execution_count": null,
   "id": "f2c14715",
   "metadata": {},
   "outputs": [],
   "source": [
    "CategoricalStraightThrough.forward?"
   ]
  },
  {
   "cell_type": "code",
   "execution_count": null,
   "id": "80a3a48a",
   "metadata": {},
   "outputs": [],
   "source": [
    "# try:\n",
    "# - training loop\n",
    "# except KeyboardInterrupt:\n",
    "#     \"\"\" Clean handling for interrupts to stop training early \"\"\"\n",
    "#     print(\"Stopping training.\")\n",
    "#     # Delete the last loss if the training was stopped early\n",
    "#     # so that the list only consists of floats\n",
    "#     for key in episode_losses:\n",
    "#         if isinstance(episode_losses[key][-1], torch.Tensor):\n",
    "#             episode_losses[key] = episode_losses[key][:-1]\n",
    "# \n",
    "#     # Close the TensorBoard writer and the gym environment\n",
    "#     writer.close()\n",
    "#     env.close()"
   ]
  },
  {
   "cell_type": "code",
   "execution_count": null,
   "id": "e6ad0c48",
   "metadata": {},
   "outputs": [],
   "source": [
    "#            # save the rssm and agent\n",
    "#            rssm.save_weights(filename=f\"RSSM_{best_running_loss:.8f}\")\n",
    "#            agent.save(f\"weights/{agent.__class__.__name__}_agent\")"
   ]
  },
  {
   "cell_type": "code",
   "execution_count": null,
   "id": "6d96d812",
   "metadata": {},
   "outputs": [],
   "source": []
  },
  {
   "cell_type": "code",
   "execution_count": null,
   "id": "38a2fb86",
   "metadata": {},
   "outputs": [],
   "source": []
  },
  {
   "cell_type": "code",
   "execution_count": null,
   "id": "e42fb0f2",
   "metadata": {},
   "outputs": [],
   "source": []
  },
  {
   "cell_type": "code",
   "execution_count": null,
   "id": "7f7ebb9b",
   "metadata": {},
   "outputs": [],
   "source": []
  },
  {
   "cell_type": "code",
   "execution_count": null,
   "id": "90979190",
   "metadata": {},
   "outputs": [],
   "source": []
  },
  {
   "cell_type": "code",
   "execution_count": null,
   "id": "21ea7a23",
   "metadata": {},
   "outputs": [],
   "source": []
  },
  {
   "cell_type": "code",
   "execution_count": null,
   "id": "82409e2b",
   "metadata": {},
   "outputs": [],
   "source": []
  },
  {
   "cell_type": "markdown",
   "id": "55e74d14",
   "metadata": {},
   "source": [
    "## Plot the results"
   ]
  },
  {
   "cell_type": "code",
   "execution_count": null,
   "id": "0703ff02",
   "metadata": {},
   "outputs": [],
   "source": [
    "plot_results = False\n",
    "\n",
    "if plot_results:\n",
    "    rolling_length = max(1, int(len(episode_losses[\"episode_loss\"])/20))\n",
    "\n",
    "    fig, axs = plt.subplots(ncols=3, nrows=2, figsize=(3*5, 2*5))\n",
    "\n",
    "    # Iterate over the keys and plot the losses\n",
    "    for i, key in enumerate(episode_losses.keys()):\n",
    "        row = i // 3\n",
    "        col = i % 3\n",
    "\n",
    "        axs[row, col].set_title(key)\n",
    "        losses = episode_losses[key]\n",
    "        losses_moving_average = (\n",
    "            np.convolve(\n",
    "                np.array(losses).flatten(), np.ones(rolling_length), mode=\"valid\"\n",
    "            )\n",
    "            / rolling_length\n",
    "        )\n",
    "        axs[row, col].plot(range(len(losses)), losses, label=key)\n",
    "        axs[row, col].plot(range(len(losses_moving_average)), losses_moving_average, label=\"moving average\")\n",
    "        axs[row, col].legend(loc=\"upper right\")\n",
    "\n",
    "    plt.tight_layout()\n",
    "    plt.show()"
   ]
  },
  {
   "cell_type": "markdown",
   "id": "55d0fd15",
   "metadata": {},
   "source": [
    "## Showcase the trained agent playing in latent imagination"
   ]
  },
  {
   "cell_type": "code",
   "execution_count": null,
   "id": "b5f62546",
   "metadata": {},
   "outputs": [],
   "source": [
    "showcase_agent = False\n",
    "\n",
    "if showcase_agent:\n",
    "    \n",
    "    showcase_rewards = []\n",
    "    imagination_env.render_mode = \"gif\"\n",
    "    obs, info = imagination_env.reset()\n",
    "    \n",
    "    for i in range(500):\n",
    "        \n",
    "        # apply the RL agent in eval mode to get an action\n",
    "        state = to_np(torch.cat((h.flatten().detach(), z.flatten().detach()), dim=0))\n",
    "        action, _ = agent.predict(state, deterministic=False)\n",
    "        # action = imagination_env.action_space.sample()\n",
    "        \n",
    "        obs, reward, terminated, truncated, info = imagination_env.step(action)\n",
    "        showcase_rewards.append(reward)\n",
    "        imagination_env.render()\n",
    "        \n",
    "        if terminated or truncated:\n",
    "            break\n",
    "        \n",
    "    imagination_env.close()\n",
    "    imagination_env.render_mode = None\n",
    "\n",
    "    plt.plot(showcase_rewards)\n",
    "    plt.show()"
   ]
  },
  {
   "cell_type": "code",
   "execution_count": null,
   "id": "0e073982",
   "metadata": {},
   "outputs": [],
   "source": []
  },
  {
   "cell_type": "markdown",
   "id": "3354e868",
   "metadata": {},
   "source": [
    "## Test area"
   ]
  },
  {
   "cell_type": "code",
   "execution_count": null,
   "id": "60cb6387",
   "metadata": {},
   "outputs": [],
   "source": [
    "# !tensorboard "
   ]
  },
  {
   "cell_type": "code",
   "execution_count": null,
   "id": "35914cfb",
   "metadata": {},
   "outputs": [],
   "source": []
  },
  {
   "cell_type": "code",
   "execution_count": null,
   "id": "8f70fa43",
   "metadata": {},
   "outputs": [],
   "source": []
  },
  {
   "cell_type": "code",
   "execution_count": null,
   "id": "a4bdcc84",
   "metadata": {},
   "outputs": [],
   "source": []
  }
 ],
 "metadata": {
  "kernelspec": {
   "display_name": "Python 3 (ipykernel)",
   "language": "python",
   "name": "python3"
  },
  "language_info": {
   "codemirror_mode": {
    "name": "ipython",
    "version": 3
   },
   "file_extension": ".py",
   "mimetype": "text/x-python",
   "name": "python",
   "nbconvert_exporter": "python",
   "pygments_lexer": "ipython3",
   "version": "3.10.4"
  },
  "vscode": {
   "interpreter": {
    "hash": "e7370f93d1d0cde622a1f8e1c04877d8463912d04d973331ad4851f04de6915a"
   }
  }
 },
 "nbformat": 4,
 "nbformat_minor": 5
}
