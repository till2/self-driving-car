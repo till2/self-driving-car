{
 "cells": [
  {
   "cell_type": "code",
   "execution_count": 11,
   "id": "5d247623",
   "metadata": {},
   "outputs": [],
   "source": [
    "import gymnasium as gym\n",
    "\n",
    "import numpy as np\n",
    "import matplotlib.pyplot as plt\n",
    "from tqdm import tqdm\n",
    "\n",
    "import torch\n",
    "import torch.nn as nn\n",
    "import torch.functional as F\n",
    "from torch import optim\n",
    "\n",
    "import torchvision\n",
    "from torchvision import transforms"
   ]
  },
  {
   "cell_type": "markdown",
   "id": "a662fb3a",
   "metadata": {},
   "source": [
    "### Autoencoder for a 4-tuple observation"
   ]
  },
  {
   "cell_type": "code",
   "execution_count": 2,
   "id": "fdbfcf7a",
   "metadata": {},
   "outputs": [],
   "source": [
    "class AutoEncoder(nn.Module):\n",
    "    \n",
    "    def __init__(self, n_features, n_hidden, lr) -> None:\n",
    "        \"\"\" Initializes the AutoEncoder Network. \"\"\"\n",
    "        \n",
    "        super().__init__()\n",
    "        \n",
    "        # define the encoder network\n",
    "        self.encoder = nn.Sequential(\n",
    "            nn.Linear(n_features, n_hidden),\n",
    "            nn.ReLU(),\n",
    "        )\n",
    "        \n",
    "        # define the decoder network\n",
    "        self.decoder = nn.Sequential(\n",
    "            nn.Linear(n_hidden, n_features),\n",
    "        )\n",
    "    \n",
    "        # define the optimizer\n",
    "        self.optim = optim.Adam(self.parameters(), lr=lr)\n",
    "    \n",
    "        # define a loss function\n",
    "        self.loss = nn.MSELoss()\n",
    "    \n",
    "    def forward(self, x):\n",
    "        x = self.encoder(x)\n",
    "        x = self.decoder(x)\n",
    "        return x\n",
    "\n",
    "    \n",
    "    def get_loss(self, x, yhat):\n",
    "        return self.loss(x, yhat)\n",
    "\n",
    "autoencoder = AutoEncoder(n_features=4, n_hidden=2, lr=0.001)"
   ]
  },
  {
   "cell_type": "code",
   "execution_count": 3,
   "id": "64b8b5d2",
   "metadata": {
    "scrolled": true
   },
   "outputs": [
    {
     "name": "stderr",
     "output_type": "stream",
     "text": [
      "100%|██████████████████████████████████████████████████████████████████████████████████████| 1000/1000 [00:03<00:00, 263.39it/s]\n"
     ]
    }
   ],
   "source": [
    "# create the environment\n",
    "env = gym.make(\"CartPole-v1\", render_mode=\"rgb_array\") # human\n",
    "\n",
    "autoencoder_losses = []\n",
    "\n",
    "n_episodes = 1000\n",
    "for episode in tqdm(range(n_episodes)):\n",
    "    \n",
    "    # get the initial state\n",
    "    obs, info = env.reset()\n",
    "    \n",
    "    # play one episode\n",
    "    done = False\n",
    "    while not done:\n",
    "        \n",
    "        # pass obs through the autoencoder\n",
    "        x = torch.tensor(obs, dtype=torch.float32) # device\n",
    "        yhat = autoencoder(x)\n",
    "        \n",
    "        # get a loss and update the autoencoder\n",
    "        autoencoder_loss = autoencoder.get_loss(x, yhat)\n",
    "        autoencoder.optim.zero_grad()\n",
    "        autoencoder_loss.backward()\n",
    "        autoencoder.optim.step()\n",
    "        \n",
    "        autoencoder_losses.append(autoencoder_loss.item())\n",
    "        \n",
    "        # choose and execute an action\n",
    "        action = env.action_space.sample()\n",
    "        next_obs, reward, terminated, truncated, info = env.step(action)        \n",
    "        \n",
    "        # print(next_obs)\n",
    "        # env.render()\n",
    "        \n",
    "        done = terminated or truncated\n",
    "        obs = next_obs\n",
    "\n",
    "env.close()"
   ]
  },
  {
   "cell_type": "code",
   "execution_count": 4,
   "id": "bff67c44",
   "metadata": {},
   "outputs": [
    {
     "data": {
      "text/plain": [
       "[<matplotlib.lines.Line2D at 0x7fc02ca11c90>]"
      ]
     },
     "execution_count": 4,
     "metadata": {},
     "output_type": "execute_result"
    },
    {
     "data": {
      "image/png": "[encoded data removed]",
      "text/plain": [
       "<Figure size 640x480 with 1 Axes>"
      ]
     },
     "metadata": {},
     "output_type": "display_data"
    }
   ],
   "source": [
    "rolling_length = 200\n",
    "\n",
    "autoencoder_losses_moving_average = (\n",
    "    np.convolve(\n",
    "        np.array(autoencoder_losses).flatten(), np.ones(rolling_length), mode=\"valid\"\n",
    "    )\n",
    "    / rolling_length\n",
    ")\n",
    "\n",
    "\n",
    "plt.plot(autoencoder_losses_moving_average)"
   ]
  },
  {
   "cell_type": "code",
   "execution_count": null,
   "id": "6d27a7a0",
   "metadata": {},
   "outputs": [],
   "source": []
  },
  {
   "cell_type": "code",
   "execution_count": 6,
   "id": "bf7b86e3",
   "metadata": {},
   "outputs": [
    {
     "name": "stdout",
     "output_type": "stream",
     "text": [
      "Parameter containing:\n",
      "tensor([[-0.0647, -0.3602,  0.0445,  0.5262],\n",
      "        [ 0.2200,  0.4598,  0.7096,  0.3452]], requires_grad=True)\n",
      "Parameter containing:\n",
      "tensor([1.4819, 0.3092], requires_grad=True)\n",
      "Parameter containing:\n",
      "tensor([[-0.1025, -0.0200],\n",
      "        [-0.9483,  0.9665],\n",
      "        [ 0.0604,  0.4654],\n",
      "        [ 1.2495,  0.5645]], requires_grad=True)\n",
      "Parameter containing:\n",
      "tensor([ 0.1021,  1.1319, -0.2278, -2.0342], requires_grad=True)\n"
     ]
    }
   ],
   "source": [
    "for x in autoencoder.parameters():\n",
    "    print(x)"
   ]
  },
  {
   "cell_type": "markdown",
   "id": "5391400c",
   "metadata": {},
   "source": [
    "### ConvAutoencoder for image observations"
   ]
  },
  {
   "cell_type": "markdown",
   "id": "a3c3c4c1",
   "metadata": {},
   "source": [
    "<div style=\"width: 600px; margin: auto; width: 60%;\">\n",
    "    <img src=\"conv_enc_1.png\"/>\n",
    "<div>"
   ]
  },
  {
   "cell_type": "code",
   "execution_count": 7,
   "id": "6e79a0c0",
   "metadata": {},
   "outputs": [],
   "source": [
    "class ConvAutoEncoder(nn.Module):\n",
    "    \n",
    "    def __init__(self, in_channels, lr, dropout):\n",
    "        \"\"\" Initializes the AutoEncoder Network. \"\"\"\n",
    "        \n",
    "        super().__init__()\n",
    "        \n",
    "        # define the encoder network\n",
    "        self.encoder = nn.Sequential(\n",
    "            # 3 @ 96 x 96 -> 32 @ 96 x 96\n",
    "            nn.Conv2d(in_channels, 32, kernel_size=3, padding=1, stride=1),\n",
    "            nn.Dropout(dropout),\n",
    "            nn.ReLU(),\n",
    "            \n",
    "            # 32 @ 96 x 96 -> 32 @ 96 x 96\n",
    "            nn.Conv2d(32, 32, kernel_size=3, padding=1, stride=1),\n",
    "            nn.Dropout(dropout),\n",
    "            nn.ReLU(),\n",
    "            \n",
    "            # 32 @ 96 x 96 -> 32 @ 47 x 47\n",
    "            nn.MaxPool2d(3, stride=2),\n",
    "            \n",
    "            # 32 @ 47 x 47 -> 1 @ 47 x 47\n",
    "            nn.Conv2d(32, 1, kernel_size=3, padding=1, stride=1),\n",
    "            nn.Dropout(dropout),\n",
    "            nn.ReLU(),\n",
    "            \n",
    "            # 1 @ 47 x 47 -> 1 @ 23 x 23\n",
    "            nn.MaxPool2d(3, stride=2),\n",
    "            \n",
    "            # 1 @ 23 x 23 -> 32\n",
    "            nn.Flatten(),\n",
    "            nn.Linear(23*23, 32),\n",
    "            nn.ReLU(),\n",
    "        )\n",
    "        \n",
    "        \n",
    "        # define the decoder network\n",
    "        self.decoder = nn.Sequential(\n",
    "            \n",
    "            # 1 @ 32 -> 1 @ 23 x 23\n",
    "            nn.Linear(32, 23*23),\n",
    "            nn.ReLU(),\n",
    "            nn.Unflatten(1, (23, 23)), # nn.Unflatten(1, (32, 4, 4)),\n",
    "            \n",
    "           \n",
    "            # 1 @ 23 x 23 -> 16 @ 47 x 47\n",
    "            nn.ConvTranspose2d(1, 16, kernel_size=3, stride=2),\n",
    "            nn.Dropout(dropout),\n",
    "            nn.ReLU(),\n",
    "            \n",
    "            # 16 @ 47 x 47 -> 16 @ 95 x 95\n",
    "            nn.ConvTranspose2d(16, 16, kernel_size=3, stride=2),\n",
    "            nn.Dropout(dropout),\n",
    "            nn.ReLU(),\n",
    "            \n",
    "            # 6 @ 95 x 95 -> 3 @ 96 x 96\n",
    "            nn.ConvTranspose2d(16, 3, kernel_size=2, stride=1),\n",
    "            nn.ReLU(),\n",
    "        )\n",
    "\n",
    "        # define the optimizer\n",
    "        self.optim = optim.Adam(self.parameters(), lr=lr)\n",
    "    \n",
    "        # define a loss function\n",
    "        self.loss = nn.MSELoss()\n",
    "    \n",
    "    def forward(self, x):\n",
    "        x = self.encoder(x)\n",
    "        print(x.shape)\n",
    "        x = self.decoder(x)\n",
    "        return x\n",
    "    \n",
    "    def get_loss(self, x, yhat):\n",
    "        return self.loss(x, yhat)\n",
    "\n",
    "autoencoder = ConvAutoEncoder(in_channels=3, lr=0.01, dropout=0.5)"
   ]
  },
  {
   "cell_type": "code",
   "execution_count": 8,
   "id": "b6dc29d4",
   "metadata": {},
   "outputs": [
    {
     "data": {
      "text/plain": [
       "torch.Size([3, 96, 96])"
      ]
     },
     "execution_count": 8,
     "metadata": {},
     "output_type": "execute_result"
    }
   ],
   "source": [
    "x = torch.rand((3,96,96)) # C x H x W (permute obs)\n",
    "x.shape"
   ]
  },
  {
   "cell_type": "code",
   "execution_count": 9,
   "id": "e5438530",
   "metadata": {},
   "outputs": [
    {
     "data": {
      "text/plain": [
       "47525"
      ]
     },
     "execution_count": 9,
     "metadata": {},
     "output_type": "execute_result"
    }
   ],
   "source": [
    "def count_trainable_parameters(model):\n",
    "    return sum(p.numel() for p in model.parameters() if p.requires_grad)\n",
    "\n",
    "count_trainable_parameters(autoencoder)"
   ]
  },
  {
   "cell_type": "code",
   "execution_count": 10,
   "id": "adf1a4fc",
   "metadata": {},
   "outputs": [
    {
     "name": "stdout",
     "output_type": "stream",
     "text": [
      "torch.Size([1, 32])\n"
     ]
    },
    {
     "data": {
      "text/plain": [
       "torch.Size([3, 96, 96])"
      ]
     },
     "execution_count": 10,
     "metadata": {},
     "output_type": "execute_result"
    }
   ],
   "source": [
    "autoencoder(x).shape"
   ]
  },
  {
   "cell_type": "code",
   "execution_count": null,
   "id": "1c3b5db8",
   "metadata": {},
   "outputs": [],
   "source": []
  },
  {
   "cell_type": "code",
   "execution_count": 60,
   "id": "40f52fac",
   "metadata": {},
   "outputs": [],
   "source": [
    "env = gym.make(\"CarRacing-v2\")\n",
    "obs = env.observation_space.sample()"
   ]
  },
  {
   "cell_type": "code",
   "execution_count": 61,
   "id": "f22a4540",
   "metadata": {},
   "outputs": [
    {
     "data": {
      "text/plain": [
       "(96, 96, 3)"
      ]
     },
     "execution_count": 61,
     "metadata": {},
     "output_type": "execute_result"
    }
   ],
   "source": [
    "obs.shape"
   ]
  },
  {
   "cell_type": "code",
   "execution_count": 70,
   "id": "0967fdf8",
   "metadata": {},
   "outputs": [
    {
     "data": {
      "text/plain": [
       "torch.Size([96, 96, 3])"
      ]
     },
     "execution_count": 70,
     "metadata": {},
     "output_type": "execute_result"
    }
   ],
   "source": [
    "x = torch.tensor(obs, dtype=torch.float32)\n",
    "x.shape"
   ]
  },
  {
   "cell_type": "code",
   "execution_count": 71,
   "id": "3c99a4b2",
   "metadata": {},
   "outputs": [
    {
     "data": {
      "text/plain": [
       "torch.Size([3, 96, 96])"
      ]
     },
     "execution_count": 71,
     "metadata": {},
     "output_type": "execute_result"
    }
   ],
   "source": [
    "x = torch.permute(x, (2, 0, 1))\n",
    "x.shape"
   ]
  },
  {
   "cell_type": "code",
   "execution_count": null,
   "id": "d63edd2d",
   "metadata": {},
   "outputs": [],
   "source": []
  },
  {
   "cell_type": "code",
   "execution_count": 70,
   "id": "cbddd614",
   "metadata": {},
   "outputs": [
    {
     "name": "stderr",
     "output_type": "stream",
     "text": [
      "  0%|                                                                                                    | 0/50 [00:00<?, ?it/s]\n"
     ]
    },
    {
     "ename": "RuntimeError",
     "evalue": "mat1 and mat2 shapes cannot be multiplied (288x96 and 4x2)",
     "output_type": "error",
     "traceback": [
      "\u001b[0;31m---------------------------------------------------------------------------\u001b[0m",
      "\u001b[0;31mRuntimeError\u001b[0m                              Traceback (most recent call last)",
      "Cell \u001b[0;32mIn [70], line 19\u001b[0m\n\u001b[1;32m     17\u001b[0m x \u001b[38;5;241m=\u001b[39m torch\u001b[38;5;241m.\u001b[39mtensor(obs, dtype\u001b[38;5;241m=\u001b[39mtorch\u001b[38;5;241m.\u001b[39mfloat32) \u001b[38;5;66;03m# device\u001b[39;00m\n\u001b[1;32m     18\u001b[0m x \u001b[38;5;241m=\u001b[39m torch\u001b[38;5;241m.\u001b[39mpermute(x, (\u001b[38;5;241m2\u001b[39m, \u001b[38;5;241m0\u001b[39m, \u001b[38;5;241m1\u001b[39m)) \u001b[38;5;66;03m# HxWxC -> CxHxW\u001b[39;00m\n\u001b[0;32m---> 19\u001b[0m yhat \u001b[38;5;241m=\u001b[39m \u001b[43mautoencoder\u001b[49m\u001b[43m(\u001b[49m\u001b[43mx\u001b[49m\u001b[43m)\u001b[49m\n\u001b[1;32m     21\u001b[0m \u001b[38;5;66;03m# get a loss and update the autoencoder\u001b[39;00m\n\u001b[1;32m     22\u001b[0m autoencoder_loss \u001b[38;5;241m=\u001b[39m autoencoder\u001b[38;5;241m.\u001b[39mget_loss(x, yhat)\n",
      "File \u001b[0;32m~/.local/lib/python3.10/site-packages/torch/nn/modules/module.py:1130\u001b[0m, in \u001b[0;36mModule._call_impl\u001b[0;34m(self, *input, **kwargs)\u001b[0m\n\u001b[1;32m   1126\u001b[0m \u001b[38;5;66;03m# If we don't have any hooks, we want to skip the rest of the logic in\u001b[39;00m\n\u001b[1;32m   1127\u001b[0m \u001b[38;5;66;03m# this function, and just call forward.\u001b[39;00m\n\u001b[1;32m   1128\u001b[0m \u001b[38;5;28;01mif\u001b[39;00m \u001b[38;5;129;01mnot\u001b[39;00m (\u001b[38;5;28mself\u001b[39m\u001b[38;5;241m.\u001b[39m_backward_hooks \u001b[38;5;129;01mor\u001b[39;00m \u001b[38;5;28mself\u001b[39m\u001b[38;5;241m.\u001b[39m_forward_hooks \u001b[38;5;129;01mor\u001b[39;00m \u001b[38;5;28mself\u001b[39m\u001b[38;5;241m.\u001b[39m_forward_pre_hooks \u001b[38;5;129;01mor\u001b[39;00m _global_backward_hooks\n\u001b[1;32m   1129\u001b[0m         \u001b[38;5;129;01mor\u001b[39;00m _global_forward_hooks \u001b[38;5;129;01mor\u001b[39;00m _global_forward_pre_hooks):\n\u001b[0;32m-> 1130\u001b[0m     \u001b[38;5;28;01mreturn\u001b[39;00m \u001b[43mforward_call\u001b[49m\u001b[43m(\u001b[49m\u001b[38;5;241;43m*\u001b[39;49m\u001b[38;5;28;43minput\u001b[39;49m\u001b[43m,\u001b[49m\u001b[43m \u001b[49m\u001b[38;5;241;43m*\u001b[39;49m\u001b[38;5;241;43m*\u001b[39;49m\u001b[43mkwargs\u001b[49m\u001b[43m)\u001b[49m\n\u001b[1;32m   1131\u001b[0m \u001b[38;5;66;03m# Do not call functions when jit is used\u001b[39;00m\n\u001b[1;32m   1132\u001b[0m full_backward_hooks, non_full_backward_hooks \u001b[38;5;241m=\u001b[39m [], []\n",
      "Cell \u001b[0;32mIn [2], line 26\u001b[0m, in \u001b[0;36mAutoEncoder.forward\u001b[0;34m(self, x)\u001b[0m\n\u001b[1;32m     25\u001b[0m \u001b[38;5;28;01mdef\u001b[39;00m \u001b[38;5;21mforward\u001b[39m(\u001b[38;5;28mself\u001b[39m, x):\n\u001b[0;32m---> 26\u001b[0m     x \u001b[38;5;241m=\u001b[39m \u001b[38;5;28;43mself\u001b[39;49m\u001b[38;5;241;43m.\u001b[39;49m\u001b[43mencoder\u001b[49m\u001b[43m(\u001b[49m\u001b[43mx\u001b[49m\u001b[43m)\u001b[49m\n\u001b[1;32m     27\u001b[0m     x \u001b[38;5;241m=\u001b[39m \u001b[38;5;28mself\u001b[39m\u001b[38;5;241m.\u001b[39mdecoder(x)\n\u001b[1;32m     28\u001b[0m     \u001b[38;5;28;01mreturn\u001b[39;00m x\n",
      "File \u001b[0;32m~/.local/lib/python3.10/site-packages/torch/nn/modules/module.py:1130\u001b[0m, in \u001b[0;36mModule._call_impl\u001b[0;34m(self, *input, **kwargs)\u001b[0m\n\u001b[1;32m   1126\u001b[0m \u001b[38;5;66;03m# If we don't have any hooks, we want to skip the rest of the logic in\u001b[39;00m\n\u001b[1;32m   1127\u001b[0m \u001b[38;5;66;03m# this function, and just call forward.\u001b[39;00m\n\u001b[1;32m   1128\u001b[0m \u001b[38;5;28;01mif\u001b[39;00m \u001b[38;5;129;01mnot\u001b[39;00m (\u001b[38;5;28mself\u001b[39m\u001b[38;5;241m.\u001b[39m_backward_hooks \u001b[38;5;129;01mor\u001b[39;00m \u001b[38;5;28mself\u001b[39m\u001b[38;5;241m.\u001b[39m_forward_hooks \u001b[38;5;129;01mor\u001b[39;00m \u001b[38;5;28mself\u001b[39m\u001b[38;5;241m.\u001b[39m_forward_pre_hooks \u001b[38;5;129;01mor\u001b[39;00m _global_backward_hooks\n\u001b[1;32m   1129\u001b[0m         \u001b[38;5;129;01mor\u001b[39;00m _global_forward_hooks \u001b[38;5;129;01mor\u001b[39;00m _global_forward_pre_hooks):\n\u001b[0;32m-> 1130\u001b[0m     \u001b[38;5;28;01mreturn\u001b[39;00m \u001b[43mforward_call\u001b[49m\u001b[43m(\u001b[49m\u001b[38;5;241;43m*\u001b[39;49m\u001b[38;5;28;43minput\u001b[39;49m\u001b[43m,\u001b[49m\u001b[43m \u001b[49m\u001b[38;5;241;43m*\u001b[39;49m\u001b[38;5;241;43m*\u001b[39;49m\u001b[43mkwargs\u001b[49m\u001b[43m)\u001b[49m\n\u001b[1;32m   1131\u001b[0m \u001b[38;5;66;03m# Do not call functions when jit is used\u001b[39;00m\n\u001b[1;32m   1132\u001b[0m full_backward_hooks, non_full_backward_hooks \u001b[38;5;241m=\u001b[39m [], []\n",
      "File \u001b[0;32m~/.local/lib/python3.10/site-packages/torch/nn/modules/container.py:139\u001b[0m, in \u001b[0;36mSequential.forward\u001b[0;34m(self, input)\u001b[0m\n\u001b[1;32m    137\u001b[0m \u001b[38;5;28;01mdef\u001b[39;00m \u001b[38;5;21mforward\u001b[39m(\u001b[38;5;28mself\u001b[39m, \u001b[38;5;28minput\u001b[39m):\n\u001b[1;32m    138\u001b[0m     \u001b[38;5;28;01mfor\u001b[39;00m module \u001b[38;5;129;01min\u001b[39;00m \u001b[38;5;28mself\u001b[39m:\n\u001b[0;32m--> 139\u001b[0m         \u001b[38;5;28minput\u001b[39m \u001b[38;5;241m=\u001b[39m \u001b[43mmodule\u001b[49m\u001b[43m(\u001b[49m\u001b[38;5;28;43minput\u001b[39;49m\u001b[43m)\u001b[49m\n\u001b[1;32m    140\u001b[0m     \u001b[38;5;28;01mreturn\u001b[39;00m \u001b[38;5;28minput\u001b[39m\n",
      "File \u001b[0;32m~/.local/lib/python3.10/site-packages/torch/nn/modules/module.py:1130\u001b[0m, in \u001b[0;36mModule._call_impl\u001b[0;34m(self, *input, **kwargs)\u001b[0m\n\u001b[1;32m   1126\u001b[0m \u001b[38;5;66;03m# If we don't have any hooks, we want to skip the rest of the logic in\u001b[39;00m\n\u001b[1;32m   1127\u001b[0m \u001b[38;5;66;03m# this function, and just call forward.\u001b[39;00m\n\u001b[1;32m   1128\u001b[0m \u001b[38;5;28;01mif\u001b[39;00m \u001b[38;5;129;01mnot\u001b[39;00m (\u001b[38;5;28mself\u001b[39m\u001b[38;5;241m.\u001b[39m_backward_hooks \u001b[38;5;129;01mor\u001b[39;00m \u001b[38;5;28mself\u001b[39m\u001b[38;5;241m.\u001b[39m_forward_hooks \u001b[38;5;129;01mor\u001b[39;00m \u001b[38;5;28mself\u001b[39m\u001b[38;5;241m.\u001b[39m_forward_pre_hooks \u001b[38;5;129;01mor\u001b[39;00m _global_backward_hooks\n\u001b[1;32m   1129\u001b[0m         \u001b[38;5;129;01mor\u001b[39;00m _global_forward_hooks \u001b[38;5;129;01mor\u001b[39;00m _global_forward_pre_hooks):\n\u001b[0;32m-> 1130\u001b[0m     \u001b[38;5;28;01mreturn\u001b[39;00m \u001b[43mforward_call\u001b[49m\u001b[43m(\u001b[49m\u001b[38;5;241;43m*\u001b[39;49m\u001b[38;5;28;43minput\u001b[39;49m\u001b[43m,\u001b[49m\u001b[43m \u001b[49m\u001b[38;5;241;43m*\u001b[39;49m\u001b[38;5;241;43m*\u001b[39;49m\u001b[43mkwargs\u001b[49m\u001b[43m)\u001b[49m\n\u001b[1;32m   1131\u001b[0m \u001b[38;5;66;03m# Do not call functions when jit is used\u001b[39;00m\n\u001b[1;32m   1132\u001b[0m full_backward_hooks, non_full_backward_hooks \u001b[38;5;241m=\u001b[39m [], []\n",
      "File \u001b[0;32m~/.local/lib/python3.10/site-packages/torch/nn/modules/linear.py:114\u001b[0m, in \u001b[0;36mLinear.forward\u001b[0;34m(self, input)\u001b[0m\n\u001b[1;32m    113\u001b[0m \u001b[38;5;28;01mdef\u001b[39;00m \u001b[38;5;21mforward\u001b[39m(\u001b[38;5;28mself\u001b[39m, \u001b[38;5;28minput\u001b[39m: Tensor) \u001b[38;5;241m-\u001b[39m\u001b[38;5;241m>\u001b[39m Tensor:\n\u001b[0;32m--> 114\u001b[0m     \u001b[38;5;28;01mreturn\u001b[39;00m \u001b[43mF\u001b[49m\u001b[38;5;241;43m.\u001b[39;49m\u001b[43mlinear\u001b[49m\u001b[43m(\u001b[49m\u001b[38;5;28;43minput\u001b[39;49m\u001b[43m,\u001b[49m\u001b[43m \u001b[49m\u001b[38;5;28;43mself\u001b[39;49m\u001b[38;5;241;43m.\u001b[39;49m\u001b[43mweight\u001b[49m\u001b[43m,\u001b[49m\u001b[43m \u001b[49m\u001b[38;5;28;43mself\u001b[39;49m\u001b[38;5;241;43m.\u001b[39;49m\u001b[43mbias\u001b[49m\u001b[43m)\u001b[49m\n",
      "\u001b[0;31mRuntimeError\u001b[0m: mat1 and mat2 shapes cannot be multiplied (288x96 and 4x2)"
     ]
    }
   ],
   "source": [
    "# create the environment\n",
    "env = gym.make(\"CarRacing-v2\", render_mode=\"rgb_array\") # human\n",
    "\n",
    "autoencoder_losses = []\n",
    "\n",
    "n_episodes = 50\n",
    "for episode in tqdm(range(n_episodes)):\n",
    "    \n",
    "    # get the initial state\n",
    "    obs, info = env.reset()\n",
    "    \n",
    "    # play one episode\n",
    "    done = False\n",
    "    while not done:\n",
    "        \n",
    "        # pass obs through the autoencoder\n",
    "        x = torch.tensor(obs, dtype=torch.float32) # device\n",
    "        x = torch.permute(x, (2, 0, 1)) # HxWxC -> CxHxW\n",
    "        yhat = autoencoder(x)\n",
    "        \n",
    "        # get a loss and update the autoencoder\n",
    "        autoencoder_loss = autoencoder.get_loss(x, yhat)\n",
    "        autoencoder.optim.zero_grad()\n",
    "        autoencoder_loss.backward()\n",
    "        autoencoder.optim.step()\n",
    "        \n",
    "        autoencoder_losses.append(autoencoder_loss.item())\n",
    "        \n",
    "        # choose and execute an action\n",
    "        action = env.action_space.sample()\n",
    "        next_obs, reward, terminated, truncated, info = env.step(action)        \n",
    "        \n",
    "        # print(next_obs)\n",
    "        # env.render()\n",
    "        \n",
    "        done = terminated or truncated\n",
    "        obs = next_obs\n",
    "\n",
    "env.close()"
   ]
  },
  {
   "cell_type": "code",
   "execution_count": 260,
   "id": "18f33094",
   "metadata": {},
   "outputs": [
    {
     "data": {
      "text/plain": [
       "[<matplotlib.lines.Line2D at 0x7fd5f4d05e40>]"
      ]
     },
     "execution_count": 260,
     "metadata": {},
     "output_type": "execute_result"
    },
    {
     "data": {
      "image/png": "[encoded data removed]",
      "text/plain": [
       "<Figure size 640x480 with 1 Axes>"
      ]
     },
     "metadata": {},
     "output_type": "display_data"
    }
   ],
   "source": [
    "rolling_length = 1000\n",
    "\n",
    "autoencoder_losses_moving_average = (\n",
    "    np.convolve(\n",
    "        np.array(autoencoder_losses).flatten(), np.ones(rolling_length), mode=\"valid\"\n",
    "    )\n",
    "    / rolling_length\n",
    ")\n",
    "\n",
    "\n",
    "plt.plot(autoencoder_losses_moving_average)"
   ]
  },
  {
   "cell_type": "code",
   "execution_count": 7,
   "id": "e9aa0c84",
   "metadata": {},
   "outputs": [
    {
     "data": {
      "text/plain": [
       "<matplotlib.image.AxesImage at 0x7fc006f71f30>"
      ]
     },
     "execution_count": 7,
     "metadata": {},
     "output_type": "execute_result"
    },
    {
     "data": {
      "image/png": "[encoded data removed]",
      "text/plain": [
       "<Figure size 640x480 with 1 Axes>"
      ]
     },
     "metadata": {},
     "output_type": "display_data"
    }
   ],
   "source": [
    "env = gym.make(\"CarRacing-v2\", render_mode=\"rgb_array\")\n",
    "\n",
    "obs, info = env.reset()\n",
    "for i in range(20):\n",
    "    obs, reward, terminated, truncated, info = env.step(env.action_space.sample())\n",
    "plt.imshow(obs)\n"
   ]
  },
  {
   "cell_type": "code",
   "execution_count": 8,
   "id": "820b871c",
   "metadata": {},
   "outputs": [
    {
     "data": {
      "text/plain": [
       "array([[[100, 202, 100],\n",
       "        [100, 202, 100],\n",
       "        [100, 202, 100],\n",
       "        ...,\n",
       "        [100, 202, 100],\n",
       "        [100, 202, 100],\n",
       "        [100, 202, 100]],\n",
       "\n",
       "       [[100, 202, 100],\n",
       "        [100, 202, 100],\n",
       "        [100, 202, 100],\n",
       "        ...,\n",
       "        [100, 202, 100],\n",
       "        [100, 202, 100],\n",
       "        [100, 202, 100]],\n",
       "\n",
       "       [[100, 202, 100],\n",
       "        [100, 202, 100],\n",
       "        [100, 187, 100],\n",
       "        ...,\n",
       "        [100, 202, 100],\n",
       "        [100, 202, 100],\n",
       "        [100, 202, 100]],\n",
       "\n",
       "       ...,\n",
       "\n",
       "       [[  0,   0,   0],\n",
       "        [  0,   0,   0],\n",
       "        [  0,   0,   0],\n",
       "        ...,\n",
       "        [  0,   0,   0],\n",
       "        [  0,   0,   0],\n",
       "        [  0,   0,   0]],\n",
       "\n",
       "       [[  0,   0,   0],\n",
       "        [  0,   0,   0],\n",
       "        [  0,   0,   0],\n",
       "        ...,\n",
       "        [  0,   0,   0],\n",
       "        [  0,   0,   0],\n",
       "        [  0,   0,   0]],\n",
       "\n",
       "       [[  0,   0,   0],\n",
       "        [  0,   0,   0],\n",
       "        [  0,   0,   0],\n",
       "        ...,\n",
       "        [  0,   0,   0],\n",
       "        [  0,   0,   0],\n",
       "        [  0,   0,   0]]], dtype=uint8)"
      ]
     },
     "execution_count": 8,
     "metadata": {},
     "output_type": "execute_result"
    }
   ],
   "source": [
    "obs"
   ]
  },
  {
   "cell_type": "code",
   "execution_count": 266,
   "id": "475c2213",
   "metadata": {
    "scrolled": false
   },
   "outputs": [
    {
     "data": {
      "image/png": "[encoded data removed]",
      "text/plain": [
       "<Figure size 640x480 with 1 Axes>"
      ]
     },
     "metadata": {},
     "output_type": "display_data"
    }
   ],
   "source": [
    "env = gym.make(\"CarRacing-v2\", render_mode=\"rgb_array\")\n",
    "\n",
    "obs, info = env.reset()\n",
    "for i in range(20):\n",
    "    obs, reward, terminated, truncated, info = env.step(env.action_space.sample())\n",
    "plt.imshow(obs)\n",
    "\n",
    "x = torch.tensor(obs, dtype=torch.float32) # device\n",
    "xp = torch.permute(x, (2, 0, 1)) # HxWxC -> CxHxW\n",
    "\n",
    "yhat = autoencoder(xp)\n",
    "yhat = torch.permute(yhat, (1,2,0))\n",
    "yhat = yhat.detach().numpy()\n",
    "\n",
    "env.close()"
   ]
  },
  {
   "cell_type": "code",
   "execution_count": 267,
   "id": "b938a99a",
   "metadata": {},
   "outputs": [
    {
     "data": {
      "text/plain": [
       "<matplotlib.image.AxesImage at 0x7fd60e1cf3a0>"
      ]
     },
     "execution_count": 267,
     "metadata": {},
     "output_type": "execute_result"
    },
    {
     "data": {
      "image/png": "[encoded data removed]",
      "text/plain": [
       "<Figure size 640x480 with 1 Axes>"
      ]
     },
     "metadata": {},
     "output_type": "display_data"
    }
   ],
   "source": [
    "plt.imshow(torch.tensor(yhat, dtype=torch.long))"
   ]
  },
  {
   "cell_type": "code",
   "execution_count": null,
   "id": "b5922f77",
   "metadata": {},
   "outputs": [],
   "source": []
  },
  {
   "cell_type": "code",
   "execution_count": null,
   "id": "48eda6ae",
   "metadata": {},
   "outputs": [],
   "source": []
  },
  {
   "cell_type": "code",
   "execution_count": null,
   "id": "164afb98",
   "metadata": {},
   "outputs": [],
   "source": []
  },
  {
   "cell_type": "markdown",
   "id": "6aa19467",
   "metadata": {},
   "source": [
    "### Test area"
   ]
  },
  {
   "cell_type": "code",
   "execution_count": null,
   "id": "ac10f7e4",
   "metadata": {},
   "outputs": [],
   "source": [
    "x = torch.tensor(np.random.rand(4), dtype=torch.float32) # device"
   ]
  },
  {
   "cell_type": "code",
   "execution_count": null,
   "id": "ce66c775",
   "metadata": {},
   "outputs": [],
   "source": [
    "yhat = autoencoder(x)"
   ]
  },
  {
   "cell_type": "code",
   "execution_count": null,
   "id": "f1a2ffc0",
   "metadata": {},
   "outputs": [],
   "source": [
    "x"
   ]
  },
  {
   "cell_type": "code",
   "execution_count": null,
   "id": "b71cd8c3",
   "metadata": {},
   "outputs": [],
   "source": [
    "yhat"
   ]
  },
  {
   "cell_type": "code",
   "execution_count": null,
   "id": "d2a02d7b",
   "metadata": {},
   "outputs": [],
   "source": [
    "autoencoder.get_loss(x, yhat)"
   ]
  },
  {
   "cell_type": "code",
   "execution_count": null,
   "id": "1a232d94",
   "metadata": {},
   "outputs": [],
   "source": [
    "env = gym.make(\"CartPole-v1\", render_mode=\"rgb_array\")\n",
    "\n",
    "obs, info = env.reset()\n",
    "x = torch.tensor(obs, dtype=torch.float32) # device\n",
    "yhat = autoencoder(x)\n",
    "\n",
    "print(\"input:\", x)\n",
    "print(\"reconstruction:\", yhat)\n",
    "\n",
    "env.close()"
   ]
  },
  {
   "cell_type": "code",
   "execution_count": null,
   "id": "4ea788ca",
   "metadata": {},
   "outputs": [],
   "source": [
    "env = gym.make(\"CartPole-v1\", render_mode=\"rgb_array\")\n",
    "env.reset()\n",
    "plt.imshow(env.render())\n",
    "env.close()"
   ]
  },
  {
   "cell_type": "code",
   "execution_count": 68,
   "id": "24b8b71e",
   "metadata": {},
   "outputs": [
    {
     "data": {
      "text/plain": [
       "<matplotlib.image.AxesImage at 0x7fbfaa20f1c0>"
      ]
     },
     "execution_count": 68,
     "metadata": {},
     "output_type": "execute_result"
    },
    {
     "data": {
      "image/png": "[encoded data removed]",
      "text/plain": [
       "<Figure size 640x480 with 1 Axes>"
      ]
     },
     "metadata": {},
     "output_type": "display_data"
    }
   ],
   "source": [
    "# Preprocessing\n",
    "\n",
    "\"\"\" transformation: scale pixel values and resize the shape \"\"\"\n",
    "transform = transforms.Compose([\n",
    "    transforms.ToTensor(), # -> scaled to [0,1]\n",
    "    transforms.Resize((64, 64)), # 3x64x64\n",
    "])\n",
    "\n",
    "img = transform(obs)\n",
    "plt.imshow(img.permute(1, 2, 0)) # show the transformed img"
   ]
  },
  {
   "cell_type": "code",
   "execution_count": 67,
   "id": "a144a046",
   "metadata": {},
   "outputs": [
    {
     "data": {
      "image/png": "[encoded data removed]",
      "text/plain": [
       "<Figure size 640x480 with 1 Axes>"
      ]
     },
     "metadata": {},
     "output_type": "display_data"
    }
   ],
   "source": [
    "# show the distribution of scaled pixel values\n",
    "plt.hist(torch.ravel(img).numpy(), bins=50, density=True);"
   ]
  },
  {
   "cell_type": "code",
   "execution_count": null,
   "id": "cf583d9e",
   "metadata": {},
   "outputs": [],
   "source": []
  }
 ],
 "metadata": {
  "kernelspec": {
   "display_name": "Python 3 (ipykernel)",
   "language": "python",
   "name": "python3"
  },
  "language_info": {
   "codemirror_mode": {
    "name": "ipython",
    "version": 3
   },
   "file_extension": ".py",
   "mimetype": "text/x-python",
   "name": "python",
   "nbconvert_exporter": "python",
   "pygments_lexer": "ipython3",
   "version": "3.10.4"
  }
 },
 "nbformat": 4,
 "nbformat_minor": 5
}
